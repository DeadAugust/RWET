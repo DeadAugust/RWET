{
 "cells": [
  {
   "cell_type": "code",
   "execution_count": 1,
   "metadata": {},
   "outputs": [
    {
     "name": "stdout",
     "output_type": "stream",
     "text": [
      "Collecting package metadata: done\n",
      "Solving environment: done\n",
      "\n",
      "\n",
      "==> WARNING: A newer version of conda exists. <==\n",
      "  current version: 4.6.2\n",
      "  latest version: 4.6.8\n",
      "\n",
      "Please update conda by running\n",
      "\n",
      "    $ conda update -n base -c defaults conda\n",
      "\n",
      "\n",
      "\n",
      "## Package Plan ##\n",
      "\n",
      "  environment location: /home/dangalf/anaconda3\n",
      "\n",
      "  added / updated specs:\n",
      "    - spacy\n",
      "\n",
      "\n",
      "The following packages will be downloaded:\n",
      "\n",
      "    package                    |            build\n",
      "    ---------------------------|-----------------\n",
      "    conda-4.6.8                |           py37_0         872 KB  conda-forge\n",
      "    cymem-2.0.2                |   py37hfd86e86_0          39 KB\n",
      "    dill-0.2.9                 |           py37_0         112 KB  conda-forge\n",
      "    msgpack-numpy-0.4.3.2      |             py_0           8 KB  conda-forge\n",
      "    murmurhash-1.0.0           |   py37hf484d3e_0          16 KB  conda-forge\n",
      "    plac-0.9.6                 |             py_1          18 KB  conda-forge\n",
      "    preshed-2.0.1              |   py37he6710b0_0          84 KB\n",
      "    regex-2018.01.10           |py37h14c3975_1000         349 KB  conda-forge\n",
      "    spacy-2.0.18               |py37hf484d3e_1000        51.5 MB  conda-forge\n",
      "    thinc-6.12.1               |py37h637b7d7_1000         1.4 MB  conda-forge\n",
      "    ujson-1.35                 |py37h14c3975_1001          27 KB  conda-forge\n",
      "    ------------------------------------------------------------\n",
      "                                           Total:        54.4 MB\n",
      "\n",
      "The following NEW packages will be INSTALLED:\n",
      "\n",
      "  cymem              pkgs/main/linux-64::cymem-2.0.2-py37hfd86e86_0\n",
      "  dill               conda-forge/linux-64::dill-0.2.9-py37_0\n",
      "  msgpack-numpy      conda-forge/noarch::msgpack-numpy-0.4.3.2-py_0\n",
      "  murmurhash         conda-forge/linux-64::murmurhash-1.0.0-py37hf484d3e_0\n",
      "  plac               conda-forge/noarch::plac-0.9.6-py_1\n",
      "  preshed            pkgs/main/linux-64::preshed-2.0.1-py37he6710b0_0\n",
      "  regex              conda-forge/linux-64::regex-2018.01.10-py37h14c3975_1000\n",
      "  spacy              conda-forge/linux-64::spacy-2.0.18-py37hf484d3e_1000\n",
      "  thinc              conda-forge/linux-64::thinc-6.12.1-py37h637b7d7_1000\n",
      "  ujson              conda-forge/linux-64::ujson-1.35-py37h14c3975_1001\n",
      "\n",
      "The following packages will be UPDATED:\n",
      "\n",
      "  conda                       pkgs/main::conda-4.6.2-py37_0 --> conda-forge::conda-4.6.8-py37_0\n",
      "\n",
      "\n",
      "\n",
      "Downloading and Extracting Packages\n",
      "regex-2018.01.10     | 349 KB    | ##################################### | 100% \n",
      "dill-0.2.9           | 112 KB    | ##################################### | 100% \n",
      "preshed-2.0.1        | 84 KB     | ##################################### | 100% \n",
      "plac-0.9.6           | 18 KB     | ##################################### | 100% \n",
      "thinc-6.12.1         | 1.4 MB    | ##################################### | 100% \n",
      "ujson-1.35           | 27 KB     | ##################################### | 100% \n",
      "murmurhash-1.0.0     | 16 KB     | ##################################### | 100% \n",
      "cymem-2.0.2          | 39 KB     | ##################################### | 100% \n",
      "spacy-2.0.18         | 51.5 MB   | ##################################### | 100% \n",
      "msgpack-numpy-0.4.3. | 8 KB      | ##################################### | 100% \n",
      "conda-4.6.8          | 872 KB    | ##################################### | 100% \n",
      "Preparing transaction: done\n",
      "Verifying transaction: done\n",
      "Executing transaction: done\n"
     ]
    }
   ],
   "source": [
    "!conda install -y -c conda-forge spacy"
   ]
  },
  {
   "cell_type": "code",
   "execution_count": 2,
   "metadata": {},
   "outputs": [
    {
     "name": "stdout",
     "output_type": "stream",
     "text": [
      "Collecting en_core_web_md==2.0.0 from https://github.com/explosion/spacy-models/releases/download/en_core_web_md-2.0.0/en_core_web_md-2.0.0.tar.gz#egg=en_core_web_md==2.0.0\n",
      "\u001b[?25l  Downloading https://github.com/explosion/spacy-models/releases/download/en_core_web_md-2.0.0/en_core_web_md-2.0.0.tar.gz (120.8MB)\n",
      "\u001b[K    100% |████████████████████████████████| 120.9MB 3.7MB/s ta 0:00:011\n",
      "\u001b[?25hInstalling collected packages: en-core-web-md\n",
      "  Running setup.py install for en-core-web-md ... \u001b[?25ldone\n",
      "\u001b[?25hSuccessfully installed en-core-web-md-2.0.0\n",
      "\n",
      "\u001b[93m    Linking successful\u001b[0m\n",
      "    /home/dangalf/anaconda3/lib/python3.7/site-packages/en_core_web_md -->\n",
      "    /home/dangalf/anaconda3/lib/python3.7/site-packages/spacy/data/en_core_web_md\n",
      "\n",
      "    You can now load the model via spacy.load('en_core_web_md')\n",
      "\n"
     ]
    }
   ],
   "source": [
    "!python -m spacy download en_core_web_md"
   ]
  },
  {
   "cell_type": "code",
   "execution_count": 3,
   "metadata": {},
   "outputs": [],
   "source": [
    "import spacy"
   ]
  },
  {
   "cell_type": "markdown",
   "metadata": {},
   "source": [
    "## parts of speech"
   ]
  },
  {
   "cell_type": "code",
   "execution_count": 4,
   "metadata": {},
   "outputs": [],
   "source": [
    "nlp = spacy.load('en_core_web_md')"
   ]
  },
  {
   "cell_type": "code",
   "execution_count": 5,
   "metadata": {},
   "outputs": [],
   "source": [
    "doc = nlp('The Packers sweep is an American football play popularized in the 1960s by Green Bay Packers coach Vince Lombardi.')"
   ]
  },
  {
   "cell_type": "code",
   "execution_count": 6,
   "metadata": {},
   "outputs": [
    {
     "data": {
      "text/plain": [
       "The Packers sweep is an American football play popularized in the 1960s by Green Bay Packers coach Vince Lombardi."
      ]
     },
     "execution_count": 6,
     "metadata": {},
     "output_type": "execute_result"
    }
   ],
   "source": [
    "doc"
   ]
  },
  {
   "cell_type": "code",
   "execution_count": 7,
   "metadata": {},
   "outputs": [
    {
     "data": {
      "text/plain": [
       "[The Packers sweep is an American football play popularized in the 1960s by Green Bay Packers coach Vince Lombardi.]"
      ]
     },
     "execution_count": 7,
     "metadata": {},
     "output_type": "execute_result"
    }
   ],
   "source": [
    "list(doc.sents)"
   ]
  },
  {
   "cell_type": "code",
   "execution_count": 8,
   "metadata": {},
   "outputs": [],
   "source": [
    "sentence_str = [item.text for item in doc.sents]"
   ]
  },
  {
   "cell_type": "code",
   "execution_count": 9,
   "metadata": {},
   "outputs": [
    {
     "data": {
      "text/plain": [
       "['The Packers sweep is an American football play popularized in the 1960s by Green Bay Packers coach Vince Lombardi.']"
      ]
     },
     "execution_count": 9,
     "metadata": {},
     "output_type": "execute_result"
    }
   ],
   "source": [
    "sentence_str"
   ]
  },
  {
   "cell_type": "markdown",
   "metadata": {},
   "source": [
    "process of lemma = stripping morphology\n"
   ]
  },
  {
   "cell_type": "code",
   "execution_count": 12,
   "metadata": {},
   "outputs": [
    {
     "name": "stdout",
     "output_type": "stream",
     "text": [
      "The the\n",
      "Packers packers\n",
      "sweep sweep\n",
      "is be\n",
      "an an\n",
      "American american\n",
      "football football\n",
      "play play\n",
      "popularized popularize\n",
      "in in\n",
      "the the\n",
      "1960s 1960\n",
      "by by\n",
      "Green green\n",
      "Bay bay\n",
      "Packers packers\n",
      "coach coach\n",
      "Vince vince\n",
      "Lombardi lombardi\n",
      ". .\n"
     ]
    }
   ],
   "source": [
    "#lemma without _ is number\n",
    "for item in doc:\n",
    "    print(item.text, item.lemma_)"
   ]
  },
  {
   "cell_type": "code",
   "execution_count": 13,
   "metadata": {},
   "outputs": [
    {
     "name": "stdout",
     "output_type": "stream",
     "text": [
      "The DT\n",
      "Packers NNPS\n",
      "sweep VBP\n",
      "is VBZ\n",
      "an DT\n",
      "American JJ\n",
      "football NN\n",
      "play NN\n",
      "popularized VBN\n",
      "in IN\n",
      "the DT\n",
      "1960s NNS\n",
      "by IN\n",
      "Green NNP\n",
      "Bay NNP\n",
      "Packers NNP\n",
      "coach NN\n",
      "Vince NNP\n",
      "Lombardi NNP\n",
      ". .\n"
     ]
    }
   ],
   "source": [
    "for item in doc:\n",
    "        print(item.text, item.tag_)"
   ]
  },
  {
   "cell_type": "code",
   "execution_count": 14,
   "metadata": {},
   "outputs": [],
   "source": [
    "plural_nouns = [item.text for item in doc if item.tag_ == 'NNS']"
   ]
  },
  {
   "cell_type": "code",
   "execution_count": 15,
   "metadata": {},
   "outputs": [
    {
     "data": {
      "text/plain": [
       "['1960s']"
      ]
     },
     "execution_count": 15,
     "metadata": {},
     "output_type": "execute_result"
    }
   ],
   "source": [
    "plural_nouns"
   ]
  },
  {
   "cell_type": "code",
   "execution_count": 16,
   "metadata": {},
   "outputs": [],
   "source": [
    "plural_adjs = [item.text for item in doc if item.tag_ == 'JJ']"
   ]
  },
  {
   "cell_type": "code",
   "execution_count": 17,
   "metadata": {},
   "outputs": [
    {
     "data": {
      "text/plain": [
       "['American']"
      ]
     },
     "execution_count": 17,
     "metadata": {},
     "output_type": "execute_result"
    }
   ],
   "source": [
    "plural_adjs"
   ]
  },
  {
   "cell_type": "markdown",
   "metadata": {},
   "source": [
    "adj. noun replace example\n",
    "\n",
    "entities"
   ]
  }
 ],
 "metadata": {
  "kernelspec": {
   "display_name": "Python 3",
   "language": "python",
   "name": "python3"
  },
  "language_info": {
   "codemirror_mode": {
    "name": "ipython",
    "version": 3
   },
   "file_extension": ".py",
   "mimetype": "text/x-python",
   "name": "python",
   "nbconvert_exporter": "python",
   "pygments_lexer": "ipython3",
   "version": "3.6.8"
  }
 },
 "nbformat": 4,
 "nbformat_minor": 2
}
