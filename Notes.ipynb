{
 "cells": [
  {
   "cell_type": "code",
   "execution_count": 1,
   "metadata": {
    "scrolled": true
   },
   "outputs": [
    {
     "data": {
      "text/plain": [
       "10"
      ]
     },
     "execution_count": 1,
     "metadata": {},
     "output_type": "execute_result"
    }
   ],
   "source": [
    "5 + 5 "
   ]
  },
  {
   "cell_type": "markdown",
   "metadata": {},
   "source": [
    "take notes, this is text, lalalal\n",
    "\\"
   ]
  },
  {
   "cell_type": "markdown",
   "metadata": {},
   "source": [
    "### AHHHHHHHH"
   ]
  },
  {
   "cell_type": "code",
   "execution_count": 5,
   "metadata": {},
   "outputs": [
    {
     "data": {
      "text/plain": [
       "19"
      ]
     },
     "execution_count": 5,
     "metadata": {},
     "output_type": "execute_result"
    }
   ],
   "source": [
    "19"
   ]
  },
  {
   "cell_type": "code",
   "execution_count": 6,
   "metadata": {},
   "outputs": [
    {
     "data": {
      "text/plain": [
       "(12, 6)"
      ]
     },
     "execution_count": 6,
     "metadata": {},
     "output_type": "execute_result"
    }
   ],
   "source": [
    "/ 12 6\n"
   ]
  },
  {
   "cell_type": "code",
   "execution_count": 7,
   "metadata": {},
   "outputs": [
    {
     "ename": "SyntaxError",
     "evalue": "invalid syntax (<ipython-input-7-87fd873be967>, line 1)",
     "output_type": "error",
     "traceback": [
      "\u001b[0;36m  File \u001b[0;32m\"<ipython-input-7-87fd873be967>\"\u001b[0;36m, line \u001b[0;32m1\u001b[0m\n\u001b[0;31m    * 12 6\u001b[0m\n\u001b[0m         ^\u001b[0m\n\u001b[0;31mSyntaxError\u001b[0m\u001b[0;31m:\u001b[0m invalid syntax\n"
     ]
    }
   ],
   "source": [
    "* 12 6"
   ]
  },
  {
   "cell_type": "markdown",
   "metadata": {},
   "source": [
    "## operators of inequality\n"
   ]
  },
  {
   "cell_type": "markdown",
   "metadata": {},
   "source": [
    "## variables"
   ]
  },
  {
   "cell_type": "code",
   "execution_count": 9,
   "metadata": {},
   "outputs": [],
   "source": [
    "x = (4+5)*6"
   ]
  },
  {
   "cell_type": "code",
   "execution_count": 10,
   "metadata": {},
   "outputs": [
    {
     "data": {
      "text/plain": [
       "54"
      ]
     },
     "execution_count": 10,
     "metadata": {},
     "output_type": "execute_result"
    }
   ],
   "source": [
    "x"
   ]
  },
  {
   "cell_type": "markdown",
   "metadata": {},
   "source": [
    "# Valentine's Day Notes\n"
   ]
  },
  {
   "cell_type": "code",
   "execution_count": 1,
   "metadata": {},
   "outputs": [
    {
     "data": {
      "text/plain": [
       "5"
      ]
     },
     "execution_count": 1,
     "metadata": {},
     "output_type": "execute_result"
    }
   ],
   "source": [
    "# length\n",
    "\n",
    "len('three')"
   ]
  },
  {
   "cell_type": "code",
   "execution_count": 2,
   "metadata": {},
   "outputs": [
    {
     "data": {
      "text/plain": [
       "5"
      ]
     },
     "execution_count": 2,
     "metadata": {},
     "output_type": "execute_result"
    }
   ],
   "source": [
    "len('     ')"
   ]
  },
  {
   "cell_type": "code",
   "execution_count": 3,
   "metadata": {},
   "outputs": [
    {
     "data": {
      "text/plain": [
       "False"
      ]
     },
     "execution_count": 3,
     "metadata": {},
     "output_type": "execute_result"
    }
   ],
   "source": [
    "#operator in\n",
    "\n",
    "\"pig\" in \"evaluates to string\""
   ]
  },
  {
   "cell_type": "code",
   "execution_count": 4,
   "metadata": {},
   "outputs": [
    {
     "data": {
      "text/plain": [
       "str"
      ]
     },
     "execution_count": 4,
     "metadata": {},
     "output_type": "execute_result"
    }
   ],
   "source": [
    "# strings have methods because they are objects\n",
    "# almost everything in python is case sensitive\n",
    "\n",
    "type('string')"
   ]
  },
  {
   "cell_type": "code",
   "execution_count": 5,
   "metadata": {},
   "outputs": [],
   "source": [
    "message = 'Suppose there is a pigeon, suppose there is'"
   ]
  },
  {
   "cell_type": "code",
   "execution_count": 6,
   "metadata": {},
   "outputs": [
    {
     "data": {
      "text/plain": [
       "True"
      ]
     },
     "execution_count": 6,
     "metadata": {},
     "output_type": "execute_result"
    }
   ],
   "source": [
    "message.startswith('Sup')"
   ]
  },
  {
   "cell_type": "code",
   "execution_count": 7,
   "metadata": {},
   "outputs": [
    {
     "data": {
      "text/plain": [
       "'suppose there is a pigeon, suppose there is'"
      ]
     },
     "execution_count": 7,
     "metadata": {},
     "output_type": "execute_result"
    }
   ],
   "source": [
    "message.lower()"
   ]
  },
  {
   "cell_type": "code",
   "execution_count": 8,
   "metadata": {},
   "outputs": [
    {
     "data": {
      "text/plain": [
       "True"
      ]
     },
     "execution_count": 8,
     "metadata": {},
     "output_type": "execute_result"
    }
   ],
   "source": [
    "message.lower().startswith('sup')"
   ]
  },
  {
   "cell_type": "markdown",
   "metadata": {},
   "source": [
    "### dot methods can be put onto any expression that evaluates to a string *\n",
    "\n",
    "if you . tab, will show list of possible methods (only if string variable is predeclared\n",
    "\n",
    "Useful methods:"
   ]
  },
  {
   "cell_type": "code",
   "execution_count": 9,
   "metadata": {},
   "outputs": [
    {
     "data": {
      "text/plain": [
       "True"
      ]
     },
     "execution_count": 9,
     "metadata": {},
     "output_type": "execute_result"
    }
   ],
   "source": [
    "'1235'.isdigit()"
   ]
  },
  {
   "cell_type": "code",
   "execution_count": 10,
   "metadata": {},
   "outputs": [
    {
     "data": {
      "text/plain": [
       "True"
      ]
     },
     "execution_count": 10,
     "metadata": {},
     "output_type": "execute_result"
    }
   ],
   "source": [
    "'hello there'.islower()"
   ]
  },
  {
   "cell_type": "code",
   "execution_count": 11,
   "metadata": {},
   "outputs": [
    {
     "data": {
      "text/plain": [
       "19"
      ]
     },
     "execution_count": 11,
     "metadata": {},
     "output_type": "execute_result"
    }
   ],
   "source": [
    "# returns index that the string starts at:\n",
    "\n",
    "message.find('pig')"
   ]
  },
  {
   "cell_type": "code",
   "execution_count": 12,
   "metadata": {},
   "outputs": [
    {
     "data": {
      "text/plain": [
       "True"
      ]
     },
     "execution_count": 12,
     "metadata": {},
     "output_type": "execute_result"
    }
   ],
   "source": [
    "'hello' == 'hello'"
   ]
  },
  {
   "cell_type": "markdown",
   "metadata": {},
   "source": [
    "### string transformations\n"
   ]
  },
  {
   "cell_type": "code",
   "execution_count": 13,
   "metadata": {},
   "outputs": [
    {
     "data": {
      "text/plain": [
       "'This Is Title Case'"
      ]
     },
     "execution_count": 13,
     "metadata": {},
     "output_type": "execute_result"
    }
   ],
   "source": [
    "'this is title case'.title()\n"
   ]
  },
  {
   "cell_type": "code",
   "execution_count": 14,
   "metadata": {},
   "outputs": [
    {
     "data": {
      "text/plain": [
       "\"Allison'S Favorite Weird Thing About Python\""
      ]
     },
     "execution_count": 14,
     "metadata": {},
     "output_type": "execute_result"
    }
   ],
   "source": [
    "# how to tell if a spam email was written in python\n",
    "\n",
    "\"allison's favorite weird thing about python\".title()\n"
   ]
  },
  {
   "cell_type": "code",
   "execution_count": 17,
   "metadata": {},
   "outputs": [
    {
     "data": {
      "text/plain": [
       "'this is  a test'"
      ]
     },
     "execution_count": 17,
     "metadata": {},
     "output_type": "execute_result"
    }
   ],
   "source": [
    "# surrounding spaces, newline characters, tabs\n",
    "\n",
    "\"       this is  a test      \".strip()\n"
   ]
  },
  {
   "cell_type": "code",
   "execution_count": 18,
   "metadata": {},
   "outputs": [
    {
     "data": {
      "text/plain": [
       "'Suppose there is a elephanteon, suppose there is'"
      ]
     },
     "execution_count": 18,
     "metadata": {},
     "output_type": "execute_result"
    }
   ],
   "source": [
    "message.replace('pig', 'elephant')"
   ]
  },
  {
   "cell_type": "markdown",
   "metadata": {},
   "source": [
    "to assign the copy of the string, create new variable (don't overwrite, can be source of bugs)"
   ]
  },
  {
   "cell_type": "markdown",
   "metadata": {},
   "source": [
    "## reading a text file into a string"
   ]
  },
  {
   "cell_type": "code",
   "execution_count": 4,
   "metadata": {},
   "outputs": [],
   "source": [
    "text = open('./txt/frost.txt').read() "
   ]
  },
  {
   "cell_type": "code",
   "execution_count": 20,
   "metadata": {},
   "outputs": [
    {
     "data": {
      "text/plain": [
       "'Two roads diverged in a yellow wood,\\nAnd sorry I could not travel both\\nAnd be one traveler, long I stood\\nAnd looked down one as far as I could\\nTo where it bent in the undergrowth;\\n\\nThen took the other, as just as fair,\\nAnd having perhaps the better claim,\\nBecause it was grassy and wanted wear;\\nThough as for that the passing there\\nHad worn them really about the same,\\n\\nAnd both that morning equally lay\\nIn leaves no step had trodden black.\\nOh, I kept the first for another day!\\nYet knowing how way leads on to way,\\nI doubted if I should ever come back.\\n\\nI shall be telling this with a sigh\\nSomewhere ages and ages hence:\\nTwo roads diverged in a wood, and I---\\nI took the one less travelled by,\\nAnd that has made all the difference.\\n'"
      ]
     },
     "execution_count": 20,
     "metadata": {},
     "output_type": "execute_result"
    }
   ],
   "source": [
    "text"
   ]
  },
  {
   "cell_type": "code",
   "execution_count": 21,
   "metadata": {},
   "outputs": [
    {
     "name": "stdout",
     "output_type": "stream",
     "text": [
      "Two roads diverged in a yellow wood,\n",
      "And sorry I could not travel both\n",
      "And be one traveler, long I stood\n",
      "And looked down one as far as I could\n",
      "To where it bent in the undergrowth;\n",
      "\n",
      "Then took the other, as just as fair,\n",
      "And having perhaps the better claim,\n",
      "Because it was grassy and wanted wear;\n",
      "Though as for that the passing there\n",
      "Had worn them really about the same,\n",
      "\n",
      "And both that morning equally lay\n",
      "In leaves no step had trodden black.\n",
      "Oh, I kept the first for another day!\n",
      "Yet knowing how way leads on to way,\n",
      "I doubted if I should ever come back.\n",
      "\n",
      "I shall be telling this with a sigh\n",
      "Somewhere ages and ages hence:\n",
      "Two roads diverged in a wood, and I---\n",
      "I took the one less travelled by,\n",
      "And that has made all the difference.\n",
      "\n"
     ]
    }
   ],
   "source": [
    "print(text)"
   ]
  },
  {
   "cell_type": "code",
   "execution_count": 22,
   "metadata": {},
   "outputs": [
    {
     "name": "stdout",
     "output_type": "stream",
     "text": [
      "Two rrrrrrroads diverrrrrrrged in a yellow wood,\n",
      "And sorrrrrrrrrrrrrry This Guy could not trrrrrrravel both\n",
      "And be one trrrrrrravelerrrrrrr, long This Guy stood\n",
      "And looked down one as farrrrrrr as This Guy could\n",
      "To wherrrrrrre it bent in the underrrrrrrgrrrrrrrowth;\n",
      "\n",
      "Then took the otherrrrrrr, as just as fairrrrrrr,\n",
      "And having perrrrrrrhaps the betterrrrrrr claim,\n",
      "Because it was grrrrrrrassy and wanted wearrrrrrr;\n",
      "Though as forrrrrrr that the passing therrrrrrre\n",
      "Had worrrrrrrn them rrrrrrreally about the same,\n",
      "\n",
      "And both that morrrrrrrning equally lay\n",
      "This Guyn leaves no step had trrrrrrrodden black.\n",
      "Oh, This Guy kept the firrrrrrrst forrrrrrr anotherrrrrrr day!\n",
      "Yet knowing how way leads on to way,\n",
      "This Guy doubted if This Guy should everrrrrrr come back.\n",
      "\n",
      "This Guy shall be telling this with a sigh\n",
      "Somewherrrrrrre ages and ages hence:\n",
      "Two rrrrrrroads diverrrrrrrged in a wood, and This Guy---\n",
      "This Guy took the one less trrrrrrravelled by,\n",
      "And that has made all the differrrrrrrence.\n",
      "\n"
     ]
    }
   ],
   "source": [
    "print(text.replace('I', \"This Guy\").replace('r', 'rrrrrrr'))"
   ]
  },
  {
   "cell_type": "markdown",
   "metadata": {},
   "source": [
    "eventually could make a list of the elements you want to replace and iterate in a loop inside of replace()"
   ]
  },
  {
   "cell_type": "code",
   "execution_count": 26,
   "metadata": {},
   "outputs": [],
   "source": [
    "# a ? at the end gives you documentation\n",
    "\n",
    "text.replace?"
   ]
  },
  {
   "cell_type": "markdown",
   "metadata": {},
   "source": [
    "### string indexing"
   ]
  },
  {
   "cell_type": "code",
   "execution_count": 27,
   "metadata": {},
   "outputs": [
    {
     "data": {
      "text/plain": [
       "'Suppose there is a pigeon, suppose there is'"
      ]
     },
     "execution_count": 27,
     "metadata": {},
     "output_type": "execute_result"
    }
   ],
   "source": [
    "message"
   ]
  },
  {
   "cell_type": "code",
   "execution_count": 29,
   "metadata": {},
   "outputs": [
    {
     "data": {
      "text/plain": [
       "'o'"
      ]
     },
     "execution_count": 29,
     "metadata": {},
     "output_type": "execute_result"
    }
   ],
   "source": [
    "# square brackets (inside expression evaluates to a number)\n",
    "\n",
    "message[4]"
   ]
  },
  {
   "cell_type": "code",
   "execution_count": 30,
   "metadata": {},
   "outputs": [
    {
     "data": {
      "text/plain": [
       "str"
      ]
     },
     "execution_count": 30,
     "metadata": {},
     "output_type": "execute_result"
    }
   ],
   "source": [
    "type(message[4])"
   ]
  },
  {
   "cell_type": "code",
   "execution_count": 31,
   "metadata": {},
   "outputs": [
    {
     "data": {
      "text/plain": [
       "str"
      ]
     },
     "execution_count": 31,
     "metadata": {},
     "output_type": "execute_result"
    }
   ],
   "source": [
    "type('')"
   ]
  },
  {
   "cell_type": "code",
   "execution_count": 33,
   "metadata": {},
   "outputs": [
    {
     "data": {
      "text/plain": [
       "'e'"
      ]
     },
     "execution_count": 33,
     "metadata": {},
     "output_type": "execute_result"
    }
   ],
   "source": [
    "x = 3\n",
    "message[x*2]"
   ]
  },
  {
   "cell_type": "code",
   "execution_count": 34,
   "metadata": {},
   "outputs": [
    {
     "data": {
      "text/plain": [
       "'l'"
      ]
     },
     "execution_count": 34,
     "metadata": {},
     "output_type": "execute_result"
    }
   ],
   "source": [
    "'hello'[2]"
   ]
  },
  {
   "cell_type": "code",
   "execution_count": 36,
   "metadata": {},
   "outputs": [
    {
     "data": {
      "text/plain": [
       "'s'"
      ]
     },
     "execution_count": 36,
     "metadata": {},
     "output_type": "execute_result"
    }
   ],
   "source": [
    "# -1 is the last character in the string\n",
    "message[-1]"
   ]
  },
  {
   "cell_type": "markdown",
   "metadata": {},
   "source": [
    "### slices\n"
   ]
  },
  {
   "cell_type": "code",
   "execution_count": 38,
   "metadata": {},
   "outputs": [
    {
     "data": {
      "text/plain": [
       "'ose there'"
      ]
     },
     "execution_count": 38,
     "metadata": {},
     "output_type": "execute_result"
    }
   ],
   "source": [
    "# up to but not including\n",
    "\n",
    "message[4:13]"
   ]
  },
  {
   "cell_type": "code",
   "execution_count": 40,
   "metadata": {},
   "outputs": [
    {
     "data": {
      "text/plain": [
       "'Suppose th'"
      ]
     },
     "execution_count": 40,
     "metadata": {},
     "output_type": "execute_result"
    }
   ],
   "source": [
    "# assumes 0 index\n",
    "message[:10]"
   ]
  },
  {
   "cell_type": "code",
   "execution_count": 41,
   "metadata": {},
   "outputs": [
    {
     "data": {
      "text/plain": [
       "'ere is a pigeon, suppose there is'"
      ]
     },
     "execution_count": 41,
     "metadata": {},
     "output_type": "execute_result"
    }
   ],
   "source": [
    "#assumes end index\n",
    "message[10:]"
   ]
  },
  {
   "cell_type": "code",
   "execution_count": 42,
   "metadata": {},
   "outputs": [
    {
     "data": {
      "text/plain": [
       "'Suppose there is a p'"
      ]
     },
     "execution_count": 42,
     "metadata": {},
     "output_type": "execute_result"
    }
   ],
   "source": [
    "# first 20 characters\n",
    "message[:20]"
   ]
  },
  {
   "cell_type": "code",
   "execution_count": 43,
   "metadata": {},
   "outputs": [
    {
     "data": {
      "text/plain": [
       "'s a pigeon, suppose the'"
      ]
     },
     "execution_count": 43,
     "metadata": {},
     "output_type": "execute_result"
    }
   ],
   "source": [
    "# can do negative ranges\n",
    "\n",
    "message[15:-5]"
   ]
  },
  {
   "cell_type": "code",
   "execution_count": 44,
   "metadata": {},
   "outputs": [
    {
     "data": {
      "text/plain": [
       "''"
      ]
     },
     "execution_count": 44,
     "metadata": {},
     "output_type": "execute_result"
    }
   ],
   "source": [
    "message[-5:-15]"
   ]
  },
  {
   "cell_type": "code",
   "execution_count": 45,
   "metadata": {},
   "outputs": [
    {
     "data": {
      "text/plain": [
       "'e there is'"
      ]
     },
     "execution_count": 45,
     "metadata": {},
     "output_type": "execute_result"
    }
   ],
   "source": [
    "message[-10:]"
   ]
  },
  {
   "cell_type": "code",
   "execution_count": 46,
   "metadata": {},
   "outputs": [
    {
     "data": {
      "text/plain": [
       "'Suppose there is a pigeon, suppos'"
      ]
     },
     "execution_count": 46,
     "metadata": {},
     "output_type": "execute_result"
    }
   ],
   "source": [
    "message[:-10]"
   ]
  },
  {
   "cell_type": "code",
   "execution_count": 47,
   "metadata": {},
   "outputs": [],
   "source": [
    "import random"
   ]
  },
  {
   "cell_type": "code",
   "execution_count": 48,
   "metadata": {},
   "outputs": [
    {
     "data": {
      "text/plain": [
       "95"
      ]
     },
     "execution_count": 48,
     "metadata": {},
     "output_type": "execute_result"
    }
   ],
   "source": [
    "random.randrange(100)"
   ]
  },
  {
   "cell_type": "code",
   "execution_count": 66,
   "metadata": {},
   "outputs": [
    {
     "data": {
      "text/plain": [
       "'Two roads diverged in a yellow wood,\\nAn'"
      ]
     },
     "execution_count": 66,
     "metadata": {},
     "output_type": "execute_result"
    }
   ],
   "source": [
    "text[:random.randrange(len(text))]"
   ]
  },
  {
   "cell_type": "code",
   "execution_count": 67,
   "metadata": {},
   "outputs": [
    {
     "data": {
      "text/plain": [
       "733"
      ]
     },
     "execution_count": 67,
     "metadata": {},
     "output_type": "execute_result"
    }
   ],
   "source": [
    "#type of result of division is always floating point\n",
    "\n",
    "len(text)"
   ]
  },
  {
   "cell_type": "code",
   "execution_count": 69,
   "metadata": {},
   "outputs": [
    {
     "data": {
      "text/plain": [
       "366.5"
      ]
     },
     "execution_count": 69,
     "metadata": {},
     "output_type": "execute_result"
    }
   ],
   "source": [
    "len(text) *0.5"
   ]
  },
  {
   "cell_type": "code",
   "execution_count": 70,
   "metadata": {},
   "outputs": [
    {
     "data": {
      "text/plain": [
       "366"
      ]
     },
     "execution_count": 70,
     "metadata": {},
     "output_type": "execute_result"
    }
   ],
   "source": [
    "int(len(text) * 0.5)"
   ]
  },
  {
   "cell_type": "markdown",
   "metadata": {},
   "source": [
    "# 2/21 Notes"
   ]
  },
  {
   "cell_type": "markdown",
   "metadata": {},
   "source": [
    "statements end at EOL\n",
    "python only recommends plain text quotes\n",
    "\n",
    "\"\"\" in a row is special python syntax that lets you past multiple lines\n",
    "\n",
    "other escape codes/characters:\n",
    "/t is for a tab"
   ]
  },
  {
   "cell_type": "markdown",
   "metadata": {},
   "source": [
    "### lists"
   ]
  },
  {
   "cell_type": "markdown",
   "metadata": {},
   "source": [
    "represents sequence of values"
   ]
  },
  {
   "cell_type": "markdown",
   "metadata": {},
   "source": [
    "[ ____ for ___ in ____ if ___]"
   ]
  },
  {
   "cell_type": "markdown",
   "metadata": {},
   "source": [
    "(expression) for (temp var) in (expr list) if (expression t/f)"
   ]
  },
  {
   "cell_type": "markdown",
   "metadata": {},
   "source": [
    "# 2/28 Notes\n"
   ]
  },
  {
   "cell_type": "markdown",
   "metadata": {},
   "source": [
    "### if / else\n"
   ]
  },
  {
   "cell_type": "code",
   "execution_count": 2,
   "metadata": {},
   "outputs": [
    {
     "ename": "NameError",
     "evalue": "name 'true' is not defined",
     "output_type": "error",
     "traceback": [
      "\u001b[0;31m---------------------------------------------------------------------------\u001b[0m",
      "\u001b[0;31mNameError\u001b[0m                                 Traceback (most recent call last)",
      "\u001b[0;32m<ipython-input-2-c77a99a3b1d5>\u001b[0m in \u001b[0;36m<module>\u001b[0;34m\u001b[0m\n\u001b[0;32m----> 1\u001b[0;31m \u001b[0;32mif\u001b[0m \u001b[0mtrue\u001b[0m\u001b[0;34m:\u001b[0m\u001b[0;34m\u001b[0m\u001b[0;34m\u001b[0m\u001b[0m\n\u001b[0m\u001b[1;32m      2\u001b[0m     \u001b[0mexecuted\u001b[0m\u001b[0;34m\u001b[0m\u001b[0;34m\u001b[0m\u001b[0m\n",
      "\u001b[0;31mNameError\u001b[0m: name 'true' is not defined"
     ]
    }
   ],
   "source": [
    "words = "
   ]
  },
  {
   "cell_type": "code",
   "execution_count": 5,
   "metadata": {
    "scrolled": true
   },
   "outputs": [
    {
     "data": {
      "text/plain": [
       "['a',\n",
       " 'a',\n",
       " 'a',\n",
       " 'a',\n",
       " 'a',\n",
       " 'a',\n",
       " 'a',\n",
       " 'a',\n",
       " 'a',\n",
       " 'a',\n",
       " 'a',\n",
       " 'a',\n",
       " 'a',\n",
       " 'a',\n",
       " 'a',\n",
       " 'a',\n",
       " 'a',\n",
       " 'a',\n",
       " 'a',\n",
       " 'a',\n",
       " 'a',\n",
       " 'a',\n",
       " 'a',\n",
       " 'a',\n",
       " 'a',\n",
       " 'a',\n",
       " 'a',\n",
       " 'a',\n",
       " 'a',\n",
       " 'a',\n",
       " 'a',\n",
       " 'a',\n",
       " 'a',\n",
       " 'a',\n",
       " 'a',\n",
       " 'a',\n",
       " 'a',\n",
       " 'a',\n",
       " 'a',\n",
       " 'a',\n",
       " 'a',\n",
       " 'a',\n",
       " 'a',\n",
       " 'a',\n",
       " 'a',\n",
       " 'a',\n",
       " 'a',\n",
       " 'a',\n",
       " 'a',\n",
       " 'a',\n",
       " 'a']"
      ]
     },
     "execution_count": 5,
     "metadata": {},
     "output_type": "execute_result"
    }
   ],
   "source": [
    "# list comprehension\n",
    "\n",
    "[item for item in text if item[0] == 'a']"
   ]
  },
  {
   "cell_type": "code",
   "execution_count": 6,
   "metadata": {},
   "outputs": [
    {
     "name": "stdout",
     "output_type": "stream",
     "text": [
      "not a\n",
      "not a\n",
      "not a\n",
      "not a\n",
      "not a\n",
      "not a\n",
      "a\n",
      "not a\n",
      "not a\n",
      "not a\n",
      "not a\n",
      "not a\n",
      "not a\n",
      "not a\n",
      "not a\n",
      "not a\n",
      "not a\n",
      "not a\n",
      "not a\n",
      "not a\n",
      "not a\n",
      "not a\n",
      "a\n",
      "not a\n",
      "not a\n",
      "not a\n",
      "not a\n",
      "not a\n",
      "not a\n",
      "not a\n",
      "not a\n",
      "not a\n",
      "not a\n",
      "not a\n",
      "not a\n",
      "not a\n",
      "not a\n",
      "not a\n",
      "not a\n",
      "not a\n",
      "not a\n",
      "not a\n",
      "not a\n",
      "not a\n",
      "not a\n",
      "not a\n",
      "not a\n",
      "not a\n",
      "not a\n",
      "not a\n",
      "not a\n",
      "not a\n",
      "not a\n",
      "not a\n",
      "not a\n",
      "not a\n",
      "not a\n",
      "not a\n",
      "not a\n",
      "not a\n",
      "not a\n",
      "a\n",
      "not a\n",
      "not a\n",
      "not a\n",
      "not a\n",
      "bee!\n",
      "not a\n",
      "not a\n",
      "not a\n",
      "not a\n",
      "not a\n",
      "not a\n",
      "not a\n",
      "not a\n",
      "bee!\n",
      "not a\n",
      "not a\n",
      "not a\n",
      "not a\n",
      "not a\n",
      "not a\n",
      "not a\n",
      "not a\n",
      "a\n",
      "not a\n",
      "not a\n",
      "not a\n",
      "not a\n",
      "not a\n",
      "not a\n",
      "not a\n",
      "not a\n",
      "not a\n",
      "not a\n",
      "not a\n",
      "not a\n",
      "not a\n",
      "not a\n",
      "not a\n",
      "not a\n",
      "not a\n",
      "not a\n",
      "not a\n",
      "not a\n",
      "not a\n",
      "not a\n",
      "not a\n",
      "not a\n",
      "not a\n",
      "not a\n",
      "not a\n",
      "not a\n",
      "not a\n",
      "not a\n",
      "not a\n",
      "not a\n",
      "not a\n",
      "not a\n",
      "not a\n",
      "not a\n",
      "not a\n",
      "not a\n",
      "not a\n",
      "not a\n",
      "a\n",
      "not a\n",
      "not a\n",
      "not a\n",
      "a\n",
      "not a\n",
      "not a\n",
      "a\n",
      "not a\n",
      "not a\n",
      "not a\n",
      "not a\n",
      "not a\n",
      "not a\n",
      "not a\n",
      "not a\n",
      "not a\n",
      "not a\n",
      "not a\n",
      "not a\n",
      "not a\n",
      "not a\n",
      "not a\n",
      "not a\n",
      "not a\n",
      "not a\n",
      "not a\n",
      "not a\n",
      "not a\n",
      "not a\n",
      "bee!\n",
      "not a\n",
      "not a\n",
      "not a\n",
      "not a\n",
      "not a\n",
      "not a\n",
      "not a\n",
      "not a\n",
      "not a\n",
      "not a\n",
      "not a\n",
      "not a\n",
      "not a\n",
      "not a\n",
      "not a\n",
      "not a\n",
      "not a\n",
      "not a\n",
      "not a\n",
      "not a\n",
      "not a\n",
      "not a\n",
      "not a\n",
      "not a\n",
      "not a\n",
      "not a\n",
      "not a\n",
      "not a\n",
      "not a\n",
      "not a\n",
      "not a\n",
      "not a\n",
      "not a\n",
      "not a\n",
      "not a\n",
      "not a\n",
      "not a\n",
      "not a\n",
      "not a\n",
      "not a\n",
      "not a\n",
      "not a\n",
      "not a\n",
      "not a\n",
      "not a\n",
      "not a\n",
      "a\n",
      "not a\n",
      "not a\n",
      "not a\n",
      "not a\n",
      "not a\n",
      "not a\n",
      "not a\n",
      "a\n",
      "not a\n",
      "not a\n",
      "not a\n",
      "a\n",
      "not a\n",
      "not a\n",
      "not a\n",
      "not a\n",
      "not a\n",
      "not a\n",
      "not a\n",
      "not a\n",
      "not a\n",
      "a\n",
      "not a\n",
      "not a\n",
      "not a\n",
      "not a\n",
      "not a\n",
      "not a\n",
      "not a\n",
      "not a\n",
      "not a\n",
      "a\n",
      "not a\n",
      "not a\n",
      "not a\n",
      "not a\n",
      "not a\n",
      "not a\n",
      "not a\n",
      "bee!\n",
      "not a\n",
      "not a\n",
      "not a\n",
      "not a\n",
      "not a\n",
      "not a\n",
      "not a\n",
      "not a\n",
      "a\n",
      "not a\n",
      "not a\n",
      "not a\n",
      "not a\n",
      "not a\n",
      "not a\n",
      "not a\n",
      "a\n",
      "not a\n",
      "not a\n",
      "not a\n",
      "not a\n",
      "not a\n",
      "not a\n",
      "not a\n",
      "not a\n",
      "a\n",
      "not a\n",
      "not a\n",
      "not a\n",
      "not a\n",
      "a\n",
      "not a\n",
      "not a\n",
      "not a\n",
      "not a\n",
      "a\n",
      "not a\n",
      "not a\n",
      "not a\n",
      "not a\n",
      "a\n",
      "not a\n",
      "not a\n",
      "not a\n",
      "not a\n",
      "not a\n",
      "not a\n",
      "not a\n",
      "a\n",
      "not a\n",
      "not a\n",
      "not a\n",
      "not a\n",
      "not a\n",
      "not a\n",
      "not a\n",
      "not a\n",
      "not a\n",
      "not a\n",
      "a\n",
      "not a\n",
      "not a\n",
      "not a\n",
      "not a\n",
      "not a\n",
      "not a\n",
      "not a\n",
      "not a\n",
      "a\n",
      "not a\n",
      "not a\n",
      "not a\n",
      "not a\n",
      "not a\n",
      "not a\n",
      "not a\n",
      "a\n",
      "not a\n",
      "not a\n",
      "not a\n",
      "not a\n",
      "not a\n",
      "not a\n",
      "not a\n",
      "not a\n",
      "not a\n",
      "not a\n",
      "not a\n",
      "not a\n",
      "not a\n",
      "a\n",
      "not a\n",
      "not a\n",
      "not a\n",
      "not a\n",
      "not a\n",
      "not a\n",
      "not a\n",
      "not a\n",
      "not a\n",
      "not a\n",
      "not a\n",
      "not a\n",
      "not a\n",
      "not a\n",
      "a\n",
      "not a\n",
      "not a\n",
      "not a\n",
      "not a\n",
      "a\n",
      "bee!\n",
      "not a\n",
      "not a\n",
      "not a\n",
      "not a\n",
      "not a\n",
      "not a\n",
      "not a\n",
      "not a\n",
      "not a\n",
      "a\n",
      "not a\n",
      "not a\n",
      "not a\n",
      "not a\n",
      "not a\n",
      "not a\n",
      "not a\n",
      "not a\n",
      "not a\n",
      "bee!\n",
      "not a\n",
      "not a\n",
      "not a\n",
      "not a\n",
      "not a\n",
      "not a\n",
      "a\n",
      "not a\n",
      "not a\n",
      "not a\n",
      "not a\n",
      "not a\n",
      "not a\n",
      "not a\n",
      "not a\n",
      "not a\n",
      "not a\n",
      "not a\n",
      "not a\n",
      "not a\n",
      "a\n",
      "not a\n",
      "not a\n",
      "not a\n",
      "not a\n",
      "not a\n",
      "a\n",
      "not a\n",
      "not a\n",
      "not a\n",
      "not a\n",
      "not a\n",
      "not a\n",
      "not a\n",
      "a\n",
      "not a\n",
      "not a\n",
      "not a\n",
      "not a\n",
      "not a\n",
      "not a\n",
      "not a\n",
      "not a\n",
      "not a\n",
      "not a\n",
      "not a\n",
      "not a\n",
      "not a\n",
      "a\n",
      "not a\n",
      "not a\n",
      "not a\n",
      "not a\n",
      "not a\n",
      "not a\n",
      "not a\n",
      "not a\n",
      "not a\n",
      "not a\n",
      "bee!\n",
      "not a\n",
      "a\n",
      "not a\n",
      "not a\n",
      "not a\n",
      "not a\n",
      "not a\n",
      "not a\n",
      "not a\n",
      "not a\n",
      "not a\n",
      "not a\n",
      "not a\n",
      "not a\n",
      "not a\n",
      "not a\n",
      "not a\n",
      "not a\n",
      "not a\n",
      "not a\n",
      "not a\n",
      "not a\n",
      "not a\n",
      "not a\n",
      "not a\n",
      "not a\n",
      "not a\n",
      "not a\n",
      "not a\n",
      "not a\n",
      "not a\n",
      "a\n",
      "not a\n",
      "not a\n",
      "not a\n",
      "not a\n",
      "not a\n",
      "not a\n",
      "not a\n",
      "not a\n",
      "a\n",
      "not a\n",
      "not a\n",
      "not a\n",
      "not a\n",
      "not a\n",
      "not a\n",
      "not a\n",
      "not a\n",
      "not a\n",
      "not a\n",
      "not a\n",
      "not a\n",
      "not a\n",
      "not a\n",
      "not a\n",
      "not a\n",
      "not a\n",
      "not a\n",
      "not a\n",
      "not a\n",
      "a\n",
      "not a\n",
      "not a\n",
      "not a\n",
      "not a\n",
      "a\n",
      "not a\n",
      "not a\n",
      "not a\n",
      "not a\n",
      "not a\n",
      "not a\n",
      "not a\n",
      "not a\n",
      "not a\n",
      "not a\n",
      "a\n",
      "not a\n",
      "not a\n",
      "not a\n",
      "not a\n",
      "not a\n",
      "not a\n",
      "not a\n",
      "not a\n",
      "bee!\n",
      "not a\n",
      "not a\n",
      "not a\n",
      "not a\n",
      "not a\n",
      "not a\n",
      "not a\n",
      "not a\n",
      "not a\n",
      "not a\n",
      "not a\n",
      "not a\n",
      "not a\n",
      "not a\n",
      "not a\n",
      "not a\n",
      "not a\n",
      "not a\n",
      "not a\n",
      "not a\n",
      "not a\n",
      "not a\n",
      "not a\n",
      "not a\n",
      "not a\n",
      "not a\n",
      "bee!\n",
      "a\n",
      "not a\n",
      "not a\n",
      "not a\n",
      "not a\n",
      "not a\n",
      "not a\n",
      "not a\n",
      "not a\n",
      "not a\n",
      "a\n",
      "not a\n",
      "not a\n",
      "not a\n",
      "bee!\n",
      "not a\n",
      "not a\n",
      "not a\n",
      "not a\n",
      "not a\n",
      "not a\n",
      "not a\n",
      "not a\n",
      "not a\n",
      "not a\n",
      "not a\n",
      "not a\n",
      "not a\n",
      "not a\n",
      "not a\n",
      "not a\n",
      "not a\n",
      "not a\n",
      "not a\n",
      "not a\n",
      "a\n",
      "not a\n",
      "not a\n",
      "not a\n",
      "not a\n",
      "not a\n",
      "not a\n",
      "not a\n",
      "not a\n",
      "not a\n",
      "not a\n",
      "not a\n",
      "not a\n",
      "not a\n",
      "not a\n",
      "not a\n",
      "not a\n",
      "a\n",
      "not a\n",
      "not a\n",
      "not a\n",
      "not a\n",
      "a\n",
      "not a\n",
      "not a\n",
      "not a\n",
      "a\n",
      "not a\n",
      "not a\n",
      "not a\n",
      "not a\n",
      "not a\n",
      "not a\n",
      "not a\n",
      "not a\n",
      "not a\n",
      "not a\n",
      "not a\n",
      "not a\n",
      "not a\n",
      "not a\n",
      "not a\n",
      "not a\n",
      "not a\n",
      "a\n",
      "not a\n",
      "not a\n",
      "not a\n",
      "not a\n",
      "not a\n",
      "not a\n",
      "not a\n",
      "not a\n",
      "not a\n",
      "not a\n",
      "not a\n",
      "not a\n",
      "not a\n",
      "not a\n",
      "not a\n",
      "a\n",
      "not a\n",
      "not a\n",
      "not a\n",
      "not a\n",
      "not a\n",
      "not a\n",
      "not a\n",
      "a\n",
      "not a\n",
      "not a\n",
      "not a\n",
      "not a\n",
      "not a\n",
      "not a\n",
      "not a\n",
      "not a\n",
      "not a\n",
      "not a\n",
      "not a\n",
      "not a\n",
      "not a\n",
      "not a\n",
      "not a\n",
      "not a\n",
      "not a\n",
      "not a\n",
      "not a\n",
      "not a\n",
      "not a\n",
      "not a\n",
      "not a\n",
      "not a\n",
      "not a\n",
      "not a\n",
      "not a\n",
      "not a\n",
      "not a\n",
      "not a\n",
      "a\n",
      "not a\n",
      "not a\n",
      "not a\n",
      "not a\n",
      "not a\n",
      "not a\n",
      "not a\n",
      "bee!\n",
      "not a\n",
      "not a\n",
      "not a\n",
      "not a\n",
      "not a\n",
      "not a\n",
      "not a\n",
      "not a\n",
      "not a\n",
      "a\n",
      "not a\n",
      "not a\n",
      "not a\n",
      "a\n",
      "not a\n",
      "not a\n",
      "not a\n",
      "a\n",
      "not a\n",
      "not a\n",
      "not a\n",
      "a\n",
      "not a\n",
      "not a\n",
      "not a\n",
      "not a\n",
      "not a\n",
      "not a\n",
      "not a\n",
      "not a\n",
      "not a\n",
      "not a\n",
      "not a\n",
      "not a\n",
      "not a\n",
      "not a\n",
      "not a\n",
      "not a\n",
      "not a\n",
      "not a\n",
      "not a\n"
     ]
    }
   ],
   "source": [
    "# for loop\n",
    "\n",
    "for item in text:\n",
    "    if item[0] == 'a':\n",
    "        print(item)\n",
    "    elif item[0] == 'b':\n",
    "        print('bee!')\n",
    "    else:\n",
    "        print('not a')"
   ]
  },
  {
   "cell_type": "code",
   "execution_count": null,
   "metadata": {},
   "outputs": [],
   "source": []
  },
  {
   "cell_type": "code",
   "execution_count": 8,
   "metadata": {
    "scrolled": true
   },
   "outputs": [
    {
     "data": {
      "text/plain": [
       "['a',\n",
       " 'a',\n",
       " 'a',\n",
       " 'a',\n",
       " 'a',\n",
       " 'a',\n",
       " 'a',\n",
       " 'a',\n",
       " 'a',\n",
       " 'a',\n",
       " 'a',\n",
       " 'a',\n",
       " 'a',\n",
       " 'a',\n",
       " 'a',\n",
       " 'a',\n",
       " 'a',\n",
       " 'a',\n",
       " 'a',\n",
       " 'a',\n",
       " 'a',\n",
       " 'a',\n",
       " 'a',\n",
       " 'a',\n",
       " 'a',\n",
       " 'a',\n",
       " 'a',\n",
       " 'a',\n",
       " 'a',\n",
       " 'a',\n",
       " 'a',\n",
       " 'a',\n",
       " 'a',\n",
       " 'a',\n",
       " 'a',\n",
       " 'a',\n",
       " 'a',\n",
       " 'a',\n",
       " 'a',\n",
       " 'a',\n",
       " 'a',\n",
       " 'a',\n",
       " 'a',\n",
       " 'a',\n",
       " 'a',\n",
       " 'a',\n",
       " 'a',\n",
       " 'a',\n",
       " 'a',\n",
       " 'a',\n",
       " 'a']"
      ]
     },
     "execution_count": 8,
     "metadata": {},
     "output_type": "execute_result"
    }
   ],
   "source": [
    "# list comprehension as a for loop\n",
    "a_words = []\n",
    "for item in text:\n",
    "    if item[0] == 'a':\n",
    "        a_words.append(item)\n",
    "        \n",
    "a_words"
   ]
  },
  {
   "cell_type": "markdown",
   "metadata": {},
   "source": [
    "### computational acrostic\n",
    "\n",
    "write an acrostic where each line is a word that begins with the letter from the seed phrase"
   ]
  },
  {
   "cell_type": "code",
   "execution_count": 12,
   "metadata": {},
   "outputs": [],
   "source": [
    "import random"
   ]
  },
  {
   "cell_type": "markdown",
   "metadata": {},
   "source": [
    "## if you hold alt and drag, can change multiple text at once"
   ]
  },
  {
   "cell_type": "code",
   "execution_count": 16,
   "metadata": {},
   "outputs": [
    {
     "name": "stdout",
     "output_type": "stream",
     "text": [
      "['Two', 'roads', 'diverged', 'in', 'a', 'yellow', 'wood,', 'And', 'sorry', 'I', 'could', 'not', 'travel', 'both', 'And', 'be', 'one', 'traveler,', 'long', 'I', 'stood', 'And', 'looked', 'down', 'one', 'as', 'far', 'as', 'I', 'could', 'To', 'where', 'it', 'bent', 'in', 'the', 'undergrowth;', 'Then', 'took', 'the', 'other,', 'as', 'just', 'as', 'fair,', 'And', 'having', 'perhaps', 'the', 'better', 'claim,', 'Because', 'it', 'was', 'grassy', 'and', 'wanted', 'wear;', 'Though', 'as', 'for', 'that', 'the', 'passing', 'there', 'Had', 'worn', 'them', 'really', 'about', 'the', 'same,', 'And', 'both', 'that', 'morning', 'equally', 'lay', 'In', 'leaves', 'no', 'step', 'had', 'trodden', 'black.', 'Oh,', 'I', 'kept', 'the', 'first', 'for', 'another', 'day!', 'Yet', 'knowing', 'how', 'way', 'leads', 'on', 'to', 'way,', 'I', 'doubted', 'if', 'I', 'should', 'ever', 'come', 'back.', 'I', 'shall', 'be', 'telling', 'this', 'with', 'a', 'sigh', 'Somewhere', 'ages', 'and', 'ages', 'hence:', 'Two', 'roads', 'diverged', 'in', 'a', 'wood,', 'and', 'I---', 'I', 'took', 'the', 'one', 'less', 'travelled', 'by,', 'And', 'that', 'has', 'made', 'all', 'the', 'difference.']\n"
     ]
    }
   ],
   "source": [
    "words = text.split()\n",
    "print(words)"
   ]
  },
  {
   "cell_type": "code",
   "execution_count": 23,
   "metadata": {},
   "outputs": [
    {
     "name": "stdout",
     "output_type": "stream",
     "text": [
      "really\n",
      "one\n",
      "back.\n",
      "ever\n",
      "really\n",
      "the\n"
     ]
    }
   ],
   "source": [
    "seed = 'robert'\n",
    "for item in seed:\n",
    "    matches = [word for word in words if word.startswith(item)]\n",
    "    print(random.choice(matches))"
   ]
  },
  {
   "cell_type": "markdown",
   "metadata": {},
   "source": [
    "| letter | words-that-start-with-a |\n",
    "| ------ | ----------------------- |\n",
    "| a | a, an, apple |"
   ]
  },
  {
   "cell_type": "markdown",
   "metadata": {},
   "source": [
    "## dictionary\n"
   ]
  },
  {
   "cell_type": "markdown",
   "metadata": {},
   "source": [
    "spreadsheet with two columns\n",
    "keys and values (words and definitions)\n"
   ]
  },
  {
   "cell_type": "code",
   "execution_count": 28,
   "metadata": {},
   "outputs": [],
   "source": [
    "# only one value per key, but that one value can be a list\n",
    "planets = {\n",
    "    'Mercury' : 0.357, \n",
    "    'Venus' : 0.723, \n",
    "    'Earth' : 1.0, \n",
    "    'Mars' : 1.523\n",
    "}"
   ]
  },
  {
   "cell_type": "code",
   "execution_count": 26,
   "metadata": {},
   "outputs": [
    {
     "data": {
      "text/plain": [
       "0.723"
      ]
     },
     "execution_count": 26,
     "metadata": {},
     "output_type": "execute_result"
    }
   ],
   "source": [
    "planets['Venus']"
   ]
  },
  {
   "cell_type": "code",
   "execution_count": 29,
   "metadata": {},
   "outputs": [],
   "source": [
    "planets['Jupiter'] = 5.2"
   ]
  },
  {
   "cell_type": "code",
   "execution_count": 30,
   "metadata": {},
   "outputs": [
    {
     "data": {
      "text/plain": [
       "{'Mercury': 0.357, 'Venus': 0.723, 'Earth': 1.0, 'Mars': 1.523, 'Jupiter': 5.2}"
      ]
     },
     "execution_count": 30,
     "metadata": {},
     "output_type": "execute_result"
    }
   ],
   "source": [
    "planets"
   ]
  },
  {
   "cell_type": "markdown",
   "metadata": {},
   "source": [
    "## dictionaries don't have any inherent interal ordering\n",
    "\n",
    "so you can't rely on an order\n"
   ]
  },
  {
   "cell_type": "code",
   "execution_count": 31,
   "metadata": {},
   "outputs": [],
   "source": [
    "planets['Earth'] = 1.01"
   ]
  },
  {
   "cell_type": "code",
   "execution_count": 32,
   "metadata": {},
   "outputs": [
    {
     "data": {
      "text/plain": [
       "{'Mercury': 0.357,\n",
       " 'Venus': 0.723,\n",
       " 'Earth': 1.01,\n",
       " 'Mars': 1.523,\n",
       " 'Jupiter': 5.2}"
      ]
     },
     "execution_count": 32,
     "metadata": {},
     "output_type": "execute_result"
    }
   ],
   "source": [
    "planets"
   ]
  },
  {
   "cell_type": "code",
   "execution_count": 33,
   "metadata": {},
   "outputs": [],
   "source": [
    "planets['Venus'] = 0.72"
   ]
  },
  {
   "cell_type": "code",
   "execution_count": 34,
   "metadata": {},
   "outputs": [
    {
     "data": {
      "text/plain": [
       "{'Mercury': 0.357, 'Venus': 0.72, 'Earth': 1.01, 'Mars': 1.523, 'Jupiter': 5.2}"
      ]
     },
     "execution_count": 34,
     "metadata": {},
     "output_type": "execute_result"
    }
   ],
   "source": [
    "planets"
   ]
  },
  {
   "cell_type": "code",
   "execution_count": 35,
   "metadata": {},
   "outputs": [
    {
     "data": {
      "text/plain": [
       "False"
      ]
     },
     "execution_count": 35,
     "metadata": {},
     "output_type": "execute_result"
    }
   ],
   "source": [
    "5.2 in planets"
   ]
  },
  {
   "cell_type": "code",
   "execution_count": 38,
   "metadata": {},
   "outputs": [
    {
     "data": {
      "text/plain": [
       "True"
      ]
     },
     "execution_count": 38,
     "metadata": {},
     "output_type": "execute_result"
    }
   ],
   "source": [
    "# only returns true if key\n",
    "'Venus' in planets\n"
   ]
  },
  {
   "cell_type": "code",
   "execution_count": 39,
   "metadata": {},
   "outputs": [
    {
     "data": {
      "text/plain": [
       "True"
      ]
     },
     "execution_count": 39,
     "metadata": {},
     "output_type": "execute_result"
    }
   ],
   "source": [
    "5.2 in planets.values()"
   ]
  },
  {
   "cell_type": "code",
   "execution_count": 40,
   "metadata": {},
   "outputs": [],
   "source": [
    "planet_moons = {\n",
    "    'Mercury' : [],\n",
    "    'Venus' : [],\n",
    "    'Earth' : [\"moon\"],\n",
    "    'Mars' : [\"Phobos\", \"Deimos\"]\n",
    "}"
   ]
  },
  {
   "cell_type": "code",
   "execution_count": 41,
   "metadata": {},
   "outputs": [
    {
     "data": {
      "text/plain": [
       "['Phobos', 'Deimos']"
      ]
     },
     "execution_count": 41,
     "metadata": {},
     "output_type": "execute_result"
    }
   ],
   "source": [
    "planet_moons['Mars']"
   ]
  },
  {
   "cell_type": "code",
   "execution_count": 42,
   "metadata": {},
   "outputs": [
    {
     "data": {
      "text/plain": [
       "2"
      ]
     },
     "execution_count": 42,
     "metadata": {},
     "output_type": "execute_result"
    }
   ],
   "source": [
    "len(planet_moons['Mars'])"
   ]
  },
  {
   "cell_type": "code",
   "execution_count": 43,
   "metadata": {},
   "outputs": [],
   "source": [
    "numbers = [1, 2, 3, 4, 5]"
   ]
  },
  {
   "cell_type": "code",
   "execution_count": 44,
   "metadata": {},
   "outputs": [],
   "source": [
    "numbers.append(234)"
   ]
  },
  {
   "cell_type": "code",
   "execution_count": 45,
   "metadata": {},
   "outputs": [
    {
     "data": {
      "text/plain": [
       "[1, 2, 3, 4, 5, 234]"
      ]
     },
     "execution_count": 45,
     "metadata": {},
     "output_type": "execute_result"
    }
   ],
   "source": [
    "numbers"
   ]
  },
  {
   "cell_type": "code",
   "execution_count": 46,
   "metadata": {},
   "outputs": [],
   "source": [
    "planet_moons['Venus'].append('Allison')"
   ]
  },
  {
   "cell_type": "code",
   "execution_count": 47,
   "metadata": {},
   "outputs": [
    {
     "data": {
      "text/plain": [
       "{'Mercury': [],\n",
       " 'Venus': ['Allison'],\n",
       " 'Earth': ['moon'],\n",
       " 'Mars': ['Phobos', 'Deimos']}"
      ]
     },
     "execution_count": 47,
     "metadata": {},
     "output_type": "execute_result"
    }
   ],
   "source": [
    "planet_moons"
   ]
  },
  {
   "cell_type": "code",
   "execution_count": 50,
   "metadata": {},
   "outputs": [],
   "source": [
    "words = open('txt/frost.txt').read().split()\n",
    "initials = {}\n",
    "for item in words:\n",
    "    first_let = item[0].lower()\n",
    "    if first_let in initials:\n",
    "        initials[first_let].append(item)\n",
    "    else:\n",
    "        initials[first_let] = []\n",
    "        initials[first_let].append(item)"
   ]
  },
  {
   "cell_type": "code",
   "execution_count": 51,
   "metadata": {},
   "outputs": [
    {
     "data": {
      "text/plain": [
       "{'t': ['Two',\n",
       "  'travel',\n",
       "  'traveler,',\n",
       "  'To',\n",
       "  'the',\n",
       "  'Then',\n",
       "  'took',\n",
       "  'the',\n",
       "  'the',\n",
       "  'Though',\n",
       "  'that',\n",
       "  'the',\n",
       "  'there',\n",
       "  'them',\n",
       "  'the',\n",
       "  'that',\n",
       "  'trodden',\n",
       "  'the',\n",
       "  'to',\n",
       "  'telling',\n",
       "  'this',\n",
       "  'Two',\n",
       "  'took',\n",
       "  'the',\n",
       "  'travelled',\n",
       "  'that',\n",
       "  'the'],\n",
       " 'r': ['roads', 'really', 'roads'],\n",
       " 'd': ['diverged', 'down', 'day!', 'doubted', 'diverged', 'difference.'],\n",
       " 'i': ['in',\n",
       "  'I',\n",
       "  'I',\n",
       "  'I',\n",
       "  'it',\n",
       "  'in',\n",
       "  'it',\n",
       "  'In',\n",
       "  'I',\n",
       "  'I',\n",
       "  'if',\n",
       "  'I',\n",
       "  'I',\n",
       "  'in',\n",
       "  'I---',\n",
       "  'I'],\n",
       " 'a': ['a',\n",
       "  'And',\n",
       "  'And',\n",
       "  'And',\n",
       "  'as',\n",
       "  'as',\n",
       "  'as',\n",
       "  'as',\n",
       "  'And',\n",
       "  'and',\n",
       "  'as',\n",
       "  'about',\n",
       "  'And',\n",
       "  'another',\n",
       "  'a',\n",
       "  'ages',\n",
       "  'and',\n",
       "  'ages',\n",
       "  'a',\n",
       "  'and',\n",
       "  'And',\n",
       "  'all'],\n",
       " 'y': ['yellow', 'Yet'],\n",
       " 'w': ['wood,',\n",
       "  'where',\n",
       "  'was',\n",
       "  'wanted',\n",
       "  'wear;',\n",
       "  'worn',\n",
       "  'way',\n",
       "  'way,',\n",
       "  'with',\n",
       "  'wood,'],\n",
       " 's': ['sorry',\n",
       "  'stood',\n",
       "  'same,',\n",
       "  'step',\n",
       "  'should',\n",
       "  'shall',\n",
       "  'sigh',\n",
       "  'Somewhere'],\n",
       " 'c': ['could', 'could', 'claim,', 'come'],\n",
       " 'n': ['not', 'no'],\n",
       " 'b': ['both',\n",
       "  'be',\n",
       "  'bent',\n",
       "  'better',\n",
       "  'Because',\n",
       "  'both',\n",
       "  'black.',\n",
       "  'back.',\n",
       "  'be',\n",
       "  'by,'],\n",
       " 'o': ['one', 'one', 'other,', 'Oh,', 'on', 'one'],\n",
       " 'l': ['long', 'looked', 'lay', 'leaves', 'leads', 'less'],\n",
       " 'f': ['far', 'fair,', 'for', 'first', 'for'],\n",
       " 'u': ['undergrowth;'],\n",
       " 'j': ['just'],\n",
       " 'h': ['having', 'Had', 'had', 'how', 'hence:', 'has'],\n",
       " 'p': ['perhaps', 'passing'],\n",
       " 'g': ['grassy'],\n",
       " 'm': ['morning', 'made'],\n",
       " 'e': ['equally', 'ever'],\n",
       " 'k': ['kept', 'knowing']}"
      ]
     },
     "execution_count": 51,
     "metadata": {},
     "output_type": "execute_result"
    }
   ],
   "source": [
    "initials\n"
   ]
  },
  {
   "cell_type": "code",
   "execution_count": 54,
   "metadata": {},
   "outputs": [
    {
     "name": "stdout",
     "output_type": "stream",
     "text": [
      "t 27\n",
      "r 3\n",
      "d 6\n",
      "i 16\n",
      "a 22\n",
      "y 2\n",
      "w 10\n",
      "s 8\n",
      "c 4\n",
      "n 2\n",
      "b 10\n",
      "o 6\n",
      "l 6\n",
      "f 5\n",
      "u 1\n",
      "j 1\n",
      "h 6\n",
      "p 2\n",
      "g 1\n",
      "m 2\n",
      "e 2\n",
      "k 2\n"
     ]
    }
   ],
   "source": [
    "for key, val in initials.items():\n",
    "    print(key, len(val))"
   ]
  },
  {
   "cell_type": "code",
   "execution_count": 59,
   "metadata": {},
   "outputs": [
    {
     "name": "stdout",
     "output_type": "stream",
     "text": [
      "grassy\n",
      "I\n",
      "really\n",
      "leaves\n",
      "far\n",
      "roads\n",
      "I\n",
      "equally\n",
      "not\n",
      "day!\n"
     ]
    }
   ],
   "source": [
    "seed = 'girlfriend'\n",
    "for ch in seed:\n",
    "    print(random.choice(initials[ch]))"
   ]
  },
  {
   "cell_type": "code",
   "execution_count": 60,
   "metadata": {},
   "outputs": [
    {
     "name": "stdout",
     "output_type": "stream",
     "text": [
      "grassy\n",
      "I\n",
      "roads\n",
      "lay\n",
      "far\n",
      "roads\n",
      "in\n",
      "ever\n",
      "no\n",
      "diverged\n"
     ]
    }
   ],
   "source": [
    "print('\\n'.join([random.choice(initials[ch]) for ch in seed]))"
   ]
  },
  {
   "cell_type": "code",
   "execution_count": 61,
   "metadata": {},
   "outputs": [
    {
     "data": {
      "text/plain": [
       "['could', 'could', 'claim,', 'come']"
      ]
     },
     "execution_count": 61,
     "metadata": {},
     "output_type": "execute_result"
    }
   ],
   "source": [
    "initials.get('c')"
   ]
  },
  {
   "cell_type": "code",
   "execution_count": 62,
   "metadata": {},
   "outputs": [
    {
     "data": {
      "text/plain": [
       "['could', 'could', 'claim,', 'come']"
      ]
     },
     "execution_count": 62,
     "metadata": {},
     "output_type": "execute_result"
    }
   ],
   "source": [
    "initials['c']\n"
   ]
  },
  {
   "cell_type": "code",
   "execution_count": 63,
   "metadata": {},
   "outputs": [
    {
     "data": {
      "text/plain": [
       "'???'"
      ]
     },
     "execution_count": 63,
     "metadata": {},
     "output_type": "execute_result"
    }
   ],
   "source": [
    "initials.get('z', '???')"
   ]
  },
  {
   "cell_type": "code",
   "execution_count": 66,
   "metadata": {},
   "outputs": [
    {
     "name": "stdout",
     "output_type": "stream",
     "text": [
      "Passing\n",
      "I\n",
      "?\n",
      "?\n",
      "Ages\n"
     ]
    }
   ],
   "source": [
    "seed = 'pizza'\n",
    "for ch in seed:\n",
    "    print(random.choice(initials.get(ch, '?')).capitalize())"
   ]
  },
  {
   "cell_type": "markdown",
   "metadata": {},
   "source": [
    "# 3/7 Notes\n"
   ]
  },
  {
   "cell_type": "markdown",
   "metadata": {},
   "source": [
    "### counting things\n"
   ]
  },
  {
   "cell_type": "code",
   "execution_count": 3,
   "metadata": {},
   "outputs": [],
   "source": [
    "words = open(\"./txt/genesis.txt\").read().split();"
   ]
  },
  {
   "cell_type": "code",
   "execution_count": 4,
   "metadata": {},
   "outputs": [
    {
     "data": {
      "text/plain": [
       "['In',\n",
       " 'the',\n",
       " 'beginning',\n",
       " 'God',\n",
       " 'created',\n",
       " 'the',\n",
       " 'heaven',\n",
       " 'and',\n",
       " 'the',\n",
       " 'earth.']"
      ]
     },
     "execution_count": 4,
     "metadata": {},
     "output_type": "execute_result"
    }
   ],
   "source": [
    "words[:10]"
   ]
  },
  {
   "cell_type": "markdown",
   "metadata": {},
   "source": [
    "in python you can't do ++"
   ]
  },
  {
   "cell_type": "code",
   "execution_count": 5,
   "metadata": {},
   "outputs": [],
   "source": [
    "#word counter\n",
    "from collections import Counter"
   ]
  },
  {
   "cell_type": "code",
   "execution_count": 6,
   "metadata": {},
   "outputs": [],
   "source": [
    "count = Counter(words)"
   ]
  },
  {
   "cell_type": "code",
   "execution_count": 7,
   "metadata": {},
   "outputs": [
    {
     "data": {
      "text/plain": [
       "Counter({'In': 1,\n",
       "         'the': 108,\n",
       "         'beginning': 1,\n",
       "         'God': 32,\n",
       "         'created': 5,\n",
       "         'heaven': 5,\n",
       "         'and': 63,\n",
       "         'earth.': 4,\n",
       "         'And': 33,\n",
       "         'earth': 8,\n",
       "         'was': 17,\n",
       "         'without': 1,\n",
       "         'form,': 1,\n",
       "         'void;': 1,\n",
       "         'darkness': 2,\n",
       "         'upon': 10,\n",
       "         'face': 3,\n",
       "         'of': 20,\n",
       "         'deep.': 1,\n",
       "         'Spirit': 1,\n",
       "         'moved': 1,\n",
       "         'waters.': 2,\n",
       "         'said,': 9,\n",
       "         'Let': 8,\n",
       "         'there': 5,\n",
       "         'be': 7,\n",
       "         'light:': 1,\n",
       "         'light.': 1,\n",
       "         'saw': 7,\n",
       "         'light,': 1,\n",
       "         'that': 14,\n",
       "         'it': 15,\n",
       "         'good:': 1,\n",
       "         'divided': 2,\n",
       "         'light': 7,\n",
       "         'from': 5,\n",
       "         'darkness.': 1,\n",
       "         'called': 5,\n",
       "         'Day,': 1,\n",
       "         'he': 6,\n",
       "         'Night.': 1,\n",
       "         'evening': 6,\n",
       "         'morning': 6,\n",
       "         'were': 8,\n",
       "         'first': 1,\n",
       "         'day.': 6,\n",
       "         'a': 2,\n",
       "         'firmament': 7,\n",
       "         'in': 13,\n",
       "         'midst': 1,\n",
       "         'waters,': 1,\n",
       "         'let': 6,\n",
       "         'divide': 3,\n",
       "         'waters': 8,\n",
       "         'made': 4,\n",
       "         'firmament,': 1,\n",
       "         'which': 5,\n",
       "         'under': 2,\n",
       "         'above': 2,\n",
       "         'firmament:': 1,\n",
       "         'so.': 6,\n",
       "         'Heaven.': 1,\n",
       "         'second': 1,\n",
       "         'gathered': 1,\n",
       "         'together': 2,\n",
       "         'unto': 2,\n",
       "         'one': 1,\n",
       "         'place,': 1,\n",
       "         'dry': 2,\n",
       "         'land': 2,\n",
       "         'appear:': 1,\n",
       "         'Earth;': 1,\n",
       "         'gathering': 1,\n",
       "         'Seas:': 1,\n",
       "         'good.': 6,\n",
       "         'bring': 3,\n",
       "         'forth': 5,\n",
       "         'grass,': 2,\n",
       "         'herb': 4,\n",
       "         'yielding': 5,\n",
       "         'seed,': 2,\n",
       "         'fruit': 3,\n",
       "         'tree': 3,\n",
       "         'after': 11,\n",
       "         'his': 9,\n",
       "         'kind,': 6,\n",
       "         'whose': 2,\n",
       "         'seed': 3,\n",
       "         'is': 4,\n",
       "         'itself,': 2,\n",
       "         'earth:': 2,\n",
       "         'brought': 2,\n",
       "         'fruit,': 1,\n",
       "         'kind:': 4,\n",
       "         'third': 1,\n",
       "         'lights': 2,\n",
       "         'to': 11,\n",
       "         'day': 2,\n",
       "         'night;': 1,\n",
       "         'them': 4,\n",
       "         'for': 6,\n",
       "         'signs,': 1,\n",
       "         'seasons,': 1,\n",
       "         'days,': 1,\n",
       "         'years:': 1,\n",
       "         'give': 2,\n",
       "         'two': 1,\n",
       "         'great': 2,\n",
       "         'lights;': 1,\n",
       "         'greater': 1,\n",
       "         'rule': 3,\n",
       "         'day,': 1,\n",
       "         'lesser': 1,\n",
       "         'night:': 1,\n",
       "         'stars': 1,\n",
       "         'also.': 1,\n",
       "         'set': 1,\n",
       "         'earth,': 6,\n",
       "         'over': 10,\n",
       "         'night,': 1,\n",
       "         'darkness:': 1,\n",
       "         'fourth': 1,\n",
       "         'abundantly': 1,\n",
       "         'moving': 1,\n",
       "         'creature': 3,\n",
       "         'hath': 1,\n",
       "         'life,': 2,\n",
       "         'fowl': 6,\n",
       "         'may': 1,\n",
       "         'fly': 1,\n",
       "         'open': 1,\n",
       "         'heaven.': 1,\n",
       "         'whales,': 1,\n",
       "         'every': 12,\n",
       "         'living': 3,\n",
       "         'moveth,': 1,\n",
       "         'abundantly,': 1,\n",
       "         'their': 2,\n",
       "         'winged': 1,\n",
       "         'blessed': 2,\n",
       "         'them,': 3,\n",
       "         'saying,': 1,\n",
       "         'Be': 2,\n",
       "         'fruitful,': 2,\n",
       "         'multiply,': 2,\n",
       "         'fill': 1,\n",
       "         'seas,': 1,\n",
       "         'multiply': 1,\n",
       "         'fifth': 1,\n",
       "         'cattle,': 2,\n",
       "         'creeping': 2,\n",
       "         'thing,': 1,\n",
       "         'beast': 3,\n",
       "         'cattle': 1,\n",
       "         'thing': 5,\n",
       "         'creepeth': 3,\n",
       "         'us': 1,\n",
       "         'make': 1,\n",
       "         'man': 2,\n",
       "         'our': 2,\n",
       "         'image,': 2,\n",
       "         'likeness:': 1,\n",
       "         'have': 4,\n",
       "         'dominion': 2,\n",
       "         'fish': 2,\n",
       "         'sea,': 2,\n",
       "         'air,': 3,\n",
       "         'all': 2,\n",
       "         'So': 1,\n",
       "         'own': 1,\n",
       "         'image': 1,\n",
       "         'him;': 1,\n",
       "         'male': 1,\n",
       "         'female': 1,\n",
       "         'them.': 1,\n",
       "         'said': 1,\n",
       "         'replenish': 1,\n",
       "         'subdue': 1,\n",
       "         'it:': 1,\n",
       "         'moveth': 1,\n",
       "         'Behold,': 1,\n",
       "         'I': 2,\n",
       "         'given': 2,\n",
       "         'you': 2,\n",
       "         'bearing': 1,\n",
       "         'tree,': 1,\n",
       "         'seed;': 1,\n",
       "         'shall': 1,\n",
       "         'meat.': 1,\n",
       "         'wherein': 1,\n",
       "         'green': 1,\n",
       "         'meat:': 1,\n",
       "         'had': 1,\n",
       "         'made,': 1,\n",
       "         'and,': 1,\n",
       "         'behold,': 1,\n",
       "         'very': 1,\n",
       "         'sixth': 1})"
      ]
     },
     "execution_count": 7,
     "metadata": {},
     "output_type": "execute_result"
    }
   ],
   "source": [
    "count"
   ]
  },
  {
   "cell_type": "code",
   "execution_count": 8,
   "metadata": {},
   "outputs": [
    {
     "data": {
      "text/plain": [
       "32"
      ]
     },
     "execution_count": 8,
     "metadata": {},
     "output_type": "execute_result"
    }
   ],
   "source": [
    "count['God']"
   ]
  },
  {
   "cell_type": "code",
   "execution_count": 9,
   "metadata": {},
   "outputs": [
    {
     "data": {
      "text/plain": [
       "[('the', 108),\n",
       " ('and', 63),\n",
       " ('And', 33),\n",
       " ('God', 32),\n",
       " ('of', 20),\n",
       " ('was', 17),\n",
       " ('it', 15),\n",
       " ('that', 14),\n",
       " ('in', 13),\n",
       " ('every', 12),\n",
       " ('after', 11),\n",
       " ('to', 11),\n",
       " ('upon', 10),\n",
       " ('over', 10),\n",
       " ('said,', 9),\n",
       " ('his', 9),\n",
       " ('earth', 8),\n",
       " ('Let', 8),\n",
       " ('were', 8),\n",
       " ('waters', 8),\n",
       " ('be', 7),\n",
       " ('saw', 7),\n",
       " ('light', 7),\n",
       " ('firmament', 7),\n",
       " ('he', 6),\n",
       " ('evening', 6),\n",
       " ('morning', 6),\n",
       " ('day.', 6),\n",
       " ('let', 6),\n",
       " ('so.', 6),\n",
       " ('good.', 6),\n",
       " ('kind,', 6),\n",
       " ('for', 6),\n",
       " ('earth,', 6),\n",
       " ('fowl', 6),\n",
       " ('created', 5),\n",
       " ('heaven', 5),\n",
       " ('there', 5),\n",
       " ('from', 5),\n",
       " ('called', 5),\n",
       " ('which', 5),\n",
       " ('forth', 5),\n",
       " ('yielding', 5),\n",
       " ('thing', 5),\n",
       " ('earth.', 4),\n",
       " ('made', 4),\n",
       " ('herb', 4),\n",
       " ('is', 4),\n",
       " ('kind:', 4),\n",
       " ('them', 4),\n",
       " ('have', 4),\n",
       " ('face', 3),\n",
       " ('divide', 3),\n",
       " ('bring', 3),\n",
       " ('fruit', 3),\n",
       " ('tree', 3),\n",
       " ('seed', 3),\n",
       " ('rule', 3),\n",
       " ('creature', 3),\n",
       " ('living', 3),\n",
       " ('them,', 3),\n",
       " ('beast', 3),\n",
       " ('creepeth', 3),\n",
       " ('air,', 3),\n",
       " ('darkness', 2),\n",
       " ('waters.', 2),\n",
       " ('divided', 2),\n",
       " ('a', 2),\n",
       " ('under', 2),\n",
       " ('above', 2),\n",
       " ('together', 2),\n",
       " ('unto', 2),\n",
       " ('dry', 2),\n",
       " ('land', 2),\n",
       " ('grass,', 2),\n",
       " ('seed,', 2),\n",
       " ('whose', 2),\n",
       " ('itself,', 2),\n",
       " ('earth:', 2),\n",
       " ('brought', 2),\n",
       " ('lights', 2),\n",
       " ('day', 2),\n",
       " ('give', 2),\n",
       " ('great', 2),\n",
       " ('life,', 2),\n",
       " ('their', 2),\n",
       " ('blessed', 2),\n",
       " ('Be', 2),\n",
       " ('fruitful,', 2),\n",
       " ('multiply,', 2),\n",
       " ('cattle,', 2),\n",
       " ('creeping', 2),\n",
       " ('man', 2),\n",
       " ('our', 2),\n",
       " ('image,', 2),\n",
       " ('dominion', 2),\n",
       " ('fish', 2),\n",
       " ('sea,', 2),\n",
       " ('all', 2),\n",
       " ('I', 2),\n",
       " ('given', 2),\n",
       " ('you', 2),\n",
       " ('In', 1),\n",
       " ('beginning', 1),\n",
       " ('without', 1),\n",
       " ('form,', 1),\n",
       " ('void;', 1),\n",
       " ('deep.', 1),\n",
       " ('Spirit', 1),\n",
       " ('moved', 1),\n",
       " ('light:', 1),\n",
       " ('light.', 1),\n",
       " ('light,', 1),\n",
       " ('good:', 1),\n",
       " ('darkness.', 1),\n",
       " ('Day,', 1),\n",
       " ('Night.', 1),\n",
       " ('first', 1),\n",
       " ('midst', 1),\n",
       " ('waters,', 1),\n",
       " ('firmament,', 1),\n",
       " ('firmament:', 1),\n",
       " ('Heaven.', 1),\n",
       " ('second', 1),\n",
       " ('gathered', 1),\n",
       " ('one', 1),\n",
       " ('place,', 1),\n",
       " ('appear:', 1),\n",
       " ('Earth;', 1),\n",
       " ('gathering', 1),\n",
       " ('Seas:', 1),\n",
       " ('fruit,', 1),\n",
       " ('third', 1),\n",
       " ('night;', 1),\n",
       " ('signs,', 1),\n",
       " ('seasons,', 1),\n",
       " ('days,', 1),\n",
       " ('years:', 1),\n",
       " ('two', 1),\n",
       " ('lights;', 1),\n",
       " ('greater', 1),\n",
       " ('day,', 1),\n",
       " ('lesser', 1),\n",
       " ('night:', 1),\n",
       " ('stars', 1),\n",
       " ('also.', 1),\n",
       " ('set', 1),\n",
       " ('night,', 1),\n",
       " ('darkness:', 1),\n",
       " ('fourth', 1),\n",
       " ('abundantly', 1),\n",
       " ('moving', 1),\n",
       " ('hath', 1),\n",
       " ('may', 1),\n",
       " ('fly', 1),\n",
       " ('open', 1),\n",
       " ('heaven.', 1),\n",
       " ('whales,', 1),\n",
       " ('moveth,', 1),\n",
       " ('abundantly,', 1),\n",
       " ('winged', 1),\n",
       " ('saying,', 1),\n",
       " ('fill', 1),\n",
       " ('seas,', 1),\n",
       " ('multiply', 1),\n",
       " ('fifth', 1),\n",
       " ('thing,', 1),\n",
       " ('cattle', 1),\n",
       " ('us', 1),\n",
       " ('make', 1),\n",
       " ('likeness:', 1),\n",
       " ('So', 1),\n",
       " ('own', 1),\n",
       " ('image', 1),\n",
       " ('him;', 1),\n",
       " ('male', 1),\n",
       " ('female', 1),\n",
       " ('them.', 1),\n",
       " ('said', 1),\n",
       " ('replenish', 1),\n",
       " ('subdue', 1),\n",
       " ('it:', 1),\n",
       " ('moveth', 1),\n",
       " ('Behold,', 1),\n",
       " ('bearing', 1),\n",
       " ('tree,', 1),\n",
       " ('seed;', 1),\n",
       " ('shall', 1),\n",
       " ('meat.', 1),\n",
       " ('wherein', 1),\n",
       " ('green', 1),\n",
       " ('meat:', 1),\n",
       " ('had', 1),\n",
       " ('made,', 1),\n",
       " ('and,', 1),\n",
       " ('behold,', 1),\n",
       " ('very', 1),\n",
       " ('sixth', 1)]"
      ]
     },
     "execution_count": 9,
     "metadata": {},
     "output_type": "execute_result"
    }
   ],
   "source": [
    "count.most_common()"
   ]
  },
  {
   "cell_type": "markdown",
   "metadata": {},
   "source": [
    "tuples"
   ]
  },
  {
   "cell_type": "code",
   "execution_count": 10,
   "metadata": {},
   "outputs": [
    {
     "data": {
      "text/plain": [
       "'the'"
      ]
     },
     "execution_count": 10,
     "metadata": {},
     "output_type": "execute_result"
    }
   ],
   "source": [
    "count.most_common(1)[0][0]"
   ]
  },
  {
   "cell_type": "code",
   "execution_count": 11,
   "metadata": {},
   "outputs": [],
   "source": [
    "letter_count = Counter(open(\"./txt/genesis.txt\").read())"
   ]
  },
  {
   "cell_type": "code",
   "execution_count": 12,
   "metadata": {},
   "outputs": [
    {
     "data": {
      "text/plain": [
       "[(' ', 797),\n",
       " ('e', 450),\n",
       " ('t', 339),\n",
       " ('a', 267),\n",
       " ('h', 255),\n",
       " ('n', 233),\n",
       " ('d', 232),\n",
       " ('i', 195),\n",
       " ('r', 186),\n",
       " ('o', 167),\n",
       " ('s', 128),\n",
       " ('f', 87),\n",
       " ('l', 86),\n",
       " ('g', 82),\n",
       " (',', 68),\n",
       " ('m', 65),\n",
       " ('w', 62),\n",
       " ('v', 59),\n",
       " ('u', 44),\n",
       " ('y', 42),\n",
       " ('.', 33),\n",
       " ('A', 33),\n",
       " ('G', 32),\n",
       " ('c', 31),\n",
       " ('\\n', 31),\n",
       " ('b', 29),\n",
       " ('p', 25),\n",
       " (':', 17),\n",
       " ('k', 16),\n",
       " ('L', 8),\n",
       " (';', 6),\n",
       " ('I', 3),\n",
       " ('S', 3),\n",
       " ('B', 3),\n",
       " ('D', 1),\n",
       " ('N', 1),\n",
       " ('H', 1),\n",
       " ('E', 1),\n",
       " ('x', 1)]"
      ]
     },
     "execution_count": 12,
     "metadata": {},
     "output_type": "execute_result"
    }
   ],
   "source": [
    "letter_count.most_common()"
   ]
  },
  {
   "cell_type": "markdown",
   "metadata": {},
   "source": [
    "## tracery"
   ]
  },
  {
   "cell_type": "code",
   "execution_count": 14,
   "metadata": {},
   "outputs": [
    {
     "name": "stdout",
     "output_type": "stream",
     "text": [
      "Requirement already satisfied: tracery in /home/dangalf/anaconda3/lib/python3.7/site-packages (0.1.1)\r\n"
     ]
    }
   ],
   "source": [
    "#allison wrote python port, this is how to install\n",
    "#exclamation points = unix commands on command line\n",
    "!pip install tracery"
   ]
  },
  {
   "cell_type": "code",
   "execution_count": 37,
   "metadata": {},
   "outputs": [],
   "source": [
    "import tracery\n",
    "from tracery.modifiers import base_english"
   ]
  },
  {
   "cell_type": "code",
   "execution_count": 53,
   "metadata": {},
   "outputs": [
    {
     "name": "stdout",
     "output_type": "stream",
     "text": [
      "Hello, a dimensional plane!\n"
     ]
    }
   ],
   "source": [
    "rules = {\n",
    "    \"origin\": \"#greeting.capitalize#, #noun.a#! I'm #profession.a#\",\n",
    "    \"noun\": [\"galaxy\", \"world\", \"solar system\", \"dimensional plane\", \"evil being\"],\n",
    "    \"greeting\": [\"Howdy\", \"Hello\", \"hihihihi\"],\n",
    "    \"profession\": \n",
    "}\n",
    "grammar = tracery.Grammar(rules)\n",
    "grammar.add_modifiers(base_english)\n",
    "print(grammar.flatten(\"#origin#\"))"
   ]
  },
  {
   "cell_type": "markdown",
   "metadata": {},
   "source": [
    "keep things general, you can modify later"
   ]
  },
  {
   "cell_type": "code",
   "execution_count": 54,
   "metadata": {},
   "outputs": [
    {
     "data": {
      "text/plain": [
       "{'replace': <function tracery.modifiers.replace(text, *params)>,\n",
       " 'capitalizeAll': <function tracery.modifiers.capitalizeAll(text, *params)>,\n",
       " 'capitalize': <function tracery.modifiers.capitalize_(text, *params)>,\n",
       " 'a': <function tracery.modifiers.a(text, *params)>,\n",
       " 'firstS': <function tracery.modifiers.firstS(text, *params)>,\n",
       " 's': <function tracery.modifiers.s(text, *params)>,\n",
       " 'ed': <function tracery.modifiers.ed(text, *params)>,\n",
       " 'uppercase': <function tracery.modifiers.uppercase(text, *params)>,\n",
       " 'lowercase': <function tracery.modifiers.lowercase(text, *params)>}"
      ]
     },
     "execution_count": 54,
     "metadata": {},
     "output_type": "execute_result"
    }
   ],
   "source": [
    "base_english"
   ]
  },
  {
   "cell_type": "markdown",
   "metadata": {},
   "source": [
    "ed = verb in past tense\n",
    "\n",
    "can have multiple grammar strcutures as elements in the orgin list"
   ]
  },
  {
   "cell_type": "code",
   "execution_count": 55,
   "metadata": {},
   "outputs": [
    {
     "ename": "ModuleNotFoundError",
     "evalue": "No module named 'pronouncing'",
     "output_type": "error",
     "traceback": [
      "\u001b[0;31m---------------------------------------------------------------------------\u001b[0m",
      "\u001b[0;31mModuleNotFoundError\u001b[0m                       Traceback (most recent call last)",
      "\u001b[0;32m<ipython-input-55-cef61b1e601c>\u001b[0m in \u001b[0;36m<module>\u001b[0;34m\u001b[0m\n\u001b[0;32m----> 1\u001b[0;31m \u001b[0;32mimport\u001b[0m \u001b[0mpronouncing\u001b[0m\u001b[0;34m\u001b[0m\u001b[0;34m\u001b[0m\u001b[0m\n\u001b[0m",
      "\u001b[0;31mModuleNotFoundError\u001b[0m: No module named 'pronouncing'"
     ]
    }
   ],
   "source": [
    "import pronouncing"
   ]
  },
  {
   "cell_type": "markdown",
   "metadata": {},
   "source": [
    "tracery variables\n"
   ]
  },
  {
   "cell_type": "markdown",
   "metadata": {},
   "source": [
    "## a picture of a kitten\n",
    "\n",
    "![a picture of a kitten]('https://placekitten.com/400/400')"
   ]
  },
  {
   "cell_type": "markdown",
   "metadata": {},
   "source": [
    "# spacy 3/15\n"
   ]
  },
  {
   "cell_type": "markdown",
   "metadata": {},
   "source": [
    "### terms of language\n",
    "\n",
    "word-game-workshop.decontextualize.com/language-vocab/\n",
    "\n",
    "### layers of analysis\n",
    "\n",
    "- orthography (writing system / spelling)\n",
    "- lexicon (list of words / vocab)\n",
    "- phonology (system of sounds)\n",
    "- morphology (system of affixes)\n",
    "- syntax (rules for ordering words SVO vs SOV vs VSO, etc)\n",
    "- semantics (meaning)\n",
    "- discourse (higher-level organization)\n",
    "\n",
    "\n",
    "CMU pronoucing database"
   ]
  },
  {
   "cell_type": "markdown",
   "metadata": {},
   "source": [
    "# 3/28\n",
    "\n",
    "## Predictive Language Models\n",
    "\n",
    "### Markov Chain Text Generation"
   ]
  },
  {
   "cell_type": "markdown",
   "metadata": {},
   "source": [
    "### tuples\n",
    "\n",
    "a weird kind of list\n"
   ]
  },
  {
   "cell_type": "code",
   "execution_count": 1,
   "metadata": {},
   "outputs": [],
   "source": [
    "x = [1, 2, 3, 4]"
   ]
  },
  {
   "cell_type": "code",
   "execution_count": 2,
   "metadata": {},
   "outputs": [
    {
     "data": {
      "text/plain": [
       "list"
      ]
     },
     "execution_count": 2,
     "metadata": {},
     "output_type": "execute_result"
    }
   ],
   "source": [
    "type (x)"
   ]
  },
  {
   "cell_type": "code",
   "execution_count": 3,
   "metadata": {},
   "outputs": [],
   "source": [
    "x.append(10)"
   ]
  },
  {
   "cell_type": "code",
   "execution_count": 4,
   "metadata": {},
   "outputs": [
    {
     "data": {
      "text/plain": [
       "[1, 2, 3, 4, 10]"
      ]
     },
     "execution_count": 4,
     "metadata": {},
     "output_type": "execute_result"
    }
   ],
   "source": [
    "x"
   ]
  },
  {
   "cell_type": "code",
   "execution_count": 5,
   "metadata": {},
   "outputs": [],
   "source": [
    "y = (1, 2, 3, 4, 5)"
   ]
  },
  {
   "cell_type": "code",
   "execution_count": 6,
   "metadata": {},
   "outputs": [
    {
     "data": {
      "text/plain": [
       "tuple"
      ]
     },
     "execution_count": 6,
     "metadata": {},
     "output_type": "execute_result"
    }
   ],
   "source": [
    "type(y)"
   ]
  },
  {
   "cell_type": "code",
   "execution_count": 7,
   "metadata": {},
   "outputs": [
    {
     "data": {
      "text/plain": [
       "4"
      ]
     },
     "execution_count": 7,
     "metadata": {},
     "output_type": "execute_result"
    }
   ],
   "source": [
    "y[3]"
   ]
  },
  {
   "cell_type": "code",
   "execution_count": 10,
   "metadata": {},
   "outputs": [
    {
     "ename": "AttributeError",
     "evalue": "'tuple' object has no attribute 'append'",
     "output_type": "error",
     "traceback": [
      "\u001b[0;31m---------------------------------------------------------------------------\u001b[0m",
      "\u001b[0;31mAttributeError\u001b[0m                            Traceback (most recent call last)",
      "\u001b[0;32m<ipython-input-10-4a943d704049>\u001b[0m in \u001b[0;36m<module>\u001b[0;34m\u001b[0m\n\u001b[1;32m      1\u001b[0m \u001b[0;31m#  you can't modify a tuple\u001b[0m\u001b[0;34m\u001b[0m\u001b[0;34m\u001b[0m\u001b[0;34m\u001b[0m\u001b[0m\n\u001b[0;32m----> 2\u001b[0;31m \u001b[0my\u001b[0m\u001b[0;34m.\u001b[0m\u001b[0mappend\u001b[0m\u001b[0;34m(\u001b[0m\u001b[0;36m4\u001b[0m\u001b[0;34m)\u001b[0m\u001b[0;34m\u001b[0m\u001b[0;34m\u001b[0m\u001b[0m\n\u001b[0m",
      "\u001b[0;31mAttributeError\u001b[0m: 'tuple' object has no attribute 'append'"
     ]
    }
   ],
   "source": [
    "#  you can't modify a tuple\n",
    "y.append(4)"
   ]
  },
  {
   "cell_type": "code",
   "execution_count": 11,
   "metadata": {},
   "outputs": [],
   "source": [
    "#but are less computationally intensive\n",
    "#because lists have proactively allocated memory\n",
    "\n"
   ]
  },
  {
   "cell_type": "code",
   "execution_count": 12,
   "metadata": {},
   "outputs": [],
   "source": [
    "hello = {}"
   ]
  },
  {
   "cell_type": "code",
   "execution_count": 13,
   "metadata": {},
   "outputs": [],
   "source": [
    "hello['x'] = 10"
   ]
  },
  {
   "cell_type": "code",
   "execution_count": 14,
   "metadata": {},
   "outputs": [
    {
     "ename": "TypeError",
     "evalue": "unhashable type: 'list'",
     "output_type": "error",
     "traceback": [
      "\u001b[0;31m---------------------------------------------------------------------------\u001b[0m",
      "\u001b[0;31mTypeError\u001b[0m                                 Traceback (most recent call last)",
      "\u001b[0;32m<ipython-input-14-b4359d3c7391>\u001b[0m in \u001b[0;36m<module>\u001b[0;34m\u001b[0m\n\u001b[0;32m----> 1\u001b[0;31m \u001b[0mhello\u001b[0m\u001b[0;34m[\u001b[0m\u001b[0mx\u001b[0m\u001b[0;34m]\u001b[0m \u001b[0;34m=\u001b[0m \u001b[0;36m20\u001b[0m\u001b[0;34m\u001b[0m\u001b[0;34m\u001b[0m\u001b[0m\n\u001b[0m",
      "\u001b[0;31mTypeError\u001b[0m: unhashable type: 'list'"
     ]
    }
   ],
   "source": [
    "hello[x] = 20"
   ]
  },
  {
   "cell_type": "code",
   "execution_count": 15,
   "metadata": {},
   "outputs": [],
   "source": [
    "#but! you can use a tuple as a dict key\n",
    "\n",
    "hello[y] = 'tlele'"
   ]
  },
  {
   "cell_type": "code",
   "execution_count": 16,
   "metadata": {},
   "outputs": [
    {
     "data": {
      "text/plain": [
       "{'x': 10, (1, 2, 3, 4, 5): 'tlele'}"
      ]
     },
     "execution_count": 16,
     "metadata": {},
     "output_type": "execute_result"
    }
   ],
   "source": [
    "hello"
   ]
  },
  {
   "cell_type": "code",
   "execution_count": 17,
   "metadata": {},
   "outputs": [],
   "source": [
    "#maybe to check sequences, like a phrase"
   ]
  },
  {
   "cell_type": "markdown",
   "metadata": {},
   "source": [
    "### n-grams"
   ]
  },
  {
   "cell_type": "code",
   "execution_count": 19,
   "metadata": {},
   "outputs": [],
   "source": [
    "text = open('txt/genesis.txt').read().split()"
   ]
  },
  {
   "cell_type": "code",
   "execution_count": 20,
   "metadata": {},
   "outputs": [],
   "source": [
    "from collections import Counter"
   ]
  },
  {
   "cell_type": "code",
   "execution_count": 21,
   "metadata": {},
   "outputs": [
    {
     "data": {
      "text/plain": [
       "[('the', 108),\n",
       " ('and', 63),\n",
       " ('And', 33),\n",
       " ('God', 32),\n",
       " ('of', 20),\n",
       " ('was', 17),\n",
       " ('it', 15),\n",
       " ('that', 14),\n",
       " ('in', 13),\n",
       " ('every', 12),\n",
       " ('after', 11),\n",
       " ('to', 11),\n",
       " ('upon', 10),\n",
       " ('over', 10),\n",
       " ('said,', 9),\n",
       " ('his', 9),\n",
       " ('earth', 8),\n",
       " ('Let', 8),\n",
       " ('were', 8),\n",
       " ('waters', 8)]"
      ]
     },
     "execution_count": 21,
     "metadata": {},
     "output_type": "execute_result"
    }
   ],
   "source": [
    "Counter(text).most_common(20)"
   ]
  },
  {
   "cell_type": "markdown",
   "metadata": {},
   "source": [
    "\"unigram\" text analysis"
   ]
  },
  {
   "cell_type": "code",
   "execution_count": 26,
   "metadata": {},
   "outputs": [],
   "source": [
    "#instead counting pairs of words\n",
    "# can change between tuple and list\n",
    "pairs = []\n",
    "for i in range(len(text)-1):\n",
    "    pairs.append(tuple(text[i:i+2]))"
   ]
  },
  {
   "cell_type": "code",
   "execution_count": 24,
   "metadata": {},
   "outputs": [
    {
     "data": {
      "text/plain": [
       "[['In', 'the'],\n",
       " ['the', 'beginning'],\n",
       " ['beginning', 'God'],\n",
       " ['God', 'created'],\n",
       " ['created', 'the'],\n",
       " ['the', 'heaven'],\n",
       " ['heaven', 'and'],\n",
       " ['and', 'the'],\n",
       " ['the', 'earth.'],\n",
       " ['earth.', 'And'],\n",
       " ['And', 'the'],\n",
       " ['the', 'earth'],\n",
       " ['earth', 'was'],\n",
       " ['was', 'without'],\n",
       " ['without', 'form,'],\n",
       " ['form,', 'and'],\n",
       " ['and', 'void;'],\n",
       " ['void;', 'and'],\n",
       " ['and', 'darkness'],\n",
       " ['darkness', 'was'],\n",
       " ['was', 'upon'],\n",
       " ['upon', 'the'],\n",
       " ['the', 'face'],\n",
       " ['face', 'of'],\n",
       " ['of', 'the'],\n",
       " ['the', 'deep.'],\n",
       " ['deep.', 'And'],\n",
       " ['And', 'the'],\n",
       " ['the', 'Spirit'],\n",
       " ['Spirit', 'of'],\n",
       " ['of', 'God'],\n",
       " ['God', 'moved'],\n",
       " ['moved', 'upon'],\n",
       " ['upon', 'the'],\n",
       " ['the', 'face'],\n",
       " ['face', 'of'],\n",
       " ['of', 'the'],\n",
       " ['the', 'waters.'],\n",
       " ['waters.', 'And'],\n",
       " ['And', 'God'],\n",
       " ['God', 'said,'],\n",
       " ['said,', 'Let'],\n",
       " ['Let', 'there'],\n",
       " ['there', 'be'],\n",
       " ['be', 'light:'],\n",
       " ['light:', 'and'],\n",
       " ['and', 'there'],\n",
       " ['there', 'was'],\n",
       " ['was', 'light.'],\n",
       " ['light.', 'And'],\n",
       " ['And', 'God'],\n",
       " ['God', 'saw'],\n",
       " ['saw', 'the'],\n",
       " ['the', 'light,'],\n",
       " ['light,', 'that'],\n",
       " ['that', 'it'],\n",
       " ['it', 'was'],\n",
       " ['was', 'good:'],\n",
       " ['good:', 'and'],\n",
       " ['and', 'God'],\n",
       " ['God', 'divided'],\n",
       " ['divided', 'the'],\n",
       " ['the', 'light'],\n",
       " ['light', 'from'],\n",
       " ['from', 'the'],\n",
       " ['the', 'darkness.'],\n",
       " ['darkness.', 'And'],\n",
       " ['And', 'God'],\n",
       " ['God', 'called'],\n",
       " ['called', 'the'],\n",
       " ['the', 'light'],\n",
       " ['light', 'Day,'],\n",
       " ['Day,', 'and'],\n",
       " ['and', 'the'],\n",
       " ['the', 'darkness'],\n",
       " ['darkness', 'he'],\n",
       " ['he', 'called'],\n",
       " ['called', 'Night.'],\n",
       " ['Night.', 'And'],\n",
       " ['And', 'the'],\n",
       " ['the', 'evening'],\n",
       " ['evening', 'and'],\n",
       " ['and', 'the'],\n",
       " ['the', 'morning'],\n",
       " ['morning', 'were'],\n",
       " ['were', 'the'],\n",
       " ['the', 'first'],\n",
       " ['first', 'day.'],\n",
       " ['day.', 'And'],\n",
       " ['And', 'God'],\n",
       " ['God', 'said,'],\n",
       " ['said,', 'Let'],\n",
       " ['Let', 'there'],\n",
       " ['there', 'be'],\n",
       " ['be', 'a'],\n",
       " ['a', 'firmament'],\n",
       " ['firmament', 'in'],\n",
       " ['in', 'the'],\n",
       " ['the', 'midst'],\n",
       " ['midst', 'of'],\n",
       " ['of', 'the'],\n",
       " ['the', 'waters,'],\n",
       " ['waters,', 'and'],\n",
       " ['and', 'let'],\n",
       " ['let', 'it'],\n",
       " ['it', 'divide'],\n",
       " ['divide', 'the'],\n",
       " ['the', 'waters'],\n",
       " ['waters', 'from'],\n",
       " ['from', 'the'],\n",
       " ['the', 'waters.'],\n",
       " ['waters.', 'And'],\n",
       " ['And', 'God'],\n",
       " ['God', 'made'],\n",
       " ['made', 'the'],\n",
       " ['the', 'firmament,'],\n",
       " ['firmament,', 'and'],\n",
       " ['and', 'divided'],\n",
       " ['divided', 'the'],\n",
       " ['the', 'waters'],\n",
       " ['waters', 'which'],\n",
       " ['which', 'were'],\n",
       " ['were', 'under'],\n",
       " ['under', 'the'],\n",
       " ['the', 'firmament'],\n",
       " ['firmament', 'from'],\n",
       " ['from', 'the'],\n",
       " ['the', 'waters'],\n",
       " ['waters', 'which'],\n",
       " ['which', 'were'],\n",
       " ['were', 'above'],\n",
       " ['above', 'the'],\n",
       " ['the', 'firmament:'],\n",
       " ['firmament:', 'and'],\n",
       " ['and', 'it'],\n",
       " ['it', 'was'],\n",
       " ['was', 'so.'],\n",
       " ['so.', 'And'],\n",
       " ['And', 'God'],\n",
       " ['God', 'called'],\n",
       " ['called', 'the'],\n",
       " ['the', 'firmament'],\n",
       " ['firmament', 'Heaven.'],\n",
       " ['Heaven.', 'And'],\n",
       " ['And', 'the'],\n",
       " ['the', 'evening'],\n",
       " ['evening', 'and'],\n",
       " ['and', 'the'],\n",
       " ['the', 'morning'],\n",
       " ['morning', 'were'],\n",
       " ['were', 'the'],\n",
       " ['the', 'second'],\n",
       " ['second', 'day.'],\n",
       " ['day.', 'And'],\n",
       " ['And', 'God'],\n",
       " ['God', 'said,'],\n",
       " ['said,', 'Let'],\n",
       " ['Let', 'the'],\n",
       " ['the', 'waters'],\n",
       " ['waters', 'under'],\n",
       " ['under', 'the'],\n",
       " ['the', 'heaven'],\n",
       " ['heaven', 'be'],\n",
       " ['be', 'gathered'],\n",
       " ['gathered', 'together'],\n",
       " ['together', 'unto'],\n",
       " ['unto', 'one'],\n",
       " ['one', 'place,'],\n",
       " ['place,', 'and'],\n",
       " ['and', 'let'],\n",
       " ['let', 'the'],\n",
       " ['the', 'dry'],\n",
       " ['dry', 'land'],\n",
       " ['land', 'appear:'],\n",
       " ['appear:', 'and'],\n",
       " ['and', 'it'],\n",
       " ['it', 'was'],\n",
       " ['was', 'so.'],\n",
       " ['so.', 'And'],\n",
       " ['And', 'God'],\n",
       " ['God', 'called'],\n",
       " ['called', 'the'],\n",
       " ['the', 'dry'],\n",
       " ['dry', 'land'],\n",
       " ['land', 'Earth;'],\n",
       " ['Earth;', 'and'],\n",
       " ['and', 'the'],\n",
       " ['the', 'gathering'],\n",
       " ['gathering', 'together'],\n",
       " ['together', 'of'],\n",
       " ['of', 'the'],\n",
       " ['the', 'waters'],\n",
       " ['waters', 'called'],\n",
       " ['called', 'he'],\n",
       " ['he', 'Seas:'],\n",
       " ['Seas:', 'and'],\n",
       " ['and', 'God'],\n",
       " ['God', 'saw'],\n",
       " ['saw', 'that'],\n",
       " ['that', 'it'],\n",
       " ['it', 'was'],\n",
       " ['was', 'good.'],\n",
       " ['good.', 'And'],\n",
       " ['And', 'God'],\n",
       " ['God', 'said,'],\n",
       " ['said,', 'Let'],\n",
       " ['Let', 'the'],\n",
       " ['the', 'earth'],\n",
       " ['earth', 'bring'],\n",
       " ['bring', 'forth'],\n",
       " ['forth', 'grass,'],\n",
       " ['grass,', 'the'],\n",
       " ['the', 'herb'],\n",
       " ['herb', 'yielding'],\n",
       " ['yielding', 'seed,'],\n",
       " ['seed,', 'and'],\n",
       " ['and', 'the'],\n",
       " ['the', 'fruit'],\n",
       " ['fruit', 'tree'],\n",
       " ['tree', 'yielding'],\n",
       " ['yielding', 'fruit'],\n",
       " ['fruit', 'after'],\n",
       " ['after', 'his'],\n",
       " ['his', 'kind,'],\n",
       " ['kind,', 'whose'],\n",
       " ['whose', 'seed'],\n",
       " ['seed', 'is'],\n",
       " ['is', 'in'],\n",
       " ['in', 'itself,'],\n",
       " ['itself,', 'upon'],\n",
       " ['upon', 'the'],\n",
       " ['the', 'earth:'],\n",
       " ['earth:', 'and'],\n",
       " ['and', 'it'],\n",
       " ['it', 'was'],\n",
       " ['was', 'so.'],\n",
       " ['so.', 'And'],\n",
       " ['And', 'the'],\n",
       " ['the', 'earth'],\n",
       " ['earth', 'brought'],\n",
       " ['brought', 'forth'],\n",
       " ['forth', 'grass,'],\n",
       " ['grass,', 'and'],\n",
       " ['and', 'herb'],\n",
       " ['herb', 'yielding'],\n",
       " ['yielding', 'seed'],\n",
       " ['seed', 'after'],\n",
       " ['after', 'his'],\n",
       " ['his', 'kind,'],\n",
       " ['kind,', 'and'],\n",
       " ['and', 'the'],\n",
       " ['the', 'tree'],\n",
       " ['tree', 'yielding'],\n",
       " ['yielding', 'fruit,'],\n",
       " ['fruit,', 'whose'],\n",
       " ['whose', 'seed'],\n",
       " ['seed', 'was'],\n",
       " ['was', 'in'],\n",
       " ['in', 'itself,'],\n",
       " ['itself,', 'after'],\n",
       " ['after', 'his'],\n",
       " ['his', 'kind:'],\n",
       " ['kind:', 'and'],\n",
       " ['and', 'God'],\n",
       " ['God', 'saw'],\n",
       " ['saw', 'that'],\n",
       " ['that', 'it'],\n",
       " ['it', 'was'],\n",
       " ['was', 'good.'],\n",
       " ['good.', 'And'],\n",
       " ['And', 'the'],\n",
       " ['the', 'evening'],\n",
       " ['evening', 'and'],\n",
       " ['and', 'the'],\n",
       " ['the', 'morning'],\n",
       " ['morning', 'were'],\n",
       " ['were', 'the'],\n",
       " ['the', 'third'],\n",
       " ['third', 'day.'],\n",
       " ['day.', 'And'],\n",
       " ['And', 'God'],\n",
       " ['God', 'said,'],\n",
       " ['said,', 'Let'],\n",
       " ['Let', 'there'],\n",
       " ['there', 'be'],\n",
       " ['be', 'lights'],\n",
       " ['lights', 'in'],\n",
       " ['in', 'the'],\n",
       " ['the', 'firmament'],\n",
       " ['firmament', 'of'],\n",
       " ['of', 'the'],\n",
       " ['the', 'heaven'],\n",
       " ['heaven', 'to'],\n",
       " ['to', 'divide'],\n",
       " ['divide', 'the'],\n",
       " ['the', 'day'],\n",
       " ['day', 'from'],\n",
       " ['from', 'the'],\n",
       " ['the', 'night;'],\n",
       " ['night;', 'and'],\n",
       " ['and', 'let'],\n",
       " ['let', 'them'],\n",
       " ['them', 'be'],\n",
       " ['be', 'for'],\n",
       " ['for', 'signs,'],\n",
       " ['signs,', 'and'],\n",
       " ['and', 'for'],\n",
       " ['for', 'seasons,'],\n",
       " ['seasons,', 'and'],\n",
       " ['and', 'for'],\n",
       " ['for', 'days,'],\n",
       " ['days,', 'and'],\n",
       " ['and', 'years:'],\n",
       " ['years:', 'And'],\n",
       " ['And', 'let'],\n",
       " ['let', 'them'],\n",
       " ['them', 'be'],\n",
       " ['be', 'for'],\n",
       " ['for', 'lights'],\n",
       " ['lights', 'in'],\n",
       " ['in', 'the'],\n",
       " ['the', 'firmament'],\n",
       " ['firmament', 'of'],\n",
       " ['of', 'the'],\n",
       " ['the', 'heaven'],\n",
       " ['heaven', 'to'],\n",
       " ['to', 'give'],\n",
       " ['give', 'light'],\n",
       " ['light', 'upon'],\n",
       " ['upon', 'the'],\n",
       " ['the', 'earth:'],\n",
       " ['earth:', 'and'],\n",
       " ['and', 'it'],\n",
       " ['it', 'was'],\n",
       " ['was', 'so.'],\n",
       " ['so.', 'And'],\n",
       " ['And', 'God'],\n",
       " ['God', 'made'],\n",
       " ['made', 'two'],\n",
       " ['two', 'great'],\n",
       " ['great', 'lights;'],\n",
       " ['lights;', 'the'],\n",
       " ['the', 'greater'],\n",
       " ['greater', 'light'],\n",
       " ['light', 'to'],\n",
       " ['to', 'rule'],\n",
       " ['rule', 'the'],\n",
       " ['the', 'day,'],\n",
       " ['day,', 'and'],\n",
       " ['and', 'the'],\n",
       " ['the', 'lesser'],\n",
       " ['lesser', 'light'],\n",
       " ['light', 'to'],\n",
       " ['to', 'rule'],\n",
       " ['rule', 'the'],\n",
       " ['the', 'night:'],\n",
       " ['night:', 'he'],\n",
       " ['he', 'made'],\n",
       " ['made', 'the'],\n",
       " ['the', 'stars'],\n",
       " ['stars', 'also.'],\n",
       " ['also.', 'And'],\n",
       " ['And', 'God'],\n",
       " ['God', 'set'],\n",
       " ['set', 'them'],\n",
       " ['them', 'in'],\n",
       " ['in', 'the'],\n",
       " ['the', 'firmament'],\n",
       " ['firmament', 'of'],\n",
       " ['of', 'the'],\n",
       " ['the', 'heaven'],\n",
       " ['heaven', 'to'],\n",
       " ['to', 'give'],\n",
       " ['give', 'light'],\n",
       " ['light', 'upon'],\n",
       " ['upon', 'the'],\n",
       " ['the', 'earth,'],\n",
       " ['earth,', 'And'],\n",
       " ['And', 'to'],\n",
       " ['to', 'rule'],\n",
       " ['rule', 'over'],\n",
       " ['over', 'the'],\n",
       " ['the', 'day'],\n",
       " ['day', 'and'],\n",
       " ['and', 'over'],\n",
       " ['over', 'the'],\n",
       " ['the', 'night,'],\n",
       " ['night,', 'and'],\n",
       " ['and', 'to'],\n",
       " ['to', 'divide'],\n",
       " ['divide', 'the'],\n",
       " ['the', 'light'],\n",
       " ['light', 'from'],\n",
       " ['from', 'the'],\n",
       " ['the', 'darkness:'],\n",
       " ['darkness:', 'and'],\n",
       " ['and', 'God'],\n",
       " ['God', 'saw'],\n",
       " ['saw', 'that'],\n",
       " ['that', 'it'],\n",
       " ['it', 'was'],\n",
       " ['was', 'good.'],\n",
       " ['good.', 'And'],\n",
       " ['And', 'the'],\n",
       " ['the', 'evening'],\n",
       " ['evening', 'and'],\n",
       " ['and', 'the'],\n",
       " ['the', 'morning'],\n",
       " ['morning', 'were'],\n",
       " ['were', 'the'],\n",
       " ['the', 'fourth'],\n",
       " ['fourth', 'day.'],\n",
       " ['day.', 'And'],\n",
       " ['And', 'God'],\n",
       " ['God', 'said,'],\n",
       " ['said,', 'Let'],\n",
       " ['Let', 'the'],\n",
       " ['the', 'waters'],\n",
       " ['waters', 'bring'],\n",
       " ['bring', 'forth'],\n",
       " ['forth', 'abundantly'],\n",
       " ['abundantly', 'the'],\n",
       " ['the', 'moving'],\n",
       " ['moving', 'creature'],\n",
       " ['creature', 'that'],\n",
       " ['that', 'hath'],\n",
       " ['hath', 'life,'],\n",
       " ['life,', 'and'],\n",
       " ['and', 'fowl'],\n",
       " ['fowl', 'that'],\n",
       " ['that', 'may'],\n",
       " ['may', 'fly'],\n",
       " ['fly', 'above'],\n",
       " ['above', 'the'],\n",
       " ['the', 'earth'],\n",
       " ['earth', 'in'],\n",
       " ['in', 'the'],\n",
       " ['the', 'open'],\n",
       " ['open', 'firmament'],\n",
       " ['firmament', 'of'],\n",
       " ['of', 'heaven.'],\n",
       " ['heaven.', 'And'],\n",
       " ['And', 'God'],\n",
       " ['God', 'created'],\n",
       " ['created', 'great'],\n",
       " ['great', 'whales,'],\n",
       " ['whales,', 'and'],\n",
       " ['and', 'every'],\n",
       " ['every', 'living'],\n",
       " ['living', 'creature'],\n",
       " ['creature', 'that'],\n",
       " ['that', 'moveth,'],\n",
       " ['moveth,', 'which'],\n",
       " ['which', 'the'],\n",
       " ['the', 'waters'],\n",
       " ['waters', 'brought'],\n",
       " ['brought', 'forth'],\n",
       " ['forth', 'abundantly,'],\n",
       " ['abundantly,', 'after'],\n",
       " ['after', 'their'],\n",
       " ['their', 'kind,'],\n",
       " ['kind,', 'and'],\n",
       " ['and', 'every'],\n",
       " ['every', 'winged'],\n",
       " ['winged', 'fowl'],\n",
       " ['fowl', 'after'],\n",
       " ['after', 'his'],\n",
       " ['his', 'kind:'],\n",
       " ['kind:', 'and'],\n",
       " ['and', 'God'],\n",
       " ['God', 'saw'],\n",
       " ['saw', 'that'],\n",
       " ['that', 'it'],\n",
       " ['it', 'was'],\n",
       " ['was', 'good.'],\n",
       " ['good.', 'And'],\n",
       " ['And', 'God'],\n",
       " ['God', 'blessed'],\n",
       " ['blessed', 'them,'],\n",
       " ['them,', 'saying,'],\n",
       " ['saying,', 'Be'],\n",
       " ['Be', 'fruitful,'],\n",
       " ['fruitful,', 'and'],\n",
       " ['and', 'multiply,'],\n",
       " ['multiply,', 'and'],\n",
       " ['and', 'fill'],\n",
       " ['fill', 'the'],\n",
       " ['the', 'waters'],\n",
       " ['waters', 'in'],\n",
       " ['in', 'the'],\n",
       " ['the', 'seas,'],\n",
       " ['seas,', 'and'],\n",
       " ['and', 'let'],\n",
       " ['let', 'fowl'],\n",
       " ['fowl', 'multiply'],\n",
       " ['multiply', 'in'],\n",
       " ['in', 'the'],\n",
       " ['the', 'earth.'],\n",
       " ['earth.', 'And'],\n",
       " ['And', 'the'],\n",
       " ['the', 'evening'],\n",
       " ['evening', 'and'],\n",
       " ['and', 'the'],\n",
       " ['the', 'morning'],\n",
       " ['morning', 'were'],\n",
       " ['were', 'the'],\n",
       " ['the', 'fifth'],\n",
       " ['fifth', 'day.'],\n",
       " ['day.', 'And'],\n",
       " ['And', 'God'],\n",
       " ['God', 'said,'],\n",
       " ['said,', 'Let'],\n",
       " ['Let', 'the'],\n",
       " ['the', 'earth'],\n",
       " ['earth', 'bring'],\n",
       " ['bring', 'forth'],\n",
       " ['forth', 'the'],\n",
       " ['the', 'living'],\n",
       " ['living', 'creature'],\n",
       " ['creature', 'after'],\n",
       " ['after', 'his'],\n",
       " ['his', 'kind,'],\n",
       " ['kind,', 'cattle,'],\n",
       " ['cattle,', 'and'],\n",
       " ['and', 'creeping'],\n",
       " ['creeping', 'thing,'],\n",
       " ['thing,', 'and'],\n",
       " ['and', 'beast'],\n",
       " ['beast', 'of'],\n",
       " ['of', 'the'],\n",
       " ['the', 'earth'],\n",
       " ['earth', 'after'],\n",
       " ['after', 'his'],\n",
       " ['his', 'kind:'],\n",
       " ['kind:', 'and'],\n",
       " ['and', 'it'],\n",
       " ['it', 'was'],\n",
       " ['was', 'so.'],\n",
       " ['so.', 'And'],\n",
       " ['And', 'God'],\n",
       " ['God', 'made'],\n",
       " ['made', 'the'],\n",
       " ['the', 'beast'],\n",
       " ['beast', 'of'],\n",
       " ['of', 'the'],\n",
       " ['the', 'earth'],\n",
       " ['earth', 'after'],\n",
       " ['after', 'his'],\n",
       " ['his', 'kind,'],\n",
       " ['kind,', 'and'],\n",
       " ['and', 'cattle'],\n",
       " ['cattle', 'after'],\n",
       " ['after', 'their'],\n",
       " ['their', 'kind,'],\n",
       " ['kind,', 'and'],\n",
       " ['and', 'every'],\n",
       " ['every', 'thing'],\n",
       " ['thing', 'that'],\n",
       " ['that', 'creepeth'],\n",
       " ['creepeth', 'upon'],\n",
       " ['upon', 'the'],\n",
       " ['the', 'earth'],\n",
       " ['earth', 'after'],\n",
       " ['after', 'his'],\n",
       " ['his', 'kind:'],\n",
       " ['kind:', 'and'],\n",
       " ['and', 'God'],\n",
       " ['God', 'saw'],\n",
       " ['saw', 'that'],\n",
       " ['that', 'it'],\n",
       " ['it', 'was'],\n",
       " ['was', 'good.'],\n",
       " ['good.', 'And'],\n",
       " ['And', 'God'],\n",
       " ['God', 'said,'],\n",
       " ['said,', 'Let'],\n",
       " ['Let', 'us'],\n",
       " ['us', 'make'],\n",
       " ['make', 'man'],\n",
       " ['man', 'in'],\n",
       " ['in', 'our'],\n",
       " ['our', 'image,'],\n",
       " ['image,', 'after'],\n",
       " ['after', 'our'],\n",
       " ['our', 'likeness:'],\n",
       " ['likeness:', 'and'],\n",
       " ['and', 'let'],\n",
       " ['let', 'them'],\n",
       " ['them', 'have'],\n",
       " ['have', 'dominion'],\n",
       " ['dominion', 'over'],\n",
       " ['over', 'the'],\n",
       " ['the', 'fish'],\n",
       " ['fish', 'of'],\n",
       " ['of', 'the'],\n",
       " ['the', 'sea,'],\n",
       " ['sea,', 'and'],\n",
       " ['and', 'over'],\n",
       " ['over', 'the'],\n",
       " ['the', 'fowl'],\n",
       " ['fowl', 'of'],\n",
       " ['of', 'the'],\n",
       " ['the', 'air,'],\n",
       " ['air,', 'and'],\n",
       " ['and', 'over'],\n",
       " ['over', 'the'],\n",
       " ['the', 'cattle,'],\n",
       " ['cattle,', 'and'],\n",
       " ['and', 'over'],\n",
       " ['over', 'all'],\n",
       " ['all', 'the'],\n",
       " ['the', 'earth,'],\n",
       " ['earth,', 'and'],\n",
       " ['and', 'over'],\n",
       " ['over', 'every'],\n",
       " ['every', 'creeping'],\n",
       " ['creeping', 'thing'],\n",
       " ['thing', 'that'],\n",
       " ['that', 'creepeth'],\n",
       " ['creepeth', 'upon'],\n",
       " ['upon', 'the'],\n",
       " ['the', 'earth.'],\n",
       " ['earth.', 'So'],\n",
       " ['So', 'God'],\n",
       " ['God', 'created'],\n",
       " ['created', 'man'],\n",
       " ['man', 'in'],\n",
       " ['in', 'his'],\n",
       " ['his', 'own'],\n",
       " ['own', 'image,'],\n",
       " ['image,', 'in'],\n",
       " ['in', 'the'],\n",
       " ['the', 'image'],\n",
       " ['image', 'of'],\n",
       " ['of', 'God'],\n",
       " ['God', 'created'],\n",
       " ['created', 'he'],\n",
       " ['he', 'him;'],\n",
       " ['him;', 'male'],\n",
       " ['male', 'and'],\n",
       " ['and', 'female'],\n",
       " ['female', 'created'],\n",
       " ['created', 'he'],\n",
       " ['he', 'them.'],\n",
       " ['them.', 'And'],\n",
       " ['And', 'God'],\n",
       " ['God', 'blessed'],\n",
       " ['blessed', 'them,'],\n",
       " ['them,', 'and'],\n",
       " ['and', 'God'],\n",
       " ['God', 'said'],\n",
       " ['said', 'unto'],\n",
       " ['unto', 'them,'],\n",
       " ['them,', 'Be'],\n",
       " ['Be', 'fruitful,'],\n",
       " ['fruitful,', 'and'],\n",
       " ['and', 'multiply,'],\n",
       " ['multiply,', 'and'],\n",
       " ['and', 'replenish'],\n",
       " ['replenish', 'the'],\n",
       " ['the', 'earth,'],\n",
       " ['earth,', 'and'],\n",
       " ['and', 'subdue'],\n",
       " ['subdue', 'it:'],\n",
       " ['it:', 'and'],\n",
       " ['and', 'have'],\n",
       " ['have', 'dominion'],\n",
       " ['dominion', 'over'],\n",
       " ['over', 'the'],\n",
       " ['the', 'fish'],\n",
       " ['fish', 'of'],\n",
       " ['of', 'the'],\n",
       " ['the', 'sea,'],\n",
       " ['sea,', 'and'],\n",
       " ['and', 'over'],\n",
       " ['over', 'the'],\n",
       " ['the', 'fowl'],\n",
       " ['fowl', 'of'],\n",
       " ['of', 'the'],\n",
       " ['the', 'air,'],\n",
       " ['air,', 'and'],\n",
       " ['and', 'over'],\n",
       " ['over', 'every'],\n",
       " ['every', 'living'],\n",
       " ['living', 'thing'],\n",
       " ['thing', 'that'],\n",
       " ['that', 'moveth'],\n",
       " ['moveth', 'upon'],\n",
       " ['upon', 'the'],\n",
       " ['the', 'earth.'],\n",
       " ['earth.', 'And'],\n",
       " ['And', 'God'],\n",
       " ['God', 'said,'],\n",
       " ['said,', 'Behold,'],\n",
       " ['Behold,', 'I'],\n",
       " ['I', 'have'],\n",
       " ['have', 'given'],\n",
       " ['given', 'you'],\n",
       " ['you', 'every'],\n",
       " ['every', 'herb'],\n",
       " ['herb', 'bearing'],\n",
       " ['bearing', 'seed,'],\n",
       " ['seed,', 'which'],\n",
       " ['which', 'is'],\n",
       " ['is', 'upon'],\n",
       " ['upon', 'the'],\n",
       " ['the', 'face'],\n",
       " ['face', 'of'],\n",
       " ['of', 'all'],\n",
       " ['all', 'the'],\n",
       " ['the', 'earth,'],\n",
       " ['earth,', 'and'],\n",
       " ['and', 'every'],\n",
       " ['every', 'tree,'],\n",
       " ['tree,', 'in'],\n",
       " ['in', 'the'],\n",
       " ['the', 'which'],\n",
       " ['which', 'is'],\n",
       " ['is', 'the'],\n",
       " ['the', 'fruit'],\n",
       " ['fruit', 'of'],\n",
       " ['of', 'a'],\n",
       " ['a', 'tree'],\n",
       " ['tree', 'yielding'],\n",
       " ['yielding', 'seed;'],\n",
       " ['seed;', 'to'],\n",
       " ['to', 'you'],\n",
       " ['you', 'it'],\n",
       " ['it', 'shall'],\n",
       " ['shall', 'be'],\n",
       " ['be', 'for'],\n",
       " ['for', 'meat.'],\n",
       " ['meat.', 'And'],\n",
       " ['And', 'to'],\n",
       " ['to', 'every'],\n",
       " ['every', 'beast'],\n",
       " ['beast', 'of'],\n",
       " ['of', 'the'],\n",
       " ['the', 'earth,'],\n",
       " ['earth,', 'and'],\n",
       " ['and', 'to'],\n",
       " ['to', 'every'],\n",
       " ['every', 'fowl'],\n",
       " ['fowl', 'of'],\n",
       " ['of', 'the'],\n",
       " ['the', 'air,'],\n",
       " ['air,', 'and'],\n",
       " ['and', 'to'],\n",
       " ['to', 'every'],\n",
       " ['every', 'thing'],\n",
       " ['thing', 'that'],\n",
       " ['that', 'creepeth'],\n",
       " ['creepeth', 'upon'],\n",
       " ['upon', 'the'],\n",
       " ['the', 'earth,'],\n",
       " ['earth,', 'wherein'],\n",
       " ['wherein', 'there'],\n",
       " ['there', 'is'],\n",
       " ['is', 'life,'],\n",
       " ['life,', 'I'],\n",
       " ['I', 'have'],\n",
       " ['have', 'given'],\n",
       " ['given', 'every'],\n",
       " ['every', 'green'],\n",
       " ['green', 'herb'],\n",
       " ['herb', 'for'],\n",
       " ['for', 'meat:'],\n",
       " ['meat:', 'and'],\n",
       " ['and', 'it'],\n",
       " ['it', 'was'],\n",
       " ['was', 'so.'],\n",
       " ['so.', 'And'],\n",
       " ['And', 'God'],\n",
       " ['God', 'saw'],\n",
       " ['saw', 'every'],\n",
       " ['every', 'thing'],\n",
       " ['thing', 'that'],\n",
       " ['that', 'he'],\n",
       " ['he', 'had'],\n",
       " ['had', 'made,'],\n",
       " ['made,', 'and,'],\n",
       " ['and,', 'behold,'],\n",
       " ['behold,', 'it'],\n",
       " ['it', 'was'],\n",
       " ['was', 'very'],\n",
       " ['very', 'good.'],\n",
       " ['good.', 'And'],\n",
       " ['And', 'the'],\n",
       " ['the', 'evening'],\n",
       " ['evening', 'and'],\n",
       " ['and', 'the'],\n",
       " ['the', 'morning'],\n",
       " ['morning', 'were'],\n",
       " ['were', 'the'],\n",
       " ['the', 'sixth'],\n",
       " ['sixth', 'day.']]"
      ]
     },
     "execution_count": 24,
     "metadata": {},
     "output_type": "execute_result"
    }
   ],
   "source": [
    "pairs\n"
   ]
  },
  {
   "cell_type": "code",
   "execution_count": 27,
   "metadata": {},
   "outputs": [
    {
     "data": {
      "text/plain": [
       "[(('And', 'God'), 21),\n",
       " (('of', 'the'), 15),\n",
       " (('it', 'was'), 13),\n",
       " (('and', 'the'), 12),\n",
       " (('upon', 'the'), 10),\n",
       " (('And', 'the'), 9),\n",
       " (('God', 'said,'), 9),\n",
       " (('in', 'the'), 9),\n",
       " (('the', 'earth'), 8),\n",
       " (('said,', 'Let'), 8),\n",
       " (('the', 'waters'), 8),\n",
       " (('after', 'his'), 8)]"
      ]
     },
     "execution_count": 27,
     "metadata": {},
     "output_type": "execute_result"
    }
   ],
   "source": [
    "#doesnt work because uses dict. interally, need to change to tuple\n",
    "Counter(pairs).most_common(12)"
   ]
  },
  {
   "cell_type": "markdown",
   "metadata": {},
   "source": [
    "\"bi-gram\" (paired) text analysis\n",
    "\n",
    "n-gram (order aka size)|"
   ]
  },
  {
   "cell_type": "code",
   "execution_count": 28,
   "metadata": {},
   "outputs": [],
   "source": [
    "def ngrams_for_sequence(n, seq):\n",
    "    return [tuple(seq[i:i+n]) for i in range(len(seq)-n+1)]"
   ]
  },
  {
   "cell_type": "code",
   "execution_count": 30,
   "metadata": {},
   "outputs": [
    {
     "data": {
      "text/plain": [
       "[('In', 'the'),\n",
       " ('the', 'beginning'),\n",
       " ('beginning', 'God'),\n",
       " ('God', 'created'),\n",
       " ('created', 'the'),\n",
       " ('the', 'heaven'),\n",
       " ('heaven', 'and'),\n",
       " ('and', 'the'),\n",
       " ('the', 'earth.'),\n",
       " ('earth.', 'And'),\n",
       " ('And', 'the'),\n",
       " ('the', 'earth'),\n",
       " ('earth', 'was'),\n",
       " ('was', 'without'),\n",
       " ('without', 'form,'),\n",
       " ('form,', 'and'),\n",
       " ('and', 'void;'),\n",
       " ('void;', 'and'),\n",
       " ('and', 'darkness'),\n",
       " ('darkness', 'was'),\n",
       " ('was', 'upon'),\n",
       " ('upon', 'the'),\n",
       " ('the', 'face'),\n",
       " ('face', 'of'),\n",
       " ('of', 'the'),\n",
       " ('the', 'deep.'),\n",
       " ('deep.', 'And'),\n",
       " ('And', 'the'),\n",
       " ('the', 'Spirit'),\n",
       " ('Spirit', 'of'),\n",
       " ('of', 'God'),\n",
       " ('God', 'moved'),\n",
       " ('moved', 'upon'),\n",
       " ('upon', 'the'),\n",
       " ('the', 'face'),\n",
       " ('face', 'of'),\n",
       " ('of', 'the'),\n",
       " ('the', 'waters.'),\n",
       " ('waters.', 'And'),\n",
       " ('And', 'God'),\n",
       " ('God', 'said,'),\n",
       " ('said,', 'Let'),\n",
       " ('Let', 'there'),\n",
       " ('there', 'be'),\n",
       " ('be', 'light:'),\n",
       " ('light:', 'and'),\n",
       " ('and', 'there'),\n",
       " ('there', 'was'),\n",
       " ('was', 'light.'),\n",
       " ('light.', 'And'),\n",
       " ('And', 'God'),\n",
       " ('God', 'saw'),\n",
       " ('saw', 'the'),\n",
       " ('the', 'light,'),\n",
       " ('light,', 'that'),\n",
       " ('that', 'it'),\n",
       " ('it', 'was'),\n",
       " ('was', 'good:'),\n",
       " ('good:', 'and'),\n",
       " ('and', 'God'),\n",
       " ('God', 'divided'),\n",
       " ('divided', 'the'),\n",
       " ('the', 'light'),\n",
       " ('light', 'from'),\n",
       " ('from', 'the'),\n",
       " ('the', 'darkness.'),\n",
       " ('darkness.', 'And'),\n",
       " ('And', 'God'),\n",
       " ('God', 'called'),\n",
       " ('called', 'the'),\n",
       " ('the', 'light'),\n",
       " ('light', 'Day,'),\n",
       " ('Day,', 'and'),\n",
       " ('and', 'the'),\n",
       " ('the', 'darkness'),\n",
       " ('darkness', 'he'),\n",
       " ('he', 'called'),\n",
       " ('called', 'Night.'),\n",
       " ('Night.', 'And'),\n",
       " ('And', 'the'),\n",
       " ('the', 'evening'),\n",
       " ('evening', 'and'),\n",
       " ('and', 'the'),\n",
       " ('the', 'morning'),\n",
       " ('morning', 'were'),\n",
       " ('were', 'the'),\n",
       " ('the', 'first'),\n",
       " ('first', 'day.'),\n",
       " ('day.', 'And'),\n",
       " ('And', 'God'),\n",
       " ('God', 'said,'),\n",
       " ('said,', 'Let'),\n",
       " ('Let', 'there'),\n",
       " ('there', 'be'),\n",
       " ('be', 'a'),\n",
       " ('a', 'firmament'),\n",
       " ('firmament', 'in'),\n",
       " ('in', 'the'),\n",
       " ('the', 'midst'),\n",
       " ('midst', 'of'),\n",
       " ('of', 'the'),\n",
       " ('the', 'waters,'),\n",
       " ('waters,', 'and'),\n",
       " ('and', 'let'),\n",
       " ('let', 'it'),\n",
       " ('it', 'divide'),\n",
       " ('divide', 'the'),\n",
       " ('the', 'waters'),\n",
       " ('waters', 'from'),\n",
       " ('from', 'the'),\n",
       " ('the', 'waters.'),\n",
       " ('waters.', 'And'),\n",
       " ('And', 'God'),\n",
       " ('God', 'made'),\n",
       " ('made', 'the'),\n",
       " ('the', 'firmament,'),\n",
       " ('firmament,', 'and'),\n",
       " ('and', 'divided'),\n",
       " ('divided', 'the'),\n",
       " ('the', 'waters'),\n",
       " ('waters', 'which'),\n",
       " ('which', 'were'),\n",
       " ('were', 'under'),\n",
       " ('under', 'the'),\n",
       " ('the', 'firmament'),\n",
       " ('firmament', 'from'),\n",
       " ('from', 'the'),\n",
       " ('the', 'waters'),\n",
       " ('waters', 'which'),\n",
       " ('which', 'were'),\n",
       " ('were', 'above'),\n",
       " ('above', 'the'),\n",
       " ('the', 'firmament:'),\n",
       " ('firmament:', 'and'),\n",
       " ('and', 'it'),\n",
       " ('it', 'was'),\n",
       " ('was', 'so.'),\n",
       " ('so.', 'And'),\n",
       " ('And', 'God'),\n",
       " ('God', 'called'),\n",
       " ('called', 'the'),\n",
       " ('the', 'firmament'),\n",
       " ('firmament', 'Heaven.'),\n",
       " ('Heaven.', 'And'),\n",
       " ('And', 'the'),\n",
       " ('the', 'evening'),\n",
       " ('evening', 'and'),\n",
       " ('and', 'the'),\n",
       " ('the', 'morning'),\n",
       " ('morning', 'were'),\n",
       " ('were', 'the'),\n",
       " ('the', 'second'),\n",
       " ('second', 'day.'),\n",
       " ('day.', 'And'),\n",
       " ('And', 'God'),\n",
       " ('God', 'said,'),\n",
       " ('said,', 'Let'),\n",
       " ('Let', 'the'),\n",
       " ('the', 'waters'),\n",
       " ('waters', 'under'),\n",
       " ('under', 'the'),\n",
       " ('the', 'heaven'),\n",
       " ('heaven', 'be'),\n",
       " ('be', 'gathered'),\n",
       " ('gathered', 'together'),\n",
       " ('together', 'unto'),\n",
       " ('unto', 'one'),\n",
       " ('one', 'place,'),\n",
       " ('place,', 'and'),\n",
       " ('and', 'let'),\n",
       " ('let', 'the'),\n",
       " ('the', 'dry'),\n",
       " ('dry', 'land'),\n",
       " ('land', 'appear:'),\n",
       " ('appear:', 'and'),\n",
       " ('and', 'it'),\n",
       " ('it', 'was'),\n",
       " ('was', 'so.'),\n",
       " ('so.', 'And'),\n",
       " ('And', 'God'),\n",
       " ('God', 'called'),\n",
       " ('called', 'the'),\n",
       " ('the', 'dry'),\n",
       " ('dry', 'land'),\n",
       " ('land', 'Earth;'),\n",
       " ('Earth;', 'and'),\n",
       " ('and', 'the'),\n",
       " ('the', 'gathering'),\n",
       " ('gathering', 'together'),\n",
       " ('together', 'of'),\n",
       " ('of', 'the'),\n",
       " ('the', 'waters'),\n",
       " ('waters', 'called'),\n",
       " ('called', 'he'),\n",
       " ('he', 'Seas:'),\n",
       " ('Seas:', 'and'),\n",
       " ('and', 'God'),\n",
       " ('God', 'saw'),\n",
       " ('saw', 'that'),\n",
       " ('that', 'it'),\n",
       " ('it', 'was'),\n",
       " ('was', 'good.'),\n",
       " ('good.', 'And'),\n",
       " ('And', 'God'),\n",
       " ('God', 'said,'),\n",
       " ('said,', 'Let'),\n",
       " ('Let', 'the'),\n",
       " ('the', 'earth'),\n",
       " ('earth', 'bring'),\n",
       " ('bring', 'forth'),\n",
       " ('forth', 'grass,'),\n",
       " ('grass,', 'the'),\n",
       " ('the', 'herb'),\n",
       " ('herb', 'yielding'),\n",
       " ('yielding', 'seed,'),\n",
       " ('seed,', 'and'),\n",
       " ('and', 'the'),\n",
       " ('the', 'fruit'),\n",
       " ('fruit', 'tree'),\n",
       " ('tree', 'yielding'),\n",
       " ('yielding', 'fruit'),\n",
       " ('fruit', 'after'),\n",
       " ('after', 'his'),\n",
       " ('his', 'kind,'),\n",
       " ('kind,', 'whose'),\n",
       " ('whose', 'seed'),\n",
       " ('seed', 'is'),\n",
       " ('is', 'in'),\n",
       " ('in', 'itself,'),\n",
       " ('itself,', 'upon'),\n",
       " ('upon', 'the'),\n",
       " ('the', 'earth:'),\n",
       " ('earth:', 'and'),\n",
       " ('and', 'it'),\n",
       " ('it', 'was'),\n",
       " ('was', 'so.'),\n",
       " ('so.', 'And'),\n",
       " ('And', 'the'),\n",
       " ('the', 'earth'),\n",
       " ('earth', 'brought'),\n",
       " ('brought', 'forth'),\n",
       " ('forth', 'grass,'),\n",
       " ('grass,', 'and'),\n",
       " ('and', 'herb'),\n",
       " ('herb', 'yielding'),\n",
       " ('yielding', 'seed'),\n",
       " ('seed', 'after'),\n",
       " ('after', 'his'),\n",
       " ('his', 'kind,'),\n",
       " ('kind,', 'and'),\n",
       " ('and', 'the'),\n",
       " ('the', 'tree'),\n",
       " ('tree', 'yielding'),\n",
       " ('yielding', 'fruit,'),\n",
       " ('fruit,', 'whose'),\n",
       " ('whose', 'seed'),\n",
       " ('seed', 'was'),\n",
       " ('was', 'in'),\n",
       " ('in', 'itself,'),\n",
       " ('itself,', 'after'),\n",
       " ('after', 'his'),\n",
       " ('his', 'kind:'),\n",
       " ('kind:', 'and'),\n",
       " ('and', 'God'),\n",
       " ('God', 'saw'),\n",
       " ('saw', 'that'),\n",
       " ('that', 'it'),\n",
       " ('it', 'was'),\n",
       " ('was', 'good.'),\n",
       " ('good.', 'And'),\n",
       " ('And', 'the'),\n",
       " ('the', 'evening'),\n",
       " ('evening', 'and'),\n",
       " ('and', 'the'),\n",
       " ('the', 'morning'),\n",
       " ('morning', 'were'),\n",
       " ('were', 'the'),\n",
       " ('the', 'third'),\n",
       " ('third', 'day.'),\n",
       " ('day.', 'And'),\n",
       " ('And', 'God'),\n",
       " ('God', 'said,'),\n",
       " ('said,', 'Let'),\n",
       " ('Let', 'there'),\n",
       " ('there', 'be'),\n",
       " ('be', 'lights'),\n",
       " ('lights', 'in'),\n",
       " ('in', 'the'),\n",
       " ('the', 'firmament'),\n",
       " ('firmament', 'of'),\n",
       " ('of', 'the'),\n",
       " ('the', 'heaven'),\n",
       " ('heaven', 'to'),\n",
       " ('to', 'divide'),\n",
       " ('divide', 'the'),\n",
       " ('the', 'day'),\n",
       " ('day', 'from'),\n",
       " ('from', 'the'),\n",
       " ('the', 'night;'),\n",
       " ('night;', 'and'),\n",
       " ('and', 'let'),\n",
       " ('let', 'them'),\n",
       " ('them', 'be'),\n",
       " ('be', 'for'),\n",
       " ('for', 'signs,'),\n",
       " ('signs,', 'and'),\n",
       " ('and', 'for'),\n",
       " ('for', 'seasons,'),\n",
       " ('seasons,', 'and'),\n",
       " ('and', 'for'),\n",
       " ('for', 'days,'),\n",
       " ('days,', 'and'),\n",
       " ('and', 'years:'),\n",
       " ('years:', 'And'),\n",
       " ('And', 'let'),\n",
       " ('let', 'them'),\n",
       " ('them', 'be'),\n",
       " ('be', 'for'),\n",
       " ('for', 'lights'),\n",
       " ('lights', 'in'),\n",
       " ('in', 'the'),\n",
       " ('the', 'firmament'),\n",
       " ('firmament', 'of'),\n",
       " ('of', 'the'),\n",
       " ('the', 'heaven'),\n",
       " ('heaven', 'to'),\n",
       " ('to', 'give'),\n",
       " ('give', 'light'),\n",
       " ('light', 'upon'),\n",
       " ('upon', 'the'),\n",
       " ('the', 'earth:'),\n",
       " ('earth:', 'and'),\n",
       " ('and', 'it'),\n",
       " ('it', 'was'),\n",
       " ('was', 'so.'),\n",
       " ('so.', 'And'),\n",
       " ('And', 'God'),\n",
       " ('God', 'made'),\n",
       " ('made', 'two'),\n",
       " ('two', 'great'),\n",
       " ('great', 'lights;'),\n",
       " ('lights;', 'the'),\n",
       " ('the', 'greater'),\n",
       " ('greater', 'light'),\n",
       " ('light', 'to'),\n",
       " ('to', 'rule'),\n",
       " ('rule', 'the'),\n",
       " ('the', 'day,'),\n",
       " ('day,', 'and'),\n",
       " ('and', 'the'),\n",
       " ('the', 'lesser'),\n",
       " ('lesser', 'light'),\n",
       " ('light', 'to'),\n",
       " ('to', 'rule'),\n",
       " ('rule', 'the'),\n",
       " ('the', 'night:'),\n",
       " ('night:', 'he'),\n",
       " ('he', 'made'),\n",
       " ('made', 'the'),\n",
       " ('the', 'stars'),\n",
       " ('stars', 'also.'),\n",
       " ('also.', 'And'),\n",
       " ('And', 'God'),\n",
       " ('God', 'set'),\n",
       " ('set', 'them'),\n",
       " ('them', 'in'),\n",
       " ('in', 'the'),\n",
       " ('the', 'firmament'),\n",
       " ('firmament', 'of'),\n",
       " ('of', 'the'),\n",
       " ('the', 'heaven'),\n",
       " ('heaven', 'to'),\n",
       " ('to', 'give'),\n",
       " ('give', 'light'),\n",
       " ('light', 'upon'),\n",
       " ('upon', 'the'),\n",
       " ('the', 'earth,'),\n",
       " ('earth,', 'And'),\n",
       " ('And', 'to'),\n",
       " ('to', 'rule'),\n",
       " ('rule', 'over'),\n",
       " ('over', 'the'),\n",
       " ('the', 'day'),\n",
       " ('day', 'and'),\n",
       " ('and', 'over'),\n",
       " ('over', 'the'),\n",
       " ('the', 'night,'),\n",
       " ('night,', 'and'),\n",
       " ('and', 'to'),\n",
       " ('to', 'divide'),\n",
       " ('divide', 'the'),\n",
       " ('the', 'light'),\n",
       " ('light', 'from'),\n",
       " ('from', 'the'),\n",
       " ('the', 'darkness:'),\n",
       " ('darkness:', 'and'),\n",
       " ('and', 'God'),\n",
       " ('God', 'saw'),\n",
       " ('saw', 'that'),\n",
       " ('that', 'it'),\n",
       " ('it', 'was'),\n",
       " ('was', 'good.'),\n",
       " ('good.', 'And'),\n",
       " ('And', 'the'),\n",
       " ('the', 'evening'),\n",
       " ('evening', 'and'),\n",
       " ('and', 'the'),\n",
       " ('the', 'morning'),\n",
       " ('morning', 'were'),\n",
       " ('were', 'the'),\n",
       " ('the', 'fourth'),\n",
       " ('fourth', 'day.'),\n",
       " ('day.', 'And'),\n",
       " ('And', 'God'),\n",
       " ('God', 'said,'),\n",
       " ('said,', 'Let'),\n",
       " ('Let', 'the'),\n",
       " ('the', 'waters'),\n",
       " ('waters', 'bring'),\n",
       " ('bring', 'forth'),\n",
       " ('forth', 'abundantly'),\n",
       " ('abundantly', 'the'),\n",
       " ('the', 'moving'),\n",
       " ('moving', 'creature'),\n",
       " ('creature', 'that'),\n",
       " ('that', 'hath'),\n",
       " ('hath', 'life,'),\n",
       " ('life,', 'and'),\n",
       " ('and', 'fowl'),\n",
       " ('fowl', 'that'),\n",
       " ('that', 'may'),\n",
       " ('may', 'fly'),\n",
       " ('fly', 'above'),\n",
       " ('above', 'the'),\n",
       " ('the', 'earth'),\n",
       " ('earth', 'in'),\n",
       " ('in', 'the'),\n",
       " ('the', 'open'),\n",
       " ('open', 'firmament'),\n",
       " ('firmament', 'of'),\n",
       " ('of', 'heaven.'),\n",
       " ('heaven.', 'And'),\n",
       " ('And', 'God'),\n",
       " ('God', 'created'),\n",
       " ('created', 'great'),\n",
       " ('great', 'whales,'),\n",
       " ('whales,', 'and'),\n",
       " ('and', 'every'),\n",
       " ('every', 'living'),\n",
       " ('living', 'creature'),\n",
       " ('creature', 'that'),\n",
       " ('that', 'moveth,'),\n",
       " ('moveth,', 'which'),\n",
       " ('which', 'the'),\n",
       " ('the', 'waters'),\n",
       " ('waters', 'brought'),\n",
       " ('brought', 'forth'),\n",
       " ('forth', 'abundantly,'),\n",
       " ('abundantly,', 'after'),\n",
       " ('after', 'their'),\n",
       " ('their', 'kind,'),\n",
       " ('kind,', 'and'),\n",
       " ('and', 'every'),\n",
       " ('every', 'winged'),\n",
       " ('winged', 'fowl'),\n",
       " ('fowl', 'after'),\n",
       " ('after', 'his'),\n",
       " ('his', 'kind:'),\n",
       " ('kind:', 'and'),\n",
       " ('and', 'God'),\n",
       " ('God', 'saw'),\n",
       " ('saw', 'that'),\n",
       " ('that', 'it'),\n",
       " ('it', 'was'),\n",
       " ('was', 'good.'),\n",
       " ('good.', 'And'),\n",
       " ('And', 'God'),\n",
       " ('God', 'blessed'),\n",
       " ('blessed', 'them,'),\n",
       " ('them,', 'saying,'),\n",
       " ('saying,', 'Be'),\n",
       " ('Be', 'fruitful,'),\n",
       " ('fruitful,', 'and'),\n",
       " ('and', 'multiply,'),\n",
       " ('multiply,', 'and'),\n",
       " ('and', 'fill'),\n",
       " ('fill', 'the'),\n",
       " ('the', 'waters'),\n",
       " ('waters', 'in'),\n",
       " ('in', 'the'),\n",
       " ('the', 'seas,'),\n",
       " ('seas,', 'and'),\n",
       " ('and', 'let'),\n",
       " ('let', 'fowl'),\n",
       " ('fowl', 'multiply'),\n",
       " ('multiply', 'in'),\n",
       " ('in', 'the'),\n",
       " ('the', 'earth.'),\n",
       " ('earth.', 'And'),\n",
       " ('And', 'the'),\n",
       " ('the', 'evening'),\n",
       " ('evening', 'and'),\n",
       " ('and', 'the'),\n",
       " ('the', 'morning'),\n",
       " ('morning', 'were'),\n",
       " ('were', 'the'),\n",
       " ('the', 'fifth'),\n",
       " ('fifth', 'day.'),\n",
       " ('day.', 'And'),\n",
       " ('And', 'God'),\n",
       " ('God', 'said,'),\n",
       " ('said,', 'Let'),\n",
       " ('Let', 'the'),\n",
       " ('the', 'earth'),\n",
       " ('earth', 'bring'),\n",
       " ('bring', 'forth'),\n",
       " ('forth', 'the'),\n",
       " ('the', 'living'),\n",
       " ('living', 'creature'),\n",
       " ('creature', 'after'),\n",
       " ('after', 'his'),\n",
       " ('his', 'kind,'),\n",
       " ('kind,', 'cattle,'),\n",
       " ('cattle,', 'and'),\n",
       " ('and', 'creeping'),\n",
       " ('creeping', 'thing,'),\n",
       " ('thing,', 'and'),\n",
       " ('and', 'beast'),\n",
       " ('beast', 'of'),\n",
       " ('of', 'the'),\n",
       " ('the', 'earth'),\n",
       " ('earth', 'after'),\n",
       " ('after', 'his'),\n",
       " ('his', 'kind:'),\n",
       " ('kind:', 'and'),\n",
       " ('and', 'it'),\n",
       " ('it', 'was'),\n",
       " ('was', 'so.'),\n",
       " ('so.', 'And'),\n",
       " ('And', 'God'),\n",
       " ('God', 'made'),\n",
       " ('made', 'the'),\n",
       " ('the', 'beast'),\n",
       " ('beast', 'of'),\n",
       " ('of', 'the'),\n",
       " ('the', 'earth'),\n",
       " ('earth', 'after'),\n",
       " ('after', 'his'),\n",
       " ('his', 'kind,'),\n",
       " ('kind,', 'and'),\n",
       " ('and', 'cattle'),\n",
       " ('cattle', 'after'),\n",
       " ('after', 'their'),\n",
       " ('their', 'kind,'),\n",
       " ('kind,', 'and'),\n",
       " ('and', 'every'),\n",
       " ('every', 'thing'),\n",
       " ('thing', 'that'),\n",
       " ('that', 'creepeth'),\n",
       " ('creepeth', 'upon'),\n",
       " ('upon', 'the'),\n",
       " ('the', 'earth'),\n",
       " ('earth', 'after'),\n",
       " ('after', 'his'),\n",
       " ('his', 'kind:'),\n",
       " ('kind:', 'and'),\n",
       " ('and', 'God'),\n",
       " ('God', 'saw'),\n",
       " ('saw', 'that'),\n",
       " ('that', 'it'),\n",
       " ('it', 'was'),\n",
       " ('was', 'good.'),\n",
       " ('good.', 'And'),\n",
       " ('And', 'God'),\n",
       " ('God', 'said,'),\n",
       " ('said,', 'Let'),\n",
       " ('Let', 'us'),\n",
       " ('us', 'make'),\n",
       " ('make', 'man'),\n",
       " ('man', 'in'),\n",
       " ('in', 'our'),\n",
       " ('our', 'image,'),\n",
       " ('image,', 'after'),\n",
       " ('after', 'our'),\n",
       " ('our', 'likeness:'),\n",
       " ('likeness:', 'and'),\n",
       " ('and', 'let'),\n",
       " ('let', 'them'),\n",
       " ('them', 'have'),\n",
       " ('have', 'dominion'),\n",
       " ('dominion', 'over'),\n",
       " ('over', 'the'),\n",
       " ('the', 'fish'),\n",
       " ('fish', 'of'),\n",
       " ('of', 'the'),\n",
       " ('the', 'sea,'),\n",
       " ('sea,', 'and'),\n",
       " ('and', 'over'),\n",
       " ('over', 'the'),\n",
       " ('the', 'fowl'),\n",
       " ('fowl', 'of'),\n",
       " ('of', 'the'),\n",
       " ('the', 'air,'),\n",
       " ('air,', 'and'),\n",
       " ('and', 'over'),\n",
       " ('over', 'the'),\n",
       " ('the', 'cattle,'),\n",
       " ('cattle,', 'and'),\n",
       " ('and', 'over'),\n",
       " ('over', 'all'),\n",
       " ('all', 'the'),\n",
       " ('the', 'earth,'),\n",
       " ('earth,', 'and'),\n",
       " ('and', 'over'),\n",
       " ('over', 'every'),\n",
       " ('every', 'creeping'),\n",
       " ('creeping', 'thing'),\n",
       " ('thing', 'that'),\n",
       " ('that', 'creepeth'),\n",
       " ('creepeth', 'upon'),\n",
       " ('upon', 'the'),\n",
       " ('the', 'earth.'),\n",
       " ('earth.', 'So'),\n",
       " ('So', 'God'),\n",
       " ('God', 'created'),\n",
       " ('created', 'man'),\n",
       " ('man', 'in'),\n",
       " ('in', 'his'),\n",
       " ('his', 'own'),\n",
       " ('own', 'image,'),\n",
       " ('image,', 'in'),\n",
       " ('in', 'the'),\n",
       " ('the', 'image'),\n",
       " ('image', 'of'),\n",
       " ('of', 'God'),\n",
       " ('God', 'created'),\n",
       " ('created', 'he'),\n",
       " ('he', 'him;'),\n",
       " ('him;', 'male'),\n",
       " ('male', 'and'),\n",
       " ('and', 'female'),\n",
       " ('female', 'created'),\n",
       " ('created', 'he'),\n",
       " ('he', 'them.'),\n",
       " ('them.', 'And'),\n",
       " ('And', 'God'),\n",
       " ('God', 'blessed'),\n",
       " ('blessed', 'them,'),\n",
       " ('them,', 'and'),\n",
       " ('and', 'God'),\n",
       " ('God', 'said'),\n",
       " ('said', 'unto'),\n",
       " ('unto', 'them,'),\n",
       " ('them,', 'Be'),\n",
       " ('Be', 'fruitful,'),\n",
       " ('fruitful,', 'and'),\n",
       " ('and', 'multiply,'),\n",
       " ('multiply,', 'and'),\n",
       " ('and', 'replenish'),\n",
       " ('replenish', 'the'),\n",
       " ('the', 'earth,'),\n",
       " ('earth,', 'and'),\n",
       " ('and', 'subdue'),\n",
       " ('subdue', 'it:'),\n",
       " ('it:', 'and'),\n",
       " ('and', 'have'),\n",
       " ('have', 'dominion'),\n",
       " ('dominion', 'over'),\n",
       " ('over', 'the'),\n",
       " ('the', 'fish'),\n",
       " ('fish', 'of'),\n",
       " ('of', 'the'),\n",
       " ('the', 'sea,'),\n",
       " ('sea,', 'and'),\n",
       " ('and', 'over'),\n",
       " ('over', 'the'),\n",
       " ('the', 'fowl'),\n",
       " ('fowl', 'of'),\n",
       " ('of', 'the'),\n",
       " ('the', 'air,'),\n",
       " ('air,', 'and'),\n",
       " ('and', 'over'),\n",
       " ('over', 'every'),\n",
       " ('every', 'living'),\n",
       " ('living', 'thing'),\n",
       " ('thing', 'that'),\n",
       " ('that', 'moveth'),\n",
       " ('moveth', 'upon'),\n",
       " ('upon', 'the'),\n",
       " ('the', 'earth.'),\n",
       " ('earth.', 'And'),\n",
       " ('And', 'God'),\n",
       " ('God', 'said,'),\n",
       " ('said,', 'Behold,'),\n",
       " ('Behold,', 'I'),\n",
       " ('I', 'have'),\n",
       " ('have', 'given'),\n",
       " ('given', 'you'),\n",
       " ('you', 'every'),\n",
       " ('every', 'herb'),\n",
       " ('herb', 'bearing'),\n",
       " ('bearing', 'seed,'),\n",
       " ('seed,', 'which'),\n",
       " ('which', 'is'),\n",
       " ('is', 'upon'),\n",
       " ('upon', 'the'),\n",
       " ('the', 'face'),\n",
       " ('face', 'of'),\n",
       " ('of', 'all'),\n",
       " ('all', 'the'),\n",
       " ('the', 'earth,'),\n",
       " ('earth,', 'and'),\n",
       " ('and', 'every'),\n",
       " ('every', 'tree,'),\n",
       " ('tree,', 'in'),\n",
       " ('in', 'the'),\n",
       " ('the', 'which'),\n",
       " ('which', 'is'),\n",
       " ('is', 'the'),\n",
       " ('the', 'fruit'),\n",
       " ('fruit', 'of'),\n",
       " ('of', 'a'),\n",
       " ('a', 'tree'),\n",
       " ('tree', 'yielding'),\n",
       " ('yielding', 'seed;'),\n",
       " ('seed;', 'to'),\n",
       " ('to', 'you'),\n",
       " ('you', 'it'),\n",
       " ('it', 'shall'),\n",
       " ('shall', 'be'),\n",
       " ('be', 'for'),\n",
       " ('for', 'meat.'),\n",
       " ('meat.', 'And'),\n",
       " ('And', 'to'),\n",
       " ('to', 'every'),\n",
       " ('every', 'beast'),\n",
       " ('beast', 'of'),\n",
       " ('of', 'the'),\n",
       " ('the', 'earth,'),\n",
       " ('earth,', 'and'),\n",
       " ('and', 'to'),\n",
       " ('to', 'every'),\n",
       " ('every', 'fowl'),\n",
       " ('fowl', 'of'),\n",
       " ('of', 'the'),\n",
       " ('the', 'air,'),\n",
       " ('air,', 'and'),\n",
       " ('and', 'to'),\n",
       " ('to', 'every'),\n",
       " ('every', 'thing'),\n",
       " ('thing', 'that'),\n",
       " ('that', 'creepeth'),\n",
       " ('creepeth', 'upon'),\n",
       " ('upon', 'the'),\n",
       " ('the', 'earth,'),\n",
       " ('earth,', 'wherein'),\n",
       " ('wherein', 'there'),\n",
       " ('there', 'is'),\n",
       " ('is', 'life,'),\n",
       " ('life,', 'I'),\n",
       " ('I', 'have'),\n",
       " ('have', 'given'),\n",
       " ('given', 'every'),\n",
       " ('every', 'green'),\n",
       " ('green', 'herb'),\n",
       " ('herb', 'for'),\n",
       " ('for', 'meat:'),\n",
       " ('meat:', 'and'),\n",
       " ('and', 'it'),\n",
       " ('it', 'was'),\n",
       " ('was', 'so.'),\n",
       " ('so.', 'And'),\n",
       " ('And', 'God'),\n",
       " ('God', 'saw'),\n",
       " ('saw', 'every'),\n",
       " ('every', 'thing'),\n",
       " ('thing', 'that'),\n",
       " ('that', 'he'),\n",
       " ('he', 'had'),\n",
       " ('had', 'made,'),\n",
       " ('made,', 'and,'),\n",
       " ('and,', 'behold,'),\n",
       " ('behold,', 'it'),\n",
       " ('it', 'was'),\n",
       " ('was', 'very'),\n",
       " ('very', 'good.'),\n",
       " ('good.', 'And'),\n",
       " ('And', 'the'),\n",
       " ('the', 'evening'),\n",
       " ('evening', 'and'),\n",
       " ('and', 'the'),\n",
       " ('the', 'morning'),\n",
       " ('morning', 'were'),\n",
       " ('were', 'the'),\n",
       " ('the', 'sixth'),\n",
       " ('sixth', 'day.')]"
      ]
     },
     "execution_count": 30,
     "metadata": {},
     "output_type": "execute_result"
    }
   ],
   "source": [
    "ngrams_for_sequence(2, text)"
   ]
  },
  {
   "cell_type": "code",
   "execution_count": 34,
   "metadata": {},
   "outputs": [],
   "source": [
    "bible_grams = ngrams_for_sequence(5, text)"
   ]
  },
  {
   "cell_type": "code",
   "execution_count": 35,
   "metadata": {},
   "outputs": [
    {
     "data": {
      "text/plain": [
       "[(('And', 'the', 'evening', 'and', 'the'), 6),\n",
       " (('the', 'evening', 'and', 'the', 'morning'), 6),\n",
       " (('evening', 'and', 'the', 'morning', 'were'), 6),\n",
       " (('and', 'the', 'morning', 'were', 'the'), 6),\n",
       " (('and', 'it', 'was', 'so.', 'And'), 6),\n",
       " (('day.', 'And', 'God', 'said,', 'Let'), 5),\n",
       " (('it', 'was', 'so.', 'And', 'God'), 5),\n",
       " (('and', 'God', 'saw', 'that', 'it'), 5),\n",
       " (('God', 'saw', 'that', 'it', 'was'), 5),\n",
       " (('saw', 'that', 'it', 'was', 'good.'), 5)]"
      ]
     },
     "execution_count": 35,
     "metadata": {},
     "output_type": "execute_result"
    }
   ],
   "source": [
    "Counter(bible_grams).most_common(10)"
   ]
  },
  {
   "cell_type": "code",
   "execution_count": 36,
   "metadata": {},
   "outputs": [
    {
     "data": {
      "text/plain": [
       "[(('And', 'God', 'said,', 'Let'), 8),\n",
       " (('And', 'the', 'evening', 'and'), 6),\n",
       " (('the', 'evening', 'and', 'the'), 6)]"
      ]
     },
     "execution_count": 36,
     "metadata": {},
     "output_type": "execute_result"
    }
   ],
   "source": [
    "Counter(ngrams_for_sequence(4, text)).most_common(3)"
   ]
  },
  {
   "cell_type": "code",
   "execution_count": 37,
   "metadata": {},
   "outputs": [],
   "source": [
    "frost_text = open(\"txt/frost.txt\").read()"
   ]
  },
  {
   "cell_type": "code",
   "execution_count": 38,
   "metadata": {},
   "outputs": [
    {
     "data": {
      "text/plain": [
       "[((' ', 't', 'h', 'e'), 10),\n",
       " (('t', 'h', 'e', ' '), 8),\n",
       " (('\\n', 'A', 'n', 'd'), 6),\n",
       " (('A', 'n', 'd', ' '), 6),\n",
       " ((' ', 'a', 's', ' '), 5),\n",
       " (('i', 'n', 'g', ' '), 5),\n",
       " (('a', 'd', 's', ' '), 3),\n",
       " (('e', 'd', ' ', 'i'), 3),\n",
       " ((' ', 'i', 'n', ' '), 3),\n",
       " ((',', '\\n', 'A', 'n'), 3),\n",
       " (('o', 'u', 'l', 'd'), 3),\n",
       " ((' ', 't', 'r', 'a'), 3)]"
      ]
     },
     "execution_count": 38,
     "metadata": {},
     "output_type": "execute_result"
    }
   ],
   "source": [
    "Counter(ngrams_for_sequence(4, frost_text)).most_common(12)"
   ]
  },
  {
   "cell_type": "markdown",
   "metadata": {},
   "source": [
    "level // unit : how you break up the ngram\n",
    "\n",
    "words vs letters, or bars vs notes"
   ]
  },
  {
   "cell_type": "markdown",
   "metadata": {},
   "source": [
    "markov model just relates n-gram to what comes next\n",
    "order 2 char level:\n",
    "\n",
    "MARKOV MODEL :\n",
    "\n",
    "\"condescendences\"\n",
    "    co : n\n",
    "    on : d\n",
    "    nd : e, e\n",
    "    de : s, n\n",
    "    es : c, EOW (' ')\n",
    "    sc : e\n",
    "    ce : n, s\n",
    "    en : d, c\n",
    "    nc : e\n",
    "    \n",
    " layers of n-gram markov models can be weighted statistically\n",
    " -- common in text classification\n",
    " \n",
    " can be used in other models, not just text \n",
    " -- weather prediction\n",
    " \n",
    " smaller n-grams produce more variety but are less coherent\n",
    " larger = reversed\n",
    " \n",
    " (RNN can n=infinite...)\n",
    " \n",
    " Markov Chain Generation\n",
    " \n",
    " \"condencences\"\n",
    " \n",
    " could be done with images? (Itay) -- would need to flatten to 1-D ('a string')\n",
    " \n",
    "   list of all letters and their probabilities\n",
    "   vs\n",
    "   list of all possible words and their probabilities (RNN)\n",
    "   \n",
    " ## markovify\n"
   ]
  },
  {
   "cell_type": "code",
   "execution_count": 39,
   "metadata": {},
   "outputs": [
    {
     "name": "stdout",
     "output_type": "stream",
     "text": [
      "Collecting markovify\n",
      "  Downloading https://files.pythonhosted.org/packages/94/b2/b4ce1e461bb3482b1fd63328a2097aed5917cdfa0dbfe9492a84ea46e2ab/markovify-0.7.1.tar.gz\n",
      "Collecting unidecode (from markovify)\n",
      "\u001b[?25l  Downloading https://files.pythonhosted.org/packages/31/39/53096f9217b057cb049fe872b7fc7ce799a1a89b76cf917d9639e7a558b5/Unidecode-1.0.23-py2.py3-none-any.whl (237kB)\n",
      "\u001b[K    100% |████████████████████████████████| 245kB 4.8MB/s ta 0:00:011\n",
      "\u001b[?25hBuilding wheels for collected packages: markovify\n",
      "  Running setup.py bdist_wheel for markovify ... \u001b[?25ldone\n",
      "\u001b[?25h  Stored in directory: /home/dangalf/.cache/pip/wheels/66/fe/5b/07257dd2401d9835447a0f0223f967c998c153404d32612253\n",
      "Successfully built markovify\n",
      "Installing collected packages: unidecode, markovify\n",
      "Successfully installed markovify-0.7.1 unidecode-1.0.23\n"
     ]
    }
   ],
   "source": [
    "!pip install markovify"
   ]
  },
  {
   "cell_type": "code",
   "execution_count": 41,
   "metadata": {},
   "outputs": [],
   "source": [
    "#by default works just with words\n",
    "\n",
    "import markovify"
   ]
  },
  {
   "cell_type": "code",
   "execution_count": 43,
   "metadata": {},
   "outputs": [],
   "source": [
    "text_a = open(\"txt/frankenstein.txt\").read()\n",
    "\n",
    "text_b = open(\"txt/austen.txt\").read()"
   ]
  },
  {
   "cell_type": "code",
   "execution_count": 44,
   "metadata": {},
   "outputs": [],
   "source": [
    "generator_a = markovify.Text(text_a, state_size=3)"
   ]
  },
  {
   "cell_type": "code",
   "execution_count": 47,
   "metadata": {},
   "outputs": [
    {
     "data": {
      "text/plain": [
       "'M. Krempe was a little raised, so that it was the outward substance of things or the inner spirit of nature and show how she works in her hiding-places.'"
      ]
     },
     "execution_count": 47,
     "metadata": {},
     "output_type": "execute_result"
    }
   ],
   "source": [
    "generator_a.make_sentence()"
   ]
  },
  {
   "cell_type": "code",
   "execution_count": 48,
   "metadata": {},
   "outputs": [
    {
     "data": {
      "text/plain": [
       "'A change indeed had taken place in our little household.'"
      ]
     },
     "execution_count": 48,
     "metadata": {},
     "output_type": "execute_result"
    }
   ],
   "source": [
    "generator_a.make_short_sentence(60)"
   ]
  },
  {
   "cell_type": "markdown",
   "metadata": {},
   "source": [
    "## textgenrnn\n",
    "\n",
    "temperature"
   ]
  },
  {
   "cell_type": "code",
   "execution_count": null,
   "metadata": {},
   "outputs": [
    {
     "name": "stdout",
     "output_type": "stream",
     "text": [
      "Collecting package metadata: done\n",
      "Solving environment: \\ "
     ]
    }
   ],
   "source": [
    "#have to install tensorflow first\n",
    "!conda install -y keras"
   ]
  },
  {
   "cell_type": "code",
   "execution_count": null,
   "metadata": {},
   "outputs": [],
   "source": [
    "!pip install textgenrnn"
   ]
  }
 ],
 "metadata": {
  "kernelspec": {
   "display_name": "Python 3",
   "language": "python",
   "name": "python3"
  },
  "language_info": {
   "codemirror_mode": {
    "name": "ipython",
    "version": 3
   },
   "file_extension": ".py",
   "mimetype": "text/x-python",
   "name": "python",
   "nbconvert_exporter": "python",
   "pygments_lexer": "ipython3",
   "version": "3.7.1"
  }
 },
 "nbformat": 4,
 "nbformat_minor": 2
}
