{
 "cells": [
  {
   "cell_type": "markdown",
   "metadata": {},
   "source": [
    "# A Gate\n",
    "\n",
    "\n",
    "## New conversations on grief and mindfulness, using Marie Howe's \"What The Living Do\"\n",
    "\n",
    "\n",
    "### August Luhrs, RWET Assignment 3\n"
   ]
  },
  {
   "cell_type": "markdown",
   "metadata": {},
   "source": [
    "input lists selected from the following poems:\n",
    "* For Three Days\n",
    "* Just Now\n",
    "* A Certain Light\n",
    "* How Some of it Happened\n",
    "* The Last Time\n",
    "* Without Music\n",
    "* Pain\n",
    "* Faulkner\n",
    "* The Promise\n",
    "* The Cold Outside\n",
    "* The Grave\n",
    "* The Gate\n",
    "* Late Morning\n",
    "* Wanting a Child\n",
    "* Tulips\n",
    "* Memorial\n",
    "* What the Living Do"
   ]
  },
  {
   "cell_type": "markdown",
   "metadata": {},
   "source": [
    "### using randomness to explore the nonsensical nature of grief and life"
   ]
  },
  {
   "cell_type": "code",
   "execution_count": 2,
   "metadata": {},
   "outputs": [],
   "source": [
    "intros = [\n",
    "    'For three days now I\\'ve been trying to think of another word for\\n   gratitude\\nbecause my brother could have died and didn\\'t,',\n",
    "    'My brother John opens his eyes when he hears the door click,',\n",
    "    'He had taken the right pills the night before.\\nWe had counted them out',\n",
    "    'My brother promised me he wouldn\\'t die after our father died.',\n",
    "    'The last time we had dinner together in a restaurant\\nwith white tablecloths, he leaned forward\\n\\nand took my two hands in his hands and said,\\nI\\'m going to die soon. I want you to know that.',\n",
    "    'He rose on the surface of it like the layer of water on top of a wave\\nthatwon\\'t break -- you\\'ve seen those swells --',\n",
    "    'When it got very bad, he\\'d say, Tell me a story,',\n",
    "    'In the dream I had when he came back not sick\\nbut whole, and wearing his winter coat,\\n\\nhe looked at me as though he couldn\\'t speak, as if\\nthere were a law against it, a membrane he couldn\\'t break.',\n",
    "    'That first summer I lay on the grass above his grave as if it were\\na narrow bed, just my size, and --\\n\\nlying on the ground above my brother\\'s body like a log\\nfloating on lake water above its own shadow.',\n",
    "    'I had no idea that the gate I would step through\\nto finally enter this world\\n\\nwould be the space my brother\\'s body made.'\n",
    "    \n",
    "]"
   ]
  },
  {
   "cell_type": "code",
   "execution_count": 3,
   "metadata": {},
   "outputs": [],
   "source": [
    "iSaids = [\n",
    "    'Who is the president?',\n",
    "    'Look at you',\n",
    "    'Handsome',\n",
    "    'I think I do know.',\n",
    "    'I do.',\n",
    "    'Know that you\\'re going to die.',\n",
    "    'What\\'s it about?',\n",
    "    'OK',\n",
    "    'I\\'m reading all this Buddhist stuff,\\n\\nand listen, we don\\'t die when we die. Death is an event,\\na threshold we pass through. We go on and on\\n\\nand into light forever.',\n",
    "    'You know how much you love Joe?\\nThat\\'s how much I love you.',\n",
    "    'Yes',\n",
    "    'You know it\\'s true',\n",
    "    'Come into the living room and look at these tulips.',\n",
    "    'I don\\'t know the meaning of my own life anymore,'\n",
    "    \n",
    "]"
   ]
  },
  {
   "cell_type": "code",
   "execution_count": 4,
   "metadata": {},
   "outputs": [],
   "source": [
    "heSaids = [\n",
    "    'What a mess you\\'ve left me',\n",
    "    'mumbling, I like the morphine',\n",
    "    'Look at you two',\n",
    "    'How do I look?',\n",
    "    'By nine, I promise',\n",
    "    'You know, I always knew I would die young. And then I got sober\\n\\nand I thought, OK, I\\'m not. I\\'m going to see thirty and live to be an old\\n   man.\\nAnd now it turns out that I am going to die. Isn\\'t that funny?',\n",
    "    'Here, sit closer to the bed\\nso I can see you.',\n",
    "    'I\\'m going to die soon. I want you to know that.',\n",
    "    'What surprises me is that you don\\'t',\n",
    "    'What?',\n",
    "    'No, I mean know that you are.',\n",
    "    'Tell me a story,',\n",
    "    'We got through that one, didn\\'t we?',\n",
    "    'Marie,\\nyou know how we\\'ve been waiting for the big pain to come?\\n\\nI think it\\'s here. I think this is it.\\nI think it\\'s been here all along.',\n",
    "    'You\\'re an English teacher,',\n",
    "    'You know what they want.',\n",
    "    'Soon I will die,',\n",
    "    'This is what you have been waiting for',\n",
    "    'This -- holding up my cheese and mustard sandwich.',\n",
    "    'This, sort of looking around.',\n",
    "    'No',\n",
    "    'Maybe you better start looking for\\nsomebody else.',\n",
    "    'You\\'ve forgotten, but you\\'ll remember again.',\n",
    "    'I\\'m hungry. What do you want to eat?'\n",
    "    \n",
    "]"
   ]
  },
  {
   "cell_type": "code",
   "execution_count": 5,
   "metadata": {},
   "outputs": [],
   "source": [
    "heStarts = [\n",
    "    'When it got very bad, he\\'d say,',\n",
    "    'A day came when he said,',\n",
    "    'He leaned forward\\n\\nand took my two hands in his hands and said,',\n",
    "    'He used to say to me,',\n",
    "    'He closed his eyes for a minute.\\n\\nWhen he opened them he said,'\n",
    "    \n",
    "]"
   ]
  },
  {
   "cell_type": "code",
   "execution_count": 6,
   "metadata": {},
   "outputs": [],
   "source": [
    "responses = [\n",
    "    'And I hated him for saying it because it was true and seemed to tilt it,',\n",
    "    'And then it got better, and then it got worse.',\n",
    "    'And John is smiling, almost asleep again.',\n",
    "    'He was breathing maybe twice a minute, and we couldn\\'t wake him,',\n",
    "    'And he couldn\\'t answer',\n",
    "    '-- One day it happens: what you have feared all your life,\\nthe unendurably specific, the exact thing. No matter what you say or do.',\n",
    "    'And he looked down, and then back up at me. It was the look we\\'d pass\\n\\nacross the kitchen table when Dad was drunk again and dangerous,\\nthe level look that wants to tell you something,\\n\\nin a crowded room, something important, and can\\'t.',\n",
    "    'And the green shade flapped against the window screen,\\n\\nas if what was out there inhaled and exhaled,',\n",
    "    '-- that was during the heat wave that summer:',\n",
    "    'Soon I will die, he said, and then\\nwhat everyone had been so afraid of for so long will have finally happened,\\n\\nand then everyone can rest.',\n",
    "    'He was a little taller than me: a young man\\n\\nbut grown, himself by then,\\ndone at twenty-eight, having folded every sheet,\\n\\nrinsed every glass he would ever rinse under the cold\\nand running water.',\n",
    "    'And he closed his eyes for a minute.',\n",
    "    'and we sat like that for a few minutes, without saying much of anything,\\nmy cheek pressed lightly\\n\\nagainst his cheek, and my brother John was dead.',\n",
    "    'This is the everyday we\\nspoke of.',\n",
    "    'I am living, I remember you.'\n",
    "    \n",
    "]"
   ]
  },
  {
   "cell_type": "code",
   "execution_count": 7,
   "metadata": {},
   "outputs": [],
   "source": [
    "outros = [\n",
    "    'Thinking meant not thinking. It meant imagining my\\n   brother\\nsurrounded by ',\n",
    "    'In one of those still blue moments\\n\\nthat were a kind of paradise, he finally opened his eyes wide,\\nand the room filled with ',\n",
    "    'Most of it happened without music,\\n',\n",
    "    'Suddenly close and distinct, it seemed finished, as if time were a \\n   room\\n\\nI could gaze clear across -- ',\n",
    "    'as I remember, ',\n",
    "    'Snowy evening in a dark snowy winter:\\n\\nPlows soon, their deep and decent rumbling. Then more night,\\n',\n",
    "    'It\\'s winter again: ',\n",
    "    'I\\'ve been thinking: This is what the living do. And yesterday, ',\n",
    "    'This is it.\\n',\n",
    "    'We want the spring to come and the winter to\\n   pass. We want\\nwhoever to call or not call, ',\n",
    "    'But there are moments, walking, when I catch a glimpse of myself in the\\n   window glass,\\nsay, the window of the corner video store, and I\\'m gripped by a cherishing\\n   so deep\\n\\nfor '\n",
    "    \n",
    "]\n"
   ]
  },
  {
   "cell_type": "code",
   "execution_count": 8,
   "metadata": {},
   "outputs": [],
   "source": [
    "#no punct at end so that I can link with commas and end with period\n",
    "flaxSeeds = [\n",
    "    'armfuls of broken magnolia branches in full blossom',\n",
    "    'the morphine and prednisone and amitriptyline\\n\\nand Florinef and vancomycin and Halcion',\n",
    "    'a thin string of blue spit',\n",
    "    'a certain light we thought we\\'d never see again',\n",
    "    'the other eye, still blue and wide open',\n",
    "    'the clink of a spoon from the kitchen',\n",
    "    '\\nsomeone talking, Silence',\n",
    "    '\\nSomebody sleeping, Someone watching somebody sleep',\n",
    "    'peanut butter sandwiches',\n",
    "    'his winter coat',\n",
    "    'the orange lilies bending toward the house beside the driveway',\n",
    "    'the heater in his car broken on, and blasting',\n",
    "    'the men\\'s big boots, the women\\'s smaller ones',\n",
    "    'the frozen ground',\n",
    "    'a little breeze through the open window',\n",
    "    'James\\'s warm cheek',\n",
    "    'a brightness in the windy trees',\n",
    "    'crumbs and dishes\\n   still\\n\\n on the table',\n",
    "    'a small glass bottle of milk',\n",
    "    'an open jar of raspberry jam',\n",
    "    'daffodils in the glass vase on the mantel over the fireplace that doesn\\'t work',\n",
    "    'the radiator\\'s squeak and whine',\n",
    "    'in the morning, somebody shoveling',\n",
    "    'dropping a bag of groceries in the street,\\n  the bag breaking',\n",
    "    'spilling my coffee down my\\n   wrist and sleeve',\n",
    "    'parking, slamming the car door shut in the cold',\n",
    "    'what you called that yearning',\n",
    "    'what you finally gave up',\n",
    "    'more and more and then more of it',\n",
    "    'a letter',\n",
    "    'a kiss',\n",
    "    'my own blowing hair, chapped face, and unbuttoned coat'     \n",
    "]"
   ]
  },
  {
   "cell_type": "code",
   "execution_count": 9,
   "metadata": {},
   "outputs": [],
   "source": [
    "import random\n",
    "import textwrap"
   ]
  },
  {
   "cell_type": "code",
   "execution_count": 25,
   "metadata": {},
   "outputs": [
    {
     "name": "stdout",
     "output_type": "stream",
     "text": [
      "In the dream I had when he came back not sick\n",
      "but whole, and wearing his winter coat,\n",
      "\n",
      "he looked at me as though he couldn't speak, as if\n",
      "there were a law against it, a membrane he couldn't break.Look at youYou've forgotten, but you'll remember again.He used to say to me,-- One day it happens: what you have feared all your life,\n",
      "the unendurably specific, the exact thing. No matter what you say or do.I've been thinking: This is what the living do. And yesterday,what you called *that yearning\n"
     ]
    }
   ],
   "source": [
    "#test\n",
    "print(random.choice(intros)+random.choice(iSaids)+random.choice(heSaids)+random.choice(heStarts)+random.choice(responses)+random.choice(outros)+random.choice(flaxSeeds))"
   ]
  },
  {
   "cell_type": "code",
   "execution_count": 46,
   "metadata": {},
   "outputs": [
    {
     "name": "stdout",
     "output_type": "stream",
     "text": [
      "The last time we had dinner together in a restaurant\n",
      "with white tablecloths, he leaned forward\n",
      "\n",
      "and took my two hands in his hands and said,\n",
      "I'm going to die soon. I want you to know that.\n",
      "\n",
      "He said, By nine, I promise\n",
      "And I said, You know how much you love Joe?\n",
      "That's how much I love you.\n",
      "\n",
      "He closed his eyes for a minute.\n",
      "\n",
      "When he opened them he said, How do I look?\n",
      "And I said, I don't know the meaning of my own life anymore,\n",
      "\n",
      "-- that was during the heat wave that summer:\n",
      "\n",
      "Suddenly close and distinct, it seemed finished, as if time were a \n",
      "   room\n",
      "\n",
      "I could gaze clear across -- James's warm cheek,, the frozen ground, armfuls of broken magnolia branches in full blossom.\n"
     ]
    }
   ],
   "source": [
    "poem = random.choice(intros) + \"\\n\\n\"\n",
    "poem += \"He said, \" + random.choice(heSaids) + \"\\n\"\n",
    "poem += \"And I said, \" + random.choice(iSaids) + \"\\n\\n\"\n",
    "poem += random.choice(heStarts) + \" \" + random.choice(heSaids) + \"\\n\"\n",
    "poem += \"And I said, \" + random.choice(iSaids)+ \"\\n\\n\"\n",
    "poem += random.choice(responses) + \"\\n\\n\"\n",
    "poem += random.choice(outros)+ \" \" + random.choice(flaxSeeds) + \", \" + random.choice(flaxSeeds) + \", \" + random.choice(flaxSeeds) + \".\"\n",
    "print(poem)"
   ]
  },
  {
   "cell_type": "code",
   "execution_count": 50,
   "metadata": {},
   "outputs": [
    {
     "name": "stdout",
     "output_type": "stream",
     "text": [
      "He rose on the surface of it like the layer of water on top of a wave\n",
      "thatwon't break -- you've seen those swells --\n",
      "\n",
      "He said, Soon I will die,\n",
      "And I said, I don't know the meaning of my own life anymore,\n",
      "\n",
      "He used to say to me, We got through that one, didn't we?\n",
      "And I said, Look at you\n",
      "\n",
      "and we sat like that for a few minutes, without saying much of anything,\n",
      "my cheek pressed lightly\n",
      "\n",
      "against his cheek, and my brother John was dead.\n",
      "\n",
      "Thinking meant not thinking. It meant imagining my\n",
      "   brother\n",
      "surrounded by  the frozen ground, the orange lilies bending toward the house beside the driveway, a small glass bottle of milk.\n"
     ]
    }
   ],
   "source": [
    "poem = random.choice(intros) + \"\\n\\n\"\n",
    "poem += \"He said, \" + random.choice(heSaids) + \"\\n\"\n",
    "poem += \"And I said, \" + random.choice(iSaids) + \"\\n\\n\"\n",
    "poem += random.choice(heStarts) + \" \" + random.choice(heSaids) + \"\\n\"\n",
    "poem += \"And I said, \" + random.choice(iSaids)+ \"\\n\\n\"\n",
    "poem += random.choice(responses) + \"\\n\\n\"\n",
    "poem += random.choice(outros)+ \" \" + random.choice(flaxSeeds) + \", \" + random.choice(flaxSeeds) + \", \" + random.choice(flaxSeeds) + \".\"\n",
    "print(poem)"
   ]
  },
  {
   "cell_type": "code",
   "execution_count": 56,
   "metadata": {},
   "outputs": [
    {
     "name": "stdout",
     "output_type": "stream",
     "text": [
      "He had taken the right pills the night before. We had\n",
      "counted them out  He said, Here, sit closer to the bed so I\n",
      "can see you. And I said, Look at you  He leaned forward  and\n",
      "took my two hands in his hands and said, We got through that\n",
      "one, didn't we? And I said, Come into the living room and\n",
      "look at these tulips.  And the green shade flapped agasint\n",
      "the window screen,  as if what was out there inhaled and\n",
      "exhaled,  Thinking meant not thinking. It meant imagining my\n",
      "brother surrounded by the heater in his car broken on, and\n",
      "blasting, the clink of a spoon from the kitchen, peanut\n",
      "butter sandwiches.\n"
     ]
    }
   ],
   "source": [
    "poem = random.choice(intros) + \"\\n\\n\"\n",
    "poem += \"He said, \" + random.choice(heSaids) + \"\\n\"\n",
    "poem += \"And I said, \" + random.choice(iSaids) + \"\\n\\n\"\n",
    "poem += random.choice(heStarts) + \" \" + random.choice(heSaids) + \"\\n\"\n",
    "poem += \"And I said, \" + random.choice(iSaids)+ \"\\n\\n\"\n",
    "poem += random.choice(responses) + \"\\n\\n\"\n",
    "poem += random.choice(outros) + random.choice(flaxSeeds) + \", \" + random.choice(flaxSeeds) + \", \" + random.choice(flaxSeeds) + \".\"\n",
    "poemFormatted = textwrap.fill(poem, 60)\n",
    "print(poemFormatted)"
   ]
  },
  {
   "cell_type": "code",
   "execution_count": 64,
   "metadata": {},
   "outputs": [
    {
     "name": "stdout",
     "output_type": "stream",
     "text": [
      "In the dream I had when he came back not sick\n",
      "but whole, and wearing his winter coat,\n",
      "\n",
      "he looked at me as though he couldn't speak, as if\n",
      "there were a law against it, a membrane he couldn't break.\n",
      "\n",
      "He said, This -- holding up my cheese and mustard sandwich.\n",
      "And I said, Yes\n",
      "\n",
      "When it got very bad, he'd say, I'm going to die soon. I want you to know that.\n",
      "And I said, Who is the president?\n",
      "\n",
      "And he looked down, and then back up at me. It was the look we'd pass\n",
      "\n",
      "across the kitchen table when Dad was drunk again and dangerous,\n",
      "the level look that wants to tell you something,\n",
      "\n",
      "in a crowded room, something important, and can't.\n",
      "\n",
      "In one of those still blue moments\n",
      "\n",
      "that were a kind of paradise, he finally opened his eyes wide,\n",
      "and the room filled with the other eye, still blue and wide open, crumbs and dishes\n",
      "   still\n",
      "\n",
      " on the table, \n",
      "Somebody sleeping. Someone watching somebody sleep.\n",
      ".\n"
     ]
    }
   ],
   "source": [
    "poem = random.choice(intros) + \"\\n\\n\"\n",
    "poem += \"He said, \" + random.choice(heSaids) + \"\\n\"\n",
    "poem += \"And I said, \" + random.choice(iSaids) + \"\\n\\n\"\n",
    "poem += random.choice(heStarts) + \" \" + random.choice(heSaids) + \"\\n\"\n",
    "poem += \"And I said, \" + random.choice(iSaids)+ \"\\n\\n\"\n",
    "poem += random.choice(responses) + \"\\n\\n\"\n",
    "poem += random.choice(outros) + random.choice(flaxSeeds) + \", \" + random.choice(flaxSeeds) + \", \" + random.choice(flaxSeeds) + \".\"\n",
    "print(poem)"
   ]
  },
  {
   "cell_type": "code",
   "execution_count": 67,
   "metadata": {},
   "outputs": [
    {
     "name": "stdout",
     "output_type": "stream",
     "text": [
      "When it got very bad, he'd say, Tell me a story,\n",
      "\n",
      "He said, You know, I always knew I would die young. And then I got sober\n",
      "\n",
      "and I thought, OK, I'm not. I'm going to see thirty and live to be an old\n",
      "   man.\n",
      "And now it turns out that I am going to die. Isn't that funny?\n",
      "And I said, Come into the living room and look at these tulips.\n",
      "\n",
      "He closed his eyes for a minute.\n",
      "\n",
      "When he opened them he said, You've forgotten, but you'll remember again.\n",
      "And I said, I don't know the meaning of my own life anymore,\n",
      "\n",
      "And John is smiling, almost asleep again.\n",
      "\n",
      "We want the spring to come and the winter to\n",
      "   pass. We want\n",
      "whoever to call or not call, peanut butter sandwiches, a little breeze through the open window, \n",
      "Somebody sleeping, Someone watching somebody sleep.\n"
     ]
    }
   ],
   "source": [
    "poem = random.choice(intros) + \"\\n\\n\"\n",
    "poem += \"He said, \" + random.choice(heSaids) + \"\\n\"\n",
    "poem += \"And I said, \" + random.choice(iSaids) + \"\\n\\n\"\n",
    "poem += random.choice(heStarts) + \" \" + random.choice(heSaids) + \"\\n\"\n",
    "poem += \"And I said, \" + random.choice(iSaids)+ \"\\n\\n\"\n",
    "poem += random.choice(responses) + \"\\n\\n\"\n",
    "poem += random.choice(outros) + random.choice(flaxSeeds) + \", \" + random.choice(flaxSeeds) + \", \" + random.choice(flaxSeeds) + \".\"\n",
    "print(poem)"
   ]
  },
  {
   "cell_type": "code",
   "execution_count": 71,
   "metadata": {},
   "outputs": [
    {
     "name": "stdout",
     "output_type": "stream",
     "text": [
      "In the dream I had when he came back not sick\n",
      "but whole, and wearing his winter coat,\n",
      "\n",
      "he looked at me as though he couldn't speak, as if\n",
      "there were a law against it, a membrane he couldn't break.\n",
      "\n",
      "He said, Tell me a story,\n",
      "And I said, OK\n",
      "\n",
      "When it got very bad, he'd say, I'm going to die soon. I want you to know that.\n",
      "And I said, I think I do know.\n",
      "\n",
      "-- that was during the heat wave that summer:\n",
      "\n",
      "Suddenly close and distinct, it seemed finished, as if time were a \n",
      "   room\n",
      "\n",
      "I could gaze clear across -- an open jar of raspberry jam, a letter, a small glass bottle of milk.\n"
     ]
    }
   ],
   "source": [
    "poem = random.choice(intros) + \"\\n\\n\"\n",
    "poem += \"He said, \" + random.choice(heSaids) + \"\\n\"\n",
    "poem += \"And I said, \" + random.choice(iSaids) + \"\\n\\n\"\n",
    "poem += random.choice(heStarts) + \" \" + random.choice(heSaids) + \"\\n\"\n",
    "poem += \"And I said, \" + random.choice(iSaids)+ \"\\n\\n\"\n",
    "poem += random.choice(responses) + \"\\n\\n\"\n",
    "poem += random.choice(outros) + random.choice(flaxSeeds) + \", \" + random.choice(flaxSeeds) + \", \" + random.choice(flaxSeeds) + \".\"\n",
    "print(poem)"
   ]
  },
  {
   "cell_type": "code",
   "execution_count": 73,
   "metadata": {},
   "outputs": [
    {
     "name": "stdout",
     "output_type": "stream",
     "text": [
      "I had no idea that the gate I would step through\n",
      "to finally enter this world\n",
      "\n",
      "would be the space my brother's body made.\n",
      "\n",
      "He said, Here, sit closer to the bed\n",
      "so I can see you.\n",
      "And I said, I do.\n",
      "\n",
      "And he said, You know what they want.\n",
      "And I said, I do.\n",
      "\n",
      "He was a little taller than me: a young man\n",
      "\n",
      "but grown, himself by then,\n",
      "done at twenty-eight, having folded every sheet,\n",
      "\n",
      "rinsed every glass he would ever rinse under the cold\n",
      "andrunningwater.\n",
      "\n",
      "Snowy evening in a dark snowy winter:\n",
      "\n",
      "Plows soon, their deep and decent rumbling. Then more night,\n",
      "the heater in his car broken on, and blasting, the orange lilies bending toward the house beside the driveway, the men's big boots, the women's smaller ones.\n"
     ]
    }
   ],
   "source": [
    "poem = random.choice(intros) + \"\\n\\n\"\n",
    "poem += \"He said, \" + random.choice(heSaids) + \"\\n\"\n",
    "poem += \"And I said, \" + random.choice(iSaids) + \"\\n\\n\"\n",
    "poem += random.choice([random.choice(heStarts), \"And he said,\"]) + \" \" + random.choice(heSaids) + \"\\n\"\n",
    "poem += \"And I said, \" + random.choice(iSaids)+ \"\\n\\n\"\n",
    "poem += random.choice(responses) + \"\\n\\n\"\n",
    "poem += random.choice(outros) + random.choice(flaxSeeds) + \", \" + random.choice(flaxSeeds) + \", \" + random.choice(flaxSeeds) + \".\"\n",
    "print(poem)"
   ]
  },
  {
   "cell_type": "code",
   "execution_count": 77,
   "metadata": {},
   "outputs": [
    {
     "name": "stdout",
     "output_type": "stream",
     "text": [
      "He had taken the right pills the night before.\n",
      "We had counted them out\n",
      "\n",
      "He said, You've forgotten, but you'll remember again.\n",
      "And I said, I'm reading all this Buddhist stuff,\n",
      "\n",
      "and listen, we don't die when we die. Death is an event,\n",
      "a threshold we pass through. We go on and on\n",
      "\n",
      "and into light forever.\n",
      "\n",
      "And he said, No, I mean know that you are.\n",
      "And I said, OK\n",
      "\n",
      "He was breathing maybe twice a minute, and we couldn't wake him,\n",
      "\n",
      "This is it.\n",
      "a small glass bottle of milk, a little breeze through the open window, a kiss.\n"
     ]
    }
   ],
   "source": [
    "poem = random.choice(intros) + \"\\n\\n\"\n",
    "poem += \"He said, \" + random.choice(heSaids) + \"\\n\"\n",
    "poem += \"And I said, \" + random.choice(iSaids) + \"\\n\\n\"\n",
    "poem += random.choice([random.choice(heStarts), \"And he said,\"]) + \" \" + random.choice(heSaids) + \"\\n\"\n",
    "poem += \"And I said, \" + random.choice(iSaids)+ \"\\n\\n\"\n",
    "poem += random.choice(responses) + \"\\n\\n\"\n",
    "poem += random.choice(outros) + random.choice(flaxSeeds) + \", \" + random.choice(flaxSeeds) + \", \" + random.choice(flaxSeeds) + \".\"\n",
    "print(poem)"
   ]
  },
  {
   "cell_type": "code",
   "execution_count": 15,
   "metadata": {},
   "outputs": [
    {
     "name": "stdout",
     "output_type": "stream",
     "text": [
      "My brother promised me he wouldn't die after our father died.\n",
      "\n",
      "He said, Soon I will die,\n",
      "And I said, Who is the president?\n",
      "\n",
      "And he said, You've forgotten, but you'll remember again.\n",
      "And I said, What's it about?\n",
      "\n",
      "And John is smiling, almost asleep again.\n",
      "\n",
      "Thinking meant not thinking. It meant imagining my\n",
      "   brother\n",
      "surrounded by a thin string of blue spit, spilling my coffee down my\n",
      "   wrist and sleeve, what you called that yearning.\n"
     ]
    }
   ],
   "source": [
    "poem = random.choice(intros) + \"\\n\\n\"\n",
    "poem += \"He said, \" + random.choice(heSaids) + \"\\n\"\n",
    "poem += \"And I said, \" + random.choice(iSaids) + \"\\n\\n\"\n",
    "poem += random.choice([random.choice(heStarts), \"And he said,\"]) + \" \" + random.choice(heSaids) + \"\\n\"\n",
    "poem += \"And I said, \" + random.choice(iSaids)+ \"\\n\\n\"\n",
    "poem += random.choice(responses) + \"\\n\\n\"\n",
    "poem += random.choice(outros) + random.choice(flaxSeeds) + \", \" + random.choice(flaxSeeds) + \", \" + random.choice(flaxSeeds) + \".\"\n",
    "print(poem)"
   ]
  },
  {
   "cell_type": "code",
   "execution_count": 17,
   "metadata": {},
   "outputs": [
    {
     "name": "stdout",
     "output_type": "stream",
     "text": [
      "For three days now I've been trying to think of another word for\n",
      "   gratitude\n",
      "because my brother could have died and didn't,\n",
      "\n",
      "He said, I'm going to die soon. I want you to know that.\n",
      "And I said, You know how much you love Joe?\n",
      "That's how much I love you.\n",
      "\n",
      "He closed his eyes for a minute.\n",
      "\n",
      "When he opened them he said, I'm going to die soon. I want you to know that.\n",
      "And I said, You know it's true\n",
      "\n",
      "This is the everyday we\n",
      "spoke of.\n",
      "\n",
      "This is it.\n",
      "the frozen ground, the orange lilies bending toward the house beside the driveway, the men's big boots, the women's smaller ones.\n"
     ]
    }
   ],
   "source": [
    "poem = random.choice(intros) + \"\\n\\n\"\n",
    "poem += \"He said, \" + random.choice(heSaids) + \"\\n\"\n",
    "poem += \"And I said, \" + random.choice(iSaids) + \"\\n\\n\"\n",
    "poem += random.choice([random.choice(heStarts), \"And he said,\"]) + \" \" + random.choice(heSaids) + \"\\n\"\n",
    "poem += \"And I said, \" + random.choice(iSaids)+ \"\\n\\n\"\n",
    "poem += random.choice(responses) + \"\\n\\n\"\n",
    "poem += random.choice(outros) + random.choice(flaxSeeds) + \", \" + random.choice(flaxSeeds) + \", \" + random.choice(flaxSeeds) + \".\"\n",
    "print(poem)"
   ]
  }
 ],
 "metadata": {
  "kernelspec": {
   "display_name": "Python 3",
   "language": "python",
   "name": "python3"
  },
  "language_info": {
   "codemirror_mode": {
    "name": "ipython",
    "version": 3
   },
   "file_extension": ".py",
   "mimetype": "text/x-python",
   "name": "python",
   "nbconvert_exporter": "python",
   "pygments_lexer": "ipython3",
   "version": "3.7.1"
  }
 },
 "nbformat": 4,
 "nbformat_minor": 2
}
