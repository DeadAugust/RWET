{
 "cells": [
  {
   "cell_type": "code",
   "execution_count": 2,
   "metadata": {},
   "outputs": [],
   "source": [
    "import pronouncing as pr\n",
    "import random\n",
    "from collections import defaultdict"
   ]
  },
  {
   "cell_type": "code",
   "execution_count": 3,
   "metadata": {},
   "outputs": [],
   "source": [
    "text = open('txt/JacksonCorpus_Apr19.txt').read()"
   ]
  },
  {
   "cell_type": "code",
   "execution_count": 4,
   "metadata": {},
   "outputs": [],
   "source": [
    "rhymes = defaultdict(list)\n",
    "for line in open(\"txt/JacksonCorpus_Apr19.txt\"):\n",
    "    line = line.strip(\"\\n.,;:?!\")\n",
    "    words = line.split()\n",
    "    if len(words)>0:\n",
    "        last_word = words[-1]\n",
    "        phones = pr.phones_for_word(last_word)\n",
    "        if len(phones)>0:\n",
    "            rhyming_part = pr.rhyming_part(phones[0])\n",
    "            rhymes[rhyming_part].append(line)\n",
    "    "
   ]
  },
  {
   "cell_type": "code",
   "execution_count": 13,
   "metadata": {},
   "outputs": [
    {
     "data": {
      "text/plain": [
       "[\"I'm listening to crickets and cicadas call\",\n",
       " 'or on your roof, 1800 miles away, or just a phone call']"
      ]
     },
     "execution_count": 13,
     "metadata": {},
     "output_type": "execute_result"
    }
   ],
   "source": [
    "rhyme = random.choice(list(rhymes.keys()))\n",
    "random.sample(rhymes[rhyme], 2)"
   ]
  },
  {
   "cell_type": "code",
   "execution_count": 118,
   "metadata": {},
   "outputs": [],
   "source": [
    "test_rhyme = random.choice(list(rhymes))"
   ]
  },
  {
   "cell_type": "code",
   "execution_count": 119,
   "metadata": {},
   "outputs": [],
   "source": [
    "sonnet = []\n",
    "couplet = random.sample(rhymes[test_rhyme], 2)\n",
    "sonnet.append(couplet)"
   ]
  },
  {
   "cell_type": "code",
   "execution_count": 177,
   "metadata": {},
   "outputs": [],
   "source": [
    "sonnet = []\n",
    "for i in range(3):\n",
    "    firstRhyme = random.choice(list(rhymes))\n",
    "    secondRhyme = random.choice(list(rhymes))\n",
    "    firstCouplet = random.sample(rhymes[firstRhyme], 2)\n",
    "    secondCouplet = random.sample(rhymes[secondRhyme], 2)\n",
    "    sonnet.append(firstCouplet[0])\n",
    "    sonnet.append(secondCouplet[0])\n",
    "    sonnet.append(firstCouplet[1])\n",
    "    sonnet.append(secondCouplet[1])\n",
    "    "
   ]
  },
  {
   "cell_type": "markdown",
   "metadata": {},
   "source": [
    "so nice that the first test referenced me :_ ]"
   ]
  },
  {
   "cell_type": "code",
   "execution_count": 178,
   "metadata": {
    "scrolled": true
   },
   "outputs": [
    {
     "data": {
      "text/plain": [
       "['beckons with its rapt applause and salt scent',\n",
       " 'He stomped around the square, screaming',\n",
       " 'each knows its job, each is meant',\n",
       " 'Oh God, oh God, a woman is screaming',\n",
       " 'a cigarette in one hearty drag, in a blizzard',\n",
       " 'without summoning thoughts',\n",
       " 'One night in West Virginia, in a cabin in a blizzard',\n",
       " 'foreign flesh and grimace with thoughts',\n",
       " 'with perfect teeth was Wilbur, and they were perfect',\n",
       " 'Maybe it takes and takes',\n",
       " \"someone out there who's perfect\",\n",
       " 'or sweat sheets, no more skinny dipping in lakes']"
      ]
     },
     "execution_count": 178,
     "metadata": {},
     "output_type": "execute_result"
    }
   ],
   "source": [
    "sonnet"
   ]
  },
  {
   "cell_type": "code",
   "execution_count": null,
   "metadata": {},
   "outputs": [],
   "source": [
    "    firstRhyme = random.choice(list(rhymes.keys()))\n",
    "    print(firstRhyme)\n",
    "    secondRhyme = random.choice(list(rhymes.keys()))\n",
    "    print(secondRhyme)"
   ]
  },
  {
   "cell_type": "code",
   "execution_count": 31,
   "metadata": {},
   "outputs": [
    {
     "name": "stdout",
     "output_type": "stream",
     "text": [
      "ER1 JH\n",
      "EH1 S\n",
      "IH1 P\n",
      "IH1 K S\n",
      "AA1 T AH0 L\n",
      "IH1 N\n",
      "['in the manic midnight din', \"Jamie will grin his I-don't-want-to-die-today grin\"]\n"
     ]
    }
   ],
   "source": [
    "sonnet = []\n",
    "for i in range(3):\n",
    "    firstRhyme = random.choice(list(rhymes.keys()))\n",
    "    while len(rhymes[firstRhyme]) <= 2:\n",
    "        firstRhyme = random.choice(list(rhymes.keys()))\n",
    "#         print('test')\n",
    "    print(firstRhyme)\n",
    "    secondRhyme = random.choice(list(rhymes.keys()))\n",
    "    while len(rhymes[secondRhyme]) <= 2:\n",
    "        secondRhyme = random.choice(list(rhymes.keys()))\n",
    "    print(secondRhyme)\n",
    "    firstCouplet = random.sample(rhymes[firstRhyme], 2)\n",
    "    while firstCouplet[0].split()[-1] == firstCouplet[1].split()[-1]:\n",
    "        firstCouplet = random.sample(rhymes[firstRhyme], 2)\n",
    "        print(firstCouplet)\n",
    "    secondCouplet = random.sample(rhymes[secondRhyme], 2)\n",
    "    while secondCouplet[0].split()[-1] == secondCouplet[1].split()[-1]:\n",
    "        secondCouplet = random.sample(rhymes[secondRhyme], 2)\n",
    "        print(secondCouplet)\n",
    "    sonnet.append(firstCouplet[0])\n",
    "    sonnet.append(secondCouplet[0])\n",
    "    sonnet.append(firstCouplet[1])\n",
    "    sonnet.append(secondCouplet[1])"
   ]
  },
  {
   "cell_type": "code",
   "execution_count": 32,
   "metadata": {},
   "outputs": [
    {
     "data": {
      "text/plain": [
       "[\"in a McDonald's lot and nodding off to the dirge\",\n",
       " 'thumbed a ride to Canada, built a home. I guess',\n",
       " 'we watch our reflections merge',\n",
       " 'of many colors, far more blue than red, far less',\n",
       " 'and convinces the trees to strip',\n",
       " 'all the alcohol and told me about her mother, how to mix',\n",
       " 'of neon saline through a drip',\n",
       " 'flood my brain with tics',\n",
       " 'of tobacco, a pill bottle',\n",
       " 'in the manic midnight din',\n",
       " 'some pigeons—you can join the Church of the Broken Bottle',\n",
       " \"Jamie will grin his I-don't-want-to-die-today grin\"]"
      ]
     },
     "execution_count": 32,
     "metadata": {},
     "output_type": "execute_result"
    }
   ],
   "source": [
    "sonnet"
   ]
  },
  {
   "cell_type": "markdown",
   "metadata": {},
   "source": [
    "### allows for matching end words (up to four)"
   ]
  },
  {
   "cell_type": "code",
   "execution_count": 33,
   "metadata": {},
   "outputs": [
    {
     "name": "stdout",
     "output_type": "stream",
     "text": [
      "EY1 V Z\n",
      "AH1 N\n",
      "AH1 S T\n",
      "OW1 S T S\n",
      "EH1 D IY0\n",
      "AA1 L AH0 S\n"
     ]
    }
   ],
   "source": [
    "sonnet = []\n",
    "for i in range(3):\n",
    "    firstRhyme = random.choice(list(rhymes.keys()))\n",
    "    while len(rhymes[firstRhyme]) <= 2:\n",
    "        firstRhyme = random.choice(list(rhymes.keys()))\n",
    "#         print('test')\n",
    "    print(firstRhyme)\n",
    "    secondRhyme = random.choice(list(rhymes.keys()))\n",
    "    while len(rhymes[secondRhyme]) <= 2:\n",
    "        secondRhyme = random.choice(list(rhymes.keys()))\n",
    "    print(secondRhyme)\n",
    "    firstCouplet = random.sample(rhymes[firstRhyme], 2)\n",
    "    while firstCouplet[0].split()[-4:] == firstCouplet[1].split()[-4:]:\n",
    "        firstCouplet = random.sample(rhymes[firstRhyme], 2)\n",
    "        print(firstCouplet)\n",
    "    secondCouplet = random.sample(rhymes[secondRhyme], 2)\n",
    "    while secondCouplet[0].split()[-4:] == secondCouplet[1].split()[-4:]:\n",
    "        secondCouplet = random.sample(rhymes[secondRhyme], 2)\n",
    "        print(secondCouplet)\n",
    "    sonnet.append(firstCouplet[0])\n",
    "    sonnet.append(secondCouplet[0])\n",
    "    sonnet.append(firstCouplet[1])\n",
    "    sonnet.append(secondCouplet[1])\n",
    "lastRhyme = random.choice(list(rhymes.keys()))\n",
    "while len(rhymes[lastRhyme]) <= 2:\n",
    "    lastRhyme = random.choice(list(rhymes.keys()))\n",
    "lastCouplet = random.sample(rhymes[lastRhyme], 2)\n",
    "while lastCouplet[0].split()[-4:] == lastCouplet[1].split()[-4:]:\n",
    "        lastCouplet = random.sample(rhymes[lastRhyme], 2)\n",
    "sonnet.append(lastCouplet[0])\n",
    "sonnet.append(lastCouplet[1])\n",
    "\n",
    "    "
   ]
  },
  {
   "cell_type": "code",
   "execution_count": 34,
   "metadata": {},
   "outputs": [
    {
     "data": {
      "text/plain": [
       "['sides of graves',\n",
       " 'with being the butcher, anyway? Every town needs one',\n",
       " 'in rooms like frozen caves',\n",
       " \"and you ran out into it. No, you didn't run\",\n",
       " 'I held my friend like he was a bag of dust',\n",
       " 'I. Throat Ghosts',\n",
       " 'only as long as it must',\n",
       " 'An hour before the party, before one hundred ghosts',\n",
       " 'when she was beautiful already',\n",
       " 'If the alley is your cradle, if you find solace',\n",
       " 'The young man leaned back, unsteady',\n",
       " 'who destroyed the solace',\n",
       " 'into the steering wheel, she rode nine hours south',\n",
       " 'words in your mouth']"
      ]
     },
     "execution_count": 34,
     "metadata": {},
     "output_type": "execute_result"
    }
   ],
   "source": [
    "sonnet"
   ]
  },
  {
   "cell_type": "markdown",
   "metadata": {},
   "source": [
    "### sonnet with no matching end words"
   ]
  },
  {
   "cell_type": "code",
   "execution_count": 37,
   "metadata": {},
   "outputs": [
    {
     "name": "stdout",
     "output_type": "stream",
     "text": [
      "AA1 R K S\n",
      "AE1 F\n",
      "['on the cheap cab and blow and laugh', 'kids hurl cinder blocks and laugh']\n",
      "['on the cheap cab and blow and laugh', 'one junkie says next door, and his friends laugh']\n",
      "[\"And the worst part was she'd only had a bottle and a half\", 'myself in the eye until my face is half raccoon and half']\n",
      "['kids hurl cinder blocks and laugh', 'myself in the eye until my face is half raccoon and half']\n",
      "ER1 T\n",
      "OW1 K T\n",
      "['buckets so hard we break our toes. This is going to hurt', 'buckets so hard we break all our toes. This is going to hurt']\n",
      "['buckets so hard we break all our toes. This is going to hurt', 'on the bayou, coleslaw on my shirt']\n",
      "['his face. He said, Have you ever smoked', 'in back alleys choked']\n",
      "EY1\n",
      "EY1 IH0 NG\n",
      "['straight into a storm. I am trying my best here to say', \"before the party, Michael's cat runs away\"]\n"
     ]
    }
   ],
   "source": [
    "sonnet = []\n",
    "for i in range(3):\n",
    "    firstRhyme = random.choice(list(rhymes.keys()))\n",
    "    while len(rhymes[firstRhyme]) <= 3:\n",
    "        firstRhyme = random.choice(list(rhymes.keys()))\n",
    "#         print('test')\n",
    "    print(firstRhyme)\n",
    "    secondRhyme = random.choice(list(rhymes.keys()))\n",
    "    while len(rhymes[secondRhyme]) <= 3:\n",
    "        secondRhyme = random.choice(list(rhymes.keys()))\n",
    "    print(secondRhyme)\n",
    "    firstCouplet = random.sample(rhymes[firstRhyme], 2)\n",
    "    while firstCouplet[0].split()[-1] == firstCouplet[1].split()[-1]:\n",
    "        firstCouplet = random.sample(rhymes[firstRhyme], 2)\n",
    "        print(firstCouplet)\n",
    "    secondCouplet = random.sample(rhymes[secondRhyme], 2)\n",
    "    while secondCouplet[0].split()[-1] == secondCouplet[1].split()[-1]:\n",
    "        secondCouplet = random.sample(rhymes[secondRhyme], 2)\n",
    "        print(secondCouplet)\n",
    "    sonnet.append(firstCouplet[0])\n",
    "    sonnet.append(secondCouplet[0])\n",
    "    sonnet.append(firstCouplet[1])\n",
    "    sonnet.append(secondCouplet[1])\n",
    "lastRhyme = random.choice(list(rhymes.keys()))\n",
    "while len(rhymes[lastRhyme]) <= 3:\n",
    "    lastRhyme = random.choice(list(rhymes.keys()))\n",
    "lastCouplet = random.sample(rhymes[lastRhyme], 2)\n",
    "while lastCouplet[0].split()[-1] == lastCouplet[1].split()[-1]:\n",
    "        lastCouplet = random.sample(rhymes[lastRhyme], 2)\n",
    "sonnet.append(lastCouplet[0])\n",
    "sonnet.append(lastCouplet[1])"
   ]
  },
  {
   "cell_type": "code",
   "execution_count": 38,
   "metadata": {},
   "outputs": [
    {
     "data": {
      "text/plain": [
       "[\"We're black phlegm . . . or steel. Syringes full of sparks\",\n",
       " 'kids hurl cinder blocks and laugh',\n",
       " 'beneath all these wrinkles and scars? The parks',\n",
       " 'myself in the eye until my face is half raccoon and half',\n",
       " 'buckets so hard we break all our toes. This is going to hurt',\n",
       " 'his face. He said, Have you ever smoked',\n",
       " 'on the bayou, coleslaw on my shirt',\n",
       " 'in back alleys choked',\n",
       " 'straight into a storm. I am trying my best here to say',\n",
       " 'and inscribing lines in every oak we pass, paying',\n",
       " \"before the party, Michael's cat runs away\",\n",
       " 'then librarians, then friends knocking at my door, saying',\n",
       " 'in the houses of your mind, letters and love notes',\n",
       " 'with stained glass under our feet and not at our throats']"
      ]
     },
     "execution_count": 38,
     "metadata": {},
     "output_type": "execute_result"
    }
   ],
   "source": [
    "sonnet"
   ]
  },
  {
   "cell_type": "markdown",
   "metadata": {},
   "source": [
    "## now attempting to put in stresses"
   ]
  },
  {
   "cell_type": "code",
   "execution_count": null,
   "metadata": {},
   "outputs": [],
   "source": [
    "pr.stresses(pr.phones_for_word(\"testing\")[0])"
   ]
  },
  {
   "cell_type": "code",
   "execution_count": null,
   "metadata": {},
   "outputs": [],
   "source": [
    "stresses = defaultdict(list)\n",
    "for line in open(\"txt/JacksonCorpus_Apr19.txt\"):\n",
    "    line = line.strip(\"\\n.,;:?!\")\n",
    "    words = line.split()\n",
    "    if len(words)>0:\n",
    "        last_word = words[-1]\n",
    "        phones = pr.phones_for_word(last_word)\n",
    "        if len(phones)>0:\n",
    "            stress = pr.stresses(pr.phones_for_word(last_word)[0])\n",
    "            rhyming_part = pr.rhyming_part(phones[0])\n",
    "#             print(stress)\n",
    "            if stress == '01' or stress == '02':\n",
    "                iambic_foot = pr.rhyming_part(phones[0])\n",
    "                stresses[rhyming_part].append(line)"
   ]
  },
  {
   "cell_type": "code",
   "execution_count": null,
   "metadata": {},
   "outputs": [],
   "source": [
    "for rhyme in stresses.keys():\n",
    "    for values in stresses[rhyme]:\n",
    "        last_word = values[-1]\n",
    "        phones = pr.phones_for_word(last_word)\n",
    "        print(phones)\n",
    "        if len(phones)>0:\n",
    "            stress = pr.stresses(pr.phones_for_word(last_word)[0])\n",
    "            print(stress)\n",
    "#     line = line.strip(\"\\n.,;:?!\")\n",
    "#     words = line.split()\n",
    "#     if len(words)>0:\n",
    "#         last_word = words[-1]\n",
    "#         phones = pr.phones_for_word(last_word)\n",
    "#         if len(phones)>0:\n",
    "#             stress = pr.stresses(pr.phones_for_word(last_word)[0])\n",
    "# #             print(stress)\n",
    "#             if stress == '01' or stress == '02':\n",
    "#                 iambic_foot = pr.rhyming_part(phones[0])\n",
    "#                 stresses[rhyming_part].append(line)"
   ]
  },
  {
   "cell_type": "code",
   "execution_count": null,
   "metadata": {},
   "outputs": [],
   "source": [
    "len(stresses.keys())\n"
   ]
  },
  {
   "cell_type": "code",
   "execution_count": null,
   "metadata": {},
   "outputs": [],
   "source": []
  }
 ],
 "metadata": {
  "kernelspec": {
   "display_name": "Python 3",
   "language": "python",
   "name": "python3"
  },
  "language_info": {
   "codemirror_mode": {
    "name": "ipython",
    "version": 3
   },
   "file_extension": ".py",
   "mimetype": "text/x-python",
   "name": "python",
   "nbconvert_exporter": "python",
   "pygments_lexer": "ipython3",
   "version": "3.6.8"
  }
 },
 "nbformat": 4,
 "nbformat_minor": 2
}
