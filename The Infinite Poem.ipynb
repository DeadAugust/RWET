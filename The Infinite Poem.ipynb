{
 "cells": [
  {
   "cell_type": "markdown",
   "metadata": {},
   "source": [
    "# The Infinite Poem\n",
    "\n",
    "## Approaching a visualization of the language of the dead\n",
    "\n",
    "**Reading and Writing Electronic Text  \n",
    "Final Project by August Luhrs  \n",
    "ITP Spring 2019 -- Allison Parrish**"
   ]
  },
  {
   "cell_type": "markdown",
   "metadata": {},
   "source": [
    "## TO DO\n",
    "- ~~Data set collection~~\n",
    "    - ~~add associated character~~\n",
    "- poem structure\n",
    "- input corpus\n",
    "- visualization\n",
    "    - output how?\n",
    "- OH\n",
    "    - list comprehension\n",
    "    - visualization\n",
    "    - looping"
   ]
  },
  {
   "cell_type": "markdown",
   "metadata": {},
   "source": [
    "## Corpora Datasets\n",
    "from [Darius Kazemi's Corpora Project](https://github.com/dariusk/corpora)\n",
    "\n",
    "### Animals (9)\n",
    " - ant anatomy [y]\n",
    " - birds north america [B]\n",
    " - cats [(]\n",
    " - cephalopod anatomy [;]\n",
    " - common [o]\n",
    " - dinosaurs [9]\n",
    " - dog_names [Q]\n",
    " - dogs [1]\n",
    " - horses [h]\n",
    " \n",
    "### Archetypes (3)\n",
    "- character [3]needed\n",
    "- event \n",
    "- setting\n",
    "\n",
    "### Architecture (2)\n",
    "- Passages\n",
    "- Rooms [v]\n",
    "\n",
    "### Art (1)\n",
    "- isms \n",
    "\n",
    "### Books (2)\n",
    "- academic subjects [j]\n",
    "- bestselling books [8]\n",
    " \n",
    "### Colors (1)\n",
    "- crayola [c]\n",
    "\n",
    "### Corporations (5)\n",
    "- cars [K]\n",
    "- charities\n",
    "- fortune500 [$]\n",
    "- industries [W]\n",
    "- newspapers [!]\n",
    "\n",
    "### Divination (1) 24\n",
    "- zodiac [z]\n",
    "\n",
    "### Film - TV (3)\n",
    "- Netflix Categories [Y]\n",
    "- Popular Movies [2]\n",
    "- TV Shows\n",
    "\n",
    "### Food (14)\n",
    "- apple cultivars\n",
    "- bad beers [T]\n",
    "- beer styles\n",
    "- breads and pastries\n",
    "- list of recipe instructions [0]\n",
    "- condiments [4]\n",
    "- fruits [f]\n",
    "- herbs n spices [\"]\n",
    "- hot peppers\n",
    "- cocktails\n",
    "- menu items [M]\n",
    "- pizza toppings\n",
    "- vegetables [V]\n",
    "- wine descriptions\n",
    "\n",
    "### Games (3)\n",
    "- board games\n",
    "- pokemon\n",
    "- wrestling moves\n",
    "\n",
    "### Geography (6)\n",
    "- countries [G]\n",
    "- environmental hazards\n",
    "- geographic features[g]\n",
    "- nationalities\n",
    "- rivers [7]\n",
    "- us cities\n",
    "\n",
    "### Governments (2)\n",
    "- us federal agencies\n",
    "- us military operations\n",
    "\n",
    "### Humans (13)\n",
    "- atus activities [H]\n",
    "- body Parts [k]\n",
    "- celebrities\n",
    "- descriptions [-]\n",
    "- honorifics\n",
    "- famous Duos\n",
    "- first names [m]\n",
    "- last names (combine?) [H]\n",
    "- moods [F]\n",
    "- jobs[I]\n",
    "- spanish first names\n",
    "- spanish last names [6]\n",
    "- wrestlers\n",
    "\n",
    "### Instructions (1)\n",
    "- laundry care [r]\n",
    "\n",
    "### Materials (5 of 6)\n",
    "- abridged-body-fluids [E]\n",
    "- building materials [L]\n",
    "- fabrics\n",
    "- ~~layperson metals~~\n",
    "- packaging [&]\n",
    "- sculpture materials \n",
    "\n",
    "### Mathematics (4)\n",
    "- fibonnaci sequence (first 50 or something?) [b]\n",
    "- primes \n",
    "- primes binary\n",
    "- trigonometry [x]\n",
    "\n",
    "### Medicine (7)\n",
    "- **cancer** [w]\n",
    "- diagnoses [,]\n",
    "- diseases (hard to pull)\n",
    "- drugs [U]\n",
    "- hospitals [A]\n",
    "- infectious diseases\n",
    "- symptoms [S]\n",
    "\n",
    "### Music (3)\n",
    "- bands that have opened for tool\n",
    "- genres [u]\n",
    "- musical instruments [)]\n",
    "\n",
    "### Mythology (3)\n",
    "- greek gods [/]\n",
    "- hebrew god [X]\n",
    "- monsters [Z]\n",
    "\n",
    "### Objects (2)\n",
    "- clothing [i]\n",
    "- household objects [l]\n",
    "\n",
    "### Plants (3) 93\n",
    "- **cannabis** [M]\n",
    "- flowers [?]\n",
    "- plants [a]\n",
    "\n",
    "### Religion (1)\n",
    "- religions [P]\n",
    "\n",
    "### Science (3)\n",
    "- elements [e]\n",
    "- planets [p]\n",
    "- weather conditions[']\n",
    "\n",
    "### Societies and Groups (2)\n",
    "- us terrorist groups\n",
    "- sororities [D]\n",
    "\n",
    "### Sports (1)\n",
    "- **sports** [s]\n",
    "\n",
    "### Technology (4)\n",
    "- appliances [O]\n",
    "- **guns n rifles** [R]\n",
    "- knots\n",
    "- new technologies [q]\n",
    "\n",
    "### Words (8)\n",
    "- shakespeare phrases \n",
    "- adverbs [5]\n",
    "- common english words [.]\n",
    "- encouraging words [C]\n",
    "- interjections [N]\n",
    "- nouns [n]\n",
    "- states of drunkenness [d]\n",
    "- units of time [t]\n",
    "\n",
    "\n",
    "### Total: 112 of est. 68 needed\n",
    "ASCII Table -- 94 including rando punc...\n",
    "\n",
    "Characters unassigned:  \n",
    "[]\\=<>:{}|@#%^*_+~`  \n",
    "\n",
    "\n"
   ]
  },
  {
   "cell_type": "markdown",
   "metadata": {},
   "source": [
    "## Lists"
   ]
  },
  {
   "cell_type": "code",
   "execution_count": 1,
   "metadata": {},
   "outputs": [],
   "source": [
    "import json\n",
    "import random"
   ]
  },
  {
   "cell_type": "code",
   "execution_count": 2,
   "metadata": {},
   "outputs": [],
   "source": [
    "# need default dict?\n",
    "infinite = {}"
   ]
  },
  {
   "cell_type": "code",
   "execution_count": 3,
   "metadata": {},
   "outputs": [],
   "source": [
    "ant_anatomy = json.loads(open('corpora/data/animals/ant_anatomy.json').read())\n",
    "ant_anatomy = ant_anatomy['parts']\n",
    "infinite['y'] = ant_anatomy"
   ]
  },
  {
   "cell_type": "code",
   "execution_count": 4,
   "metadata": {},
   "outputs": [],
   "source": [
    "birds_NA = json.loads(open('corpora/data/animals/birds_north_america.json').read())\n",
    "birds = []\n",
    "for fam in birds_NA['birds']:\n",
    "    for bird in fam['members']:\n",
    "        birds.append(bird)\n",
    "infinite['B'] = birds"
   ]
  },
  {
   "cell_type": "code",
   "execution_count": 5,
   "metadata": {},
   "outputs": [],
   "source": [
    "cats = json.loads(open('corpora/data/animals/cats.json').read())\n",
    "cats = cats['cats']\n",
    "infinite['('] = cats"
   ]
  },
  {
   "cell_type": "code",
   "execution_count": 6,
   "metadata": {
    "scrolled": true
   },
   "outputs": [],
   "source": [
    "cephalopod = json.loads(open('corpora/data/animals/cephalopod_anatomy.json').read())\n",
    "cephalopod = cephalopod['parts']\n",
    "infinite[';'] = cephalopod"
   ]
  },
  {
   "cell_type": "code",
   "execution_count": 7,
   "metadata": {},
   "outputs": [],
   "source": [
    "common_Animals = json.loads(open('corpora/data/animals/common.json').read())\n",
    "common_Animals = common_Animals['animals']\n",
    "infinite['o'] = common_Animals"
   ]
  },
  {
   "cell_type": "code",
   "execution_count": 8,
   "metadata": {},
   "outputs": [],
   "source": [
    "dinosaurs = json.loads(open('corpora/data/animals/dinosaurs.json').read())\n",
    "dinosaurs = dinosaurs['dinosaurs']\n",
    "infinite['9'] = dinosaurs"
   ]
  },
  {
   "cell_type": "code",
   "execution_count": 9,
   "metadata": {},
   "outputs": [],
   "source": [
    "dog_names = json.loads(open('corpora/data/animals/dog_names.json').read())\n",
    "dog_names = dog_names['dog_names']\n",
    "infinite['Q'] = dog_names"
   ]
  },
  {
   "cell_type": "code",
   "execution_count": 10,
   "metadata": {},
   "outputs": [],
   "source": [
    "dogs = json.loads(open('corpora/data/animals/dogs.json').read())\n",
    "dogs = dogs['dogs']\n",
    "infinite['1'] = dogs"
   ]
  },
  {
   "cell_type": "code",
   "execution_count": 11,
   "metadata": {},
   "outputs": [],
   "source": [
    "horses = json.loads(open('corpora/data/animals/horses.json').read())\n",
    "horses = horses['horses']\n",
    "infinite['h'] = horses"
   ]
  },
  {
   "cell_type": "code",
   "execution_count": 12,
   "metadata": {},
   "outputs": [],
   "source": [
    "characterJSON = json.loads(open('corpora/data/archetypes/character.json').read())\n",
    "character = []\n",
    "for name in characterJSON['characters']:\n",
    "    character.append(name['name'])\n",
    "infinite['3'] = character"
   ]
  },
  {
   "cell_type": "code",
   "execution_count": 13,
   "metadata": {},
   "outputs": [],
   "source": [
    "passages = json.loads(open('corpora/data/architecture/passages.json').read())\n",
    "passages = passages['passages']\n",
    "infinite[':'] = passages"
   ]
  },
  {
   "cell_type": "code",
   "execution_count": 14,
   "metadata": {},
   "outputs": [],
   "source": [
    "rooms = json.loads(open('corpora/data/architecture/rooms.json').read())\n",
    "rooms = rooms['rooms']\n",
    "infinite['v'] = rooms"
   ]
  },
  {
   "cell_type": "code",
   "execution_count": 15,
   "metadata": {},
   "outputs": [],
   "source": [
    "academic = json.loads(open('corpora/data/books/academic_subjects.json').read())\n",
    "academic = academic['subjects']\n",
    "infinite['j'] = academic"
   ]
  },
  {
   "cell_type": "code",
   "execution_count": 16,
   "metadata": {},
   "outputs": [],
   "source": [
    "books = json.loads(open('corpora/data/books/bestsellers.json').read())\n",
    "books = books['books']\n",
    "titles = []\n",
    "for book in books:\n",
    "    titles.append(book['title'])\n",
    "infinite['8'] = titles"
   ]
  },
  {
   "cell_type": "code",
   "execution_count": 17,
   "metadata": {},
   "outputs": [],
   "source": [
    "colors = json.loads(open('corpora/data/colors/crayola.json').read())\n",
    "color = []\n",
    "for crayons in colors['colors']:\n",
    "    color.append(crayons['color'])\n",
    "infinite['c'] = color"
   ]
  },
  {
   "cell_type": "code",
   "execution_count": 18,
   "metadata": {},
   "outputs": [],
   "source": [
    "cars = json.loads(open('corpora/data/corporations/cars.json').read())\n",
    "infinite['K'] = cars['cars']"
   ]
  },
  {
   "cell_type": "code",
   "execution_count": 19,
   "metadata": {},
   "outputs": [],
   "source": [
    "fortune = json.loads(open('corpora/data/corporations/fortune500.json').read())\n",
    "infinite['$'] = fortune['companies']"
   ]
  },
  {
   "cell_type": "code",
   "execution_count": 20,
   "metadata": {},
   "outputs": [],
   "source": [
    "industries = json.loads(open('corpora/data/corporations/industries.json').read())\n",
    "infinite['W'] = industries['industries']"
   ]
  },
  {
   "cell_type": "code",
   "execution_count": 21,
   "metadata": {},
   "outputs": [],
   "source": [
    "news = json.loads(open('corpora/data/corporations/newspapers.json').read())\n",
    "infinite['!'] = news['newspapers']"
   ]
  },
  {
   "cell_type": "code",
   "execution_count": 22,
   "metadata": {},
   "outputs": [],
   "source": [
    "zodiac = json.loads(open('corpora/data/divination/zodiac.json').read())\n",
    "signs = []\n",
    "for sign in zodiac['western_zodiac']:\n",
    "    signs.append(sign)\n",
    "for animal in zodiac['eastern_zodiac']:\n",
    "    signs.append(animal)\n",
    "infinite['z'] = signs"
   ]
  },
  {
   "cell_type": "code",
   "execution_count": 23,
   "metadata": {},
   "outputs": [],
   "source": [
    "netflix = json.loads(open('corpora/data/film-tv/netflix-categories.json').read())\n",
    "infinite['Y'] = netflix['categories']"
   ]
  },
  {
   "cell_type": "code",
   "execution_count": 24,
   "metadata": {},
   "outputs": [],
   "source": [
    "movies = json.loads(open('corpora/data/film-tv/popular-movies.json').read())\n",
    "infinite['2'] = movies['popular-movies']"
   ]
  },
  {
   "cell_type": "code",
   "execution_count": 25,
   "metadata": {},
   "outputs": [],
   "source": [
    "beers = json.loads(open('corpora/data/foods/bad_beers.json').read())\n",
    "infinite['T'] = beers['bad_beers']\n",
    "# print(infinite['T'])"
   ]
  },
  {
   "cell_type": "code",
   "execution_count": 26,
   "metadata": {},
   "outputs": [],
   "source": [
    "# need to remove/replace 0 and 1?\n",
    "recipe = json.loads(open('corpora/data/foods/combine.json').read())\n",
    "infinite['0'] = recipe['instructions']\n",
    "# print(infinite['0'])"
   ]
  },
  {
   "cell_type": "code",
   "execution_count": 27,
   "metadata": {},
   "outputs": [],
   "source": [
    "condiments = json.loads(open('corpora/data/foods/condiments.json').read())\n",
    "infinite['4'] = condiments['condiments']"
   ]
  },
  {
   "cell_type": "code",
   "execution_count": 28,
   "metadata": {},
   "outputs": [],
   "source": [
    "fruits = json.loads(open('corpora/data/foods/fruits.json').read())\n",
    "infinite['f'] = fruits['fruits']"
   ]
  },
  {
   "cell_type": "code",
   "execution_count": 29,
   "metadata": {},
   "outputs": [],
   "source": [
    "herbs = json.loads(open('corpora/data/foods/herbs_n_spices.json').read())\n",
    "mix = []\n",
    "for item in herbs['herbs']:\n",
    "    mix.append(item)\n",
    "for item in herbs['spices']:\n",
    "    mix.append(item)\n",
    "for item in herbs['mixtures']:\n",
    "    mix.append(item)\n",
    "infinite['\"'] = mix"
   ]
  },
  {
   "cell_type": "code",
   "execution_count": 30,
   "metadata": {},
   "outputs": [],
   "source": [
    "#need to lowercase the all caps?\n",
    "menu = json.loads(open('corpora/data/foods/menuItems.json').read())\n",
    "infinite['M'] = menu['menuItems']\n",
    "# print(infinite['M'])"
   ]
  },
  {
   "cell_type": "code",
   "execution_count": 31,
   "metadata": {},
   "outputs": [],
   "source": [
    "veggies = json.loads(open('corpora/data/foods/vegetables.json').read())\n",
    "infinite['V'] = veggies['vegetables']"
   ]
  },
  {
   "cell_type": "code",
   "execution_count": 32,
   "metadata": {},
   "outputs": [],
   "source": [
    "games = json.loads(open('corpora/data/games/board_games.json').read())\n",
    "infinite['J'] = games['games']"
   ]
  },
  {
   "cell_type": "code",
   "execution_count": 33,
   "metadata": {},
   "outputs": [],
   "source": [
    "countries = json.loads(open('corpora/data/geography/countries.json').read())\n",
    "infinite['G'] = countries['countries']"
   ]
  },
  {
   "cell_type": "code",
   "execution_count": 34,
   "metadata": {},
   "outputs": [],
   "source": [
    "geoFeatures = json.loads(open('corpora/data/geography/geographic_features.json').read())\n",
    "infinite['g'] = geoFeatures['entries']"
   ]
  },
  {
   "cell_type": "code",
   "execution_count": 35,
   "metadata": {},
   "outputs": [],
   "source": [
    "riversJSON = json.loads(open('corpora/data/geography/rivers.json').read())\n",
    "# rivers = []\n",
    "# for river in riversJSON['rivers']:\n",
    "#     rivers.append(river['name'])\n",
    "\n",
    "#list comprehension\n",
    "infinite['7'] = [river['name'] for river in riversJSON['rivers']]\n",
    "# infinite['7'] = rivers"
   ]
  },
  {
   "cell_type": "code",
   "execution_count": 36,
   "metadata": {},
   "outputs": [],
   "source": [
    "# activitiesJSON = json.loads(open('corpora/data/humans/atus_activities.json').read())\n",
    "# activities = []\n",
    "# for category in activitiesJSON['categories']:\n",
    "#     print(category)\n",
    "#     for activity in category['examples'] if category['examples']:\n",
    "#         activities.append(activity)\n",
    "# infinite['H'] = activities\n",
    "\n",
    "# comp = activitiesJSON['categories']\n",
    "# print(comp)|\n",
    "# for category in activitiesJSON['categories']:\n",
    "#     if 'examples' in category.keys():   \n",
    "#         for activity in category['examples']:\n",
    "#             activities.append(activity)\n",
    "#     activities.append([actvity for activity['examples'] in category if len(category) > 2])\n",
    "\n",
    "\n",
    "#     for activ in act:\n",
    "#         print(act['examples'])\n",
    "#         activities.append(activ)\n",
    "#     print(act['examples'])\n",
    "#     print(\"\\n\")\n",
    "# print(comp['examples'])\n",
    "\n",
    "#insomnia bug\n",
    "# infinite['H'] = [activity for category['examples'] in activitiesJSON['categories'] if category['examples']]\n",
    "\n",
    "# infinite['H'] = [act for activity['examples'] in category if 'examples' in category.keys()]\n",
    "\n",
    "\n",
    "# infinite['H'] = activities\n",
    "# print(infinite['H'])\n"
   ]
  },
  {
   "cell_type": "code",
   "execution_count": 37,
   "metadata": {},
   "outputs": [],
   "source": [
    "#why was this so difficult?\n",
    "\n",
    "activities = json.loads(open('corpora/data/humans/atus_activities.json').read())\n",
    "acts = [activity['examples'] for activity in activities['categories'] if 'examples' in activity.keys()]\n",
    "\n",
    "combine = []\n",
    "for a in acts:\n",
    "    for item in a:\n",
    "        combine.append(item)\n",
    "\n",
    "infinite['H'] = combine\n",
    "# print(infinite['H'])"
   ]
  },
  {
   "cell_type": "code",
   "execution_count": 38,
   "metadata": {},
   "outputs": [],
   "source": [
    "bodyParts = json.loads(open('corpora/data/humans/bodyParts.json').read())\n",
    "infinite['k'] = bodyParts['bodyParts']"
   ]
  },
  {
   "cell_type": "code",
   "execution_count": 39,
   "metadata": {},
   "outputs": [],
   "source": [
    "descriptions = json.loads(open('corpora/data/humans/descriptions.json').read())\n",
    "infinite['-'] = descriptions['descriptions']"
   ]
  },
  {
   "cell_type": "code",
   "execution_count": 40,
   "metadata": {},
   "outputs": [],
   "source": [
    "firstNames = json.loads(open('corpora/data/humans/firstNames.json').read())\n",
    "infinite['m'] = firstNames['firstNames']"
   ]
  },
  {
   "cell_type": "code",
   "execution_count": 41,
   "metadata": {},
   "outputs": [],
   "source": [
    "lastNames = json.loads(open('corpora/data/humans/lastNames.json').read())\n",
    "infinite['H'] = lastNames['lastNames']"
   ]
  },
  {
   "cell_type": "code",
   "execution_count": 42,
   "metadata": {},
   "outputs": [],
   "source": [
    "moods = json.loads(open('corpora/data/humans/moods.json').read())\n",
    "infinite['F'] = moods['moods']"
   ]
  },
  {
   "cell_type": "code",
   "execution_count": 43,
   "metadata": {},
   "outputs": [],
   "source": [
    "jobs = json.loads(open('corpora/data/humans/occupations.json').read())\n",
    "infinite['I'] = jobs['occupations']"
   ]
  },
  {
   "cell_type": "code",
   "execution_count": 44,
   "metadata": {},
   "outputs": [],
   "source": [
    "spanishLasts = json.loads(open('corpora/data/humans/spanishLastNames.json').read())\n",
    "infinite['6'] = spanishLasts['lastNames']"
   ]
  },
  {
   "cell_type": "code",
   "execution_count": 45,
   "metadata": {},
   "outputs": [],
   "source": [
    "laundry = json.loads(open('corpora/data/instructions/laundry_care.json').read())\n",
    "infinite['r'] = [care['instruction'] for care in laundry['laundry_care_instructions']]"
   ]
  },
  {
   "cell_type": "code",
   "execution_count": 46,
   "metadata": {},
   "outputs": [],
   "source": [
    "fluids = json.loads(open('corpora/data/materials/abridged-body-fluids.json').read())\n",
    "infinite['E'] = fluids['abridged body fluids']"
   ]
  },
  {
   "cell_type": "code",
   "execution_count": 47,
   "metadata": {},
   "outputs": [],
   "source": [
    "materials = json.loads(open('corpora/data/materials/building-materials.json').read())\n",
    "infinite['L'] = materials['building materials']"
   ]
  },
  {
   "cell_type": "code",
   "execution_count": 48,
   "metadata": {},
   "outputs": [],
   "source": [
    "packaging = json.loads(open('corpora/data/materials/packaging.json').read())\n",
    "infinite['&'] = packaging['packaging']"
   ]
  },
  {
   "cell_type": "code",
   "execution_count": 49,
   "metadata": {},
   "outputs": [],
   "source": [
    "fibonnaci = json.loads(open('corpora/data/mathematics/first50fib.json').read())\n",
    "infinite['b'] = fibonnaci['numbers']\n",
    "# print(infinite['b'])"
   ]
  },
  {
   "cell_type": "code",
   "execution_count": 50,
   "metadata": {},
   "outputs": [],
   "source": [
    "trig = json.loads(open('corpora/data/mathematics/trigonometry.json').read())\n",
    "infinite['x'] = trig['numbers']\n",
    "# print(infinite['x'])"
   ]
  },
  {
   "cell_type": "code",
   "execution_count": 51,
   "metadata": {},
   "outputs": [],
   "source": [
    "cancers = json.loads(open('corpora/data/medicine/cancer.json').read())\n",
    "infinite['w'] = cancers['cancers']\n",
    "# print(infinite['w'])"
   ]
  },
  {
   "cell_type": "code",
   "execution_count": 52,
   "metadata": {},
   "outputs": [],
   "source": [
    "diagnoses = json.loads(open('corpora/data/medicine/diagnoses.json').read())\n",
    "diagnoses = diagnoses['codes']\n",
    "infinite[','] = [code['desc'] for code in diagnoses]\n",
    "# print(infinite[','])"
   ]
  },
  {
   "cell_type": "code",
   "execution_count": 53,
   "metadata": {},
   "outputs": [],
   "source": [
    "drugs = json.loads(open('corpora/data/medicine/drugs.json').read())\n",
    "infinite['U'] = drugs['drugs']\n",
    "# print(infinite['U'])"
   ]
  },
  {
   "cell_type": "code",
   "execution_count": 54,
   "metadata": {},
   "outputs": [],
   "source": [
    "hospitals = json.loads(open('corpora/data/medicine/hospitals.json').read())\n",
    "infinite['A'] = hospitals['hospitals']\n",
    "# print(infinite['A'])"
   ]
  },
  {
   "cell_type": "code",
   "execution_count": 55,
   "metadata": {},
   "outputs": [],
   "source": [
    "symptoms = json.loads(open('corpora/data/medicine/symptoms.json').read())\n",
    "infinite['S'] = symptoms['symptoms']\n",
    "# print(infinite['S'])"
   ]
  },
  {
   "cell_type": "code",
   "execution_count": 56,
   "metadata": {},
   "outputs": [],
   "source": [
    "genres = json.loads(open('corpora/data/music/genres.json').read())\n",
    "infinite['u'] = genres['genres']\n",
    "# print(infinite['u'])"
   ]
  },
  {
   "cell_type": "code",
   "execution_count": 57,
   "metadata": {},
   "outputs": [],
   "source": [
    "instruments = json.loads(open('corpora/data/music/instruments.json').read())\n",
    "infinite[')'] = instruments['instruments']\n",
    "# print(infinite[')'])"
   ]
  },
  {
   "cell_type": "code",
   "execution_count": 58,
   "metadata": {},
   "outputs": [],
   "source": [
    "greekGods = json.loads(open('corpora/data/mythology/greek_gods.json').read())\n",
    "infinite['/'] = greekGods['greek_gods']\n",
    "# print((infinite['/']))"
   ]
  },
  {
   "cell_type": "code",
   "execution_count": 59,
   "metadata": {},
   "outputs": [],
   "source": [
    "hebrewGod = json.loads(open('corpora/data/mythology/hebrew_god.json').read())\n",
    "god = []\n",
    "for name in hebrewGod['names']:\n",
    "    god.append(name['name'])\n",
    "    god.append(name['meaning'])\n",
    "infinite['X'] = god\n",
    "# print(infinite['X'])"
   ]
  },
  {
   "cell_type": "code",
   "execution_count": 60,
   "metadata": {},
   "outputs": [],
   "source": [
    "monsters = json.loads(open('corpora/data/mythology/monsters.json').read())\n",
    "infinite['Z'] = monsters['names']\n",
    "# print(infinite['Z'])"
   ]
  },
  {
   "cell_type": "code",
   "execution_count": 61,
   "metadata": {},
   "outputs": [],
   "source": [
    "clothing = json.loads(open('corpora/data/objects/clothing.json').read())\n",
    "infinite['i'] = clothing['clothes']\n",
    "# print(infinite['i'])"
   ]
  },
  {
   "cell_type": "code",
   "execution_count": 62,
   "metadata": {},
   "outputs": [],
   "source": [
    "objects = json.loads(open('corpora/data/objects/objects.json').read())\n",
    "infinite['l'] = objects['objects']\n",
    "# print(infinite['l'])"
   ]
  },
  {
   "cell_type": "code",
   "execution_count": 63,
   "metadata": {},
   "outputs": [],
   "source": [
    "# is this the best M?\n",
    "weed =  json.loads(open('corpora/data/plants/cannabis.json').read())\n",
    "infinite['M'] = weed['cannabis']\n",
    "# print(infinite['M'])json.loads(open('corpora/data/plants/.json').read())"
   ]
  },
  {
   "cell_type": "code",
   "execution_count": 64,
   "metadata": {},
   "outputs": [],
   "source": [
    "flowers = json.loads(open('corpora/data/plants/flowers.json').read())\n",
    "infinite['?'] = flowers['flowers']\n",
    "# print(infinite['?'])"
   ]
  },
  {
   "cell_type": "code",
   "execution_count": 65,
   "metadata": {},
   "outputs": [],
   "source": [
    "plants = json.loads(open('corpora/data/plants/plants.json').read()) \n",
    "infinite['a'] = [plant['name'] for plant in plants['plants']]\n",
    "# print(infinite['a'])# plants = plants['plants']  "
   ]
  },
  {
   "cell_type": "code",
   "execution_count": 66,
   "metadata": {},
   "outputs": [],
   "source": [
    "religionsJSON = json.loads(open('corpora/data/religion/religions.json').read())\n",
    "religions = []\n",
    "# abrahamic = religionsJSON['Abrahamic']\n",
    "# for branch in abrahamic:\n",
    "#     religions.append(branch)\n",
    "#     for rel in abrahamic[branch]:\n",
    "#         religions.append(rel)\n",
    "# indian = religionsJSON['Indian']\n",
    "# for branch in indian:\n",
    "#     religions.append(branch)\n",
    "#     for rel in indian[branch]:\n",
    "#         religions.append(rel)\n",
    "# iranian = religionsJSON['Iranian']\n",
    "# eastAsian = religionsJSON['East Asian']\n",
    "# african = religionsJSON['African Diasporic']\n",
    "# indigenous = religionsJSON['Indigenous Traditional']\n",
    "\n",
    "for flavor in religionsJSON:\n",
    "    for branch in religionsJSON[flavor]:\n",
    "        religions.append(branch)\n",
    "#         for rel in flavor[branch]:\n",
    "#             if flavor.keys() != {}:\n",
    "#                 religions.append(rel)\n",
    "        \n",
    "infinite['P'] = religions\n",
    "# print(infinite['P'])"
   ]
  },
  {
   "cell_type": "code",
   "execution_count": 67,
   "metadata": {},
   "outputs": [],
   "source": [
    "elements = json.loads(open('corpora/data/science/elements.json').read())\n",
    "infinite['e'] = [element['name'] for element in elements['elements']]\n",
    "# print(infinite['e'])"
   ]
  },
  {
   "cell_type": "code",
   "execution_count": 68,
   "metadata": {},
   "outputs": [],
   "source": [
    "planets = json.loads(open('corpora/data/science/planets.json').read())\n",
    "#moons?\n",
    "infinite['p'] = [planet['name'] for planet in planets['planets']]\n",
    "# print(infinite['p'])"
   ]
  },
  {
   "cell_type": "code",
   "execution_count": 69,
   "metadata": {},
   "outputs": [],
   "source": [
    "weather = json.loads(open('corpora/data/science/weather_conditions.json').read())\n",
    "infinite[\"'\"] = weather['conditions']\n",
    "# print(infinite[\"'\"])"
   ]
  },
  {
   "cell_type": "code",
   "execution_count": 70,
   "metadata": {},
   "outputs": [],
   "source": [
    "sororities = json.loads(open('corpora/data/societies_and_groups/fraternities/sororities.json').read())\n",
    "infinite['D'] = [s['name'] for s in sororities]\n",
    "# print(infinite['D'])"
   ]
  },
  {
   "cell_type": "code",
   "execution_count": 71,
   "metadata": {},
   "outputs": [],
   "source": [
    "sports = json.loads(open('corpora/data/sports/sports.json').read())\n",
    "infinite['s'] = sports['sports']\n",
    "# print(infinite['s'])"
   ]
  },
  {
   "cell_type": "code",
   "execution_count": 72,
   "metadata": {},
   "outputs": [],
   "source": [
    "appliances = json.loads(open('corpora/data/technology/appliances.json').read())\n",
    "infinite['O'] = appliances['appliances']\n",
    "# print(infinite['l'])"
   ]
  },
  {
   "cell_type": "code",
   "execution_count": 73,
   "metadata": {},
   "outputs": [],
   "source": [
    "guns = json.loads(open('corpora/data/technology/guns_n_rifles.json').read())\n",
    "infinite['R'] = guns['weapons']\n",
    "# print(infinite['R'])"
   ]
  },
  {
   "cell_type": "code",
   "execution_count": 74,
   "metadata": {},
   "outputs": [],
   "source": [
    "newTech = json.loads(open('corpora/data/technology/new_technologies.json').read())\n",
    "infinite['q'] = newTech['technologies']\n",
    "# print(infinite['q'])"
   ]
  },
  {
   "cell_type": "code",
   "execution_count": 75,
   "metadata": {},
   "outputs": [],
   "source": [
    "adverbs = json.loads(open('corpora/data/words/adverbs.json').read())\n",
    "infinite['5'] = adverbs['adverbs']\n",
    "# print(infinite['5'])"
   ]
  },
  {
   "cell_type": "code",
   "execution_count": 76,
   "metadata": {},
   "outputs": [],
   "source": [
    "common = json.loads(open('corpora/data/words/common.json').read())\n",
    "infinite['.'] = common['commonWords']\n",
    "# print(infinite['.'])"
   ]
  },
  {
   "cell_type": "code",
   "execution_count": 77,
   "metadata": {},
   "outputs": [],
   "source": [
    "encouraging = json.loads(open('corpora/data/words/encouraging_words.json').read())\n",
    "infinite['C'] = encouraging['encouraging_words']\n",
    "# print(infinite['C'])"
   ]
  },
  {
   "cell_type": "code",
   "execution_count": 78,
   "metadata": {},
   "outputs": [],
   "source": [
    "interjections = json.loads(open('corpora/data/words/interjections.json').read())\n",
    "infinite['N'] = interjections['interjections']\n",
    "# print(infinite['N'])"
   ]
  },
  {
   "cell_type": "code",
   "execution_count": 79,
   "metadata": {},
   "outputs": [],
   "source": [
    "nouns = json.loads(open('corpora/data/words/nouns.json').read())\n",
    "infinite['n'] = nouns['nouns']\n",
    "# print(infinite['n'])"
   ]
  },
  {
   "cell_type": "code",
   "execution_count": 80,
   "metadata": {},
   "outputs": [],
   "source": [
    "drunk = json.loads(open('corpora/data/words/states_of_drunkenness.json').read())\n",
    "infinite['d'] = drunk['states_of_drunkenness']\n",
    "# print(infinite['d'])"
   ]
  },
  {
   "cell_type": "code",
   "execution_count": 81,
   "metadata": {},
   "outputs": [],
   "source": [
    "time = json.loads(open('corpora/data/words/units_of_time.json').read())\n",
    "t = []\n",
    "for section in time:\n",
    "    for unit in time[section]:\n",
    "        t.append(unit)\n",
    "\n",
    "infinite['t'] = t\n",
    "# print(infinite['t'])"
   ]
  },
  {
   "cell_type": "code",
   "execution_count": null,
   "metadata": {},
   "outputs": [],
   "source": []
  },
  {
   "cell_type": "code",
   "execution_count": 82,
   "metadata": {},
   "outputs": [],
   "source": [
    "def infinite_poem(text):\n",
    "    infinipoem = ''\n",
    "    for index in range(len(text)):\n",
    "        char = text[index]\n",
    "        if char in infinite:\n",
    "            infinipoem += random.choice(infinite[char]) + \" \"\n",
    "        elif char == \" \":\n",
    "            infinipoem += \" \"\n",
    "        else:\n",
    "            print(\"\\n\\n\\n\\n\\n\" + char + \"\\n\\n\\n\\n\\n\")\n",
    "\n",
    "    return infinipoem"
   ]
  },
  {
   "cell_type": "code",
   "execution_count": 83,
   "metadata": {},
   "outputs": [
    {
     "data": {
      "text/plain": [
       "'protibial spur Mottled Owl Peterbald dorsal mantle cavity ocelot Jeholosaurus CJ Australian Silky Terrier Albanian Horse quarter Thulium Street racing nanosecond boudoir Insurance & Risk Management Confucius from the Heart dobro '"
      ]
     },
     "execution_count": 83,
     "metadata": {},
     "output_type": "execute_result"
    }
   ],
   "source": [
    "infinite_poem('yB(;o9Q1htestvj8)')"
   ]
  },
  {
   "cell_type": "code",
   "execution_count": 84,
   "metadata": {},
   "outputs": [
    {
     "data": {
      "text/plain": [
       "'tie press Fjord Horse petiolar lamina Pig Peugeot '"
      ]
     },
     "execution_count": 84,
     "metadata": {},
     "output_type": "execute_result"
    }
   ],
   "source": [
    "infinite_poem('OhyzK')"
   ]
  },
  {
   "cell_type": "code",
   "execution_count": 85,
   "metadata": {},
   "outputs": [
    {
     "data": {
      "text/plain": [
       "'Deciduous holly 32. 2178309 Pine Green rowdy Samarium purple mangosteen sand pit quarry Kiso Horse sarong Curriculum & Instruction ankle stick Valeria phosphorus salamander Jupiter unmanned vehicles Do Not Wring Offshore powerboat racing nanosecond Vocal jazz playroom trochlear nerve neoplasm cos(-x) = cos(x) stylus of the third valvula Capricorn '"
      ]
     },
     "execution_count": 85,
     "metadata": {},
     "output_type": "execute_result"
    }
   ],
   "source": [
    "infinite_poem('abcdefghijklmnopqrstuvwxyz')"
   ]
  },
  {
   "cell_type": "code",
   "execution_count": 86,
   "metadata": {},
   "outputs": [
    {
     "data": {
      "text/plain": [
       "\"Cameron Memorial Community Hospital Smith's Longspur groundbreaking Delta Sigma Chi sebum valued Czech Republic Palmer stucco mason Merchant of Venus Ford plaster KC Crop drat hair iron Candomblé Dexter 9mm Glock bronchopneumonia Old Milwaukee Ice Sunitinib Malate jerusalem artichoke Fundraising Jehovah Rapha Late Night Comedies angel \""
      ]
     },
     "execution_count": 86,
     "metadata": {},
     "output_type": "execute_result"
    }
   ],
   "source": [
    "infinite_poem('ABCDEFGHIJKLMNOPQRSTUVWXYZ')"
   ]
  },
  {
   "cell_type": "code",
   "execution_count": 87,
   "metadata": {},
   "outputs": [
    {
     "data": {
      "text/plain": [
       "'Mix {0} and {1}; press onto bottom of baking pan. Mucuchies The Sixth Sense (1999) coward Skhug cautiously Sanz Little Yenisei Harry Potter and the Order of the Phoenix Avisaurus '"
      ]
     },
     "execution_count": 87,
     "metadata": {},
     "output_type": "execute_result"
    }
   ],
   "source": [
    "infinite_poem('0123456789')"
   ]
  },
  {
   "cell_type": "code",
   "execution_count": 88,
   "metadata": {},
   "outputs": [
    {
     "data": {
      "text/plain": [
       "'Corrosion of second degree of unspecified shoulder encourage Hemera mantle septum Thunderstorm sour The Orange County Register State Street Corporation molded pulp Siberian piccolo stairway daisy '"
      ]
     },
     "execution_count": 88,
     "metadata": {},
     "output_type": "execute_result"
    }
   ],
   "source": [
    "infinite_poem(\",./;'-!$&():?\")"
   ]
  },
  {
   "cell_type": "code",
   "execution_count": 89,
   "metadata": {},
   "outputs": [
    {
     "data": {
      "text/plain": [
       "'century American Paint Horse slacks Metallic silhouette shooting  jogging suit Cross-country rally  Keek  century Meitnerium Zen Bu Kan Kempo month '"
      ]
     },
     "execution_count": 89,
     "metadata": {},
     "output_type": "execute_result"
    }
   ],
   "source": [
    "infinite_poem('this is a test')"
   ]
  },
  {
   "cell_type": "markdown",
   "metadata": {},
   "source": [
    "## Obit Test"
   ]
  },
  {
   "cell_type": "code",
   "execution_count": 114,
   "metadata": {},
   "outputs": [
    {
     "data": {
      "text/plain": [
       "\"Dutchmen's Royal Orange Black raspberry Machine Wash, Hot warm polymictic lake Korean rock fern Tumble Dry, Permanent Press Curium decade  lovely Mossycup white oak Tumble Dry, Normal, Medium Heat antelope giraffe undershirt Barrymore Thallium  Ramirez Livetronica Road bicycle racing Beagling Oliver Giant onion laborer actress  stinko ball gown Einsteinium smashed  Mother-of-the-evening blue moon  Suffolk Punch finch Robert Gallium  armadillo allies  Cavallo Romano della Maremma Laziale Einsteinium Do Not Dry  microsecond Silver Iron At Low Temperature Katherine Telemark skiing  mole date  Maroon fox Trevor Saturn spool of ribbon shoes Turquoise Blue California buckeye quarter lingerie antelope headquarters Snow sports  skunk strawberry  Tumbleweed Collard paradox Gray Ytterbium Non-Chlorine Bleach When Needed  bear developer  facial tremor Valley oak year Dunedin Sound Line Dry baked Blackhaw medioventral conjunctiva of the gonostyle/volsella complex  Victor zebra Do Not Dry boardroom dungarees hacker nuclear power plant Anterior subcapsular polar infantile and juvenile cataract, unspecified eye  Power Grid Mossycup white oak accommodation Noise rock Chrysanthemum Drip Dry In Shade anterolateral depression of the petiole  Road House (1989) Nutritional yeast blue moon Silesian Horse tree  multiple sites pelvic swelling Paint Tellurium  cecum adenocarcinoma White cornel Land speed records  2. 1 tiger Line Dry In Shade driver  Northern Light x Apollo G13 Fernleaf yarrow submarginal carina of abdominal tergite  Pudelpointer superhuman Alcohol abuse with intoxication  Pudelpointer Oshanosaurus Mapusaurus wanderer Other spotted fevers  jeans china  blood pail  Candomblé Wound rocket Twenty20 newt Laceration of radial artery at wrist and hand level of left arm  Magnum Manganese cot(x) = cos(x)/sin(x) Strawberry tree Three-legged race slight  Blue Iguana California bay Iron At Low Temperature hypereutrophic lake Poisonberry Do Not Wring Nitrogen hour  garden spade boxers ballroom Promethium stoned  Basque Mountain Horse Strontium Non-Chlorine Bleach When Needed  panda belt bell pepper Aluminum  month wildcat  a bit Galiceño Silver  blueberry Post-Britpop safety pin wallet Tin Indoor soccer year  White trillium allies hammered  fusion Neon study Seaborgium Iron At Medium Temperature  squirt gun seal Motorized sports second  Anglo-Arabian camel Mercury Ruthenium  gopher Do Not Dryclean  Silesian Horse Mercury Iron At High Temperature  Yttrium artisan blue moon Nooitgedachter Ghetto house Powerlifting blazer Bank cress Paragliding Cassidy  cantaloupe alligator Tumble Dry, Normal, High Heat  magnifying glass thong strawberry Iridium due  Hash Plant Swamp white oak Dry Flat sidewalk Bitter nightshade Line Dry Californium once in a while  Creeping thistle blue moon year Meitnerium commenter impaired Antimony pissed  Gnosticism hippopotamus sofa toe  synovial fluid needle Chromium Seth Ruthenium drilling month River birch Do Not Bleach profurca Motorcycle passenger injured in collision with two- or three-wheeled motor vehicle in traffic accident  Reed seal Do Not Iron header Argon thirsty lizard  Kahuna suit annihilated intoxicated candle Francium  decreased appetite Cotton Candy Burmese Horse salamander mink whip  Spiny sow thistle logic thirsty  exhilarated Tumble Dry, Normal, Medium Heat Green ash licence finger whip nightwear matron  Reed t-shirt shrimp pond Soviet Heavy Draft  fixed dilated pupils Scarlet Taishū Horse bat panther scallop shell  micropapillary variant infiltrating bladder urothelial carcinoma Asturcón Californium Iron At Low Temperature Terbium  Hunter-jumpers Yonaguni Horse Oganesson  Uranus rubber stamp Osage orange transpleural sulcus Vanadium tanked  41. 165580141 White mulberry Knife throwing eye Rubidium hour 13. 233 Yarrow glass wine glass  Virginia virgin's bower eloquence baked  newsroom leopard box of tissues ipod Thulium fourth tarsomere 10. 55 Leek lip gloss statuette instead  Huron Rose Do Not Wring take-out restaurant Gloriosa daisy Do Not Wash Darmstadtium later  eccrine porocarcinoma Bay Wakesurfing  Parsley shark Monster truck koala  Pin oak  Saturn sailboat Indian poke medioventral conjunctiva of the gonostyle/volsella complex Bohrium Non-Chlorine Bleach When Needed  urinary bladder anterior wall cancer hoody blue moon Menorquín  minute Pottok Berkelium  sweat bananas  Gnostic religions Hedge plant Underwater cycling prairie dog  Oil & Energy swimming costume packet of seeds three sheets to the wind date kilt Machine Wash, Warm Cobalt  snap pea coyote ice cream stick scallop shell Nobelium metatrochantinal muscle 17. 1597 Pokeweed handheld game system word search  terrific baseball Dream pop 20. 6765 happen  Vanilla Kush Swinies Iron riverine anchor ice Bristly groundberry Machine Wash, Cold Antimony second  esophageal neuroendocrine tumor Sneezewort Jianzi  Herb barbara  Brittany Oxygen Chloe 35. 9227465 Einsteinium Tumble Dry, Normal, No Heat  bull blackcurrant  moment Gypsy Horse Bromine  Machine Wash, Hot Zinc island arc catsuit fish misunderstanding Yellow birch martini glass  Gordon waterproof insequent stream Mustang Horse  Judaism and related religions Tantalum Line Dry redcurrant rhinoceros Machine Wash, Gentle or Delicate Riley Western wake robin cursor Pine Green Gadolinium  Don't Quote Me Ethereal wave leasing pashmina donkey Tumble Dry, Normal, High Heat  radiator plush octopus first intrinsic muscle of the labial palp Jordan Ceres briefs Royal Purple  Oyotunji lingerie Pluto Lead card cravat observer Cerium  month Praseodymium Swamp cabbage Alexandra  transient myeloproliferative syndrome t-shirt hour Paso Fino  dung building floor cardigan Machine Wash, Gentle or Delicate can of chili Barrel Racing  plum Tumble Dry, Gentle monkey Julia  Glass, Ceramics & Concrete Rhodium Kumdo a bit  Carlton Cold Silicon 1 + cot^2(x) = csc^2(x) Corn speedwell Varzesh-e Pahlavani  Dogwood girlfriend tore up  huzza Ruthenium posterior foramen magnum meningioma  Mount Cook Mendelevium csc(x) = 1/sin(x) cravat Robin's Egg Blue finch available  Beck's Light Shagya Arabian sweater Snowboarding  hour Berkelium Giant ragweed Dylan  testicular yolk sac tumor camel normalcy  millisecond Yili Horse Ruthenium  Lost in Translation (2003) Remove from heat, and sprinkle with {0}. Cook over medium-high heat until evenly brown. freely  right Blueberry later zip giraffe perusal Maize lip gloss  powerful East Friesian Horse Pigeon berry Abby Pluto pashmina gnu processor Skysurfing Pentro Horse swimwear Ceres  tracksuit grouping  foreboding hour colleague  cinder block Black nightshade Progressive folk wrecked Hafnium Do Not Steam smashed Tall coneflower acorn Xenon Other contact with crocodile  depressed brick short  PolarLight Black birch Do Not Bleach building floor Boston fern or sword fern Iron At Low Temperature Actinium moment  Arsenic beginner Engineering Mechanics chimpanzee principal carina of stipes Fermium thirsty  European flax juror smashed  Platinum cot(x) = 1/tan(x) Red Holmium sword hair brush Holmium friendly  ball gown ignition  Benjamin Bamboo invasion eighth flagellomere  Broomball Eris elk Bleach When Needed nanosecond Vintage racing  shirt girlfriend Dandelion key chain Contemporary folk hammered swimming costume epilepsy feedlot  Eris opossum hair Tennessine Iron income  Mozambique Poison Mahogany birch Tumble Dry, Normal, Low Heat atmosphere and water column exposed melt pond Pedunculate oak Iron At Medium Temperature Sodium millenium  periocular meningioma Dryclean gorilla week Hydrogen  Pudina organisation totaled  Earth Electro-grime 40. 102334155 fish shorts Fives Vyatka Radium disorderly  Cornelian tree  48. 4807526976 lizard bat lip  Gomez newt Ceres Bohrium  fleece Mongolian wrestling  Griffin Polonium Iron At Low Temperature Lead Other ossification of muscle, left thigh  pancreatic delta cell neoplasm Hand Wash cravat millisecond century Astatine ultimatum  90 days woodchuck  Mars Iron At High Temperature tiger atelier sunglasses canned Gallium  Sprint football Yttrium Machine Wash, Permanent Press boots turtle Skate punk Wallyball speakers flexor of the pretarsal claws of the middle leg  swimming shorts plush rabbit drawer  Copper Criollo Horse fleece pearl necklace pissed Machine Wash, Warm Promethium self-control  localized chondrosarcoma poncho month Waler  fortnight Monterufolino Francium  Regularity rally Black cherry Liliana Cerium  One Day International Makemake boxers Machine Wash, Warm corset second  buffalo chili pepper  Underwater football Psychedelic rock Bleach When Needed tv room lingerie den Indian arrowwood plush octopus  Sycamore (Arizona) saloon buzzed  Social & Philosophical Foundations of Education fox lateral metapleuro-metabasalar muscle  kangaroo watermelon  rock trousers cantaloupe Hassium  Aerobatics Australian Stock Horse Platinum  Ceres prairie dog Cowboy polo Discus Gold Supersport racing Vajra-mushti Cobalt disorderly call  slow cooker probation  second Choctaw Horse Tellurium  assembly room gopher rabbit butter knife Promethium submarginal carina of abdominal tergite 15. 610 Birch stick giraffe  Blush ocelot Sound art Hand Wash day Hemorrhagic disease of newborn  Blue God Early wintercress Tumble Dry, Normal, High Heat water-based planetary surface Swamp dogwood Drip Dry Meitnerium once in a while  ovarian small cell carcinoma Asian rice Climbing  Dooryard plantain  residency Silkweed millenium Sadcore Dry In Shade Meadow holly conditioner  pair of rubber gloves Calcium Blunt-leaved Milkweed three sheets to the wind Lutetium Iron At Low Temperature  Coyote willow catfish drunk  Cane ash  Makemake oryx Coasteering baby grow fortnight dungarees kitchen Cerium  goji berry wolverine Do Not Steam Eggplant Terbium europe  MedStar Union Memorial Hospital Kaitlyn beaver anatomy continental crust  Nonius Horse Einsteinium Tumble Dry, Gentle  salal berry Dry Flat In Shade polo shirt Francium forefinger gone Fierljeppen  Leek siding tipsy  honeydew Sand brier Karen belt glass basitarsal articular process of the protibia Other mature T/NK-cell lymphomas, extranodal and solid organ sites  Hashmaster Water maple Drip Dry In Shade tobacco warehouse Blue bindweed Machine Wash, Permanent Press Seaborgium second  extraosseous chondrosarcoma California thistle Vale tudo  Bank cress  9. 34 California walnut tight  California bay frank resentful  Drip Dry In Shade bear Fuchsia elbow  Pole climbing century Island oak Dry In Shade  Fernleaf yarrow staging hammered  Tobacco plant nail clippers laryngeal mucoepidermoid carcinoma Shadblow orbit Pato  fortnight Pleven Horse Livermorium  Tan Hydrogen Saturday microsecond Vanadium Iron At Medium Temperature  hamster elderberry  jambul Ska punk leadership  Annual sow thistle condominium delerious  glow stick Tassel weed Chillwave distributary Norwegian Coldblood Trotter blue moon Ruthenium Non-Chlorine Bleach When Needed blue  Stone Praseodymium Dry Flat In Shade  Sophia newt week moment lynx Whitewater kayaking  meningothelial meningioma Curium Dry Flat Hydrogen  Ice Pellets Drizzle Tecate Light ovarian seromucinous carcinoma romper Mahogany Californium  Screwbean mesquite Vigoro  diminished gag reflex once in a while Machine Wash, Hot wildcat indecency hospital Funnel Cloud in Vicinity  Winterberry mowing gone  Dust Storm in Vicinity foo Thorium lobby Indium Dry In Shade  Radical weed  Kappa Phi Gamma Jump-Up wooden spoon domino set  Smoothie cat Hope Palladium matrix later Heavy Rain Ice Pellets past  Mikado Redbrush Do Not Wring permanent marine thermocline Hound's berry Drip Dry Yttrium hour  cummerbund T'ai chi ch'uan  Quidditch Jazz rap Machine Wash, Permanent Press den briefs computer lab Fermium delerious  3. 2 large disc sensilla  Mecklenburger Radon Tumble Dry, Normal  Jupiter Touch-me-not Bleach When Needed Mendelevium evacuation millisecond Campdrafting Osteonecrosis in diseases classified elsewhere, thigh  Trego County-Lemke Memorial Hospital Julia stylus of the third valvula  Strawberry tree babbling gone  Herrera Evergreen winterberry Iron Dryclean furcula  Hart Acid techno Ten-ball Aizkolaritza Courtney False box domination mainframe Military operations involving flamethrower, civilian  Kundudo Chlorine Iron  fortnight colorectal adenocarcinoma tailcoat telephony  22. 17711 Line Dry seal day Appaloosa Promethium Machine Wash, Hot  Vanilla orchid blossom wrecked  Heavy Rain Fog malignant ciliary body melanoma sloth David 14. 377  Haley Western redbud hour Fermium Heavy Freezing Drizzle  bravo Common serviceberry sponge trashed Hafnium Machine Wash, Permanent Press  Arnold Hellebore eighth flagellomere cervix melanoma Pokeroot Machine Wash, Gentle or Delicate thrashed  Yellow corydalis celebrity delerious  gila monster bottle of honey impaired Hafnium Line Dry  31. 1346269 Dryclean raccoon blue moon Fleuve Palladium Iron At Low Temperature  12-gauge Remington 870 pump-action shotgun boar 8. 21 Copper Dry Flat minute  Molson Ice Arabian Horse horse Sara Gallberry Model aerobatics arm I  ethnic food shop Iron At High Temperature Inkberry hierarchy baked Eris Indian hemp Machine Wash, Hot Europium vaccination week Skeleton  O'Doul's Amber weasel Addison  Nigeria live  Moreno Drone Ferret legging Wheelchair racing Abigail Western trillium regularity stole  Blue ash developer thirsty  insomnia with sleep apnea lemur tendency Engineering Physics Bear corn  Arizona Heart Institute Dry Flat In Shade boldness monkey spice bottle lit  Olive-backed Pipit coyote goat supposition Iron buccal crown  Percheron Oxygen Do Not Steam  Evergreen winterberry Math rock environment later Skyrunning  Hound's berry organizer rowdy  EDM auspices Blue Bell keyboard Strontium Backpacking  Alegent Health Mercy Hospital chocolate lingerie Turquoise Blue Tantalum  Health, Wellness & Fitness Žemaitukas robe once in a while Silver  Weeping birch hardship lit  Croatian Coldblood Big beat Hornussen 18. 2584 Roundleaf plantain boomer gone  Rocklock shawl chin Berkelium  Lamb's foot barrier trashed  Northern Hospital of Surry County formula cynicism Iron  Shaw bill  CH9 Flower cummerbund second Green Yellow American Warmblood Nihonium bottle of paint vase  Silky cornel bounds impaired  Latvian Horse Hardstep Jūkendō 41. 165580141 Garden nightshade intermission disorderly  Blue Skunk Special Spotted deadnettle Iron mouth collect  Sour Diesel Climbing nightshade Tumble Dry, Normal, No Heat methane-releasing thermokarst lake Rock harlequin Tumble Dry, Normal, Low Heat Bromine a bit  jogging suit Steer Wrestling  Healing blade rubber band Toboggan toad  Cuju Southern rock Dry Flat clean room corset study Actinium three sheets to the wind  1. 1 metafurcal pit  Charlotte Poisonberry cartridge first sclerite of the labial palp Laceration of other muscles, fascia and tendons at shoulder and upper arm level, unspecified arm  Autumn Carrot weed driver protibial spur  pear Dry In Shade kilt Niobium complexity intoxicated Hurling Placenta previa with hemorrhage, second trimester  Tickle Me Pink twister Tall coneflower International fronton Cuju Christian Carrot millenium Praseodymium Rowing  Scarlet oak loathing buzzed  Kaimanawa Horses Zirconium Iron At Low Temperature  canned beaver dedicated campground Table sports  Zeta Tau Alpha zebra Machine Wash, Cold Moosewood  Grapevine semifinal tanked  Red-necked Phalarope Freakbeat 34. 5702887 36. 14930352 Bank cress member  Swiss Cheese Sessile oak Do Not Wash sea shore Woody nightshade Tumble Dry, Normal, No Heat Zirconium nanosecond Light Drizzle Fog Bartitsu  huckleberry Pocan bush Samuel tankini drawer first flagellomere  briefs Object spinning  sediment surface Do Not Iron California walnut nanosecond Wolfram persimmon Shoegaze food  later elk  Kappa Phi Lambda Line Dry drive  La Sagra's Flycatcher Tellurium lodging Comparative Literature Black raspberry Christian zip framework  genius Felonwort Do Not Steam Peach Trailing bittersweet Brayden porpoise Chronic myeloid leukemia, BCR/ABL-positive, in remission  Mu Sigma Upsilon Machine Wash, Normal farm  aluminum Apple Do Not Steam Iron eighth flagellomere  St. Pauli N. A. Do Not Tumble Dry Zirconium Stephanie Saturn Plutonium Tumble Dry, Normal, Low Heat  Pleurisy root ardor totaled  week Qatgani Actinium  Santería (Lukumi) Meitnerium stoned vest Blueberry cornel millisecond Machine Wash, Cold trainers Green Yellow  fire pot semifinal Purple Pizzazz woodchuck can of whipped cream beaver asbestos building roof mesoscutum  Jujutsu once in a while Baobab cranberry jackfruit  Bitterweed year  Christianity Iron At Low Temperature canary fallout shelter shoes tore up Potassium simplicity Purple Mountain's Majesty Terbium  KC Crop Meitnerium Paul panda Iron At Medium Temperature sunglasses Sauce-alone clothes pin  Carter mole Abseiling Pluto kilt millisecond Poisonberry money  Earth gall apostle sloshed  Jilly Bean worth Kappa Delta Chi reduce  Overland Park Regional Medical Center commander plastered Iron Do Not Iron Scrub baseball monkey righteousness Traumatic amputation of shoulder and upper arm  Shadblow Deep-water soloing  Sertoli cell tumor Neptunium bottle of sunscreen car  Itchweed Lacrosse  King zebra Footvolley Uranus jogging suit Fuchsia Strontium  buffalo peach  bile lamp  Post-theistic and naturalistic religions False alder Footbag hippopotamus committee  Dosher Memorial Hospital  Master Kush Silicon Alan cougar Tumble Dry, Normal, Medium Heat sweatshirt Great ragweed map  continuous fever Astatine Do Not Wash garage underpants Blue Green Calcium  vulvar proximal-type epithelioid sarcoma trousers rabbit candlestick  20. 6765 Copernicium  Mountain Pleasure Horse Europium pack of cards plastered  Consumer Services Krypton tipsy nexus Erbium Wakesurfing tipsy Island oak ovipositor muscle Varicose veins of left lower extremity with inflammation  Luck of the Draw Common milkweed broccoli Yorkshire Bleeps and Bass Silver birch Tumble Dry, Permanent Press galeal lamina  Oliver! (1968) Junie B. Jones Osseous and subluxation stenosis of intervertebral foramina of abdomen and other regions  Chinatown (1974) Add {0}, one at a time, mixing on low speed after each just until blended. Stir into {0} until just blended. Graciliceratops  Beech century  Núñez fire escape Place the {0} and {1} in the pitcher of a blender; blend until smooth. Add {0}, and cook about 8 to 10 minutes.  Shabakism Morning Star  Leatherleaf viburnum millisecond  clonic seizure hour danger  Ambrosia Blue ash Non-Chlorine Bleach When Needed lower leg A Few Clouds and Breezy Snow kiting  Ziconotide definition belt second Mendelevium gone  Querkle Krypton day Cretan Horse reindeer delerious skirt Modern Arnis decade  marvelous Kazakh Horse Skate punk Non-Chlorine Bleach When Needed Aquamarine Lyngshest Lead-induced chronic gout, unspecified shoulder  helplessly Microwave {0} and {1} in microwaveable bowl on HIGH 1 minute or until {0} are completely melted and mixture is well blended, stirring every 30 seconds. In a large bowl, mix together {0} and {1}. likely  parallel strand lumber boar anteroom Tennessine  9mm Taurus semiautomatic thirsty sale  radio equipment installer brunch  CD pyjamas Silicon Anarcho punk  dingo blackcurrant  jujube marble frog bladder sarcoma Cobalt Tumble Dry, Normal, Medium Heat Shidōkan Karate Chondrolysis, hip  Jillian Thulium Liliana cougar Dry Flat swimwear Petty morel chapter book  Yellow Green lynx genesis decade Tumble Dry, Permanent Press baby grow 22. 17711 Horror punk week boxers guinea pig morale Rock climbing  Alexander Walnut (California walnut) propleural muscle  3. 2 Holmium  Ana Pedunculate oak three sheets to the wind Francium  microsecond crow  Campbell mouse Luge Pluto shirt Raw Sienna Zinc  silver fox quince  tears bottle of soda  Bábí movement Cutleaf maple Cockfighting ape Ares Pure Power Peach Tumble Dry, Normal, High Heat barrier island California sycamore Tumble Dry, Normal, Low Heat Yttrium later Thunderstorm in Vicinity Fog Wallball  10mm Glock gnu lamb Rebecca Perforated corneal ulcer, unspecified eye  Hare Indian Dog Black vinegar Tekka Blend in the {0}.  Vortex swimming shorts Dry In Shade Milky tassel Aquamarine letter opener Gadolinium  Aviation & Aerospace Indian poke large volcano sensilla Exposure to smoke in uncontrolled fire in building or structure  chyle toy robot  Zoroastrianism Spice birch Snow rugby whale Alcohol abuse with intoxication  Keystone Lager Jehovah-Raah  Jubba Chihuahuasaurus Nectosaurus Beauty and the Beast (1991) successfully  mole Do Not Bleach  second Pottok Silver  sputum squirt gun  African Screwbean mesquite Foosball panther  breathtaking baboon Ryan Maria Post-Britpop driver sunglasses week scutellar bridge  useless shrew Yacht rock warmth baked Red ink plant 30 days trainers prairie dog mobility  grape orangutan Machine Wash, Permanent Press  a bit Sardinian Anglo-Arab Praseodymium  45. 1134903170 Hydrogen murderer Copper cloudberry baby grow 30 days  zebra blackcurrant  microsecond Bashkir Curly Dubnium  recumbent Line Dry Horse cane righteousness mouth pair of knitting needles dress mentality  Webb lingerie chemocline Auxois  stress incontinence Wild Watermelon Missouri Fox Trotter cougar camel stockings  garlic donkey sheep bouquet of flowers Francium prosterno-procoxal muscle 4. 3 Silky dogwood cowboy hat flyswatter  Miller Genuine Draft Lutetium Pokeweed Ricardo Scrotal transposition  Din-e Ilahi straight oven report  Tennessee Warbler parakeet sin(x) = 1/csc(x)  Lawrence of Arabia (1962) Tapajós The Lord of the Rings: The Two Towers (2002) Salter-Harris Type I physeal fracture of upper end of right fibula  tears clock  Gnosticism Black ash Autograss cheetah Malignant neoplasm of left orbit  Milwaukee's Best Ice Jehovah Sabaoth  Mississippi Siamotyrannus Pteropelyx Brown mustard self home  Pel-Epstein fever Neodymium Do Not Wring attic kurta Yellow Americium Freestyle football  Chlorine trauma month Do Not Steam Futurepop Aid climbing millenium Helium tanked  minute iguana  SnowStorm Poison ivy Machine Wash, Permanent Press once in a while robe repository  hysterical Black metal withholding Cobalt Do Not Tumble Dry Squaw bush speakers  Morgan chipmunk Brittany Holmium  Wholesale Lanthanum Kite flying a bit Epidermolysis bullosa dystrophica  Irish Water Spaniel The Little Mermaid (1989) Santa Evita  hot dog same  Hi-Point CF380 Americium Trugo basketball Potassium Machine Wash, Cold  Kappa Phi Gamma Do Not Tumble Dry industry Interstitial myositis, unspecified shoulder  synovial fluid roll of stickers  Black Hebrew Israelites Mossycup white oak Papi fut llama  Budweiser Select Yahweh  Krishna Tylocephale Ankylosaurus Bouvier des Ardennes Trainspotting (1996) wonder \""
      ]
     },
     "execution_count": 114,
     "metadata": {},
     "output_type": "execute_result"
    }
   ],
   "source": [
    "infinite_poem(\"Margaret Caroline Hussmann died at home on her terms of complications of cancer on Saturday morning, January 24th. She was born May 13, 1993, in El Paso, Texas. Margaret lived her life to the fullest and never lost hope or her enthusiasm for life. Margaret attended Polk Elementary, Hornedo Middle School and Franklin High School where she played basketball and volleyball. Margaret was also a player with the El Paso Wildfire Volleyball Club. Margaret was a member of the regional High Performance Junior Olympic Pipeline team with girls from West Texas and New Mexico. This team won the 2005 National Championship in Ft. Lauderdale, FL. Margaret enjoyed and excelled in many sports including poker. Margaret wrote and published a book Hope is Here, written to provide seriously ill children with the same spirit of survival and joy of life she possessed. On the volleyball court, Margaret was a natural leader and a positive force. Among her friends and family, Margaret was a bad a-- rock star and always the center of fun and laughter. Her mottos were 'Twice as Strong' and 'Never a Dull Moment'. Margaret is survived by her parents, Amy and Harry Hussmann, her twin brother and 'womb mate' Calder Hayward and older brother Robert Thomas; grandparents Tom G. Hussmann and Sonja Arnold Boone; her aunts and uncles Alice White and husband Mike and Anne H. Mitchell and husband Mark. Margaret is also survived by many, many friends, classmates and her dogs Dora and Bubba. Margaret's family is grateful to Dr. Benjamin Carcamo, Dr. Larry Tremper and the Pediatric Oncology staff at Providence Memorial Hospital and M.D. Anderson, as well as Hospice of El Paso. A Memorial Service will be held Wednesday, January 28, 2009 at 6:00 PM at St. Mark's United Methodist Church, 5005 Love Rd. In lieu of flowers, memorial contributions may be made to Hospice of El Paso/Margaret's Room, 1440 Miracle Way, El Paso, TX 79925 or the El Paso Community Foundation for the benefit of the Franklin High School Volleyball Team, P.O. Box 272, El Paso, TX 79943. Services entrusted to Martin Funeral Home West, 128 N. Resler Dr., El Paso TX 79912.\")"
   ]
  },
  {
   "cell_type": "markdown",
   "metadata": {},
   "source": [
    "### Notes\n",
    "\n",
    "- should it be randomly selecting each dataset? or better paired with ecosystem idea if always same\n",
    "- recipe instructions paired with food dataset\n",
    "- read indiv or all strung together?"
   ]
  }
 ],
 "metadata": {
  "kernelspec": {
   "display_name": "Python 3",
   "language": "python",
   "name": "python3"
  },
  "language_info": {
   "codemirror_mode": {
    "name": "ipython",
    "version": 3
   },
   "file_extension": ".py",
   "mimetype": "text/x-python",
   "name": "python",
   "nbconvert_exporter": "python",
   "pygments_lexer": "ipython3",
   "version": "3.6.8"
  }
 },
 "nbformat": 4,
 "nbformat_minor": 2
}
