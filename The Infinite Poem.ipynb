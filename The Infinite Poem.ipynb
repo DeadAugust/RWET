{
 "cells": [
  {
   "cell_type": "markdown",
   "metadata": {},
   "source": [
    "# The Infinite Poem\n",
    "\n",
    "## Approaching a visualization of the language of the dead\n",
    "\n",
    "**Reading and Writing Electronic Text  \n",
    "Final Project by August Luhrs  \n",
    "ITP Spring 2019 -- Allison Parrish**"
   ]
  },
  {
   "cell_type": "markdown",
   "metadata": {},
   "source": [
    "## TO DO\n",
    "- Data set collection\n",
    "    - add associated character\n",
    "- poem structure\n",
    "- input corpus\n",
    "- visualization\n",
    "    - output how?\n",
    "- OH\n",
    "    - list comprehension\n",
    "    - visualization\n",
    "    - looping"
   ]
  },
  {
   "cell_type": "markdown",
   "metadata": {},
   "source": [
    "## Corpora Datasets\n",
    "from [Darius Kazemi's Corpora Project](https://github.com/dariusk/corpora)\n",
    "\n",
    "### Animals (9)\n",
    " - ant anatomy [y]\n",
    " - birds north america [B]\n",
    " - cats [(]\n",
    " - cephalopod anatomy [;]\n",
    " - common [o]\n",
    " - dinosaurs [9]\n",
    " - dog_names [Q]\n",
    " - dogs [1]\n",
    " - horses [h]\n",
    " \n",
    "### Archetypes (3)\n",
    "- character [3]needed\n",
    "- event \n",
    "- setting\n",
    "\n",
    "### Architecture (2)\n",
    "- Passages\n",
    "- Rooms [v]\n",
    "\n",
    "### Art (1)\n",
    "- isms \n",
    "\n",
    "### Books (2)\n",
    "- academic subjects [j]\n",
    "- bestselling books [8]\n",
    " \n",
    "### Colors (1)\n",
    "- crayola [c]\n",
    "\n",
    "### Corporations (5)\n",
    "- cars [K]\n",
    "- charities\n",
    "- fortune500 [$]\n",
    "- industries [W]\n",
    "- newspapers [!]\n",
    "\n",
    "### Divination (1) 24\n",
    "- zodiac [z]\n",
    "\n",
    "### Film - TV (3)\n",
    "- Netflix Categories [Y]\n",
    "- Popular Movies [2]\n",
    "- TV Shows\n",
    "\n",
    "### Food (14)\n",
    "- apple cultivars\n",
    "- bad beers [T]\n",
    "- beer styles\n",
    "- breads and pastries\n",
    "- list of recipe instructions [0]\n",
    "- condiments [4]\n",
    "- fruits [f]\n",
    "- herbs n spices [\"]\n",
    "- hot peppers\n",
    "- cocktails\n",
    "- menu items [M]\n",
    "- pizza toppings\n",
    "- vegetables [V]\n",
    "- wine descriptions\n",
    "\n",
    "### Games (3)\n",
    "- board games\n",
    "- pokemon\n",
    "- wrestling moves\n",
    "\n",
    "### Geography (6)\n",
    "- countries [G]\n",
    "- environmental hazards\n",
    "- geographic features[g]\n",
    "- nationalities\n",
    "- rivers [7]\n",
    "- us cities\n",
    "\n",
    "### Governments (2)\n",
    "- us federal agencies\n",
    "- us military operations\n",
    "\n",
    "### Humans (13)\n",
    "- atus activities [H]\n",
    "- body Parts [k]\n",
    "- celebrities\n",
    "- descriptions [-]\n",
    "- honorifics\n",
    "- famous Duos\n",
    "- first names [m]\n",
    "- last names (combine?) [H]\n",
    "- moods [F]\n",
    "- jobs[I]\n",
    "- spanish first names\n",
    "- spanish last names [6]\n",
    "- wrestlers\n",
    "\n",
    "### Instructions (1)\n",
    "- laundry care [r]\n",
    "\n",
    "### Materials (5 of 6)\n",
    "- abridged-body-fluids [E]\n",
    "- building materials [L]\n",
    "- fabrics\n",
    "- ~~layperson metals~~\n",
    "- packaging [&]\n",
    "- sculpture materials \n",
    "\n",
    "### Mathematics (4)\n",
    "- fibonnaci sequence (first 50 or something?) [b]\n",
    "- primes \n",
    "- primes binary\n",
    "- trigonometry [x]\n",
    "\n",
    "### Medicine (7)\n",
    "- **cancer** [w]\n",
    "- diagnoses [,]\n",
    "- diseases (hard to pull)\n",
    "- drugs [U]\n",
    "- hospitals [A]\n",
    "- infectious diseases\n",
    "- symptoms [S]\n",
    "\n",
    "### Music (3)\n",
    "- bands that have opened for tool\n",
    "- genres [u]\n",
    "- musical instruments [)]\n",
    "\n",
    "### Mythology (3)\n",
    "- greek gods [/]\n",
    "- hebrew god [X]\n",
    "- monsters [Z]\n",
    "\n",
    "### Objects (2)\n",
    "- clothing [i]\n",
    "- household objects [l]\n",
    "\n",
    "### Plants (3) 93\n",
    "- **cannabis** [M]\n",
    "- flowers [?]\n",
    "- plants [a]\n",
    "\n",
    "### Religion (1)\n",
    "- religions [P]\n",
    "\n",
    "### Science (3)\n",
    "- elements [e]\n",
    "- planets [p]\n",
    "- weather conditions[']\n",
    "\n",
    "### Societies and Groups (2)\n",
    "- us terrorist groups\n",
    "- sororities [D]\n",
    "\n",
    "### Sports (1)\n",
    "- **sports** [s]\n",
    "\n",
    "### Technology (4)\n",
    "- appliances [O]\n",
    "- **guns n rifles** [R]\n",
    "- knots\n",
    "- new technologies [q]\n",
    "\n",
    "### Words (8)\n",
    "- shakespeare phrases \n",
    "- adverbs [5]\n",
    "- common english words [.]\n",
    "- encouraging words [C]\n",
    "- interjections [N]\n",
    "- nouns [n]\n",
    "- states of drunkenness [d]\n",
    "- units of time [t]\n",
    "\n",
    "\n",
    "### Total: 112 of est. 68 needed\n",
    "ASCII Table -- 94 including rando punc...\n",
    "\n",
    "Characters unassigned:  \n",
    "[]\\=<>:{}|@#%^*_+~`  \n",
    "\n",
    "\n"
   ]
  },
  {
   "cell_type": "markdown",
   "metadata": {},
   "source": [
    "# TODO\n",
    "- cull the 112 into X\n",
    "- add unique relevant data\n",
    "- make the new lists for each\n",
    "- make the giant if (dict?)\n",
    "    - better to use giant dict of all possibles? then can just go char by char and do random.choice on the values for that key\n",
    "    \n"
   ]
  },
  {
   "cell_type": "markdown",
   "metadata": {},
   "source": [
    "## Lists"
   ]
  },
  {
   "cell_type": "code",
   "execution_count": 1,
   "metadata": {},
   "outputs": [],
   "source": [
    "import json\n",
    "import random"
   ]
  },
  {
   "cell_type": "code",
   "execution_count": 2,
   "metadata": {},
   "outputs": [],
   "source": [
    "# need default dict?\n",
    "infinite = {}"
   ]
  },
  {
   "cell_type": "code",
   "execution_count": 3,
   "metadata": {},
   "outputs": [],
   "source": [
    "ant_anatomy = json.loads(open('corpora/data/animals/ant_anatomy.json').read())\n",
    "ant_anatomy = ant_anatomy['parts']\n",
    "infinite['y'] = ant_anatomy"
   ]
  },
  {
   "cell_type": "code",
   "execution_count": 4,
   "metadata": {},
   "outputs": [],
   "source": [
    "birds_NA = json.loads(open('corpora/data/animals/birds_north_america.json').read())\n",
    "birds = []\n",
    "for fam in birds_NA['birds']:\n",
    "    for bird in fam['members']:\n",
    "        birds.append(bird)\n",
    "infinite['B'] = birds"
   ]
  },
  {
   "cell_type": "code",
   "execution_count": 5,
   "metadata": {},
   "outputs": [],
   "source": [
    "cats = json.loads(open('corpora/data/animals/cats.json').read())\n",
    "cats = cats['cats']\n",
    "infinite['('] = cats"
   ]
  },
  {
   "cell_type": "code",
   "execution_count": 6,
   "metadata": {
    "scrolled": true
   },
   "outputs": [],
   "source": [
    "cephalopod = json.loads(open('corpora/data/animals/cephalopod_anatomy.json').read())\n",
    "cephalopod = cephalopod['parts']\n",
    "infinite[';'] = cephalopod"
   ]
  },
  {
   "cell_type": "code",
   "execution_count": 7,
   "metadata": {},
   "outputs": [],
   "source": [
    "common_Animals = json.loads(open('corpora/data/animals/common.json').read())\n",
    "common_Animals = common_Animals['animals']\n",
    "infinite['o'] = common_Animals"
   ]
  },
  {
   "cell_type": "code",
   "execution_count": 8,
   "metadata": {},
   "outputs": [],
   "source": [
    "dinosaurs = json.loads(open('corpora/data/animals/dinosaurs.json').read())\n",
    "dinosaurs = dinosaurs['dinosaurs']\n",
    "infinite['9'] = dinosaurs"
   ]
  },
  {
   "cell_type": "code",
   "execution_count": 9,
   "metadata": {},
   "outputs": [],
   "source": [
    "dog_names = json.loads(open('corpora/data/animals/dog_names.json').read())\n",
    "dog_names = dog_names['dog_names']\n",
    "infinite['Q'] = dog_names"
   ]
  },
  {
   "cell_type": "code",
   "execution_count": 10,
   "metadata": {},
   "outputs": [],
   "source": [
    "dogs = json.loads(open('corpora/data/animals/dogs.json').read())\n",
    "dogs = dogs['dogs']\n",
    "infinite['1'] = dogs"
   ]
  },
  {
   "cell_type": "code",
   "execution_count": 11,
   "metadata": {},
   "outputs": [],
   "source": [
    "horses = json.loads(open('corpora/data/animals/horses.json').read())\n",
    "horses = horses['horses']\n",
    "infinite['h'] = horses"
   ]
  },
  {
   "cell_type": "code",
   "execution_count": 12,
   "metadata": {},
   "outputs": [],
   "source": [
    "characterJSON = json.loads(open('corpora/data/archetypes/character.json').read())\n",
    "character = []\n",
    "for name in characterJSON['characters']:\n",
    "    character.append(name['name'])\n",
    "infinite['3'] = character"
   ]
  },
  {
   "cell_type": "code",
   "execution_count": 13,
   "metadata": {},
   "outputs": [],
   "source": [
    "passages = json.loads(open('corpora/data/architecture/passages.json').read())\n",
    "passages = passages['passages']\n",
    "infinite[':'] = passages"
   ]
  },
  {
   "cell_type": "code",
   "execution_count": 14,
   "metadata": {},
   "outputs": [],
   "source": [
    "rooms = json.loads(open('corpora/data/architecture/rooms.json').read())\n",
    "rooms = rooms['rooms']\n",
    "infinite['v'] = rooms"
   ]
  },
  {
   "cell_type": "code",
   "execution_count": 15,
   "metadata": {},
   "outputs": [],
   "source": [
    "academic = json.loads(open('corpora/data/books/academic_subjects.json').read())\n",
    "academic = academic['subjects']\n",
    "infinite['j'] = academic"
   ]
  },
  {
   "cell_type": "code",
   "execution_count": 16,
   "metadata": {},
   "outputs": [],
   "source": [
    "books = json.loads(open('corpora/data/books/bestsellers.json').read())\n",
    "books = books['books']\n",
    "titles = []\n",
    "for book in books:\n",
    "    titles.append(book['title'])\n",
    "infinite['8'] = titles"
   ]
  },
  {
   "cell_type": "code",
   "execution_count": 17,
   "metadata": {},
   "outputs": [],
   "source": [
    "colors = json.loads(open('corpora/data/colors/crayola.json').read())\n",
    "color = []\n",
    "for crayons in colors['colors']:\n",
    "    color.append(crayons['color'])\n",
    "infinite['c'] = color"
   ]
  },
  {
   "cell_type": "code",
   "execution_count": 18,
   "metadata": {},
   "outputs": [],
   "source": [
    "cars = json.loads(open('corpora/data/corporations/cars.json').read())\n",
    "infinite['K'] = cars['cars']"
   ]
  },
  {
   "cell_type": "code",
   "execution_count": 19,
   "metadata": {},
   "outputs": [],
   "source": [
    "fortune = json.loads(open('corpora/data/corporations/fortune500.json').read())\n",
    "infinite['$'] = fortune['companies']"
   ]
  },
  {
   "cell_type": "code",
   "execution_count": 20,
   "metadata": {},
   "outputs": [],
   "source": [
    "industries = json.loads(open('corpora/data/corporations/industries.json').read())\n",
    "infinite['W'] = industries['industries']"
   ]
  },
  {
   "cell_type": "code",
   "execution_count": 21,
   "metadata": {},
   "outputs": [],
   "source": [
    "news = json.loads(open('corpora/data/corporations/newspapers.json').read())\n",
    "infinite['!'] = news['newspapers']"
   ]
  },
  {
   "cell_type": "code",
   "execution_count": 22,
   "metadata": {},
   "outputs": [],
   "source": [
    "zodiac = json.loads(open('corpora/data/divination/zodiac.json').read())\n",
    "signs = []\n",
    "for sign in zodiac['western_zodiac']:\n",
    "    signs.append(sign)\n",
    "for animal in zodiac['eastern_zodiac']:\n",
    "    signs.append(animal)\n",
    "infinite['z'] = signs"
   ]
  },
  {
   "cell_type": "code",
   "execution_count": 23,
   "metadata": {},
   "outputs": [],
   "source": [
    "netflix = json.loads(open('corpora/data/film-tv/netflix-categories.json').read())\n",
    "infinite['Y'] = netflix['categories']"
   ]
  },
  {
   "cell_type": "code",
   "execution_count": 24,
   "metadata": {},
   "outputs": [],
   "source": [
    "movies = json.loads(open('corpora/data/film-tv/popular-movies.json').read())\n",
    "infinite['2'] = movies['popular-movies']"
   ]
  },
  {
   "cell_type": "code",
   "execution_count": 25,
   "metadata": {},
   "outputs": [],
   "source": [
    "beers = json.loads(open('corpora/data/foods/bad_beers.json').read())\n",
    "infinite['T'] = beers['bad_beers']\n",
    "# print(infinite['T'])"
   ]
  },
  {
   "cell_type": "code",
   "execution_count": 26,
   "metadata": {},
   "outputs": [],
   "source": [
    "# need to remove/replace 0 and 1?\n",
    "recipe = json.loads(open('corpora/data/foods/combine.json').read())\n",
    "infinite['0'] = recipe['instructions']\n",
    "# print(infinite['0'])"
   ]
  },
  {
   "cell_type": "code",
   "execution_count": 27,
   "metadata": {},
   "outputs": [],
   "source": [
    "condiments = json.loads(open('corpora/data/foods/condiments.json').read())\n",
    "infinite['4'] = condiments['condiments']"
   ]
  },
  {
   "cell_type": "code",
   "execution_count": 28,
   "metadata": {},
   "outputs": [],
   "source": [
    "fruits = json.loads(open('corpora/data/foods/fruits.json').read())\n",
    "infinite['f'] = fruits['fruits']"
   ]
  },
  {
   "cell_type": "code",
   "execution_count": 29,
   "metadata": {},
   "outputs": [],
   "source": [
    "herbs = json.loads(open('corpora/data/foods/herbs_n_spices.json').read())\n",
    "mix = []\n",
    "for item in herbs['herbs']:\n",
    "    mix.append(item)\n",
    "for item in herbs['spices']:\n",
    "    mix.append(item)\n",
    "for item in herbs['mixtures']:\n",
    "    mix.append(item)\n",
    "infinite['\"'] = mix"
   ]
  },
  {
   "cell_type": "code",
   "execution_count": 30,
   "metadata": {},
   "outputs": [],
   "source": [
    "#need to lowercase the all caps?\n",
    "menu = json.loads(open('corpora/data/foods/menuItems.json').read())\n",
    "infinite['M'] = menu['menuItems']\n",
    "# print(infinite['M'])"
   ]
  },
  {
   "cell_type": "code",
   "execution_count": 31,
   "metadata": {},
   "outputs": [],
   "source": [
    "veggies = json.loads(open('corpora/data/foods/vegetables.json').read())\n",
    "infinite['V'] = veggies['vegetables']"
   ]
  },
  {
   "cell_type": "code",
   "execution_count": 95,
   "metadata": {},
   "outputs": [],
   "source": [
    "games = json.loads(open('corpora/data/games/board_games.json').read())\n",
    "infinite['J'] = games['games']"
   ]
  },
  {
   "cell_type": "code",
   "execution_count": 32,
   "metadata": {},
   "outputs": [],
   "source": [
    "countries = json.loads(open('corpora/data/geography/countries.json').read())\n",
    "infinite['G'] = countries['countries']"
   ]
  },
  {
   "cell_type": "code",
   "execution_count": 33,
   "metadata": {},
   "outputs": [],
   "source": [
    "geoFeatures = json.loads(open('corpora/data/geography/geographic_features.json').read())\n",
    "infinite['g'] = geoFeatures['entries']"
   ]
  },
  {
   "cell_type": "code",
   "execution_count": 34,
   "metadata": {},
   "outputs": [],
   "source": [
    "riversJSON = json.loads(open('corpora/data/geography/rivers.json').read())\n",
    "# rivers = []\n",
    "# for river in riversJSON['rivers']:\n",
    "#     rivers.append(river['name'])\n",
    "\n",
    "#list comprehension\n",
    "infinite['7'] = [river['name'] for river in riversJSON['rivers']]\n",
    "# infinite['7'] = rivers"
   ]
  },
  {
   "cell_type": "code",
   "execution_count": 35,
   "metadata": {},
   "outputs": [],
   "source": [
    "# activitiesJSON = json.loads(open('corpora/data/humans/atus_activities.json').read())\n",
    "# activities = []\n",
    "# for category in activitiesJSON['categories']:\n",
    "#     print(category)\n",
    "#     for activity in category['examples'] if category['examples']:\n",
    "#         activities.append(activity)\n",
    "# infinite['H'] = activities\n",
    "\n",
    "# comp = activitiesJSON['categories']\n",
    "# print(comp)|\n",
    "# for category in activitiesJSON['categories']:\n",
    "#     if 'examples' in category.keys():   \n",
    "#         for activity in category['examples']:\n",
    "#             activities.append(activity)\n",
    "#     activities.append([actvity for activity['examples'] in category if len(category) > 2])\n",
    "\n",
    "\n",
    "#     for activ in act:\n",
    "#         print(act['examples'])\n",
    "#         activities.append(activ)\n",
    "#     print(act['examples'])\n",
    "#     print(\"\\n\")\n",
    "# print(comp['examples'])\n",
    "\n",
    "#insomnia bug\n",
    "# infinite['H'] = [activity for category['examples'] in activitiesJSON['categories'] if category['examples']]\n",
    "\n",
    "# infinite['H'] = [act for activity['examples'] in category if 'examples' in category.keys()]\n",
    "\n",
    "\n",
    "# infinite['H'] = activities\n",
    "# print(infinite['H'])\n"
   ]
  },
  {
   "cell_type": "code",
   "execution_count": 36,
   "metadata": {},
   "outputs": [],
   "source": [
    "#why was this so difficult?\n",
    "\n",
    "activities = json.loads(open('corpora/data/humans/atus_activities.json').read())\n",
    "acts = [activity['examples'] for activity in activities['categories'] if 'examples' in activity.keys()]\n",
    "\n",
    "combine = []\n",
    "for a in acts:\n",
    "    for item in a:\n",
    "        combine.append(item)\n",
    "\n",
    "infinite['H'] = combine\n",
    "# print(infinite['H'])"
   ]
  },
  {
   "cell_type": "code",
   "execution_count": 37,
   "metadata": {},
   "outputs": [],
   "source": [
    "bodyParts = json.loads(open('corpora/data/humans/bodyParts.json').read())\n",
    "infinite['k'] = bodyParts['bodyParts']"
   ]
  },
  {
   "cell_type": "code",
   "execution_count": 38,
   "metadata": {},
   "outputs": [],
   "source": [
    "descriptions = json.loads(open('corpora/data/humans/descriptions.json').read())\n",
    "infinite['-'] = descriptions['descriptions']"
   ]
  },
  {
   "cell_type": "code",
   "execution_count": 39,
   "metadata": {},
   "outputs": [],
   "source": [
    "firstNames = json.loads(open('corpora/data/humans/firstNames.json').read())\n",
    "infinite['m'] = firstNames['firstNames']"
   ]
  },
  {
   "cell_type": "code",
   "execution_count": 40,
   "metadata": {},
   "outputs": [],
   "source": [
    "lastNames = json.loads(open('corpora/data/humans/lastNames.json').read())\n",
    "infinite['H'] = lastNames['lastNames']"
   ]
  },
  {
   "cell_type": "code",
   "execution_count": 41,
   "metadata": {},
   "outputs": [],
   "source": [
    "moods = json.loads(open('corpora/data/humans/moods.json').read())\n",
    "infinite['F'] = moods['moods']"
   ]
  },
  {
   "cell_type": "code",
   "execution_count": 92,
   "metadata": {},
   "outputs": [],
   "source": [
    "jobs = json.loads(open('corpora/data/humans/occupations.json').read())\n",
    "infinite['I'] = jobs['occupations']"
   ]
  },
  {
   "cell_type": "code",
   "execution_count": 43,
   "metadata": {},
   "outputs": [],
   "source": [
    "spanishLasts = json.loads(open('corpora/data/humans/spanishLastNames.json').read())\n",
    "infinite['6'] = spanishLasts['lastNames']"
   ]
  },
  {
   "cell_type": "code",
   "execution_count": 44,
   "metadata": {},
   "outputs": [],
   "source": [
    "laundry = json.loads(open('corpora/data/instructions/laundry_care.json').read())\n",
    "infinite['r'] = [care['instruction'] for care in laundry['laundry_care_instructions']]"
   ]
  },
  {
   "cell_type": "code",
   "execution_count": 45,
   "metadata": {},
   "outputs": [],
   "source": [
    "fluids = json.loads(open('corpora/data/materials/abridged-body-fluids.json').read())\n",
    "infinite['E'] = fluids['abridged body fluids']"
   ]
  },
  {
   "cell_type": "code",
   "execution_count": 46,
   "metadata": {},
   "outputs": [],
   "source": [
    "materials = json.loads(open('corpora/data/materials/building-materials.json').read())\n",
    "infinite['L'] = materials['building materials']"
   ]
  },
  {
   "cell_type": "code",
   "execution_count": 47,
   "metadata": {},
   "outputs": [],
   "source": [
    "packaging = json.loads(open('corpora/data/materials/packaging.json').read())\n",
    "infinite['&'] = packaging['packaging']"
   ]
  },
  {
   "cell_type": "code",
   "execution_count": 88,
   "metadata": {},
   "outputs": [],
   "source": [
    "fibonnaci = json.loads(open('corpora/data/mathematics/first50fib.json').read())\n",
    "infinite['b'] = fibonnaci['numbers']\n",
    "# print(infinite['b'])"
   ]
  },
  {
   "cell_type": "code",
   "execution_count": 49,
   "metadata": {},
   "outputs": [],
   "source": [
    "trig = json.loads(open('corpora/data/mathematics/trigonometry.json').read())\n",
    "infinite['x'] = trig['numbers']\n",
    "# print(infinite['x'])"
   ]
  },
  {
   "cell_type": "code",
   "execution_count": 50,
   "metadata": {},
   "outputs": [],
   "source": [
    "cancers = json.loads(open('corpora/data/medicine/cancer.json').read())\n",
    "infinite['w'] = cancers['cancers']\n",
    "# print(infinite['w'])"
   ]
  },
  {
   "cell_type": "code",
   "execution_count": 51,
   "metadata": {},
   "outputs": [],
   "source": [
    "diagnoses = json.loads(open('corpora/data/medicine/diagnoses.json').read())\n",
    "diagnoses = diagnoses['codes']\n",
    "infinite[','] = [code['desc'] for code in diagnoses]\n",
    "# print(infinite[','])"
   ]
  },
  {
   "cell_type": "code",
   "execution_count": 52,
   "metadata": {},
   "outputs": [],
   "source": [
    "drugs = json.loads(open('corpora/data/medicine/drugs.json').read())\n",
    "infinite['U'] = drugs['drugs']\n",
    "# print(infinite['U'])"
   ]
  },
  {
   "cell_type": "code",
   "execution_count": 53,
   "metadata": {},
   "outputs": [],
   "source": [
    "hospitals = json.loads(open('corpora/data/medicine/hospitals.json').read())\n",
    "infinite['A'] = hospitals['hospitals']\n",
    "# print(infinite['A'])"
   ]
  },
  {
   "cell_type": "code",
   "execution_count": 54,
   "metadata": {},
   "outputs": [],
   "source": [
    "symptoms = json.loads(open('corpora/data/medicine/symptoms.json').read())\n",
    "infinite['S'] = symptoms['symptoms']\n",
    "# print(infinite['S'])"
   ]
  },
  {
   "cell_type": "code",
   "execution_count": 55,
   "metadata": {},
   "outputs": [],
   "source": [
    "genres = json.loads(open('corpora/data/music/genres.json').read())\n",
    "infinite['u'] = genres['genres']\n",
    "# print(infinite['u'])"
   ]
  },
  {
   "cell_type": "code",
   "execution_count": 56,
   "metadata": {},
   "outputs": [],
   "source": [
    "instruments = json.loads(open('corpora/data/music/instruments.json').read())\n",
    "infinite[')'] = instruments['instruments']\n",
    "# print(infinite[')'])"
   ]
  },
  {
   "cell_type": "code",
   "execution_count": 57,
   "metadata": {},
   "outputs": [],
   "source": [
    "greekGods = json.loads(open('corpora/data/mythology/greek_gods.json').read())\n",
    "infinite['/'] = greekGods['greek_gods']\n",
    "# print((infinite['/']))"
   ]
  },
  {
   "cell_type": "code",
   "execution_count": 58,
   "metadata": {},
   "outputs": [],
   "source": [
    "hebrewGod = json.loads(open('corpora/data/mythology/hebrew_god.json').read())\n",
    "god = []\n",
    "for name in hebrewGod['names']:\n",
    "    god.append(name['name'])\n",
    "    god.append(name['meaning'])\n",
    "infinite['X'] = god\n",
    "# print(infinite['X'])"
   ]
  },
  {
   "cell_type": "code",
   "execution_count": 59,
   "metadata": {},
   "outputs": [],
   "source": [
    "monsters = json.loads(open('corpora/data/mythology/monsters.json').read())\n",
    "infinite['Z'] = monsters['names']\n",
    "# print(infinite['Z'])"
   ]
  },
  {
   "cell_type": "code",
   "execution_count": 60,
   "metadata": {},
   "outputs": [],
   "source": [
    "clothing = json.loads(open('corpora/data/objects/clothing.json').read())\n",
    "infinite['i'] = clothing['clothes']\n",
    "# print(infinite['i'])"
   ]
  },
  {
   "cell_type": "code",
   "execution_count": 93,
   "metadata": {},
   "outputs": [],
   "source": [
    "objects = json.loads(open('corpora/data/objects/objects.json').read())\n",
    "infinite['l'] = objects['objects']\n",
    "# print(infinite['l'])"
   ]
  },
  {
   "cell_type": "code",
   "execution_count": 62,
   "metadata": {},
   "outputs": [],
   "source": [
    "# is this the best M?\n",
    "weed =  json.loads(open('corpora/data/plants/cannabis.json').read())\n",
    "infinite['M'] = weed['cannabis']\n",
    "# print(infinite['M'])json.loads(open('corpora/data/plants/.json').read())"
   ]
  },
  {
   "cell_type": "code",
   "execution_count": 63,
   "metadata": {},
   "outputs": [],
   "source": [
    "flowers = json.loads(open('corpora/data/plants/flowers.json').read())\n",
    "infinite['?'] = flowers['flowers']\n",
    "# print(infinite['?'])"
   ]
  },
  {
   "cell_type": "code",
   "execution_count": 64,
   "metadata": {},
   "outputs": [],
   "source": [
    "plants = json.loads(open('corpora/data/plants/plants.json').read()) \n",
    "infinite['a'] = [plant['name'] for plant in plants['plants']]\n",
    "# print(infinite['a'])# plants = plants['plants']  "
   ]
  },
  {
   "cell_type": "code",
   "execution_count": 65,
   "metadata": {},
   "outputs": [],
   "source": [
    "religionsJSON = json.loads(open('corpora/data/religion/religions.json').read())\n",
    "religions = []\n",
    "# abrahamic = religionsJSON['Abrahamic']\n",
    "# for branch in abrahamic:\n",
    "#     religions.append(branch)\n",
    "#     for rel in abrahamic[branch]:\n",
    "#         religions.append(rel)\n",
    "# indian = religionsJSON['Indian']\n",
    "# for branch in indian:\n",
    "#     religions.append(branch)\n",
    "#     for rel in indian[branch]:\n",
    "#         religions.append(rel)\n",
    "# iranian = religionsJSON['Iranian']\n",
    "# eastAsian = religionsJSON['East Asian']\n",
    "# african = religionsJSON['African Diasporic']\n",
    "# indigenous = religionsJSON['Indigenous Traditional']\n",
    "\n",
    "for flavor in religionsJSON:\n",
    "    for branch in religionsJSON[flavor]:\n",
    "        religions.append(branch)\n",
    "#         for rel in flavor[branch]:\n",
    "#             if flavor.keys() != {}:\n",
    "#                 religions.append(rel)\n",
    "        \n",
    "infinite['P'] = religions\n",
    "# print(infinite['P'])"
   ]
  },
  {
   "cell_type": "code",
   "execution_count": 66,
   "metadata": {},
   "outputs": [],
   "source": [
    "elements = json.loads(open('corpora/data/science/elements.json').read())\n",
    "infinite['e'] = [element['name'] for element in elements['elements']]\n",
    "# print(infinite['e'])"
   ]
  },
  {
   "cell_type": "code",
   "execution_count": 67,
   "metadata": {},
   "outputs": [],
   "source": [
    "planets = json.loads(open('corpora/data/science/planets.json').read())\n",
    "#moons?\n",
    "infinite['p'] = [planet['name'] for planet in planets['planets']]\n",
    "# print(infinite['p'])"
   ]
  },
  {
   "cell_type": "code",
   "execution_count": 68,
   "metadata": {},
   "outputs": [],
   "source": [
    "weather = json.loads(open('corpora/data/science/weather_conditions.json').read())\n",
    "infinite[\"'\"] = weather['conditions']\n",
    "# print(infinite[\"'\"])"
   ]
  },
  {
   "cell_type": "code",
   "execution_count": 69,
   "metadata": {},
   "outputs": [],
   "source": [
    "sororities = json.loads(open('corpora/data/societies_and_groups/fraternities/sororities.json').read())\n",
    "infinite['D'] = [s['name'] for s in sororities]\n",
    "# print(infinite['D'])"
   ]
  },
  {
   "cell_type": "code",
   "execution_count": 70,
   "metadata": {},
   "outputs": [],
   "source": [
    "sports = json.loads(open('corpora/data/sports/sports.json').read())\n",
    "infinite['s'] = sports['sports']\n",
    "# print(infinite['s'])"
   ]
  },
  {
   "cell_type": "code",
   "execution_count": 71,
   "metadata": {},
   "outputs": [],
   "source": [
    "appliances = json.loads(open('corpora/data/technology/appliances.json').read())\n",
    "infinite['O'] = appliances['appliances']\n",
    "# print(infinite['l'])"
   ]
  },
  {
   "cell_type": "code",
   "execution_count": 72,
   "metadata": {},
   "outputs": [],
   "source": [
    "guns = json.loads(open('corpora/data/technology/guns_n_rifles.json').read())\n",
    "infinite['R'] = guns['weapons']\n",
    "# print(infinite['R'])"
   ]
  },
  {
   "cell_type": "code",
   "execution_count": 73,
   "metadata": {},
   "outputs": [],
   "source": [
    "newTech = json.loads(open('corpora/data/technology/new_technologies.json').read())\n",
    "infinite['q'] = newTech['technologies']\n",
    "# print(infinite['q'])"
   ]
  },
  {
   "cell_type": "code",
   "execution_count": 74,
   "metadata": {},
   "outputs": [],
   "source": [
    "adverbs = json.loads(open('corpora/data/words/adverbs.json').read())\n",
    "infinite['5'] = adverbs['adverbs']\n",
    "# print(infinite['5'])"
   ]
  },
  {
   "cell_type": "code",
   "execution_count": 75,
   "metadata": {},
   "outputs": [],
   "source": [
    "common = json.loads(open('corpora/data/words/common.json').read())\n",
    "infinite['.'] = common['commonWords']\n",
    "# print(infinite['.'])"
   ]
  },
  {
   "cell_type": "code",
   "execution_count": 76,
   "metadata": {},
   "outputs": [],
   "source": [
    "encouraging = json.loads(open('corpora/data/words/encouraging_words.json').read())\n",
    "infinite['C'] = encouraging['encouraging_words']\n",
    "# print(infinite['C'])"
   ]
  },
  {
   "cell_type": "code",
   "execution_count": 77,
   "metadata": {},
   "outputs": [],
   "source": [
    "interjections = json.loads(open('corpora/data/words/interjections.json').read())\n",
    "infinite['N'] = interjections['interjections']\n",
    "# print(infinite['N'])"
   ]
  },
  {
   "cell_type": "code",
   "execution_count": 78,
   "metadata": {},
   "outputs": [],
   "source": [
    "nouns = json.loads(open('corpora/data/words/nouns.json').read())\n",
    "infinite['n'] = nouns['nouns']\n",
    "# print(infinite['n'])"
   ]
  },
  {
   "cell_type": "code",
   "execution_count": 79,
   "metadata": {},
   "outputs": [],
   "source": [
    "drunk = json.loads(open('corpora/data/words/states_of_drunkenness.json').read())\n",
    "infinite['d'] = drunk['states_of_drunkenness']\n",
    "# print(infinite['d'])"
   ]
  },
  {
   "cell_type": "code",
   "execution_count": 80,
   "metadata": {},
   "outputs": [],
   "source": [
    "time = json.loads(open('corpora/data/words/units_of_time.json').read())\n",
    "t = []\n",
    "for section in time:\n",
    "    for unit in time[section]:\n",
    "        t.append(unit)\n",
    "\n",
    "infinite['t'] = t\n",
    "# print(infinite['t'])"
   ]
  },
  {
   "cell_type": "code",
   "execution_count": null,
   "metadata": {},
   "outputs": [],
   "source": []
  },
  {
   "cell_type": "code",
   "execution_count": 123,
   "metadata": {},
   "outputs": [],
   "source": [
    "def infinite_poem(text):\n",
    "    infinipoem = ''\n",
    "    for index in range(len(text)):\n",
    "        char = text[index]\n",
    "        if char in infinite:\n",
    "            infinipoem += random.choice(infinite[char]) + \" \"\n",
    "        elif char == \" \":\n",
    "            infinipoem += \" \"\n",
    "        else:\n",
    "            print(\"\\n\\n\\n\\n\\n\" + char + \"\\n\\n\\n\\n\\n\")\n",
    "\n",
    "    return infinipoem"
   ]
  },
  {
   "cell_type": "code",
   "execution_count": 82,
   "metadata": {},
   "outputs": [
    {
     "data": {
      "text/plain": [
       "\"lateral longitudinal metepisternal carina Rufous-backed Robin Devon Rex efferent vein polar bear Dyoplosaurus Fritz Bruno Jura Hound Karossier year Ruthenium Bowlliards millenium changing room Asian Studies Where's Wally? cello \""
      ]
     },
     "execution_count": 82,
     "metadata": {},
     "output_type": "execute_result"
    }
   ],
   "source": [
    "infinite_poem('yB(;o9Q1htestvj8)')"
   ]
  },
  {
   "cell_type": "code",
   "execution_count": 83,
   "metadata": {},
   "outputs": [
    {
     "data": {
      "text/plain": [
       "'dehumidifier Maremmano eighth flagellomere Capricorn Mazda '"
      ]
     },
     "execution_count": 83,
     "metadata": {},
     "output_type": "execute_result"
    }
   ],
   "source": [
    "infinite_poem('OhyzK')"
   ]
  },
  {
   "cell_type": "code",
   "execution_count": 90,
   "metadata": {},
   "outputs": [
    {
     "data": {
      "text/plain": [
       "'Black ash 33. 3524578 Radical Red friendly Iron apple coastal upwelling front Arenberg-Nordkirchen waterproof Scandinavian Languages & Literatures lower leg garden spade Gabriela stoppage prairie dog Saturn organic solar cells Line Dry Dirt jumping fortnight Doomcore dressing room penis sarcoma csc(-x) = -csc(x) anteroventral pronotal inflection Aquarius '"
      ]
     },
     "execution_count": 90,
     "metadata": {},
     "output_type": "execute_result"
    }
   ],
   "source": [
    "infinite_poem('abcdefghijklmnopqrstuvwxyz')"
   ]
  },
  {
   "cell_type": "code",
   "execution_count": 96,
   "metadata": {},
   "outputs": [
    {
     "data": {
      "text/plain": [
       "'North Oaks Medical Center Boat-tailed Grackle excellent Alpha Sigma Omega tears joyous Central African Republic Murphy refrigeration mechanic Brain Chain Pagani gravel Warlock wow trivet Vodou Ryder .38-caliber Davis Industries two-shot derringer left upper quadrant abdominal lump Brahma Detrol horseradish Think Tanks Lord, Jehovah TV Shows unicorn '"
      ]
     },
     "execution_count": 96,
     "metadata": {},
     "output_type": "execute_result"
    }
   ],
   "source": [
    "infinite_poem('ABCDEFGHIJKLMNOPQRSTUVWXYZ')"
   ]
  },
  {
   "cell_type": "code",
   "execution_count": 103,
   "metadata": {},
   "outputs": [
    {
     "data": {
      "text/plain": [
       "'Cover and simmer for 20 minutes. English White Terrier The Lord of the Rings: The Return of the King (2003) child Salad dressing unnaturally Ortiz Volga The Happy Hooker: My Own Story Nopcsaspondylus '"
      ]
     },
     "execution_count": 103,
     "metadata": {},
     "output_type": "execute_result"
    }
   ],
   "source": [
    "infinite_poem('0123456789')"
   ]
  },
  {
   "cell_type": "code",
   "execution_count": 110,
   "metadata": {},
   "outputs": [
    {
     "data": {
      "text/plain": [
       "'Motorcycle passenger injured in collision with two- or three-wheeled motor vehicle in traffic accident own Nemesis semicrescent plate Fair persevering The Des Moines Register ConAgra Foods, Inc. metallised film British Shorthair oboe entrance peony '"
      ]
     },
     "execution_count": 110,
     "metadata": {},
     "output_type": "execute_result"
    }
   ],
   "source": [
    "infinite_poem(\",./;'-!$&():?\")"
   ]
  },
  {
   "cell_type": "code",
   "execution_count": 124,
   "metadata": {},
   "outputs": [
    {
     "data": {
      "text/plain": [
       "'later Lokai belt Gouren  zip Rhythmic gymnastics  Creeping yellowcress  a bit Hydrogen Underwater wrestling 30 days '"
      ]
     },
     "execution_count": 124,
     "metadata": {},
     "output_type": "execute_result"
    }
   ],
   "source": [
    "infinite_poem('this is a test')"
   ]
  }
 ],
 "metadata": {
  "kernelspec": {
   "display_name": "Python 3",
   "language": "python",
   "name": "python3"
  },
  "language_info": {
   "codemirror_mode": {
    "name": "ipython",
    "version": 3
   },
   "file_extension": ".py",
   "mimetype": "text/x-python",
   "name": "python",
   "nbconvert_exporter": "python",
   "pygments_lexer": "ipython3",
   "version": "3.6.8"
  }
 },
 "nbformat": 4,
 "nbformat_minor": 2
}
