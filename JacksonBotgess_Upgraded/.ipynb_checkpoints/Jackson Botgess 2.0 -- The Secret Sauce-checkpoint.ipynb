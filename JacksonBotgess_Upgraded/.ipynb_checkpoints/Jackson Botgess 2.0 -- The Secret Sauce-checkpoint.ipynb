{
 "cells": [
  {
   "cell_type": "markdown",
   "metadata": {},
   "source": [
    "# Jackson Botgess 2.0\n",
    "### Trying to make something he hates even more\n",
    "\n",
    "The goal: Make a new iteration of Jackson Botgess that instead of making mad-lib style quintains, will produce poems in Jackson's favorite style: Sonnets in Iambic Pentameter\n",
    "\n",
    "### General Outline:\n",
    "- Prepare text\n",
    "    - Clean original poems\n",
    "    - Remove Punctuation\n",
    "    - Reverse\n",
    "- Markov Models of Different State Sizes\n",
    "    - for fun, word counts\n",
    "- Rhyme Seeds\n",
    "    - list\n",
    "    - function to make new list with input\n",
    "- Where the magic happens\n",
    "    - rhyme seeds --> reversed lines\n",
    "    - nested loops for couplets\n",
    "        - going through markov models in decreasing state size\n",
    "        - only selecting words with proper stress\n",
    "    \n",
    "    "
   ]
  },
  {
   "cell_type": "code",
   "execution_count": null,
   "metadata": {},
   "outputs": [],
   "source": []
  }
 ],
 "metadata": {
  "kernelspec": {
   "display_name": "Python 3",
   "language": "python",
   "name": "python3"
  },
  "language_info": {
   "codemirror_mode": {
    "name": "ipython",
    "version": 3
   },
   "file_extension": ".py",
   "mimetype": "text/x-python",
   "name": "python",
   "nbconvert_exporter": "python",
   "pygments_lexer": "ipython3",
   "version": "3.6.8"
  }
 },
 "nbformat": 4,
 "nbformat_minor": 2
}
