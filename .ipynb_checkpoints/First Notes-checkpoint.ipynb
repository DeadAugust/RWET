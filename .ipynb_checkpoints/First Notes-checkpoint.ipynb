{
 "cells": [
  {
   "cell_type": "code",
   "execution_count": 1,
   "metadata": {
    "scrolled": true
   },
   "outputs": [
    {
     "data": {
      "text/plain": [
       "10"
      ]
     },
     "execution_count": 1,
     "metadata": {},
     "output_type": "execute_result"
    }
   ],
   "source": [
    "5 + 5 "
   ]
  },
  {
   "cell_type": "markdown",
   "metadata": {},
   "source": [
    "take notes, this is text, lalalal\n",
    "\\"
   ]
  },
  {
   "cell_type": "markdown",
   "metadata": {},
   "source": [
    "### AHHHHHHHH"
   ]
  },
  {
   "cell_type": "code",
   "execution_count": 5,
   "metadata": {},
   "outputs": [
    {
     "data": {
      "text/plain": [
       "19"
      ]
     },
     "execution_count": 5,
     "metadata": {},
     "output_type": "execute_result"
    }
   ],
   "source": [
    "19"
   ]
  },
  {
   "cell_type": "code",
   "execution_count": 6,
   "metadata": {},
   "outputs": [
    {
     "data": {
      "text/plain": [
       "(12, 6)"
      ]
     },
     "execution_count": 6,
     "metadata": {},
     "output_type": "execute_result"
    }
   ],
   "source": [
    "/ 12 6\n"
   ]
  },
  {
   "cell_type": "code",
   "execution_count": 7,
   "metadata": {},
   "outputs": [
    {
     "ename": "SyntaxError",
     "evalue": "invalid syntax (<ipython-input-7-87fd873be967>, line 1)",
     "output_type": "error",
     "traceback": [
      "\u001b[0;36m  File \u001b[0;32m\"<ipython-input-7-87fd873be967>\"\u001b[0;36m, line \u001b[0;32m1\u001b[0m\n\u001b[0;31m    * 12 6\u001b[0m\n\u001b[0m         ^\u001b[0m\n\u001b[0;31mSyntaxError\u001b[0m\u001b[0;31m:\u001b[0m invalid syntax\n"
     ]
    }
   ],
   "source": [
    "* 12 6"
   ]
  },
  {
   "cell_type": "markdown",
   "metadata": {},
   "source": [
    "## operators of inequality\n"
   ]
  },
  {
   "cell_type": "markdown",
   "metadata": {},
   "source": [
    "## variables"
   ]
  },
  {
   "cell_type": "code",
   "execution_count": 9,
   "metadata": {},
   "outputs": [],
   "source": [
    "x = (4+5)*6"
   ]
  },
  {
   "cell_type": "code",
   "execution_count": 10,
   "metadata": {},
   "outputs": [
    {
     "data": {
      "text/plain": [
       "54"
      ]
     },
     "execution_count": 10,
     "metadata": {},
     "output_type": "execute_result"
    }
   ],
   "source": [
    "x"
   ]
  },
  {
   "cell_type": "markdown",
   "metadata": {},
   "source": [
    "# Valentine's Day Notes\n"
   ]
  },
  {
   "cell_type": "code",
   "execution_count": 1,
   "metadata": {},
   "outputs": [
    {
     "data": {
      "text/plain": [
       "5"
      ]
     },
     "execution_count": 1,
     "metadata": {},
     "output_type": "execute_result"
    }
   ],
   "source": [
    "# length\n",
    "\n",
    "len('three')"
   ]
  },
  {
   "cell_type": "code",
   "execution_count": 2,
   "metadata": {},
   "outputs": [
    {
     "data": {
      "text/plain": [
       "5"
      ]
     },
     "execution_count": 2,
     "metadata": {},
     "output_type": "execute_result"
    }
   ],
   "source": [
    "len('     ')"
   ]
  },
  {
   "cell_type": "code",
   "execution_count": 3,
   "metadata": {},
   "outputs": [
    {
     "data": {
      "text/plain": [
       "False"
      ]
     },
     "execution_count": 3,
     "metadata": {},
     "output_type": "execute_result"
    }
   ],
   "source": [
    "#operator in\n",
    "\n",
    "\"pig\" in \"evaluates to string\""
   ]
  },
  {
   "cell_type": "code",
   "execution_count": 4,
   "metadata": {},
   "outputs": [
    {
     "data": {
      "text/plain": [
       "str"
      ]
     },
     "execution_count": 4,
     "metadata": {},
     "output_type": "execute_result"
    }
   ],
   "source": [
    "# strings have methods because they are objects\n",
    "# almost everything in python is case sensitive\n",
    "\n",
    "type('string')"
   ]
  },
  {
   "cell_type": "code",
   "execution_count": 5,
   "metadata": {},
   "outputs": [],
   "source": [
    "message = 'Suppose there is a pigeon, suppose there is'"
   ]
  },
  {
   "cell_type": "code",
   "execution_count": 6,
   "metadata": {},
   "outputs": [
    {
     "data": {
      "text/plain": [
       "True"
      ]
     },
     "execution_count": 6,
     "metadata": {},
     "output_type": "execute_result"
    }
   ],
   "source": [
    "message.startswith('Sup')"
   ]
  },
  {
   "cell_type": "code",
   "execution_count": 7,
   "metadata": {},
   "outputs": [
    {
     "data": {
      "text/plain": [
       "'suppose there is a pigeon, suppose there is'"
      ]
     },
     "execution_count": 7,
     "metadata": {},
     "output_type": "execute_result"
    }
   ],
   "source": [
    "message.lower()"
   ]
  },
  {
   "cell_type": "code",
   "execution_count": 8,
   "metadata": {},
   "outputs": [
    {
     "data": {
      "text/plain": [
       "True"
      ]
     },
     "execution_count": 8,
     "metadata": {},
     "output_type": "execute_result"
    }
   ],
   "source": [
    "message.lower().startswith('sup')"
   ]
  },
  {
   "cell_type": "markdown",
   "metadata": {},
   "source": [
    "### dot methods can be put onto any expression that evaluates to a string *\n",
    "\n",
    "if you . tab, will show list of possible methods (only if string variable is predeclared\n",
    "\n",
    "Useful methods:"
   ]
  },
  {
   "cell_type": "code",
   "execution_count": 9,
   "metadata": {},
   "outputs": [
    {
     "data": {
      "text/plain": [
       "True"
      ]
     },
     "execution_count": 9,
     "metadata": {},
     "output_type": "execute_result"
    }
   ],
   "source": [
    "'1235'.isdigit()"
   ]
  },
  {
   "cell_type": "code",
   "execution_count": 10,
   "metadata": {},
   "outputs": [
    {
     "data": {
      "text/plain": [
       "True"
      ]
     },
     "execution_count": 10,
     "metadata": {},
     "output_type": "execute_result"
    }
   ],
   "source": [
    "'hello there'.islower()"
   ]
  },
  {
   "cell_type": "code",
   "execution_count": 11,
   "metadata": {},
   "outputs": [
    {
     "data": {
      "text/plain": [
       "19"
      ]
     },
     "execution_count": 11,
     "metadata": {},
     "output_type": "execute_result"
    }
   ],
   "source": [
    "# returns index that the string starts at:\n",
    "\n",
    "message.find('pig')"
   ]
  },
  {
   "cell_type": "code",
   "execution_count": 12,
   "metadata": {},
   "outputs": [
    {
     "data": {
      "text/plain": [
       "True"
      ]
     },
     "execution_count": 12,
     "metadata": {},
     "output_type": "execute_result"
    }
   ],
   "source": [
    "'hello' == 'hello'"
   ]
  },
  {
   "cell_type": "markdown",
   "metadata": {},
   "source": [
    "### string transformations\n"
   ]
  },
  {
   "cell_type": "code",
   "execution_count": 13,
   "metadata": {},
   "outputs": [
    {
     "data": {
      "text/plain": [
       "'This Is Title Case'"
      ]
     },
     "execution_count": 13,
     "metadata": {},
     "output_type": "execute_result"
    }
   ],
   "source": [
    "'this is title case'.title()\n"
   ]
  },
  {
   "cell_type": "code",
   "execution_count": 14,
   "metadata": {},
   "outputs": [
    {
     "data": {
      "text/plain": [
       "\"Allison'S Favorite Weird Thing About Python\""
      ]
     },
     "execution_count": 14,
     "metadata": {},
     "output_type": "execute_result"
    }
   ],
   "source": [
    "# how to tell if a spam email was written in python\n",
    "\n",
    "\"allison's favorite weird thing about python\".title()\n"
   ]
  },
  {
   "cell_type": "code",
   "execution_count": 17,
   "metadata": {},
   "outputs": [
    {
     "data": {
      "text/plain": [
       "'this is  a test'"
      ]
     },
     "execution_count": 17,
     "metadata": {},
     "output_type": "execute_result"
    }
   ],
   "source": [
    "# surrounding spaces, newline characters, tabs\n",
    "\n",
    "\"       this is  a test      \".strip()\n"
   ]
  },
  {
   "cell_type": "code",
   "execution_count": 18,
   "metadata": {},
   "outputs": [
    {
     "data": {
      "text/plain": [
       "'Suppose there is a elephanteon, suppose there is'"
      ]
     },
     "execution_count": 18,
     "metadata": {},
     "output_type": "execute_result"
    }
   ],
   "source": [
    "message.replace('pig', 'elephant')"
   ]
  },
  {
   "cell_type": "markdown",
   "metadata": {},
   "source": [
    "to assign the copy of the string, create new variable (don't overwrite, can be source of bugs)"
   ]
  },
  {
   "cell_type": "markdown",
   "metadata": {},
   "source": [
    "## reading a text file into a string"
   ]
  },
  {
   "cell_type": "code",
   "execution_count": 4,
   "metadata": {},
   "outputs": [],
   "source": [
    "text = open('./txt/frost.txt').read() "
   ]
  },
  {
   "cell_type": "code",
   "execution_count": 20,
   "metadata": {},
   "outputs": [
    {
     "data": {
      "text/plain": [
       "'Two roads diverged in a yellow wood,\\nAnd sorry I could not travel both\\nAnd be one traveler, long I stood\\nAnd looked down one as far as I could\\nTo where it bent in the undergrowth;\\n\\nThen took the other, as just as fair,\\nAnd having perhaps the better claim,\\nBecause it was grassy and wanted wear;\\nThough as for that the passing there\\nHad worn them really about the same,\\n\\nAnd both that morning equally lay\\nIn leaves no step had trodden black.\\nOh, I kept the first for another day!\\nYet knowing how way leads on to way,\\nI doubted if I should ever come back.\\n\\nI shall be telling this with a sigh\\nSomewhere ages and ages hence:\\nTwo roads diverged in a wood, and I---\\nI took the one less travelled by,\\nAnd that has made all the difference.\\n'"
      ]
     },
     "execution_count": 20,
     "metadata": {},
     "output_type": "execute_result"
    }
   ],
   "source": [
    "text"
   ]
  },
  {
   "cell_type": "code",
   "execution_count": 21,
   "metadata": {},
   "outputs": [
    {
     "name": "stdout",
     "output_type": "stream",
     "text": [
      "Two roads diverged in a yellow wood,\n",
      "And sorry I could not travel both\n",
      "And be one traveler, long I stood\n",
      "And looked down one as far as I could\n",
      "To where it bent in the undergrowth;\n",
      "\n",
      "Then took the other, as just as fair,\n",
      "And having perhaps the better claim,\n",
      "Because it was grassy and wanted wear;\n",
      "Though as for that the passing there\n",
      "Had worn them really about the same,\n",
      "\n",
      "And both that morning equally lay\n",
      "In leaves no step had trodden black.\n",
      "Oh, I kept the first for another day!\n",
      "Yet knowing how way leads on to way,\n",
      "I doubted if I should ever come back.\n",
      "\n",
      "I shall be telling this with a sigh\n",
      "Somewhere ages and ages hence:\n",
      "Two roads diverged in a wood, and I---\n",
      "I took the one less travelled by,\n",
      "And that has made all the difference.\n",
      "\n"
     ]
    }
   ],
   "source": [
    "print(text)"
   ]
  },
  {
   "cell_type": "code",
   "execution_count": 22,
   "metadata": {},
   "outputs": [
    {
     "name": "stdout",
     "output_type": "stream",
     "text": [
      "Two rrrrrrroads diverrrrrrrged in a yellow wood,\n",
      "And sorrrrrrrrrrrrrry This Guy could not trrrrrrravel both\n",
      "And be one trrrrrrravelerrrrrrr, long This Guy stood\n",
      "And looked down one as farrrrrrr as This Guy could\n",
      "To wherrrrrrre it bent in the underrrrrrrgrrrrrrrowth;\n",
      "\n",
      "Then took the otherrrrrrr, as just as fairrrrrrr,\n",
      "And having perrrrrrrhaps the betterrrrrrr claim,\n",
      "Because it was grrrrrrrassy and wanted wearrrrrrr;\n",
      "Though as forrrrrrr that the passing therrrrrrre\n",
      "Had worrrrrrrn them rrrrrrreally about the same,\n",
      "\n",
      "And both that morrrrrrrning equally lay\n",
      "This Guyn leaves no step had trrrrrrrodden black.\n",
      "Oh, This Guy kept the firrrrrrrst forrrrrrr anotherrrrrrr day!\n",
      "Yet knowing how way leads on to way,\n",
      "This Guy doubted if This Guy should everrrrrrr come back.\n",
      "\n",
      "This Guy shall be telling this with a sigh\n",
      "Somewherrrrrrre ages and ages hence:\n",
      "Two rrrrrrroads diverrrrrrrged in a wood, and This Guy---\n",
      "This Guy took the one less trrrrrrravelled by,\n",
      "And that has made all the differrrrrrrence.\n",
      "\n"
     ]
    }
   ],
   "source": [
    "print(text.replace('I', \"This Guy\").replace('r', 'rrrrrrr'))"
   ]
  },
  {
   "cell_type": "markdown",
   "metadata": {},
   "source": [
    "eventually could make a list of the elements you want to replace and iterate in a loop inside of replace()"
   ]
  },
  {
   "cell_type": "code",
   "execution_count": 26,
   "metadata": {},
   "outputs": [],
   "source": [
    "# a ? at the end gives you documentation\n",
    "\n",
    "text.replace?"
   ]
  },
  {
   "cell_type": "markdown",
   "metadata": {},
   "source": [
    "### string indexing"
   ]
  },
  {
   "cell_type": "code",
   "execution_count": 27,
   "metadata": {},
   "outputs": [
    {
     "data": {
      "text/plain": [
       "'Suppose there is a pigeon, suppose there is'"
      ]
     },
     "execution_count": 27,
     "metadata": {},
     "output_type": "execute_result"
    }
   ],
   "source": [
    "message"
   ]
  },
  {
   "cell_type": "code",
   "execution_count": 29,
   "metadata": {},
   "outputs": [
    {
     "data": {
      "text/plain": [
       "'o'"
      ]
     },
     "execution_count": 29,
     "metadata": {},
     "output_type": "execute_result"
    }
   ],
   "source": [
    "# square brackets (inside expression evaluates to a number)\n",
    "\n",
    "message[4]"
   ]
  },
  {
   "cell_type": "code",
   "execution_count": 30,
   "metadata": {},
   "outputs": [
    {
     "data": {
      "text/plain": [
       "str"
      ]
     },
     "execution_count": 30,
     "metadata": {},
     "output_type": "execute_result"
    }
   ],
   "source": [
    "type(message[4])"
   ]
  },
  {
   "cell_type": "code",
   "execution_count": 31,
   "metadata": {},
   "outputs": [
    {
     "data": {
      "text/plain": [
       "str"
      ]
     },
     "execution_count": 31,
     "metadata": {},
     "output_type": "execute_result"
    }
   ],
   "source": [
    "type('')"
   ]
  },
  {
   "cell_type": "code",
   "execution_count": 33,
   "metadata": {},
   "outputs": [
    {
     "data": {
      "text/plain": [
       "'e'"
      ]
     },
     "execution_count": 33,
     "metadata": {},
     "output_type": "execute_result"
    }
   ],
   "source": [
    "x = 3\n",
    "message[x*2]"
   ]
  },
  {
   "cell_type": "code",
   "execution_count": 34,
   "metadata": {},
   "outputs": [
    {
     "data": {
      "text/plain": [
       "'l'"
      ]
     },
     "execution_count": 34,
     "metadata": {},
     "output_type": "execute_result"
    }
   ],
   "source": [
    "'hello'[2]"
   ]
  },
  {
   "cell_type": "code",
   "execution_count": 36,
   "metadata": {},
   "outputs": [
    {
     "data": {
      "text/plain": [
       "'s'"
      ]
     },
     "execution_count": 36,
     "metadata": {},
     "output_type": "execute_result"
    }
   ],
   "source": [
    "# -1 is the last character in the string\n",
    "message[-1]"
   ]
  },
  {
   "cell_type": "markdown",
   "metadata": {},
   "source": [
    "### slices\n"
   ]
  },
  {
   "cell_type": "code",
   "execution_count": 38,
   "metadata": {},
   "outputs": [
    {
     "data": {
      "text/plain": [
       "'ose there'"
      ]
     },
     "execution_count": 38,
     "metadata": {},
     "output_type": "execute_result"
    }
   ],
   "source": [
    "# up to but not including\n",
    "\n",
    "message[4:13]"
   ]
  },
  {
   "cell_type": "code",
   "execution_count": 40,
   "metadata": {},
   "outputs": [
    {
     "data": {
      "text/plain": [
       "'Suppose th'"
      ]
     },
     "execution_count": 40,
     "metadata": {},
     "output_type": "execute_result"
    }
   ],
   "source": [
    "# assumes 0 index\n",
    "message[:10]"
   ]
  },
  {
   "cell_type": "code",
   "execution_count": 41,
   "metadata": {},
   "outputs": [
    {
     "data": {
      "text/plain": [
       "'ere is a pigeon, suppose there is'"
      ]
     },
     "execution_count": 41,
     "metadata": {},
     "output_type": "execute_result"
    }
   ],
   "source": [
    "#assumes end index\n",
    "message[10:]"
   ]
  },
  {
   "cell_type": "code",
   "execution_count": 42,
   "metadata": {},
   "outputs": [
    {
     "data": {
      "text/plain": [
       "'Suppose there is a p'"
      ]
     },
     "execution_count": 42,
     "metadata": {},
     "output_type": "execute_result"
    }
   ],
   "source": [
    "# first 20 characters\n",
    "message[:20]"
   ]
  },
  {
   "cell_type": "code",
   "execution_count": 43,
   "metadata": {},
   "outputs": [
    {
     "data": {
      "text/plain": [
       "'s a pigeon, suppose the'"
      ]
     },
     "execution_count": 43,
     "metadata": {},
     "output_type": "execute_result"
    }
   ],
   "source": [
    "# can do negative ranges\n",
    "\n",
    "message[15:-5]"
   ]
  },
  {
   "cell_type": "code",
   "execution_count": 44,
   "metadata": {},
   "outputs": [
    {
     "data": {
      "text/plain": [
       "''"
      ]
     },
     "execution_count": 44,
     "metadata": {},
     "output_type": "execute_result"
    }
   ],
   "source": [
    "message[-5:-15]"
   ]
  },
  {
   "cell_type": "code",
   "execution_count": 45,
   "metadata": {},
   "outputs": [
    {
     "data": {
      "text/plain": [
       "'e there is'"
      ]
     },
     "execution_count": 45,
     "metadata": {},
     "output_type": "execute_result"
    }
   ],
   "source": [
    "message[-10:]"
   ]
  },
  {
   "cell_type": "code",
   "execution_count": 46,
   "metadata": {},
   "outputs": [
    {
     "data": {
      "text/plain": [
       "'Suppose there is a pigeon, suppos'"
      ]
     },
     "execution_count": 46,
     "metadata": {},
     "output_type": "execute_result"
    }
   ],
   "source": [
    "message[:-10]"
   ]
  },
  {
   "cell_type": "code",
   "execution_count": 47,
   "metadata": {},
   "outputs": [],
   "source": [
    "import random"
   ]
  },
  {
   "cell_type": "code",
   "execution_count": 48,
   "metadata": {},
   "outputs": [
    {
     "data": {
      "text/plain": [
       "95"
      ]
     },
     "execution_count": 48,
     "metadata": {},
     "output_type": "execute_result"
    }
   ],
   "source": [
    "random.randrange(100)"
   ]
  },
  {
   "cell_type": "code",
   "execution_count": 66,
   "metadata": {},
   "outputs": [
    {
     "data": {
      "text/plain": [
       "'Two roads diverged in a yellow wood,\\nAn'"
      ]
     },
     "execution_count": 66,
     "metadata": {},
     "output_type": "execute_result"
    }
   ],
   "source": [
    "text[:random.randrange(len(text))]"
   ]
  },
  {
   "cell_type": "code",
   "execution_count": 67,
   "metadata": {},
   "outputs": [
    {
     "data": {
      "text/plain": [
       "733"
      ]
     },
     "execution_count": 67,
     "metadata": {},
     "output_type": "execute_result"
    }
   ],
   "source": [
    "#type of result of division is always floating point\n",
    "\n",
    "len(text)"
   ]
  },
  {
   "cell_type": "code",
   "execution_count": 69,
   "metadata": {},
   "outputs": [
    {
     "data": {
      "text/plain": [
       "366.5"
      ]
     },
     "execution_count": 69,
     "metadata": {},
     "output_type": "execute_result"
    }
   ],
   "source": [
    "len(text) *0.5"
   ]
  },
  {
   "cell_type": "code",
   "execution_count": 70,
   "metadata": {},
   "outputs": [
    {
     "data": {
      "text/plain": [
       "366"
      ]
     },
     "execution_count": 70,
     "metadata": {},
     "output_type": "execute_result"
    }
   ],
   "source": [
    "int(len(text) * 0.5)"
   ]
  },
  {
   "cell_type": "markdown",
   "metadata": {},
   "source": [
    "# 2/21 Notes"
   ]
  },
  {
   "cell_type": "markdown",
   "metadata": {},
   "source": [
    "statements end at EOL\n",
    "python only recommends plain text quotes\n",
    "\n",
    "\"\"\" in a row is special python syntax that lets you past multiple lines\n",
    "\n",
    "other escape codes/characters:\n",
    "/t is for a tab"
   ]
  },
  {
   "cell_type": "markdown",
   "metadata": {},
   "source": [
    "### lists"
   ]
  },
  {
   "cell_type": "markdown",
   "metadata": {},
   "source": [
    "represents sequence of values"
   ]
  },
  {
   "cell_type": "markdown",
   "metadata": {},
   "source": [
    "[ ____ for ___ in ____ if ___]"
   ]
  },
  {
   "cell_type": "markdown",
   "metadata": {},
   "source": [
    "(expression) for (temp var) in (expr list) if (expression t/f)"
   ]
  },
  {
   "cell_type": "markdown",
   "metadata": {},
   "source": [
    "# 2/28 Notes\n"
   ]
  },
  {
   "cell_type": "markdown",
   "metadata": {},
   "source": [
    "### if / else\n"
   ]
  },
  {
   "cell_type": "code",
   "execution_count": 2,
   "metadata": {},
   "outputs": [
    {
     "ename": "NameError",
     "evalue": "name 'true' is not defined",
     "output_type": "error",
     "traceback": [
      "\u001b[0;31m---------------------------------------------------------------------------\u001b[0m",
      "\u001b[0;31mNameError\u001b[0m                                 Traceback (most recent call last)",
      "\u001b[0;32m<ipython-input-2-c77a99a3b1d5>\u001b[0m in \u001b[0;36m<module>\u001b[0;34m\u001b[0m\n\u001b[0;32m----> 1\u001b[0;31m \u001b[0;32mif\u001b[0m \u001b[0mtrue\u001b[0m\u001b[0;34m:\u001b[0m\u001b[0;34m\u001b[0m\u001b[0;34m\u001b[0m\u001b[0m\n\u001b[0m\u001b[1;32m      2\u001b[0m     \u001b[0mexecuted\u001b[0m\u001b[0;34m\u001b[0m\u001b[0;34m\u001b[0m\u001b[0m\n",
      "\u001b[0;31mNameError\u001b[0m: name 'true' is not defined"
     ]
    }
   ],
   "source": [
    "words = "
   ]
  },
  {
   "cell_type": "code",
   "execution_count": 5,
   "metadata": {
    "scrolled": true
   },
   "outputs": [
    {
     "data": {
      "text/plain": [
       "['a',\n",
       " 'a',\n",
       " 'a',\n",
       " 'a',\n",
       " 'a',\n",
       " 'a',\n",
       " 'a',\n",
       " 'a',\n",
       " 'a',\n",
       " 'a',\n",
       " 'a',\n",
       " 'a',\n",
       " 'a',\n",
       " 'a',\n",
       " 'a',\n",
       " 'a',\n",
       " 'a',\n",
       " 'a',\n",
       " 'a',\n",
       " 'a',\n",
       " 'a',\n",
       " 'a',\n",
       " 'a',\n",
       " 'a',\n",
       " 'a',\n",
       " 'a',\n",
       " 'a',\n",
       " 'a',\n",
       " 'a',\n",
       " 'a',\n",
       " 'a',\n",
       " 'a',\n",
       " 'a',\n",
       " 'a',\n",
       " 'a',\n",
       " 'a',\n",
       " 'a',\n",
       " 'a',\n",
       " 'a',\n",
       " 'a',\n",
       " 'a',\n",
       " 'a',\n",
       " 'a',\n",
       " 'a',\n",
       " 'a',\n",
       " 'a',\n",
       " 'a',\n",
       " 'a',\n",
       " 'a',\n",
       " 'a',\n",
       " 'a']"
      ]
     },
     "execution_count": 5,
     "metadata": {},
     "output_type": "execute_result"
    }
   ],
   "source": [
    "# list comprehension\n",
    "\n",
    "[item for item in text if item[0] == 'a']"
   ]
  },
  {
   "cell_type": "code",
   "execution_count": 6,
   "metadata": {},
   "outputs": [
    {
     "name": "stdout",
     "output_type": "stream",
     "text": [
      "not a\n",
      "not a\n",
      "not a\n",
      "not a\n",
      "not a\n",
      "not a\n",
      "a\n",
      "not a\n",
      "not a\n",
      "not a\n",
      "not a\n",
      "not a\n",
      "not a\n",
      "not a\n",
      "not a\n",
      "not a\n",
      "not a\n",
      "not a\n",
      "not a\n",
      "not a\n",
      "not a\n",
      "not a\n",
      "a\n",
      "not a\n",
      "not a\n",
      "not a\n",
      "not a\n",
      "not a\n",
      "not a\n",
      "not a\n",
      "not a\n",
      "not a\n",
      "not a\n",
      "not a\n",
      "not a\n",
      "not a\n",
      "not a\n",
      "not a\n",
      "not a\n",
      "not a\n",
      "not a\n",
      "not a\n",
      "not a\n",
      "not a\n",
      "not a\n",
      "not a\n",
      "not a\n",
      "not a\n",
      "not a\n",
      "not a\n",
      "not a\n",
      "not a\n",
      "not a\n",
      "not a\n",
      "not a\n",
      "not a\n",
      "not a\n",
      "not a\n",
      "not a\n",
      "not a\n",
      "not a\n",
      "a\n",
      "not a\n",
      "not a\n",
      "not a\n",
      "not a\n",
      "bee!\n",
      "not a\n",
      "not a\n",
      "not a\n",
      "not a\n",
      "not a\n",
      "not a\n",
      "not a\n",
      "not a\n",
      "bee!\n",
      "not a\n",
      "not a\n",
      "not a\n",
      "not a\n",
      "not a\n",
      "not a\n",
      "not a\n",
      "not a\n",
      "a\n",
      "not a\n",
      "not a\n",
      "not a\n",
      "not a\n",
      "not a\n",
      "not a\n",
      "not a\n",
      "not a\n",
      "not a\n",
      "not a\n",
      "not a\n",
      "not a\n",
      "not a\n",
      "not a\n",
      "not a\n",
      "not a\n",
      "not a\n",
      "not a\n",
      "not a\n",
      "not a\n",
      "not a\n",
      "not a\n",
      "not a\n",
      "not a\n",
      "not a\n",
      "not a\n",
      "not a\n",
      "not a\n",
      "not a\n",
      "not a\n",
      "not a\n",
      "not a\n",
      "not a\n",
      "not a\n",
      "not a\n",
      "not a\n",
      "not a\n",
      "not a\n",
      "not a\n",
      "not a\n",
      "a\n",
      "not a\n",
      "not a\n",
      "not a\n",
      "a\n",
      "not a\n",
      "not a\n",
      "a\n",
      "not a\n",
      "not a\n",
      "not a\n",
      "not a\n",
      "not a\n",
      "not a\n",
      "not a\n",
      "not a\n",
      "not a\n",
      "not a\n",
      "not a\n",
      "not a\n",
      "not a\n",
      "not a\n",
      "not a\n",
      "not a\n",
      "not a\n",
      "not a\n",
      "not a\n",
      "not a\n",
      "not a\n",
      "not a\n",
      "bee!\n",
      "not a\n",
      "not a\n",
      "not a\n",
      "not a\n",
      "not a\n",
      "not a\n",
      "not a\n",
      "not a\n",
      "not a\n",
      "not a\n",
      "not a\n",
      "not a\n",
      "not a\n",
      "not a\n",
      "not a\n",
      "not a\n",
      "not a\n",
      "not a\n",
      "not a\n",
      "not a\n",
      "not a\n",
      "not a\n",
      "not a\n",
      "not a\n",
      "not a\n",
      "not a\n",
      "not a\n",
      "not a\n",
      "not a\n",
      "not a\n",
      "not a\n",
      "not a\n",
      "not a\n",
      "not a\n",
      "not a\n",
      "not a\n",
      "not a\n",
      "not a\n",
      "not a\n",
      "not a\n",
      "not a\n",
      "not a\n",
      "not a\n",
      "not a\n",
      "not a\n",
      "not a\n",
      "a\n",
      "not a\n",
      "not a\n",
      "not a\n",
      "not a\n",
      "not a\n",
      "not a\n",
      "not a\n",
      "a\n",
      "not a\n",
      "not a\n",
      "not a\n",
      "a\n",
      "not a\n",
      "not a\n",
      "not a\n",
      "not a\n",
      "not a\n",
      "not a\n",
      "not a\n",
      "not a\n",
      "not a\n",
      "a\n",
      "not a\n",
      "not a\n",
      "not a\n",
      "not a\n",
      "not a\n",
      "not a\n",
      "not a\n",
      "not a\n",
      "not a\n",
      "a\n",
      "not a\n",
      "not a\n",
      "not a\n",
      "not a\n",
      "not a\n",
      "not a\n",
      "not a\n",
      "bee!\n",
      "not a\n",
      "not a\n",
      "not a\n",
      "not a\n",
      "not a\n",
      "not a\n",
      "not a\n",
      "not a\n",
      "a\n",
      "not a\n",
      "not a\n",
      "not a\n",
      "not a\n",
      "not a\n",
      "not a\n",
      "not a\n",
      "a\n",
      "not a\n",
      "not a\n",
      "not a\n",
      "not a\n",
      "not a\n",
      "not a\n",
      "not a\n",
      "not a\n",
      "a\n",
      "not a\n",
      "not a\n",
      "not a\n",
      "not a\n",
      "a\n",
      "not a\n",
      "not a\n",
      "not a\n",
      "not a\n",
      "a\n",
      "not a\n",
      "not a\n",
      "not a\n",
      "not a\n",
      "a\n",
      "not a\n",
      "not a\n",
      "not a\n",
      "not a\n",
      "not a\n",
      "not a\n",
      "not a\n",
      "a\n",
      "not a\n",
      "not a\n",
      "not a\n",
      "not a\n",
      "not a\n",
      "not a\n",
      "not a\n",
      "not a\n",
      "not a\n",
      "not a\n",
      "a\n",
      "not a\n",
      "not a\n",
      "not a\n",
      "not a\n",
      "not a\n",
      "not a\n",
      "not a\n",
      "not a\n",
      "a\n",
      "not a\n",
      "not a\n",
      "not a\n",
      "not a\n",
      "not a\n",
      "not a\n",
      "not a\n",
      "a\n",
      "not a\n",
      "not a\n",
      "not a\n",
      "not a\n",
      "not a\n",
      "not a\n",
      "not a\n",
      "not a\n",
      "not a\n",
      "not a\n",
      "not a\n",
      "not a\n",
      "not a\n",
      "a\n",
      "not a\n",
      "not a\n",
      "not a\n",
      "not a\n",
      "not a\n",
      "not a\n",
      "not a\n",
      "not a\n",
      "not a\n",
      "not a\n",
      "not a\n",
      "not a\n",
      "not a\n",
      "not a\n",
      "a\n",
      "not a\n",
      "not a\n",
      "not a\n",
      "not a\n",
      "a\n",
      "bee!\n",
      "not a\n",
      "not a\n",
      "not a\n",
      "not a\n",
      "not a\n",
      "not a\n",
      "not a\n",
      "not a\n",
      "not a\n",
      "a\n",
      "not a\n",
      "not a\n",
      "not a\n",
      "not a\n",
      "not a\n",
      "not a\n",
      "not a\n",
      "not a\n",
      "not a\n",
      "bee!\n",
      "not a\n",
      "not a\n",
      "not a\n",
      "not a\n",
      "not a\n",
      "not a\n",
      "a\n",
      "not a\n",
      "not a\n",
      "not a\n",
      "not a\n",
      "not a\n",
      "not a\n",
      "not a\n",
      "not a\n",
      "not a\n",
      "not a\n",
      "not a\n",
      "not a\n",
      "not a\n",
      "a\n",
      "not a\n",
      "not a\n",
      "not a\n",
      "not a\n",
      "not a\n",
      "a\n",
      "not a\n",
      "not a\n",
      "not a\n",
      "not a\n",
      "not a\n",
      "not a\n",
      "not a\n",
      "a\n",
      "not a\n",
      "not a\n",
      "not a\n",
      "not a\n",
      "not a\n",
      "not a\n",
      "not a\n",
      "not a\n",
      "not a\n",
      "not a\n",
      "not a\n",
      "not a\n",
      "not a\n",
      "a\n",
      "not a\n",
      "not a\n",
      "not a\n",
      "not a\n",
      "not a\n",
      "not a\n",
      "not a\n",
      "not a\n",
      "not a\n",
      "not a\n",
      "bee!\n",
      "not a\n",
      "a\n",
      "not a\n",
      "not a\n",
      "not a\n",
      "not a\n",
      "not a\n",
      "not a\n",
      "not a\n",
      "not a\n",
      "not a\n",
      "not a\n",
      "not a\n",
      "not a\n",
      "not a\n",
      "not a\n",
      "not a\n",
      "not a\n",
      "not a\n",
      "not a\n",
      "not a\n",
      "not a\n",
      "not a\n",
      "not a\n",
      "not a\n",
      "not a\n",
      "not a\n",
      "not a\n",
      "not a\n",
      "not a\n",
      "not a\n",
      "a\n",
      "not a\n",
      "not a\n",
      "not a\n",
      "not a\n",
      "not a\n",
      "not a\n",
      "not a\n",
      "not a\n",
      "a\n",
      "not a\n",
      "not a\n",
      "not a\n",
      "not a\n",
      "not a\n",
      "not a\n",
      "not a\n",
      "not a\n",
      "not a\n",
      "not a\n",
      "not a\n",
      "not a\n",
      "not a\n",
      "not a\n",
      "not a\n",
      "not a\n",
      "not a\n",
      "not a\n",
      "not a\n",
      "not a\n",
      "a\n",
      "not a\n",
      "not a\n",
      "not a\n",
      "not a\n",
      "a\n",
      "not a\n",
      "not a\n",
      "not a\n",
      "not a\n",
      "not a\n",
      "not a\n",
      "not a\n",
      "not a\n",
      "not a\n",
      "not a\n",
      "a\n",
      "not a\n",
      "not a\n",
      "not a\n",
      "not a\n",
      "not a\n",
      "not a\n",
      "not a\n",
      "not a\n",
      "bee!\n",
      "not a\n",
      "not a\n",
      "not a\n",
      "not a\n",
      "not a\n",
      "not a\n",
      "not a\n",
      "not a\n",
      "not a\n",
      "not a\n",
      "not a\n",
      "not a\n",
      "not a\n",
      "not a\n",
      "not a\n",
      "not a\n",
      "not a\n",
      "not a\n",
      "not a\n",
      "not a\n",
      "not a\n",
      "not a\n",
      "not a\n",
      "not a\n",
      "not a\n",
      "not a\n",
      "bee!\n",
      "a\n",
      "not a\n",
      "not a\n",
      "not a\n",
      "not a\n",
      "not a\n",
      "not a\n",
      "not a\n",
      "not a\n",
      "not a\n",
      "a\n",
      "not a\n",
      "not a\n",
      "not a\n",
      "bee!\n",
      "not a\n",
      "not a\n",
      "not a\n",
      "not a\n",
      "not a\n",
      "not a\n",
      "not a\n",
      "not a\n",
      "not a\n",
      "not a\n",
      "not a\n",
      "not a\n",
      "not a\n",
      "not a\n",
      "not a\n",
      "not a\n",
      "not a\n",
      "not a\n",
      "not a\n",
      "not a\n",
      "a\n",
      "not a\n",
      "not a\n",
      "not a\n",
      "not a\n",
      "not a\n",
      "not a\n",
      "not a\n",
      "not a\n",
      "not a\n",
      "not a\n",
      "not a\n",
      "not a\n",
      "not a\n",
      "not a\n",
      "not a\n",
      "not a\n",
      "a\n",
      "not a\n",
      "not a\n",
      "not a\n",
      "not a\n",
      "a\n",
      "not a\n",
      "not a\n",
      "not a\n",
      "a\n",
      "not a\n",
      "not a\n",
      "not a\n",
      "not a\n",
      "not a\n",
      "not a\n",
      "not a\n",
      "not a\n",
      "not a\n",
      "not a\n",
      "not a\n",
      "not a\n",
      "not a\n",
      "not a\n",
      "not a\n",
      "not a\n",
      "not a\n",
      "a\n",
      "not a\n",
      "not a\n",
      "not a\n",
      "not a\n",
      "not a\n",
      "not a\n",
      "not a\n",
      "not a\n",
      "not a\n",
      "not a\n",
      "not a\n",
      "not a\n",
      "not a\n",
      "not a\n",
      "not a\n",
      "a\n",
      "not a\n",
      "not a\n",
      "not a\n",
      "not a\n",
      "not a\n",
      "not a\n",
      "not a\n",
      "a\n",
      "not a\n",
      "not a\n",
      "not a\n",
      "not a\n",
      "not a\n",
      "not a\n",
      "not a\n",
      "not a\n",
      "not a\n",
      "not a\n",
      "not a\n",
      "not a\n",
      "not a\n",
      "not a\n",
      "not a\n",
      "not a\n",
      "not a\n",
      "not a\n",
      "not a\n",
      "not a\n",
      "not a\n",
      "not a\n",
      "not a\n",
      "not a\n",
      "not a\n",
      "not a\n",
      "not a\n",
      "not a\n",
      "not a\n",
      "not a\n",
      "a\n",
      "not a\n",
      "not a\n",
      "not a\n",
      "not a\n",
      "not a\n",
      "not a\n",
      "not a\n",
      "bee!\n",
      "not a\n",
      "not a\n",
      "not a\n",
      "not a\n",
      "not a\n",
      "not a\n",
      "not a\n",
      "not a\n",
      "not a\n",
      "a\n",
      "not a\n",
      "not a\n",
      "not a\n",
      "a\n",
      "not a\n",
      "not a\n",
      "not a\n",
      "a\n",
      "not a\n",
      "not a\n",
      "not a\n",
      "a\n",
      "not a\n",
      "not a\n",
      "not a\n",
      "not a\n",
      "not a\n",
      "not a\n",
      "not a\n",
      "not a\n",
      "not a\n",
      "not a\n",
      "not a\n",
      "not a\n",
      "not a\n",
      "not a\n",
      "not a\n",
      "not a\n",
      "not a\n",
      "not a\n",
      "not a\n"
     ]
    }
   ],
   "source": [
    "# for loop\n",
    "\n",
    "for item in text:\n",
    "    if item[0] == 'a':\n",
    "        print(item)\n",
    "    elif item[0] == 'b':\n",
    "        print('bee!')\n",
    "    else:\n",
    "        print('not a')"
   ]
  },
  {
   "cell_type": "code",
   "execution_count": null,
   "metadata": {},
   "outputs": [],
   "source": []
  },
  {
   "cell_type": "code",
   "execution_count": 8,
   "metadata": {
    "scrolled": true
   },
   "outputs": [
    {
     "data": {
      "text/plain": [
       "['a',\n",
       " 'a',\n",
       " 'a',\n",
       " 'a',\n",
       " 'a',\n",
       " 'a',\n",
       " 'a',\n",
       " 'a',\n",
       " 'a',\n",
       " 'a',\n",
       " 'a',\n",
       " 'a',\n",
       " 'a',\n",
       " 'a',\n",
       " 'a',\n",
       " 'a',\n",
       " 'a',\n",
       " 'a',\n",
       " 'a',\n",
       " 'a',\n",
       " 'a',\n",
       " 'a',\n",
       " 'a',\n",
       " 'a',\n",
       " 'a',\n",
       " 'a',\n",
       " 'a',\n",
       " 'a',\n",
       " 'a',\n",
       " 'a',\n",
       " 'a',\n",
       " 'a',\n",
       " 'a',\n",
       " 'a',\n",
       " 'a',\n",
       " 'a',\n",
       " 'a',\n",
       " 'a',\n",
       " 'a',\n",
       " 'a',\n",
       " 'a',\n",
       " 'a',\n",
       " 'a',\n",
       " 'a',\n",
       " 'a',\n",
       " 'a',\n",
       " 'a',\n",
       " 'a',\n",
       " 'a',\n",
       " 'a',\n",
       " 'a']"
      ]
     },
     "execution_count": 8,
     "metadata": {},
     "output_type": "execute_result"
    }
   ],
   "source": [
    "# list comprehension as a for loop\n",
    "a_words = []\n",
    "for item in text:\n",
    "    if item[0] == 'a':\n",
    "        a_words.append(item)\n",
    "        \n",
    "a_words"
   ]
  },
  {
   "cell_type": "markdown",
   "metadata": {},
   "source": [
    "### computational acrostic\n",
    "\n",
    "write an acrostic where each line is a word that begins with the letter from the seed phrase"
   ]
  },
  {
   "cell_type": "code",
   "execution_count": 12,
   "metadata": {},
   "outputs": [],
   "source": [
    "import random"
   ]
  },
  {
   "cell_type": "markdown",
   "metadata": {},
   "source": [
    "## if you hold alt and drag, can change multiple text at once"
   ]
  },
  {
   "cell_type": "code",
   "execution_count": 16,
   "metadata": {},
   "outputs": [
    {
     "name": "stdout",
     "output_type": "stream",
     "text": [
      "['Two', 'roads', 'diverged', 'in', 'a', 'yellow', 'wood,', 'And', 'sorry', 'I', 'could', 'not', 'travel', 'both', 'And', 'be', 'one', 'traveler,', 'long', 'I', 'stood', 'And', 'looked', 'down', 'one', 'as', 'far', 'as', 'I', 'could', 'To', 'where', 'it', 'bent', 'in', 'the', 'undergrowth;', 'Then', 'took', 'the', 'other,', 'as', 'just', 'as', 'fair,', 'And', 'having', 'perhaps', 'the', 'better', 'claim,', 'Because', 'it', 'was', 'grassy', 'and', 'wanted', 'wear;', 'Though', 'as', 'for', 'that', 'the', 'passing', 'there', 'Had', 'worn', 'them', 'really', 'about', 'the', 'same,', 'And', 'both', 'that', 'morning', 'equally', 'lay', 'In', 'leaves', 'no', 'step', 'had', 'trodden', 'black.', 'Oh,', 'I', 'kept', 'the', 'first', 'for', 'another', 'day!', 'Yet', 'knowing', 'how', 'way', 'leads', 'on', 'to', 'way,', 'I', 'doubted', 'if', 'I', 'should', 'ever', 'come', 'back.', 'I', 'shall', 'be', 'telling', 'this', 'with', 'a', 'sigh', 'Somewhere', 'ages', 'and', 'ages', 'hence:', 'Two', 'roads', 'diverged', 'in', 'a', 'wood,', 'and', 'I---', 'I', 'took', 'the', 'one', 'less', 'travelled', 'by,', 'And', 'that', 'has', 'made', 'all', 'the', 'difference.']\n"
     ]
    }
   ],
   "source": [
    "words = text.split()\n",
    "print(words)"
   ]
  },
  {
   "cell_type": "code",
   "execution_count": 23,
   "metadata": {},
   "outputs": [
    {
     "name": "stdout",
     "output_type": "stream",
     "text": [
      "really\n",
      "one\n",
      "back.\n",
      "ever\n",
      "really\n",
      "the\n"
     ]
    }
   ],
   "source": [
    "seed = 'robert'\n",
    "for item in seed:\n",
    "    matches = [word for word in words if word.startswith(item)]\n",
    "    print(random.choice(matches))"
   ]
  },
  {
   "cell_type": "markdown",
   "metadata": {},
   "source": [
    "| letter | words-that-start-with-a |\n",
    "| ------ | ----------------------- |\n",
    "| a | a, an, apple |"
   ]
  },
  {
   "cell_type": "markdown",
   "metadata": {},
   "source": [
    "## dictionary\n"
   ]
  },
  {
   "cell_type": "markdown",
   "metadata": {},
   "source": [
    "spreadsheet with two columns\n",
    "keys and values (words and definitions)\n"
   ]
  },
  {
   "cell_type": "code",
   "execution_count": 28,
   "metadata": {},
   "outputs": [],
   "source": [
    "# only one value per key, but that one value can be a list\n",
    "planets = {\n",
    "    'Mercury' : 0.357, \n",
    "    'Venus' : 0.723, \n",
    "    'Earth' : 1.0, \n",
    "    'Mars' : 1.523\n",
    "}"
   ]
  },
  {
   "cell_type": "code",
   "execution_count": 26,
   "metadata": {},
   "outputs": [
    {
     "data": {
      "text/plain": [
       "0.723"
      ]
     },
     "execution_count": 26,
     "metadata": {},
     "output_type": "execute_result"
    }
   ],
   "source": [
    "planets['Venus']"
   ]
  },
  {
   "cell_type": "code",
   "execution_count": 29,
   "metadata": {},
   "outputs": [],
   "source": [
    "planets['Jupiter'] = 5.2"
   ]
  },
  {
   "cell_type": "code",
   "execution_count": 30,
   "metadata": {},
   "outputs": [
    {
     "data": {
      "text/plain": [
       "{'Mercury': 0.357, 'Venus': 0.723, 'Earth': 1.0, 'Mars': 1.523, 'Jupiter': 5.2}"
      ]
     },
     "execution_count": 30,
     "metadata": {},
     "output_type": "execute_result"
    }
   ],
   "source": [
    "planets"
   ]
  },
  {
   "cell_type": "markdown",
   "metadata": {},
   "source": [
    "## dictionaries don't have any inherent interal ordering\n",
    "\n",
    "so you can't rely on an order\n"
   ]
  },
  {
   "cell_type": "code",
   "execution_count": 31,
   "metadata": {},
   "outputs": [],
   "source": [
    "planets['Earth'] = 1.01"
   ]
  },
  {
   "cell_type": "code",
   "execution_count": 32,
   "metadata": {},
   "outputs": [
    {
     "data": {
      "text/plain": [
       "{'Mercury': 0.357,\n",
       " 'Venus': 0.723,\n",
       " 'Earth': 1.01,\n",
       " 'Mars': 1.523,\n",
       " 'Jupiter': 5.2}"
      ]
     },
     "execution_count": 32,
     "metadata": {},
     "output_type": "execute_result"
    }
   ],
   "source": [
    "planets"
   ]
  },
  {
   "cell_type": "code",
   "execution_count": 33,
   "metadata": {},
   "outputs": [],
   "source": [
    "planets['Venus'] = 0.72"
   ]
  },
  {
   "cell_type": "code",
   "execution_count": 34,
   "metadata": {},
   "outputs": [
    {
     "data": {
      "text/plain": [
       "{'Mercury': 0.357, 'Venus': 0.72, 'Earth': 1.01, 'Mars': 1.523, 'Jupiter': 5.2}"
      ]
     },
     "execution_count": 34,
     "metadata": {},
     "output_type": "execute_result"
    }
   ],
   "source": [
    "planets"
   ]
  },
  {
   "cell_type": "code",
   "execution_count": 35,
   "metadata": {},
   "outputs": [
    {
     "data": {
      "text/plain": [
       "False"
      ]
     },
     "execution_count": 35,
     "metadata": {},
     "output_type": "execute_result"
    }
   ],
   "source": [
    "5.2 in planets"
   ]
  },
  {
   "cell_type": "code",
   "execution_count": 38,
   "metadata": {},
   "outputs": [
    {
     "data": {
      "text/plain": [
       "True"
      ]
     },
     "execution_count": 38,
     "metadata": {},
     "output_type": "execute_result"
    }
   ],
   "source": [
    "# only returns true if key\n",
    "'Venus' in planets\n"
   ]
  },
  {
   "cell_type": "code",
   "execution_count": 39,
   "metadata": {},
   "outputs": [
    {
     "data": {
      "text/plain": [
       "True"
      ]
     },
     "execution_count": 39,
     "metadata": {},
     "output_type": "execute_result"
    }
   ],
   "source": [
    "5.2 in planets.values()"
   ]
  },
  {
   "cell_type": "code",
   "execution_count": 40,
   "metadata": {},
   "outputs": [],
   "source": [
    "planet_moons = {\n",
    "    'Mercury' : [],\n",
    "    'Venus' : [],\n",
    "    'Earth' : [\"moon\"],\n",
    "    'Mars' : [\"Phobos\", \"Deimos\"]\n",
    "}"
   ]
  },
  {
   "cell_type": "code",
   "execution_count": 41,
   "metadata": {},
   "outputs": [
    {
     "data": {
      "text/plain": [
       "['Phobos', 'Deimos']"
      ]
     },
     "execution_count": 41,
     "metadata": {},
     "output_type": "execute_result"
    }
   ],
   "source": [
    "planet_moons['Mars']"
   ]
  },
  {
   "cell_type": "code",
   "execution_count": 42,
   "metadata": {},
   "outputs": [
    {
     "data": {
      "text/plain": [
       "2"
      ]
     },
     "execution_count": 42,
     "metadata": {},
     "output_type": "execute_result"
    }
   ],
   "source": [
    "len(planet_moons['Mars'])"
   ]
  },
  {
   "cell_type": "code",
   "execution_count": 43,
   "metadata": {},
   "outputs": [],
   "source": [
    "numbers = [1, 2, 3, 4, 5]"
   ]
  },
  {
   "cell_type": "code",
   "execution_count": 44,
   "metadata": {},
   "outputs": [],
   "source": [
    "numbers.append(234)"
   ]
  },
  {
   "cell_type": "code",
   "execution_count": 45,
   "metadata": {},
   "outputs": [
    {
     "data": {
      "text/plain": [
       "[1, 2, 3, 4, 5, 234]"
      ]
     },
     "execution_count": 45,
     "metadata": {},
     "output_type": "execute_result"
    }
   ],
   "source": [
    "numbers"
   ]
  },
  {
   "cell_type": "code",
   "execution_count": 46,
   "metadata": {},
   "outputs": [],
   "source": [
    "planet_moons['Venus'].append('Allison')"
   ]
  },
  {
   "cell_type": "code",
   "execution_count": 47,
   "metadata": {},
   "outputs": [
    {
     "data": {
      "text/plain": [
       "{'Mercury': [],\n",
       " 'Venus': ['Allison'],\n",
       " 'Earth': ['moon'],\n",
       " 'Mars': ['Phobos', 'Deimos']}"
      ]
     },
     "execution_count": 47,
     "metadata": {},
     "output_type": "execute_result"
    }
   ],
   "source": [
    "planet_moons"
   ]
  },
  {
   "cell_type": "code",
   "execution_count": 50,
   "metadata": {},
   "outputs": [],
   "source": [
    "words = open('txt/frost.txt').read().split()\n",
    "initials = {}\n",
    "for item in words:\n",
    "    first_let = item[0].lower()\n",
    "    if first_let in initials:\n",
    "        initials[first_let].append(item)\n",
    "    else:\n",
    "        initials[first_let] = []\n",
    "        initials[first_let].append(item)"
   ]
  },
  {
   "cell_type": "code",
   "execution_count": 51,
   "metadata": {},
   "outputs": [
    {
     "data": {
      "text/plain": [
       "{'t': ['Two',\n",
       "  'travel',\n",
       "  'traveler,',\n",
       "  'To',\n",
       "  'the',\n",
       "  'Then',\n",
       "  'took',\n",
       "  'the',\n",
       "  'the',\n",
       "  'Though',\n",
       "  'that',\n",
       "  'the',\n",
       "  'there',\n",
       "  'them',\n",
       "  'the',\n",
       "  'that',\n",
       "  'trodden',\n",
       "  'the',\n",
       "  'to',\n",
       "  'telling',\n",
       "  'this',\n",
       "  'Two',\n",
       "  'took',\n",
       "  'the',\n",
       "  'travelled',\n",
       "  'that',\n",
       "  'the'],\n",
       " 'r': ['roads', 'really', 'roads'],\n",
       " 'd': ['diverged', 'down', 'day!', 'doubted', 'diverged', 'difference.'],\n",
       " 'i': ['in',\n",
       "  'I',\n",
       "  'I',\n",
       "  'I',\n",
       "  'it',\n",
       "  'in',\n",
       "  'it',\n",
       "  'In',\n",
       "  'I',\n",
       "  'I',\n",
       "  'if',\n",
       "  'I',\n",
       "  'I',\n",
       "  'in',\n",
       "  'I---',\n",
       "  'I'],\n",
       " 'a': ['a',\n",
       "  'And',\n",
       "  'And',\n",
       "  'And',\n",
       "  'as',\n",
       "  'as',\n",
       "  'as',\n",
       "  'as',\n",
       "  'And',\n",
       "  'and',\n",
       "  'as',\n",
       "  'about',\n",
       "  'And',\n",
       "  'another',\n",
       "  'a',\n",
       "  'ages',\n",
       "  'and',\n",
       "  'ages',\n",
       "  'a',\n",
       "  'and',\n",
       "  'And',\n",
       "  'all'],\n",
       " 'y': ['yellow', 'Yet'],\n",
       " 'w': ['wood,',\n",
       "  'where',\n",
       "  'was',\n",
       "  'wanted',\n",
       "  'wear;',\n",
       "  'worn',\n",
       "  'way',\n",
       "  'way,',\n",
       "  'with',\n",
       "  'wood,'],\n",
       " 's': ['sorry',\n",
       "  'stood',\n",
       "  'same,',\n",
       "  'step',\n",
       "  'should',\n",
       "  'shall',\n",
       "  'sigh',\n",
       "  'Somewhere'],\n",
       " 'c': ['could', 'could', 'claim,', 'come'],\n",
       " 'n': ['not', 'no'],\n",
       " 'b': ['both',\n",
       "  'be',\n",
       "  'bent',\n",
       "  'better',\n",
       "  'Because',\n",
       "  'both',\n",
       "  'black.',\n",
       "  'back.',\n",
       "  'be',\n",
       "  'by,'],\n",
       " 'o': ['one', 'one', 'other,', 'Oh,', 'on', 'one'],\n",
       " 'l': ['long', 'looked', 'lay', 'leaves', 'leads', 'less'],\n",
       " 'f': ['far', 'fair,', 'for', 'first', 'for'],\n",
       " 'u': ['undergrowth;'],\n",
       " 'j': ['just'],\n",
       " 'h': ['having', 'Had', 'had', 'how', 'hence:', 'has'],\n",
       " 'p': ['perhaps', 'passing'],\n",
       " 'g': ['grassy'],\n",
       " 'm': ['morning', 'made'],\n",
       " 'e': ['equally', 'ever'],\n",
       " 'k': ['kept', 'knowing']}"
      ]
     },
     "execution_count": 51,
     "metadata": {},
     "output_type": "execute_result"
    }
   ],
   "source": [
    "initials\n"
   ]
  },
  {
   "cell_type": "code",
   "execution_count": 54,
   "metadata": {},
   "outputs": [
    {
     "name": "stdout",
     "output_type": "stream",
     "text": [
      "t 27\n",
      "r 3\n",
      "d 6\n",
      "i 16\n",
      "a 22\n",
      "y 2\n",
      "w 10\n",
      "s 8\n",
      "c 4\n",
      "n 2\n",
      "b 10\n",
      "o 6\n",
      "l 6\n",
      "f 5\n",
      "u 1\n",
      "j 1\n",
      "h 6\n",
      "p 2\n",
      "g 1\n",
      "m 2\n",
      "e 2\n",
      "k 2\n"
     ]
    }
   ],
   "source": [
    "for key, val in initials.items():\n",
    "    print(key, len(val))"
   ]
  },
  {
   "cell_type": "code",
   "execution_count": 59,
   "metadata": {},
   "outputs": [
    {
     "name": "stdout",
     "output_type": "stream",
     "text": [
      "grassy\n",
      "I\n",
      "really\n",
      "leaves\n",
      "far\n",
      "roads\n",
      "I\n",
      "equally\n",
      "not\n",
      "day!\n"
     ]
    }
   ],
   "source": [
    "seed = 'girlfriend'\n",
    "for ch in seed:\n",
    "    print(random.choice(initials[ch]))"
   ]
  },
  {
   "cell_type": "code",
   "execution_count": 60,
   "metadata": {},
   "outputs": [
    {
     "name": "stdout",
     "output_type": "stream",
     "text": [
      "grassy\n",
      "I\n",
      "roads\n",
      "lay\n",
      "far\n",
      "roads\n",
      "in\n",
      "ever\n",
      "no\n",
      "diverged\n"
     ]
    }
   ],
   "source": [
    "print('\\n'.join([random.choice(initials[ch]) for ch in seed]))"
   ]
  },
  {
   "cell_type": "code",
   "execution_count": 61,
   "metadata": {},
   "outputs": [
    {
     "data": {
      "text/plain": [
       "['could', 'could', 'claim,', 'come']"
      ]
     },
     "execution_count": 61,
     "metadata": {},
     "output_type": "execute_result"
    }
   ],
   "source": [
    "initials.get('c')"
   ]
  },
  {
   "cell_type": "code",
   "execution_count": 62,
   "metadata": {},
   "outputs": [
    {
     "data": {
      "text/plain": [
       "['could', 'could', 'claim,', 'come']"
      ]
     },
     "execution_count": 62,
     "metadata": {},
     "output_type": "execute_result"
    }
   ],
   "source": [
    "initials['c']\n"
   ]
  },
  {
   "cell_type": "code",
   "execution_count": 63,
   "metadata": {},
   "outputs": [
    {
     "data": {
      "text/plain": [
       "'???'"
      ]
     },
     "execution_count": 63,
     "metadata": {},
     "output_type": "execute_result"
    }
   ],
   "source": [
    "initials.get('z', '???')"
   ]
  },
  {
   "cell_type": "code",
   "execution_count": 66,
   "metadata": {},
   "outputs": [
    {
     "name": "stdout",
     "output_type": "stream",
     "text": [
      "Passing\n",
      "I\n",
      "?\n",
      "?\n",
      "Ages\n"
     ]
    }
   ],
   "source": [
    "seed = 'pizza'\n",
    "for ch in seed:\n",
    "    print(random.choice(initials.get(ch, '?')).capitalize())"
   ]
  },
  {
   "cell_type": "code",
   "execution_count": null,
   "metadata": {},
   "outputs": [],
   "source": []
  }
 ],
 "metadata": {
  "kernelspec": {
   "display_name": "Python 3",
   "language": "python",
   "name": "python3"
  },
  "language_info": {
   "codemirror_mode": {
    "name": "ipython",
    "version": 3
   },
   "file_extension": ".py",
   "mimetype": "text/x-python",
   "name": "python",
   "nbconvert_exporter": "python",
   "pygments_lexer": "ipython3",
   "version": "3.7.1"
  }
 },
 "nbformat": 4,
 "nbformat_minor": 2
}
