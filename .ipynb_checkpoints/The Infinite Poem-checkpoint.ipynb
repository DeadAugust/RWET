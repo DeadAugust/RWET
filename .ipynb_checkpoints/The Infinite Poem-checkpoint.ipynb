{
 "cells": [
  {
   "cell_type": "markdown",
   "metadata": {},
   "source": [
    "# The Infinite Poem\n",
    "\n",
    "## Approaching a visualization of the language of the dead\n",
    "\n",
    "**Reading and Writing Electronic Text  \n",
    "Final Project by August Luhrs  \n",
    "ITP Spring 2019 -- Allison Parrish**"
   ]
  },
  {
   "cell_type": "markdown",
   "metadata": {},
   "source": [
    "## TO DO\n",
    "- Data set collection\n",
    "    - add associated character\n",
    "- poem structure\n",
    "- input corpus\n",
    "- visualization\n",
    "    - output how?\n",
    "- OH\n",
    "    - list comprehension\n",
    "    - visualization\n",
    "    - looping"
   ]
  },
  {
   "cell_type": "markdown",
   "metadata": {},
   "source": [
    "## Corpora Datasets\n",
    "from [Darius Kazemi's Corpora Project](https://github.com/dariusk/corpora)\n",
    "\n",
    "### Animals (9)\n",
    " - ant anatomy [y]\n",
    " - birds north america [B]\n",
    " - cats [(]\n",
    " - cephalopod anatomy [;]\n",
    " - common [o]\n",
    " - dinosaurs [9]\n",
    " - dog_names [Q]\n",
    " - dogs [1]\n",
    " - horses [h]\n",
    " \n",
    "### Archetypes (3)\n",
    "- character [3]needed\n",
    "- event \n",
    "- setting\n",
    "\n",
    "### Architecture (2)\n",
    "- Passages\n",
    "- Rooms [v]\n",
    "\n",
    "### Art (1)\n",
    "- isms \n",
    "\n",
    "### Books (2)\n",
    "- academic subjects [j]\n",
    "- bestselling books [8]\n",
    " \n",
    "### Colors (1)\n",
    "- crayola [c]\n",
    "\n",
    "### Corporations (5)\n",
    "- cars [K]\n",
    "- charities\n",
    "- fortune500 [$]\n",
    "- industries [W]\n",
    "- newspapers [!]\n",
    "\n",
    "### Divination (1) 24\n",
    "- zodiac [z]\n",
    "\n",
    "### Film - TV (3)\n",
    "- Netflix Categories [Y]\n",
    "- Popular Movies [2]\n",
    "- TV Shows\n",
    "\n",
    "### Food (14)\n",
    "- apple cultivars\n",
    "- bad beers [T]\n",
    "- beer styles\n",
    "- breads and pastries\n",
    "- list of recipe instructions [O]\n",
    "- condiments [4]\n",
    "- fruits [f]\n",
    "- herbs n spices [\"]\n",
    "- hot peppers\n",
    "- cocktails\n",
    "- menu items [M]\n",
    "- pizza toppings\n",
    "- vegetables [V]\n",
    "- wine descriptions\n",
    "\n",
    "### Games (3)\n",
    "- board games\n",
    "- pokemon\n",
    "- wrestling moves\n",
    "\n",
    "### Geography (6)\n",
    "- countries [G]\n",
    "- environmental hazards\n",
    "- geographic features[g]\n",
    "- nationalities\n",
    "- rivers [7]\n",
    "- us cities\n",
    "\n",
    "### Governments (2)\n",
    "- us federal agencies\n",
    "- us military operations\n",
    "\n",
    "### Humans (13)\n",
    "- atus activities [H]\n",
    "- body Parts [k]\n",
    "- celebrities\n",
    "- descriptions [-]\n",
    "- honorifics\n",
    "- famous Duos\n",
    "- first names [m]\n",
    "- last names (combine?) [H]\n",
    "- moods [F]\n",
    "- jobs[I]\n",
    "- spanish first names\n",
    "- spanish last names [6]\n",
    "- wrestlers\n",
    "\n",
    "### Instructions (1)\n",
    "- laundry care [r]\n",
    "\n",
    "### Materials (5 of 6)\n",
    "- abridged-body-fluids [E]\n",
    "- building materials [L]\n",
    "- fabrics\n",
    "- ~~layperson metals~~\n",
    "- packaging [&]\n",
    "- sculpture materials \n",
    "\n",
    "### Mathematics (4)\n",
    "- fibonnaci sequence (first 50 or something?) [b]\n",
    "- primes \n",
    "- primes binary\n",
    "- trigonometry [x]\n",
    "\n",
    "### Medicine (7)\n",
    "- **cancer** [w]\n",
    "- diagnoses [,]\n",
    "- diseases (hard to pull)\n",
    "- drugs [U]\n",
    "- hospitals [A]\n",
    "- infectious diseases\n",
    "- symptoms [S]\n",
    "\n",
    "### Music (3)\n",
    "- bands that have opened for tool\n",
    "- genres [u]\n",
    "- musical instruments [)]\n",
    "\n",
    "### Mythology (3)\n",
    "- greek gods [/]\n",
    "- hebrew god [X]\n",
    "- monsters [Z]\n",
    "\n",
    "### Objects (2)\n",
    "- clothing [i]\n",
    "- household objects [0]\n",
    "\n",
    "### Plants (3) 93\n",
    "- **cannabis** [M]\n",
    "- flowers [?]\n",
    "- plants [a]\n",
    "\n",
    "### Religion (1)\n",
    "- religions [P]\n",
    "\n",
    "### Science (3)\n",
    "- elements [e]\n",
    "- planets [p]\n",
    "- weather conditions[']\n",
    "\n",
    "### Societies and Groups (2)\n",
    "- us terrorist groups\n",
    "- sororities [D]\n",
    "\n",
    "### Sports (1)\n",
    "- **sports** [s]\n",
    "\n",
    "### Technology (4)\n",
    "- appliances [l]\n",
    "- **guns n rifles** [R]\n",
    "- knots\n",
    "- new technologies [q]\n",
    "\n",
    "### Words (8)\n",
    "- shakespeare phrases \n",
    "- adverbs [5]\n",
    "- common english words [.]\n",
    "- encouraging words [C]\n",
    "- interjections [N]\n",
    "- nouns [n]\n",
    "- states of drunkenness [d]\n",
    "- units of time [t]\n",
    "\n",
    "\n",
    "### Total: 112 of est. 68 needed\n",
    "ASCII Table -- 94 including rando punc...\n",
    "\n",
    "Characters unassigned:  \n",
    "[]\\=<>:{}|@#%^*_+~`  \n",
    "\n",
    "\n"
   ]
  },
  {
   "cell_type": "markdown",
   "metadata": {},
   "source": [
    "# TODO\n",
    "- cull the 112 into X\n",
    "- add unique relevant data\n",
    "- make the new lists for each\n",
    "- make the giant if (dict?)\n",
    "    - better to use giant dict of all possibles? then can just go char by char and do random.choice on the values for that key\n",
    "    \n"
   ]
  },
  {
   "cell_type": "markdown",
   "metadata": {},
   "source": [
    "## Lists"
   ]
  },
  {
   "cell_type": "code",
   "execution_count": 4,
   "metadata": {},
   "outputs": [],
   "source": [
    "import json\n",
    "import random"
   ]
  },
  {
   "cell_type": "code",
   "execution_count": 10,
   "metadata": {},
   "outputs": [],
   "source": [
    "# need default dict?\n",
    "infinite = {}"
   ]
  },
  {
   "cell_type": "code",
   "execution_count": 11,
   "metadata": {},
   "outputs": [],
   "source": [
    "ant_anatomy = json.loads(open('corpora/data/animals/ant_anatomy.json').read())\n",
    "ant_anatomy = ant_anatomy['parts']\n",
    "infinite['y'] = ant_anatomy"
   ]
  },
  {
   "cell_type": "code",
   "execution_count": 25,
   "metadata": {},
   "outputs": [],
   "source": [
    "birds_NA = json.loads(open('corpora/data/animals/birds_north_america.json').read())\n",
    "birds = []\n",
    "for fam in birds_NA['birds']:\n",
    "    for bird in fam['members']:\n",
    "        birds.append(bird)\n",
    "infinite['B'] = birds"
   ]
  },
  {
   "cell_type": "code",
   "execution_count": 27,
   "metadata": {},
   "outputs": [],
   "source": [
    "cats = json.loads(open('corpora/data/animals/cats.json').read())\n",
    "cats = cats['cats']\n",
    "infinite['('] = cats"
   ]
  },
  {
   "cell_type": "code",
   "execution_count": 30,
   "metadata": {
    "scrolled": true
   },
   "outputs": [],
   "source": [
    "cephalopod = json.loads(open('corpora/data/animals/cephalopod_anatomy.json').read())\n",
    "cephalopod = cephalopod['parts']\n",
    "infinite[';'] = cephalopod"
   ]
  },
  {
   "cell_type": "code",
   "execution_count": 32,
   "metadata": {},
   "outputs": [],
   "source": [
    "common_Animals = json.loads(open('corpora/data/animals/common.json').read())\n",
    "common_Animals = common_Animals['animals']\n",
    "infinite['o'] = common_Animals"
   ]
  },
  {
   "cell_type": "code",
   "execution_count": 34,
   "metadata": {},
   "outputs": [],
   "source": [
    "dinosaurs = json.loads(open('corpora/data/animals/dinosaurs.json').read())\n",
    "dinosaurs = dinosaurs['dinosaurs']\n",
    "infinite['9'] = dinosaurs"
   ]
  },
  {
   "cell_type": "code",
   "execution_count": 36,
   "metadata": {},
   "outputs": [],
   "source": [
    "dog_names = json.loads(open('corpora/data/animals/dog_names.json').read())\n",
    "dog_names = dog_names['dog_names']\n",
    "infinite['Q'] = dog_names"
   ]
  },
  {
   "cell_type": "code",
   "execution_count": 39,
   "metadata": {},
   "outputs": [],
   "source": [
    "dogs = json.loads(open('corpora/data/animals/dogs.json').read())\n",
    "dogs = dogs['dogs']\n",
    "infinite['1'] = dogs"
   ]
  },
  {
   "cell_type": "code",
   "execution_count": 41,
   "metadata": {},
   "outputs": [],
   "source": [
    "horses = json.loads(open('corpora/data/animals/horses.json').read())\n",
    "horses = horses['horses']\n",
    "infinite['h'] = horses"
   ]
  },
  {
   "cell_type": "code",
   "execution_count": 57,
   "metadata": {},
   "outputs": [],
   "source": [
    "characterJSON = json.loads(open('corpora/data/archetypes/character.json').read())\n",
    "character = []\n",
    "for name in characterJSON['characters']:\n",
    "    character.append(name['name'])\n",
    "infinite['3'] = character"
   ]
  },
  {
   "cell_type": "code",
   "execution_count": 60,
   "metadata": {},
   "outputs": [],
   "source": [
    "passages = json.loads(open('corpora/data/architecture/passages.json').read())\n",
    "passages = passages['passages']\n",
    "infinite[':'] = passages"
   ]
  },
  {
   "cell_type": "code",
   "execution_count": 63,
   "metadata": {},
   "outputs": [],
   "source": [
    "rooms = json.loads(open('corpora/data/architecture/rooms.json').read())\n",
    "rooms = rooms['rooms']\n",
    "infinite['v'] = rooms"
   ]
  },
  {
   "cell_type": "code",
   "execution_count": 65,
   "metadata": {},
   "outputs": [],
   "source": [
    "academic = json.loads(open('corpora/data/books/academic_subjects.json').read())\n",
    "academic = academic['subjects']\n",
    "infinite['j'] = academic"
   ]
  },
  {
   "cell_type": "code",
   "execution_count": 67,
   "metadata": {},
   "outputs": [],
   "source": [
    "books = json.loads(open('corpora/data/books/bestsellers.json').read())\n",
    "books = books['books']\n",
    "titles = []\n",
    "for book in books:\n",
    "    titles.append(book['title'])\n",
    "infinite['8'] = titles"
   ]
  },
  {
   "cell_type": "code",
   "execution_count": 71,
   "metadata": {},
   "outputs": [],
   "source": [
    "colors = json.loads(open('corpora/data/colors/crayola.json').read())\n",
    "color = []\n",
    "for crayons in colors['colors']:\n",
    "    color.append(crayons['color'])\n",
    "infinite['c'] = color"
   ]
  },
  {
   "cell_type": "code",
   "execution_count": 73,
   "metadata": {},
   "outputs": [],
   "source": [
    "cars = json.loads(open('corpora/data/corporations/cars.json').read())\n",
    "infinite['K'] = cars['cars']"
   ]
  },
  {
   "cell_type": "code",
   "execution_count": 75,
   "metadata": {},
   "outputs": [],
   "source": [
    "fortune = json.loads(open('corpora/data/corporations/fortune500.json').read())\n",
    "infinite['$'] = fortune['companies']"
   ]
  },
  {
   "cell_type": "code",
   "execution_count": 77,
   "metadata": {},
   "outputs": [],
   "source": [
    "industries = json.loads(open('corpora/data/corporations/industries.json').read())\n",
    "infinite['W'] = industries['industries']"
   ]
  },
  {
   "cell_type": "code",
   "execution_count": 79,
   "metadata": {},
   "outputs": [],
   "source": [
    "news = json.loads(open('corpora/data/corporations/newspapers.json').read())\n",
    "infinite['!'] = news['newspapers']"
   ]
  },
  {
   "cell_type": "code",
   "execution_count": 82,
   "metadata": {},
   "outputs": [],
   "source": [
    "zodiac = json.loads(open('corpora/data/divination/zodiac.json').read())\n",
    "signs = []\n",
    "for sign in zodiac['western_zodiac']:\n",
    "    signs.append(sign)\n",
    "for animal in zodiac['eastern_zodiac']:\n",
    "    signs.append(animal)\n",
    "infinite['z'] = signs"
   ]
  },
  {
   "cell_type": "code",
   "execution_count": 84,
   "metadata": {},
   "outputs": [],
   "source": [
    "netflix = json.loads(open('corpora/data/film-tv/netflix-categories.json').read())\n",
    "infinite['Y'] = netflix['categories']"
   ]
  },
  {
   "cell_type": "code",
   "execution_count": 135,
   "metadata": {},
   "outputs": [],
   "source": [
    "movies = json.loads(open('corpora/data/film-tv/popular-movies.json').read())\n",
    "infinite['2'] = movies['popular-movies']"
   ]
  },
  {
   "cell_type": "code",
   "execution_count": 123,
   "metadata": {},
   "outputs": [
    {
     "name": "stdout",
     "output_type": "stream",
     "text": [
      "['Natural Light', 'Budweiser Select 55', 'Keystone Ice', 'Natural Ice', 'Keystone Light', 'Bud Light', 'Miller Genuine Draft 64', 'Miller 64', 'Busch Light', \"Milwaukee's Best Light\", 'Michelob Ultra', 'Bud Ice', \"Milwaukee's Best\", 'Busch Ice', 'Corona Light', 'Bud Light & Clamato Chelada', 'Coors Light', 'Busch Beer', \"Sharp's\", 'Red Dog', 'Budweiser Select', 'Icehouse', \"O'Doul's\", 'Olde English 800', \"Milwaukee's Best Ice\", 'King Cobra Premium Malt Liquor', 'Bud Light Lime', 'Miller Lite', 'Bud Light Lime-A-Rita', 'Michelob Light', 'Keystone Premium', 'Hurricane Malt Liquor', 'Budweiser & Clamato Chelada', 'Bud Light Platinum', 'Beer 30 Light', 'Colt 45 Malt Liquor', 'Labatt Blue Light', 'Miller Genuine Draft', 'Wild Blue', 'Magnum', 'Miller High Life Light', 'Keystone Lager', 'Rock Green Light', 'Corona Extra', 'Shock Top Honey Bourbon Cask Wheat', 'Budweiser', 'Bud Light Lime Straw-Ber-Rita', 'Heineken Premium Light Lager', 'Michelob Ultra Fruit Pomegranate Raspberry', 'Old Milwaukee Beer', 'Evil Eye', 'Sleeman Clear', 'St. Ides High Gravity Malt Liquor', 'Steel Reserve 211 (High Gravity)', \"O'Doul's Amber\", 'Miller Genuine Draft Light 64 Lemonade', \"Beck's Premier Light\", 'Tecate Light', 'Amstel Light', 'Michelob Ultra Amber', 'Sol', 'Kirin Light Beer', 'Lucky Lager', 'Olde English 800 High Gravity', 'Kirin Lager', 'Famosa (Gallo)', 'Michelob Golden Draft Light', 'Brahma', \"Mickey's\", 'Desperados', 'Tecate', \"Foster's Lager\", 'Victoria Bitter (VB)', \"Stroh's Light\", 'Hurricane High Gravity Malt Liquor', 'Super Brew 15', 'Lone Star Beer', \"Beck's Light\", 'Dog Bite High Gravity Lager', 'Molson XXX', 'Michelob Ultra Fruit Lime Cactus', 'Camo Black Ice', 'Camo High Gravity Lager', 'Old Milwaukee Ice', 'Black Label Beer', 'Molson Ice', 'Iron City Beer', 'Carlton Cold', 'Coors Light Summer Brew', 'Coors Banquet', 'Rolling Rock Extra Pale', 'Cass Fresh', 'St. Pauli N. A.', 'Blatz Beer', \"Stroh's\", 'Genny Light', 'Natty Daddy', 'Ed Hardy Premium Beer', 'Molson Canadian 67']\n"
     ]
    }
   ],
   "source": [
    "beers = json.loads(open('corpora/data/foods/bad_beers.json').read())\n",
    "infinite['T'] = beers['bad_beers']\n",
    "print(infinite['T'])"
   ]
  },
  {
   "cell_type": "code",
   "execution_count": 124,
   "metadata": {},
   "outputs": [
    {
     "name": "stdout",
     "output_type": "stream",
     "text": [
      "['Mix {0} and {1}.', 'Mix {0} and {1}; press onto bottom of baking pan.', 'Beat {0} and {1} in large bowl with mixer until blended.', 'Add {0}, one at a time, mixing on low speed after each just until blended.', 'Microwave {0} and {1} in microwaveable bowl on HIGH 1 minute or until {0} are completely melted and mixture is well blended, stirring every 30 seconds.', 'Top with remaining {0}.', 'Garnish with {0}.', 'Sift together {0} and {1} in a large bowl.', 'Whisk in {0} and {1} until combined.', 'Let {0} rest for 5 minutes.', 'Preheat a large skillet over medium-high heat.', 'Heat oven to 375.', 'Heat oven to 425.', 'Heat oven to 500.', 'Pour {0} into a hot skillet.', 'Flip and cook until golden, about 1 to 2 minutes.', 'Cook for 2 to 3 minutes, until bubbles appear on the sides and center of each {0}.', 'Place {0} in a large, deep skillet.', 'Cook over medium-high heat until evenly brown.', 'Drain, and set aside.', 'Melt {0} in skillet, and cook and stir the {1} until tender.', 'In a large bowl, mix the {0} and {1}.', 'Stir in the {0} and {1}.', 'Cover, and refrigerate overnight.', 'Lightly grease a 9x13 inch baking dish.', 'In a bowl, sift together the {0} and {1}.', 'Blend in the {0}.', 'Stir the {0} into the {1}.', 'Pour into the prepared baking dish.', 'Bake 40 to 50 minutes in the preheated oven, or until lightly brown.', 'Let stand 10 minutes before serving.', 'Place the {0} and {1} in the pitcher of a blender; blend until smooth.', 'Heat a lightly oiled griddle or non-stick skillet over medium heat.', 'Tip and rotate pan to spread {0} as thinly as possible.', 'Flip over when the {0} is set and the edges are beginning to brown.', 'Cook until the other side begins to brown.', 'Blend the {0} and {1} with an electric mixer until smooth.', 'Gently fold in the {0}.', 'In a saucepan over medium heat, mix together the {0} and {1}.', 'Bring to a boil, then reduce heat to medium-low, and simmer for about 20 minutes, or until reduced by half.', 'Stir occasionally to prevent burning.', 'Remove half of the {0} for basting, and set the remaining aside.', 'Place the {0} on the greased broiling pan, and brush with {1}.', 'Broil 3 inches from the heat for 8 to 12 minutes, or until {0} flakes easily with a fork.', 'Gently turn over once during cooking, and baste frequently during the last 4 minutes.', 'Serve with remaining {0}.', 'Grease muffin cups or use paper muffin liners.', 'Mix together {0} and {1}, and let stand for 10 minutes.', 'In a large bowl, mix together {0} and {1}.', 'Beat in {0}.', 'Sift together {0} and {1}.', 'Stir into {0} until just blended.', 'Fold in {0}.', 'Scoop into muffin cups.', 'Bake in preheated oven for 15 to 20 minutes, or until tops spring back when lightly tapped.', 'Add {0}, saute for 1 minute; then add {1} and cook for 7 to 8 minutes on each side.', 'When {0} is close to being cooked through (no longer pink inside), add {1} and saute all together for 3 to 4 minutes.', 'Meanwhile, prepare {0} according to package directions.', 'When finished, stir in 2 tablespoons {0}; set aside.', 'In a large pot of salted boiling water, cook {0} for 8 to 10 minutes or until al dente.', 'Rinse under cold water and drain.', 'Mix well, top with {0}, and serve.', 'Bring a pot of light salted {0} to a boil.', 'Add {0}, and cook about 8 to 10 minutes.', 'Drain, and transfer to a serving bowl.', 'Meanwhile, place a saucepan over medium-high heat.', 'Stir in {0} and {1}.', 'Bring to a boil, stirring constantly, until {0} dissolves.', 'Pour {0} over {1}, and toss to coat.', 'Garnish with {0} and {1}.', 'In a large skillet over medium heat, melt {0} with {1}.', 'Add {0}, and cook until lightly browned, stirring frequently.', 'Stir in {0}, and season with salt and {1}.', 'Remove from heat, and sprinkle with {0}.', 'In a medium saucepan, bring 1 cup {0} to a boil.', 'Stir in the {0} and reduce heat to low.', 'Cover and simmer for 20 minutes.', 'While {0} is cooking, heat {1} in a skillet over medium heat.', 'Stir for a minute, then cover and steam over low heat for 2 minutes.', 'Cover and cook over medium heat until {0} is wilted, about 3 minutes.', 'Cover, and allow to sit for 10 minutes before serving.']\n"
     ]
    }
   ],
   "source": [
    "# need to remove/replace 0 and 1?\n",
    "recipe = json.loads(open('corpora/data/foods/combine.json').read())\n",
    "infinite['O'] = recipe['instructions']\n",
    "print(infinite['O'])"
   ]
  },
  {
   "cell_type": "code",
   "execution_count": 137,
   "metadata": {},
   "outputs": [],
   "source": [
    "condiments = json.loads(open('corpora/data/foods/condiments.json').read())\n",
    "infinite['4'] = condiments['condiments']"
   ]
  },
  {
   "cell_type": "code",
   "execution_count": 140,
   "metadata": {},
   "outputs": [],
   "source": [
    "fruits = json.loads(open('corpora/data/foods/fruits.json').read())\n",
    "infinite['f'] = fruits['fruits']"
   ]
  },
  {
   "cell_type": "code",
   "execution_count": 143,
   "metadata": {},
   "outputs": [],
   "source": [
    "herbs = json.loads(open('corpora/data/foods/herbs_n_spices.json').read())\n",
    "mix = []\n",
    "for item in herbs['herbs']:\n",
    "    mix.append(item)\n",
    "for item in herbs['spices']:\n",
    "    mix.append(item)\n",
    "for item in herbs['mixtures']:\n",
    "    mix.append(item)\n",
    "infinite['\"'] = mix"
   ]
  },
  {
   "cell_type": "code",
   "execution_count": 144,
   "metadata": {},
   "outputs": [
    {
     "name": "stdout",
     "output_type": "stream",
     "text": [
      "['Coffee', 'Olives', 'Celery', 'Tea', 'Radishes', 'Mashed potatoes', 'Boiled potatoes', 'Fruit', 'Milk', 'Chicken salad', 'Vanilla ice cream', 'Cocoa', 'Cheese', 'Lettuce Salad', 'Lobster salad', 'Chocolate', 'String Beans', 'Apple Pie', 'Sardines', 'Oranges', 'AMERICAN CHEESE', 'GREEN PEAS', 'Assorted cakes', 'Apollinaris', 'French fried potatoes', 'Potato salad', 'Baked Potatoes', 'Stewed prunes', 'Roquefort', 'Ham', 'Roast beef', 'Apples', 'Chocolate Ice Cream', 'Stewed tomatoes', 'Bananas', 'Sliced Tomatoes', 'Lima beans', 'Camembert', 'ROQUEFORT CHEESE', 'Cigars', 'Cucumbers', 'Ice cream', 'Edam Cheese', 'Little Neck clams', 'Swiss cheese', 'Demi Tasse', 'Tomato Juice', 'Crackers', 'Spinach', 'Cream Cheese', 'ASSORTED CAKE', 'CAFE', 'Lettuce', 'Raisins', 'Sirloin Steak', 'Cauliflower', 'Grapes', 'BLUE POINTS', 'Cup Custard', 'Petits fours', 'Ripe Olives', 'Demi-tasse', 'Orange', 'French peas', 'Consomme', 'Fruits', 'Buttermilk', 'Tomato Salad', 'Biscuit Tortoni', 'Boiled rice', 'Kaffee', 'Iced tea', 'Corned beef', 'Succotash', 'Charlotte Russe', 'Lobster Cocktail', 'Cucumber salad', 'SALTED ALMONDS', 'Dessert', 'Benedictine', 'Cigarettes', 'Brussels Sprouts', 'Romaine Salad', 'Lyonnaise Potatoes', 'Marmalade', 'Dry Toast', 'Grape fruit', 'Apple Sauce', 'Tongue', 'CAMEMBERT CHEESE', 'Bread and Butter', 'Queen olives', 'Little Necks', 'Chow chow', 'Chicken', 'Cold roast beef', 'Milk toast', 'Watermelon', 'Macaroons', 'Lettuce and Tomato Salad', 'Fried Egg Plant', 'Shrimp Cocktail', 'Club sandwich', 'Pears', 'Chicken Sandwich', 'Broiled Ham', 'Baked Apple', 'Ham Sandwich', 'STRAWBERRY ICE CREAM', 'Mutton Chops', 'Lamb Chops', 'Corned Beef Hash', 'Brie', 'Creme de Menthe', 'Cafe noir', 'French Pastry', 'Sweet Pickles', 'Cold Ham', 'Mince Pie', 'Coffee Ice Cream', 'Roman Punch', 'Smoked Salmon', 'Peach Melba', 'Welsh rarebit', 'Fruit salad', 'Shrimp Salad', 'Assorted Cakes', 'Stewed Corn', 'Asparagus', 'Tenderloin Steak', 'Ham and eggs', 'Scrambled Eggs', 'Fried Potatoes', 'Sauterne', 'Pumpkin Pie', 'Orange Juice', 'Fried Eggs', 'Iced coffee', 'White Rock', 'rice pudding', 'Pear', 'Boiled eggs', 'Escarole Salad', 'Baked Apple with Cream', 'Oatmeal', 'Cherrystones', 'Nuts', 'Chicory Salad', 'Salad', 'Peach Pie', 'Maraschino', 'Cafe Parfait', 'Half Grapefruit', 'Buttered toast', 'Green olives', 'Caviar', 'Sanka', 'Neapolitan ice cream', 'Edam', 'Squab', 'Figs', 'Turkish Coffee', 'Cream toast', 'Clam Chowder', 'Beets', 'Cantaloupe', 'Nesselrode Pudding', 'Blue Point Oysters', 'Gorgonzola', 'New string beans', 'Bacon and eggs', 'Stuffed olives', 'Artichoke', 'COMBINATION SALAD', 'Tongue Sandwich', 'Oyster cocktail', 'Ginger Ale', 'Orange marmalade', 'SLICED CUCUMBERS', 'Tomatoes', 'Grapefruit', 'Cape Cods', 'Anchovies', 'Pickles', 'Lemonade', 'Turkey', 'Gherkins', 'Cold Slaw', 'Lamb', 'Gruyere', 'Neufchatel', 'Orange Water Ice', 'Cocktail Sauce', 'Toast', 'Rolls', 'Oyster Stew', 'Liqueurs', 'Postum', 'Lemon water ice', 'Hominy', 'Almonds', 'Pound cake', 'fried Sweet Potatoes', 'Vanilla Ice Cream', 'Saratoga Chips', 'Celery Salad', 'Cherrystone Clams', 'New peas', 'Golden buck', 'Grapefruit Juice', 'Chicken broth', 'Gorgonzola Cheese', 'Waldorf Salad', 'Sherry', 'Plums', 'Pork Chops', 'Stewed Tomatoes', 'Fruit Cocktail', 'Sweet Potatoes', 'French Coffee', 'Salted Nuts', 'Pickled beets', 'Stewed Prunes', 'Thee', 'Creamed Spinach', 'Saute Potatoes', 'Green Peas', 'Radis', 'Small Steak', 'Hot Rolls', 'Cakes', 'Meringue glacee', 'Chicken Salad', 'Johannis', 'Cold Corned Beef', 'Russian Dressing', 'PORT', 'Tomato', 'Chiffonade Salad', 'Anisette', 'Mashed Turnips', 'Pontet Canet', 'French Peas', 'CLAM BROTH', 'Liederkranz Cheese', 'Green Apple Pie', 'Cake', 'FRENCH DRESSING', \"Calf's Liver and Bacon\", 'Cream', 'Virginia Ham', 'New Lima Beans', 'Watercress', 'Brie cheese', 'Candied Sweet Potatoes', 'Little Neck Clams', 'Sardine Sandwich', 'Neufchatel cheese', 'Lynnhavens', 'Green Corn', 'Amontillado', 'Watercress Salad', 'Crab Flake Cocktail', 'Malaga grapes', 'Poached Eggs on Toast', 'Buckwheat Cakes', 'Roquefort Cheese', 'Roquefort cheese', 'Shirred Eggs', 'Raspberry Water Ice', 'Roast chicken', 'Lady fingers', 'Squab Chicken', 'Plover', 'Macaroni au gratin', 'Strawberries and Cream', 'St. Julien', 'Niersteiner', 'Manhattan', 'Pineapple Juice', 'Tomato Juice Cocktail', 'Potatoes au Gratin', 'Congress Water', 'Currant Jelly', 'Graham bread', 'FRESH FRUIT', 'Apple', 'Green Turtle Soup', 'Lettuce salad', 'Salt mackerel', 'Cucumber', 'Chartreuse', 'Absinthe', 'Chow-chow', 'Beluga Caviar', 'Stuffed celery', 'Curacao', 'Dill Pickles', 'Pineapple', 'Pickled Walnuts', 'Mixed Grill', 'Preserves', 'Lobster Salad', 'Martini', 'Plain Omelette', 'Tomato Soup', 'Mallard Duck', 'Roast Mutton', 'Boiled Potatoes', 'BAKED SWEET POTATOES', 'Kummel', 'New green peas', 'Ceylon Tea', 'Clam Juice Cocktail', 'Vermouth', 'Pommard', 'Biscuit Glace', 'Broiled Bacon', 'Hamburger Steak', 'Hashed browned potatoes', 'Lobster', 'Cottage Cheese', 'Potatoes', 'ENGLISH BREAKFAST TEA', 'Fruchte', 'Honey', 'peaches', 'Endive Salad', 'Strawberries', 'Cotuits', 'Clam juice', 'Queen Olives', 'Cold tongue', 'Romaine', 'Boiled Onions', 'Filet Mignon', 'Prime ribs of beef', 'String beans', 'French string beans', 'Prime ribs of beef au jus', 'Mayonnaise dressing', 'Custard Pie', 'Hearts of Celery', 'French bread', 'Mixed Pickles', 'BAKED IDAHO POTATO', 'Tomato salad', 'Oysters', 'Mayonnaise', 'Roast Beef Sandwich', 'Swiss cheese sandwich', 'Julienne potatoes', 'Fried oysters', 'Mixed ice cream', 'spring lamb, mint sauce', 'Danish Pastry', 'Cucumber Salad', 'Blue Points', 'Lemon Ice', 'Dates', 'Oolong Tea', 'Corn muffins', 'Stilton Cheese', 'Sauternes', 'Kase', 'Anchovy Salad', 'Spring Lamb', 'Baked Potato', 'Cape Cod Oysters', 'Sliced Fresh Pineapple', 'Mutton', 'Raisin cake', 'Strawberry short cake', 'Honey Dew Melon', 'French Fried Potatoes', 'Kaffee Hag', 'Poached eggs', 'Hashed Brown Potatoes', 'Moet & Chandon, White Seal', 'Corn bread', 'Oyster Bay asparagus', 'Fromage', 'Fancy Cakes', 'Escarole', \"Horlick's Malted Milk\", 'Pistache ice cream', 'Clam cocktail', 'Guava jelly', 'Medoc', 'Boiled Sweet Potatoes', 'Chilled Tomato Juice', 'Lima Beans', 'FRESH FRUIT SALAD', 'Pommery Sec', 'bacon', 'Fruit Cake', 'Baked apples', 'Eggs to order', 'Fried Ham', 'toasted crackers', 'American cheese', 'Mashed Potatoes', 'Corned beef sandwich', 'Poussin', 'Tom Collins', 'New String Beans', 'Chocolate ice cream', 'Stilton', 'Royal Squab', 'Haut Sauternes', 'Celeri     ', 'Porterhouse Steak', 'Apollinaris Water', 'Stuffed tomatoes', 'Coffee with Cream', 'Potato Salad', 'Vegetable Soup', 'Clam Fritters', 'Fresh Shrimp Cocktail', 'Roquefort Dressing', 'Preserved figs', 'Claret', 'Salade', 'Peas', 'Chablis', 'Stuffed Mangoes', 'Kirschwasser', 'Omelette, plain', 'Dubonnet', 'Laubenheimer', 'Corned Beef and Cabbage', 'Bermuda potatoes', 'Whiskey Sour', 'Sauerkraut Juice', 'Romaine salad', 'Cafe', 'Hearts of Lettuce', 'Roast Turkey', 'Sliced Oranges', 'Broiled Chicken', 'Smoked beef', 'Sliced pineapple', 'Squash', 'Instant Postum', 'Boiled Ham', 'Sherbet', 'Jam', 'Strawberry shortcake', 'Gruyere Cheese', 'Chicory', 'Fresh milk', 'English mutton chop', 'Potatoes, French fried', 'Meringue Glace', 'Iced Tea', 'Wine Jelly', 'Stewed rhubarb', 'Liebfraumilch', 'Rice', 'BUTTERED BEETS', 'Tokay Grapes', 'Cream of tomato soup', 'Scotch Woodcock', 'Mock turtle soup', 'Chambertin', 'Spaghetti', 'Stuffed Tomato', 'Apricots', 'Plain Omelet', 'Hochheimer', 'Sponge Cake', 'Pousse Cafe', 'Potatoes, boiled', 'Table Celery', 'Broiled Fresh Mushrooms', 'Fresh Strawberries', 'Marmelade', 'Yorkshire Buck', 'Hot roast beef sandwich', 'Canadian Club', 'Petite marmite', 'Canadian Cheese', 'Salted Almonds', 'Bluefish', 'Pie a la Mode', 'boiled new potatoes', 'Huitres', 'Friandises', 'Broccoli', 'Kippered Herring', 'lemon meringue pie', 'Au Gratin Potatoes', 'Bel Paese Cheese', 'Beefsteak', 'Lobster a la Newburg', 'Daiquiri', 'Thousand Island Dressing', 'Saratoga Potatoes', 'Spanish omelette', 'Grand Marnier', 'Pistachio Ice Cream', 'Liederkranz', 'Broiled Spring Chicken', 'Petit Fours', 'Seltzer', 'Cointreau', 'Grape Fruit', 'Macaroni', \"Pickled lamb's tongue\", 'Hot Chocolate', 'Salat', 'Hafergrutze', 'Sirloin Steak with Mushrooms', 'Radieschen', 'Spaghetti au Gratin', 'Cherries', 'Ices in Souvenir', 'GREEN TEA', 'Creme de Cacao', 'Potatoes, mashed', 'Stuffed green peppers', 'MIXED NUTS', 'Budweiser', 'Imported Swiss cheese', 'Potatoes, lyonnaise', 'Peach Ice Cream', 'Sliced Orange', 'Rice Cakes', 'Potatoes Parisienne', 'French rolls', 'Broiled bluefish', 'Sarsaparilla', 'Bouillon', 'Shredded Wheat', 'Consomme Julienne', 'Tangerines', 'Apricot Brandy', 'Boston Brown Bread', 'Grapefruit Supreme', 'Pickled onions', 'Hearts of lettuce salad', 'ORANGE PEKOE TEA', 'American', 'SANKA COFFEE', 'Milk Toast', 'Iced Coffee', 'rhubarb pie', 'Assorted Cold Cuts', 'Sliced Bananas', 'Cheese Sandwich', 'Rice Pudding', 'Spinach with egg', 'Fancy Ices', 'Red Leg Partridge', 'Pork and beans', 'Chutney', 'orange sherbet', 'Chocolate Parfait', 'Lobster cocktail', 'Haut Sauterne', 'Apricot Water Ice', 'Chow Chow', 'Swiss', 'apple', 'Cranberry Sauce', 'Canape of Anchovies', 'Chicken consomme', 'German Pancake', 'Graves', 'Tapioca Pudding', 'APRICOT PIE', 'Bar-le-Duc', 'Chartreuse, Yellow', 'American Cheese', 'Club Sandwich', 'Roast Lamb', 'Gin Fizz', 'Cheese Cake', 'Cauliflower au Gratin', 'Clam Broth', 'Chocolate Eclairs', 'Extra sirloin steak', 'Philadelphia Cream Cheese', 'cocoanut pie', 'Cherry Pie', 'English Pheasant', 'Wheat Cakes', 'Dipped Toast', 'Bismarck Herring', 'PRUNES', 'Ham Omelet', 'Assorted cheese', 'Cheddar Cheese', 'Codfish Cakes', 'Soda', 'American Cheese Sandwich', 'Fresh Vegetable Salad', 'Raspberry sherbet', 'Green peas', 'Apple pie', 'Martini Cocktail', 'Boston baked beans', 'Fried Oysters', 'Strawberry Ice Cream', 'Dutch cheese', 'Halibut steak', 'Ruddy Duck', 'MILK, PER GLASS', 'Carciofini', 'Nachtisch', 'Pate de Foie Gras', 'Eggs, fried', 'Sliced Peaches', 'Celeri', 'Preserved Peaches', 'Tenderloin Steak with Mushrooms', 'Fruit in Season', 'Roastbeef', 'RUM', 'Baked Beans', 'Bluepoints', 'Potatoes Lyonnaise', 'Cervelat', 'Caviar, Special Importation', 'Fried hominy', 'Lemon Sherbet', 'Dandelion Salad', 'Camembert Cheese', 'Lemon Soda', 'Lobster Newburg', 'Port Salut', 'Combination Salad', 'Extra Special Heavy Cream', 'Breakfast Bacon', 'Egg plant', 'Omelet, plain', 'Rudesheimer', 'Rye Bread', 'Leberwurst', 'Manhattan Cocktail', 'Fresh String Beans', 'Fried Clams', 'cole slaw', 'Ox Tongue', 'Chocolate eclair', 'Sardellen', 'Cheese and Crackers', 'Corn fritters', 'French asparagus', 'Spanish olives', 'Potatoes, baked', 'Potato Croquettes', 'Caramel custard', 'Crabmeat Cocktail', 'Crab flake cocktail', 'Strawberry ice cream', 'CHAMPAGNE', 'Clam Stew ', 'Asparagus Tips', 'Orange ice', 'Chicken Salad Sandwich', 'Mixed Green Salad', 'Watercress salad', 'Fried Oyster Crabs', 'Potatoes hashed in cream', 'Poland Water', \"Chef's Salad\", 'Apfelsinen', 'Baked Alaska', 'Sliced Chicken', 'Apple Juice', 'Coupe of Fresh Strawberries, Favorite', 'Petits Fours', 'Camembert cheese', 'Celery salad', 'Lyon Sausage', 'Russian caviar', 'fresh strawberry ice cream', 'Cold Chicken', 'Mixed Ice Cream', 'Champagne Cocktail', 'Cocktail', 'HARICOTS VERTS', 'Grape Nuts', 'BLUEBERRY PIE', 'Eclair', 'Preserved Skinless Figs', 'Supreme of Fruit, Astor', 'Ice Cream', 'Julienne', 'Stewed pears', 'Onion Soup au gratin', 'Cup custard', 'Obst', 'Soft Shell Crabs', 'Crackers and Milk', 'Butter', 'Assorted Fruit', 'Stinger', 'Lettuce and Tomato', 'Saucisson de Lyon', 'WestphalÃ\\xadan Ham', 'Boiled Rice', 'Raspberries', 'Caviar sandwich', 'Cold turkey', 'crab meat cocktail', 'Pot of Tea', 'Spaghetti Italienne', 'Heart of Lettuce Salad', 'Oyster Patties', 'French Toast', 'Old Fashioned', 'Melon in Season', 'Alligator Pear Salad', 'Anchovis', \"Cook's Imperial\", 'Zeltinger', 'MUFFINS', 'Amandes salees', 'Stuffed Olives', 'Port du Salut', 'PASTRY', \"Bent's Water Crackers\", 'Side Car', 'Eggs, boiled', 'Chianti', 'Eggs, Scrambled', 'Peach Short Cake', 'Nuts and Raisins', 'Fried Soft Shell Crabs', 'Clams', 'Stewed potatoes', 'Terrapin', 'Frische Milch', 'Potato', \"Mumm's Extra Dry\", 'compot', 'Marinated Herring', 'Coffee, Pot', 'Clear green turtle soup', 'Salami', 'Chicken okra soup', 'Bacardi Cocktail', 'California Orange', 'Apple sauce', 'Neapolitan Ice Cream', 'Endive salad', 'Beef', 'Cognac', 'Macon', 'Neapolitan', 'Figs in syrup', 'Lady Fingers', 'Stuffed Figs and Dates', 'Oatmeal Porridge', 'Mixed Salad', 'Cheese Omelette', 'Strawberry jam', 'Macaroni au Gratin', 'Fried Scallops', 'Nesselrode pudding', 'Sliced Bananas and Cream', 'Irish stew', 'Cafe Turc', 'Oyster Fry', 'Fancy Ice Cream', 'Fresh Mackerel', 'Vienna Bread', 'Grape Juice', 'Escarole salad', 'Clysmic', 'Brawn', 'Brook Trout', 'Fried onions', 'Fresh strawberries and cream', 'Bologna Sausage', 'Assorted Nuts', 'Welsh Rarebit', 'Chicken sandwich', 'Pear \"au feu d\\'Enfer\"', 'Chicken (half)', 'Clear green turtle', 'Rockaways', 'Biscuits', 'Fried Bacon', 'Blackberries', 'Coca Cola', 'Salted almonds', 'Young Onions', 'Onions', 'Club Soda', 'Ribs of beef ', 'Roast Lamb, Mint Sauce', 'GRAHAM ROLLS', 'NEW POTATOES', 'Cream cheese', 'Squab Chicken (half)', 'Old Tom Gin', 'Shrimp', 'Concombres', 'Steamed Rice', 'Drambuie', 'Coffee ice cream', 'Whitebait', 'Consomme Vermicelli', 'Crab Meat salad', 'India Relish', 'Gebackene Kartoffeln', 'Rice and milk', 'Lobster, Newburg', 'Fresh asparagus', 'Venison', 'Sparkling Moselle', 'Lettuce and Tomato Sandwich', 'Ham sandwich', 'Curried Chicken with Rice', 'Gin Rickey', 'Cocktails', 'Head Cheese', 'Cold Lamb', 'Hot mince pie', 'Assorted Fresh Fruit', 'Soup du Jour', 'Scotch Grouse', 'Cold rice pudding', 'Porterhouse steak with mushrooms', 'Pear Melba', 'Sirloin steak', 'Chicory salad', 'Brandy peaches', 'Plain Lemonade', 'COFFEE', 'ROAST TURKEY, CRANBERRY SAUCE', 'Sherry Flip', 'Mangoes', 'SALADE DE SAISON', 'Raspberry jam', 'Fresh Fruit Cocktail', 'Fried Sweet Potatoes', 'Fish cakes', 'Claret Punch', 'Westphalia Ham', 'Lettuce and Tomatoes', 'Lamb, mint sauce', \"Guinness' Stout\", 'Rolls and butter', 'Spinach with Egg', 'Fried smelts', 'Tea, Pot', 'Oyster stew', 'Maple Syrup', 'Macedoine salad', 'Canvas-Back Duck', 'Sirloin Steak with Onions', 'Coffee, per pot', 'Smoked Beef Tongue', 'TUTTI FRUTTI ICE CREAM', 'Pim-olas', 'Strawberries with cream', 'Corn Cakes', 'Ham omelette', 'Waffles', 'Chocolade', 'Spanish omelet', 'Sloe Gin', 'Red-head duck', 'Glass of milk', 'Sliced Bananas with Cream', 'Brandy', 'Vermouth, Italian', 'Canape of Caviar', 'Julienne Soup', 'Eggs, shirred', 'Salmon Salad', 'Broiled Squab', 'Oyster Bay Asparagus', 'Vienna Rolls', 'Mettwurst', 'Chartreuse, green', 'Silver Fizz', 'Crab Salad', 'Pickled Oysters', 'Alligator Pear', 'Caviar Canape', \"Pont l'Eveque cheese\", 'Prune Juice', 'Tongue sandwich', 'Pistache Ice Cream', 'Mock Turtle', 'New asparagus', 'Gervais', 'Tea, per pot', 'Potatoes Julienne', 'Gumbo', 'Malted Milk', 'Chicken Soup', 'Capon', 'Beef consomme', 'Corn Flakes', 'Crabflake Cocktail', \"Assorted Hors D'oeuvres\", 'Ham and Eggs', 'Ribs of prime beef', 'Beef tongue', 'Cream, per glass', 'Sauerkraut', 'Stewed Oysters', 'Finnan Haddie', 'Sloe Gin Fizz', 'AMERICAN COFFEE', 'Crab Meat Cocktail', 'liver and bacon', 'Fresh mushrooms', 'lemon pie', 'Pie', 'Cold Consomme', 'Chocolate Sundae', 'Consomme en Tasse', 'Dill Pickle', 'Port du Salut cheese', 'Pink Lady', 'Bacon and Eggs', 'Broiled Chicken (half)', 'Country Sausage', 'Potatoes, Saratoga', 'Turnips', 'Graham Wafers', 'Broiled oysters', 'Gekochte Kartoffeln', 'Stewed Strawberries', 'Cafe Noir', 'Waldorf salad', 'Baked apples with cream', 'St. Estephe', 'Liver Sausage', 'Boston Cream Pie', 'Spring Onions', 'Lamb Chop', \"Potatoes O'Brien\", 'Tomato Broth', 'Roast Beef', 'Moet & Chandon', 'Veuve Clicquot, Yellow Label', 'Roast Potatoes', 'Fruits in Season', 'Boned capon', 'Eclairs', 'Spring chicken', 'Cauliflower, Polonaise', 'Hashed Browned Potatoes', 'Corn Fritters', 'Fruit Salad', 'Lemon Water Ice', 'Milchreis', 'Caviar on Toast', 'Rostbraten', 'Chateau Yquem', 'Spring Turkey (half)', 'Clam broth', 'New beets', 'Lemon ice cream', 'Crullers', 'Cacao', 'Jamaica Rum', 'Potatoes, Fried', 'Water Crackers', 'Petits pois', 'Chocolate Layer Cake', 'Apple Fritters', 'PINEAPPLE WATER ICE', 'Schweizer KÃ¤se', 'French Sardines', 'Fresh Fruit Cup', 'Long Island Duckling', 'Cream Toast', 'Malaga Grapes', 'Boiled Onions, Cream Sauce', 'Hamburg steak', 'Margaux', 'Beaune', 'Golden plover', 'French vanilla ice cream', 'Jelly', 'Combination salad', 'Ginger', 'Ruinart Brut', 'Lamb Chops (2)', 'Pumpkin pie', 'OLIVES', 'Sliced Cucumbers', 'Old Tom', 'Strained honey', 'Tomato Omelette', 'Vegetable Salad', 'Pineapple Cheese', 'China Tea', 'Linden Tea', 'German fried potatoes', 'Blackberry Brandy']\n"
     ]
    }
   ],
   "source": [
    "#need to lowercase the all caps?\n",
    "menu = json.loads(open('corpora/data/foods/menuItems.json').read())\n",
    "infinite['M'] = menu['menuItems']\n",
    "print(infinite['M'])"
   ]
  },
  {
   "cell_type": "code",
   "execution_count": 146,
   "metadata": {},
   "outputs": [],
   "source": [
    "veggies = json.loads(open('corpora/data/foods/vegetables.json').read())\n",
    "infinite['V'] = veggies['vegetables']"
   ]
  },
  {
   "cell_type": "code",
   "execution_count": 148,
   "metadata": {},
   "outputs": [],
   "source": [
    "countries = json.loads(open('corpora/data/geography/countries.json').read())\n",
    "infinite['G'] = countries['countries']"
   ]
  },
  {
   "cell_type": "code",
   "execution_count": 150,
   "metadata": {},
   "outputs": [],
   "source": [
    "geoFeatures = json.loads(open('corpora/data/geography/geographic_features.json').read())\n",
    "infinite['g'] = geoFeatures['entries']"
   ]
  },
  {
   "cell_type": "code",
   "execution_count": 165,
   "metadata": {},
   "outputs": [],
   "source": [
    "riversJSON = json.loads(open('corpora/data/geography/rivers.json').read())\n",
    "# rivers = []\n",
    "# for river in riversJSON['rivers']:\n",
    "#     rivers.append(river['name'])\n",
    "\n",
    "#list comprehension\n",
    "infinite['7'] = [river['name'] for river in riversJSON['rivers']]\n",
    "# infinite['7'] = rivers"
   ]
  },
  {
   "cell_type": "code",
   "execution_count": 235,
   "metadata": {},
   "outputs": [],
   "source": [
    "# activitiesJSON = json.loads(open('corpora/data/humans/atus_activities.json').read())\n",
    "# activities = []\n",
    "# for category in activitiesJSON['categories']:\n",
    "#     print(category)\n",
    "#     for activity in category['examples'] if category['examples']:\n",
    "#         activities.append(activity)\n",
    "# infinite['H'] = activities\n",
    "\n",
    "# comp = activitiesJSON['categories']\n",
    "# print(comp)|\n",
    "# for category in activitiesJSON['categories']:\n",
    "#     if 'examples' in category.keys():   \n",
    "#         for activity in category['examples']:\n",
    "#             activities.append(activity)\n",
    "#     activities.append([actvity for activity['examples'] in category if len(category) > 2])\n",
    "\n",
    "\n",
    "#     for activ in act:\n",
    "#         print(act['examples'])\n",
    "#         activities.append(activ)\n",
    "#     print(act['examples'])\n",
    "#     print(\"\\n\")\n",
    "# print(comp['examples'])\n",
    "\n",
    "#insomnia bug\n",
    "# infinite['H'] = [activity for category['examples'] in activitiesJSON['categories'] if category['examples']]\n",
    "\n",
    "# infinite['H'] = [act for activity['examples'] in category if 'examples' in category.keys()]\n",
    "\n",
    "\n",
    "# infinite['H'] = activities\n",
    "# print(infinite['H'])\n"
   ]
  },
  {
   "cell_type": "code",
   "execution_count": 237,
   "metadata": {},
   "outputs": [],
   "source": [
    "#why was this so difficult?\n",
    "\n",
    "activities = json.loads(open('corpora/data/humans/atus_activities.json').read())\n",
    "acts = [activity['examples'] for activity in activities['categories'] if 'examples' in activity.keys()]\n",
    "\n",
    "combine = []\n",
    "for a in acts:\n",
    "    for item in a:\n",
    "        combine.append(item)\n",
    "\n",
    "infinite['H'] = combine"
   ]
  },
  {
   "cell_type": "code",
   "execution_count": 219,
   "metadata": {},
   "outputs": [],
   "source": [
    "bodyParts = json.loads(open('corpora/data/humans/bodyParts.json').read())\n",
    "infinite['k'] = bodyParts['bodyParts']"
   ]
  },
  {
   "cell_type": "code",
   "execution_count": 218,
   "metadata": {},
   "outputs": [],
   "source": [
    "descriptions = json.loads(open('corpora/data/humans/descriptions.json').read())\n",
    "infinite['-'] = descriptions['descriptions']"
   ]
  },
  {
   "cell_type": "code",
   "execution_count": 221,
   "metadata": {},
   "outputs": [],
   "source": [
    "firstNames = json.loads(open('corpora/data/humans/firstNames.json').read())\n",
    "infinite['m'] = firstNames['firstNames']"
   ]
  },
  {
   "cell_type": "code",
   "execution_count": 223,
   "metadata": {},
   "outputs": [],
   "source": [
    "lastNames = json.loads(open('corpora/data/humans/lastNames.json').read())\n",
    "infinite['H'] = lastNames['lastNames']"
   ]
  },
  {
   "cell_type": "code",
   "execution_count": 225,
   "metadata": {},
   "outputs": [],
   "source": [
    "moods = json.loads(open('corpora/data/humans/moods.json').read())\n",
    "infinite['F'] = moods['moods']"
   ]
  },
  {
   "cell_type": "code",
   "execution_count": 227,
   "metadata": {},
   "outputs": [],
   "source": [
    "jobs = json.loads(open('corpora/data/humans/occupations.json').read())\n",
    "infinite['l'] = jobs['occupations']"
   ]
  },
  {
   "cell_type": "code",
   "execution_count": 229,
   "metadata": {},
   "outputs": [],
   "source": [
    "spanishLasts = json.loads(open('corpora/data/humans/spanishLastNames.json').read())\n",
    "infinite['6'] = spanishLasts['lastNames']"
   ]
  },
  {
   "cell_type": "code",
   "execution_count": 232,
   "metadata": {},
   "outputs": [],
   "source": [
    "laundry = json.loads(open('corpora/data/instructions/laundry_care.json').read())\n",
    "infinite['r'] = [care['instruction'] for care in laundry['laundry_care_instructions']]"
   ]
  },
  {
   "cell_type": "code",
   "execution_count": 240,
   "metadata": {},
   "outputs": [],
   "source": [
    "fluids = json.loads(open('corpora/data/materials/abridged-body-fluids.json').read())\n",
    "infinite['E'] = fluids['abridged body fluids']"
   ]
  },
  {
   "cell_type": "code",
   "execution_count": 242,
   "metadata": {},
   "outputs": [],
   "source": [
    "materials = json.loads(open('corpora/data/materials/building-materials.json').read())\n",
    "infinite['L'] = materials['building materials']"
   ]
  },
  {
   "cell_type": "code",
   "execution_count": 243,
   "metadata": {},
   "outputs": [
    {
     "name": "stdout",
     "output_type": "stream",
     "text": [
      "['aluminium foil', 'bopet', 'bubble wrap', 'cellophane', 'corrugated fiberboard', 'corrugated plastic', 'cushioning', 'foam peanut', 'glass', 'hot-melt adhesive', 'kraft paper', 'linear low-density polyethylene', 'liquid packaging board', 'low-density polyethylene', 'metallised film', 'modified atmosphere', 'molded pulp', 'nonwoven fabric', 'paperboard', 'plastic film', 'plastic wrap', 'polyester', 'polyethylene', 'polypropylene', 'shrinkwrap', 'tinplate', 'velostat']\n"
     ]
    }
   ],
   "source": [
    "packaging = json.loads(open('corpora/data/materials/packaging.json').read())\n",
    "infinite['&'] = packaging['packaging']"
   ]
  },
  {
   "cell_type": "code",
   "execution_count": null,
   "metadata": {},
   "outputs": [],
   "source": []
  },
  {
   "cell_type": "code",
   "execution_count": 118,
   "metadata": {},
   "outputs": [],
   "source": [
    "def infinite_poem(text):\n",
    "    infinipoem = ''\n",
    "    for index in range(len(text)):\n",
    "        char = text[index]\n",
    "        if char in infinite:\n",
    "            infinipoem += random.choice(infinite[char]) + ' '\n",
    "#         else:\n",
    "\n",
    "    return infinipoem"
   ]
  },
  {
   "cell_type": "code",
   "execution_count": 122,
   "metadata": {},
   "outputs": [
    {
     "data": {
      "text/plain": [
       "'lateral scutellar keel Dark-eyed Junco Ukrainian Levkoy orthocone whale Nothosaur Bacon Sealyham Terrier Swedish coldblood trotter pantry Humanities War and Peace '"
      ]
     },
     "execution_count": 122,
     "metadata": {},
     "output_type": "execute_result"
    }
   ],
   "source": [
    "infinite_poem('yB(;o9Q1htestvj8)')"
   ]
  },
  {
   "cell_type": "code",
   "execution_count": 132,
   "metadata": {},
   "outputs": [
    {
     "data": {
      "text/plain": [
       "'Cook for 2 to 3 minutes, until bubbles appear on the sides and center of each {0}. Kalmyk Horse first intrinsic muscle of the labial palp Dog Mini '"
      ]
     },
     "execution_count": 132,
     "metadata": {},
     "output_type": "execute_result"
    }
   ],
   "source": [
    "infinite_poem('OhyzK')"
   ]
  },
  {
   "cell_type": "code",
   "execution_count": 126,
   "metadata": {},
   "outputs": [
    {
     "data": {
      "text/plain": [
       "\"Mickey's Blatz Beer \""
      ]
     },
     "execution_count": 126,
     "metadata": {},
     "output_type": "execute_result"
    }
   ],
   "source": []
  },
  {
   "cell_type": "code",
   "execution_count": null,
   "metadata": {},
   "outputs": [],
   "source": []
  }
 ],
 "metadata": {
  "kernelspec": {
   "display_name": "Python 3",
   "language": "python",
   "name": "python3"
  },
  "language_info": {
   "codemirror_mode": {
    "name": "ipython",
    "version": 3
   },
   "file_extension": ".py",
   "mimetype": "text/x-python",
   "name": "python",
   "nbconvert_exporter": "python",
   "pygments_lexer": "ipython3",
   "version": "3.6.8"
  }
 },
 "nbformat": 4,
 "nbformat_minor": 2
}
