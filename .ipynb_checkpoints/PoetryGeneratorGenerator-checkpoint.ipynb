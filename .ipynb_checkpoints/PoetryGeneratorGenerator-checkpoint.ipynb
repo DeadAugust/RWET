{
 "cells": [
  {
   "cell_type": "markdown",
   "metadata": {},
   "source": [
    "# My amazing RWET assignment yay\n",
    "\n",
    "Hi allison I hope you like my good good poetry boy"
   ]
  },
  {
   "cell_type": "markdown",
   "metadata": {},
   "source": [
    "# POETRY GENERATOR GENERATOR\n",
    "\n",
    "*sort of*"
   ]
  },
  {
   "cell_type": "code",
   "execution_count": 1,
   "metadata": {},
   "outputs": [],
   "source": [
    "# first need to import all potential libraries\n",
    "\n",
    "import random\n",
    "import textwrap"
   ]
  },
  {
   "cell_type": "markdown",
   "metadata": {},
   "source": [
    "all possible input arrays:\n",
    "\n",
    "- words\n",
    "- materials \n",
    "- locations\n",
    "- lights\n",
    "- inhabitants\n",
    "- sal_adjs\n",
    "- sal_nouns\n",
    "- adjs\n",
    "- nouns\n",
    "- advs\n",
    "- verbs\n",
    "- above\n",
    "- below\n",
    "- transitive\n",
    "- imperative\n",
    "- intransitive\n",
    "- texture\n",
    "- adjectives"
   ]
  },
  {
   "cell_type": "code",
   "execution_count": 2,
   "metadata": {},
   "outputs": [],
   "source": [
    "# dada input array\n",
    "\n",
    "newspaper = \"\"\"\n",
    "Dada was an informal international movement, with \n",
    "participants in Europe and North America. The \n",
    "beginnings of Dada correspond to the outbreak of \n",
    "World War I. For many participants, the movement \n",
    "was a protest against the bourgeois nationalist \n",
    "and colonialist interests, which many Dadaists \n",
    "believed were the root cause of the war, and \n",
    "against the cultural and intellectual \n",
    "conformity — in art and more broadly in \n",
    "society — that corresponded to the war\"\"\"\n",
    "\n",
    "words = newspaper.split()\n"
   ]
  },
  {
   "cell_type": "code",
   "execution_count": 3,
   "metadata": {},
   "outputs": [],
   "source": [
    "# house of dust input arrays\n",
    "\n",
    "materials = [\n",
    "    'brick',\n",
    "    'broken dishes',\n",
    "    'discarded clothing',\n",
    "    'dust',\n",
    "    'glass',\n",
    "    'leaves',\n",
    "    'mud',\n",
    "    'paper',\n",
    "    'plastic',\n",
    "    'roots',\n",
    "    'sand',\n",
    "    'steel',\n",
    "    'stone',\n",
    "    'straw',\n",
    "    'tin',\n",
    "    'weeds',\n",
    "    'wood'\n",
    "]\n",
    "\n",
    "locations = [\n",
    "    'among high mountains',\n",
    "    'among other houses',\n",
    "    'among small hills',\n",
    "    'by a river',\n",
    "    'by an abandoned lake',\n",
    "    'by the sea',\n",
    "    'in a cold, windy climate',\n",
    "    'in a deserted airport',\n",
    "    'in a deserted church',\n",
    "    'in a deserted factory',\n",
    "    'in a green, mossy terrain',\n",
    "    'in a hot climate',\n",
    "    'in a metropolis',\n",
    "    'in a place with both heavy rain and bright sun',\n",
    "    'in an overpopulated area',\n",
    "    'in dense woods',\n",
    "    'in heavy jungle undergrowth',\n",
    "    'in japan',\n",
    "    'in michigan',\n",
    "    'in southern france',\n",
    "    'inside a mountain',\n",
    "    'on an island',\n",
    "    'on the sea',\n",
    "    'underwater'\n",
    "]\n",
    "\n",
    "lights = [\n",
    "    'all available lighting',\n",
    "    'candles',\n",
    "    'electricity',\n",
    "    'natural light'\n",
    "]\n",
    "\n",
    "inhabitants = [\n",
    "    'all races of men represented wearing predominantly red clothing',\n",
    "    'children and old people',\n",
    "    'collectors of all types',\n",
    "    'fishermen and families',\n",
    "    'french and german speaking people',\n",
    "    'friends',\n",
    "    'friends and enemies',\n",
    "    'horses and birds',\n",
    "    'little boys',\n",
    "    'lovers',\n",
    "    'people from many walks of life',\n",
    "    'people speaking many languages wearing little or no clothing',\n",
    "    'people who eat a great deal',\n",
    "    'people who enjoy eating together',\n",
    "    'people who love to read',\n",
    "    'people who sleep almost all the time',\n",
    "    'people who sleep very little',\n",
    "    'various birds and fish',\n",
    "    'vegetarians',\n",
    "    'very tall people'\n",
    "]"
   ]
  },
  {
   "cell_type": "code",
   "execution_count": 4,
   "metadata": {},
   "outputs": [],
   "source": [
    "# love letter input arrays\n",
    "\n",
    "sal_adjs = [\n",
    "    \"Beloved\",\n",
    "    \"Darling\",\n",
    "    \"Dear\",\n",
    "    \"Dearest\",\n",
    "    \"Fanciful\",\n",
    "    \"Honey\"]\n",
    "\n",
    "sal_nouns = [\n",
    "    \"Chickpea\",\n",
    "    \"Dear\",\n",
    "    \"Duck\",\n",
    "    \"Jewel\",\n",
    "    \"Love\",\n",
    "    \"Moppet\",\n",
    "    \"Sweetheart\"\n",
    "]\n",
    "\n",
    "adjs = [\n",
    "    'affectionate',\n",
    "    'amorous',\n",
    "    'anxious',\n",
    "    'avid',\n",
    "    'beautiful',\n",
    "    'breathless',\n",
    "    'burning',\n",
    "    'covetous',\n",
    "    'craving',\n",
    "    'curious',\n",
    "    'eager',\n",
    "    'fervent',\n",
    "    'fondest',\n",
    "    'loveable',\n",
    "    'lovesick',\n",
    "    'loving',\n",
    "    'passionate',\n",
    "    'precious',\n",
    "    'seductive',\n",
    "    'sweet',\n",
    "    'sympathetic',\n",
    "    'tender',\n",
    "    'unsatisfied',\n",
    "    'winning',\n",
    "    'wistful'\n",
    "]\n",
    "\n",
    "nouns = [\n",
    "    'adoration',\n",
    "    'affection',\n",
    "    'ambition',\n",
    "    'appetite',\n",
    "    'ardour',\n",
    "    'being',\n",
    "    'burning',\n",
    "    'charm',\n",
    "    'craving',\n",
    "    'desire',\n",
    "    'devotion',\n",
    "    'eagerness',\n",
    "    'enchantment',\n",
    "    'enthusiasm',\n",
    "    'fancy',\n",
    "    'fellow feeling',\n",
    "    'fervour',\n",
    "    'fondness',\n",
    "    'heart',\n",
    "    'hunger',\n",
    "    'infatuation',\n",
    "    'little liking',\n",
    "    'longing',\n",
    "    'love',\n",
    "    'lust',\n",
    "    'passion',\n",
    "    'rapture',\n",
    "    'sympathy',\n",
    "    'thirst',\n",
    "    'wish',\n",
    "    'yearning'\n",
    "]\n",
    "\n",
    "advs = [\n",
    "    'affectionately',\n",
    "    'ardently',\n",
    "    'anxiously',\n",
    "    'beautifully',\n",
    "    'burningly',\n",
    "    'covetously',\n",
    "    'curiously',\n",
    "    'eagerly',\n",
    "    'fervently',\n",
    "    'fondly',\n",
    "    'impatiently',\n",
    "    'keenly',\n",
    "    'lovingly',\n",
    "    'passionately',\n",
    "    'seductively',\n",
    "    'tenderly',\n",
    "    'wistfully'\n",
    "]\n",
    "\n",
    "verbs = [\n",
    "    'adores',\n",
    "    'attracts',\n",
    "    'clings to',\n",
    "    'holds dear',\n",
    "    'hopes for',\n",
    "    'hungers for',\n",
    "    'likes',\n",
    "    'longs for',\n",
    "    'loves',\n",
    "    'lusts after',\n",
    "    'pants for',\n",
    "    'pines for',\n",
    "    'sighs for',\n",
    "    'tempts',\n",
    "    'thirsts for',\n",
    "    'treasures',\n",
    "    'yearns for',\n",
    "    'woos'\n",
    "]"
   ]
  },
  {
   "cell_type": "code",
   "execution_count": 5,
   "metadata": {},
   "outputs": [],
   "source": [
    "# taroko gorge input arrays\n",
    "\n",
    "above = ['brow', 'mist', 'shape', 'layer', 'the crag', 'stone', 'forest', 'height']\n",
    "below = ['flow', 'basin', 'shape', 'vein', 'rippling', 'stone', 'cove', 'rock']\n",
    "transitive = ['command', 'pace', 'roam', 'trail', 'frame', 'sweep', 'exercise', 'range']\n",
    "imperative = ['track', 'shade', 'translate', 'stamp', 'progress through', 'direct', 'run', 'enter']\n",
    "intransitive = ['linger', 'dwell', 'rest', 'relax', 'hold', 'dream', 'hum']\n",
    "texture = ['rough', 'fine']\n",
    "adjectives = ['encompassing', 'sinuous', 'straight', 'objective', 'arched', 'cool', 'clear', 'dim', 'driven']"
   ]
  },
  {
   "cell_type": "code",
   "execution_count": 6,
   "metadata": {},
   "outputs": [],
   "source": [
    "# need an input array to serve as the placeholder for whatever input array is randomly selected\n",
    "# and an array of all possible input arrays\n",
    "\n",
    "inputKirby = []\n",
    "inputArrays = [words, materials, locations, lights, inhabitants, sal_nouns, nouns, above, below]"
   ]
  },
  {
   "cell_type": "code",
   "execution_count": 7,
   "metadata": {},
   "outputs": [
    {
     "name": "stdout",
     "output_type": "stream",
     "text": [
      "['among high mountains', 'among other houses', 'among small hills', 'by a river', 'by an abandoned lake', 'by the sea', 'in a cold, windy climate', 'in a deserted airport', 'in a deserted church', 'in a deserted factory', 'in a green, mossy terrain', 'in a hot climate', 'in a metropolis', 'in a place with both heavy rain and bright sun', 'in an overpopulated area', 'in dense woods', 'in heavy jungle undergrowth', 'in japan', 'in michigan', 'in southern france', 'inside a mountain', 'on an island', 'on the sea', 'underwater']\n"
     ]
    }
   ],
   "source": [
    "# random array test\n",
    "\n",
    "inputKirby = random.choice(inputArrays)\n",
    "print(inputKirby)"
   ]
  },
  {
   "cell_type": "markdown",
   "metadata": {},
   "source": [
    "now need to establish all possible functions:\n",
    "- dada shuffle\n",
    "- house of dust for loop print (5 lines)\n",
    "- love letter salutation\n",
    "- love letter body (5 lines?)\n",
    "- love letter sign-off\n",
    "- taroko path\n",
    "- taroko cave\n",
    "- taroko site"
   ]
  },
  {
   "cell_type": "code",
   "execution_count": 8,
   "metadata": {},
   "outputs": [],
   "source": [
    "# since this input array is the only one that is a huge block of text,\n",
    "# I'm going to run it and just take one selected line...\n",
    "# not sure yet how to slice a string only after a \" \" character...\n",
    "\n",
    "def dadaShuffle():\n",
    "    random.shuffle(inputKirby)\n",
    "    dada = \" \".join(inputKirby)\n",
    "    print(dada[0:60])"
   ]
  },
  {
   "cell_type": "code",
   "execution_count": 9,
   "metadata": {},
   "outputs": [
    {
     "name": "stdout",
     "output_type": "stream",
     "text": [
      "the war, bourgeois of movement with in were corresponded col\n",
      "encompassing cool clear dim straight arched sinuous objectiv\n"
     ]
    }
   ],
   "source": [
    "# dada shuffle test\n",
    "\n",
    "inputKirby = words\n",
    "dadaShuffle()\n",
    "\n",
    "inputKirby = adjectives\n",
    "dadaShuffle()"
   ]
  },
  {
   "cell_type": "code",
   "execution_count": 10,
   "metadata": {},
   "outputs": [],
   "source": [
    "# house of dust for loop, split into five possible lines\n",
    "# random(5) because 0-4 = 5, parameter exclusive?\n",
    "\n",
    "def houseOfDust():\n",
    "    randy = random.randrange(5)\n",
    "    if randy == 0:\n",
    "        print()\n",
    "    elif randy == 1:\n",
    "        print(\"A house of \" + random.choice(inputKirby))\n",
    "    elif randy == 2:\n",
    "        print(\"     \" + random.choice(inputKirby))\n",
    "    elif randy == 3:\n",
    "        print(\"          using \" + random.choice(inputKirby))\n",
    "    elif randy == 4:\n",
    "        print(\"                inhabited by \" + random.choice(inputKirby))"
   ]
  },
  {
   "cell_type": "code",
   "execution_count": 11,
   "metadata": {},
   "outputs": [
    {
     "name": "stdout",
     "output_type": "stream",
     "text": [
      "\n",
      "     encompassing\n",
      "          using friends\n"
     ]
    }
   ],
   "source": [
    "# house of dust test\n",
    "\n",
    "inputKirby = words\n",
    "houseOfDust()\n",
    "\n",
    "inputKirby = adjectives\n",
    "houseOfDust()\n",
    "\n",
    "inputKirby = inhabitants\n",
    "houseOfDust()"
   ]
  },
  {
   "cell_type": "code",
   "execution_count": 12,
   "metadata": {},
   "outputs": [],
   "source": [
    "# love letter salutation\n",
    "\n",
    "def loveSalutation():\n",
    "    output = random.choice(sal_adjs) + \" \" + random.choice(inputKirby) + \",\\n\"\n",
    "    output += \"\\n\"\n",
    "    print(output)"
   ]
  },
  {
   "cell_type": "code",
   "execution_count": 13,
   "metadata": {},
   "outputs": [],
   "source": [
    "# love letter body, two parts\n",
    "\n",
    "def loveBody():\n",
    "    history = []\n",
    "    body = \"\"\n",
    "    for i in range (2):\n",
    "        kind = random.choice([\"short\", \"long\"])\n",
    "        if kind == \"long\":\n",
    "            line = \" \".join([\n",
    "                \"My\",\n",
    "                random.choice([random.choice(adjs), \"\"]),\n",
    "                random.choice(inputKirby),\n",
    "                random.choice([random.choice(advs), \"\"]),\n",
    "                random.choice(verbs),\n",
    "                \"your\",\n",
    "                random.choice([random.choice(adjs), \"\"]),\n",
    "                random.choice(inputKirby)])\n",
    "            body += line\n",
    "        else:\n",
    "            adj_noun = random.choice(adjs) + \" \" + random.choice(inputKirby)\n",
    "            if len(history) > 0 and history[-1] == \"short\":\n",
    "                body += \": my \" + adj_noun\n",
    "            else:\n",
    "                body += \"You are my \" + adj_noun\n",
    "        body += \". \"\n",
    "        history.append(kind)\n",
    "    body = body.replace(\"  \", \" \")\n",
    "    body = body.replace(\". :\", \":\")\n",
    "    print(body)"
   ]
  },
  {
   "cell_type": "code",
   "execution_count": 14,
   "metadata": {},
   "outputs": [],
   "source": [
    "# love letter sign-off\n",
    "\n",
    "def loveOff():\n",
    "    output = \"\\nYours \" + random.choice(advs) + \", \\n\"\n",
    "    output += random.choice(inputKirby)\n",
    "    print()\n",
    "    print(output)"
   ]
  },
  {
   "cell_type": "code",
   "execution_count": 15,
   "metadata": {},
   "outputs": [
    {
     "name": "stdout",
     "output_type": "stream",
     "text": [
      "Darling movement,\n",
      "\n",
      "\n",
      "You are my lovesick correspond. My intellectual yearns for your many. \n",
      "\n",
      "\n",
      "Yours ardently, \n",
      "the\n"
     ]
    }
   ],
   "source": [
    "# love letter functions tests\n",
    "\n",
    "inputKirby = words\n",
    "\n",
    "loveSalutation()\n",
    "loveBody()\n",
    "loveOff()\n"
   ]
  },
  {
   "cell_type": "code",
   "execution_count": 16,
   "metadata": {},
   "outputs": [],
   "source": [
    "# taroko path\n",
    "\n",
    "def path():\n",
    "    plural = random.sample([\"s\", \"\"], k = 2)\n",
    "    pathWords = random.choice(inputKirby)\n",
    "    pathWords += plural[0] + \" \" + random.choice(transitive) + plural[1]\n",
    "    pathWords += \" the \" + random.choice(inputKirby) + random.choice([\"s\", \"\"])\n",
    "    print (pathWords)"
   ]
  },
  {
   "cell_type": "code",
   "execution_count": 17,
   "metadata": {},
   "outputs": [],
   "source": [
    "# taroko cave\n",
    "\n",
    "def cave():\n",
    "    caveOutput = \"  \" + random.choice(imperative) + \" \" + \\\n",
    "    random.choice(adjectives) + \" \" + random.choice(inputKirby) + \" \" + random.choice(texture) + \" --\"\n",
    "    print()\n",
    "    print(caveOutput)\n",
    "    print()"
   ]
  },
  {
   "cell_type": "code",
   "execution_count": 18,
   "metadata": {},
   "outputs": [],
   "source": [
    "# taroko site\n",
    "\n",
    "def site():\n",
    "    siteWords = random.choice(inputKirby) + \"s \" + random.choice(intransitive) + \".\"\n",
    "    print(siteWords)"
   ]
  },
  {
   "cell_type": "code",
   "execution_count": 19,
   "metadata": {},
   "outputs": [
    {
     "name": "stdout",
     "output_type": "stream",
     "text": [
      "thes range the ands\n",
      "\n",
      "  translate arched a rough --\n",
      "\n",
      "Dadas hold.\n"
     ]
    }
   ],
   "source": [
    "# taroko functions test\n",
    "\n",
    "inputKirby = words\n",
    "path()\n",
    "cave()\n",
    "site()"
   ]
  },
  {
   "cell_type": "markdown",
   "metadata": {},
   "source": [
    "# okay\n",
    "\n",
    "now to put it all together"
   ]
  },
  {
   "cell_type": "code",
   "execution_count": 20,
   "metadata": {},
   "outputs": [],
   "source": [
    "# instead of stanza_count, we're just going to do a random line count,\n",
    "# which will determine how many time we loop through the randomly chosen functions\n",
    "\n",
    "poem_length = random.randrange(3, 16)"
   ]
  },
  {
   "cell_type": "code",
   "execution_count": 21,
   "metadata": {},
   "outputs": [
    {
     "name": "stdout",
     "output_type": "stream",
     "text": [
      "cravings hum.\n",
      "Dear rock,\n",
      "\n",
      "\n",
      "Darling cove,\n",
      "\n",
      "\n",
      "electricitys dwell.\n",
      "My in heavy jungle undergrowth woos your inside a mountain. You are my fervent in a cold, windy climate. \n",
      "My curious candles attracts your covetous electricity. You are my winning candles. \n",
      "layers dream.\n",
      "\n",
      "\n",
      "Yours beautifully, \n",
      "in michigan\n"
     ]
    }
   ],
   "source": [
    "# where the magic happens\n",
    "\n",
    "for repeat in range(poem_length):\n",
    "    inputKirby = random.choice(inputArrays)\n",
    "    randy = random.randrange(8)\n",
    "    if randy == 0:\n",
    "        dadaShuffle()\n",
    "    elif randy == 1:\n",
    "        houseOfDust()\n",
    "    elif randy == 2:\n",
    "        loveSalutation()\n",
    "    elif randy == 3:\n",
    "        loveBody()\n",
    "    elif randy == 4:\n",
    "        loveOff()\n",
    "    elif randy == 5:\n",
    "        path()\n",
    "    elif randy == 6:\n",
    "        cave()\n",
    "    elif randy == 7:\n",
    "        site()"
   ]
  },
  {
   "cell_type": "markdown",
   "metadata": {},
   "source": [
    "<br>\n",
    "<br>\n",
    "<br>\n",
    "\n",
    "### okay, so this is dumb"
   ]
  },
  {
   "cell_type": "code",
   "execution_count": null,
   "metadata": {},
   "outputs": [],
   "source": []
  }
 ],
 "metadata": {
  "kernelspec": {
   "display_name": "Python 3",
   "language": "python",
   "name": "python3"
  },
  "language_info": {
   "codemirror_mode": {
    "name": "ipython",
    "version": 3
   },
   "file_extension": ".py",
   "mimetype": "text/x-python",
   "name": "python",
   "nbconvert_exporter": "python",
   "pygments_lexer": "ipython3",
   "version": "3.7.1"
  }
 },
 "nbformat": 4,
 "nbformat_minor": 2
}
